{
  "cells": [
    {
      "cell_type": "markdown",
      "metadata": {
        "id": "kx40nh18D9be"
      },
      "source": [
        "# Bot Hỗ Trợ Tuyển sinh đại học"
      ]
    },
    {
      "cell_type": "code",
      "execution_count": null,
      "metadata": {
        "id": "jBVH8vQM-iAv",
        "colab": {
          "base_uri": "https://localhost:8080/"
        },
        "outputId": "20c21d78-c8be-417e-d9c6-27de8055cd26"
      },
      "outputs": [
        {
          "output_type": "stream",
          "name": "stdout",
          "text": [
            "Mounted at /content/drive\n"
          ]
        }
      ],
      "source": [
        "from google.colab import drive\n",
        "drive.mount('/content/drive')"
      ]
    },
    {
      "cell_type": "markdown",
      "metadata": {
        "id": "q5ms7VSFWYpN"
      },
      "source": [
        "## RAG là gì?"
      ]
    },
    {
      "cell_type": "markdown",
      "metadata": {
        "id": "Y8ckZWHUVuXI"
      },
      "source": [
        "**RAG** là viết tắt của **Retrieval Augmented Generation** (Tạo Tăng Cường Truy Xuất)\n",
        "\n",
        "\n",
        "Rag được giới thiệu trong bài It was introduced in the paper [Retrieval-Augmented Generation for Knowledge-Intensive NLP Tasks](https://www.google.com/url?q=https%3A%2F%2Farxiv.org%2Fabs%2F2005.11401).\n",
        "\n",
        "\n",
        "**Mỗi bước có thể được chia nhỏ thành:**\n",
        "\n",
        "* **Retrieval** - Tìm kiếm thông tin có liên quan từ một nguồn cho một truy vấn. Ví dụ: lấy các đoạn văn bản Wikipedia có liên quan từ cơ sở dữ liệu cho một câu hỏi.\n",
        "* **Augmented** - Sử dụng thông tin có liên quan đã lấy được để sửa đổi đầu vào thành một mô hình tạo (ví dụ: LLM).\n",
        "* **Generation** - Tạo đầu ra cho một đầu vào. Ví dụ: trong trường hợp của LLM, tạo một đoạn văn bản cho một lời nhắc nhập.\n",
        "\n",
        "\n"
      ]
    },
    {
      "cell_type": "markdown",
      "metadata": {
        "id": "D66szyxsWVxL"
      },
      "source": [
        "## Tại sao dùng RAG ?\n",
        "Mục tiêu chính của RAG là cải tiến đầu ra của LLM.  \n",
        "\n",
        "Có 2 Cải Tiến chính của Rag do với LLM thông thường:\n",
        "1. **Ngăn Ngừa Hallucinations(ảo giác)**: LLM dễ gây ra ảo giác tiềm ẩn, tức là tạo ra thứ gì đó có vẻ đúng nhưng không phải vậy. RAG pipeline có thể giúp LLM tạo ra nhiều đầu ra thực tế hơn bằng cách cung cấp cho chúng các đầu vào thực tế (đã truy xuất). Và ngay cả khi câu trả lời được tạo ra từ đường ống RAG có vẻ không đúng, do quá trình truy xuất, bạn cũng có thể truy cập vào các nguồn mà câu trả lời đó đến từ đó.\n",
        "\n",
        "2. **Hoạt động với Dữ Liệu Tùy Chỉnh:**  Nhiều LLM cơ bản được đào tạo bằng dữ liệu văn bản quy mô internet. Điều này có nghĩa là chúng có khả năng mô hình hóa ngôn ngữ tuyệt vời, tuy nhiên, chúng thường thiếu kiến ​​thức cụ thể. Hệ thống RAG có thể cung cấp cho LLM dữ liệu theo lĩnh vực cụ thể như thông tin y tế hoặc tài liệu của công ty và do đó tùy chỉnh đầu ra của chúng để phù hợp với các trường hợp sử dụng cụ thể."
      ]
    },
    {
      "cell_type": "markdown",
      "metadata": {
        "id": "1f_f4HuTZXVr"
      },
      "source": [
        "## Vì sao áp dụng RAG cho Trợ Lý Ảo cho tuyển sinh đại học\n",
        "Vì RAG có thể truy cứu dữ liệu 1 cách tổng thể và hiệu quả. Cho phép LLM hiểu được và ghi nhớ bối cảnh của bài viết, chống dẫn tới ảo giác và đứa ra những phản hồi tốt tới đầu vào tùy chỉnh."
      ]
    },
    {
      "cell_type": "markdown",
      "metadata": {
        "id": "7pcVKqsfaLbh"
      },
      "source": [
        "## Thuật Ngữ Chính\n",
        "\n",
        "| **Term** | **Description** |\n",
        "|----|----|\n",
        "| **Token** | 1 đoạn text, VD \"life, is good!\" có thể chia thành [\"life\", \",\", \"is\", \"good\", \"!\"]. <br> Một token có thể là 1 từ hoàn chỉnh hoặc 1 phần của từ hoặc 1 ký hiệu câu. <br> 1 token ~ 4 ký tự trong Tiếng Anh, 100 token ~ 75 từ. <br> Văn bản được chia thành các token trước khi được chuyển đến LLM. |\n",
        "| **Embedding** | Chuyển hóa dữ liệu text sang dữ liệu số cho máy có thể đọc. <br> Dữ liệu số thường thuộc kiểu int hoặc là float. <br> VD, \"life is good\" thành {1232: b'life', 242: b'is', 132: b'good'} dùng Byte pair encoding (mã hóa cặp Byte). <br> Google có thư viện tokenization là  [SentencePiece](https://github.com/google/sentencepiece) |\n",
        "| **Embedding model** | Mô hình được thiết kế để nhận dữ liệu đầu vào và đưa ra 1 biểu diễn số. <br> VD, 1 mô hình nhúng văn bản có thể lấy 384 token và biến nó thành 1 vector kích thước 768 (768 hàng). <br> note: 1 thường khác mô hình LLM. |\n",
        "| **Similarity search/vector search** | \"Tìm kiếm tương đồng / Tìm kiếm vector\" nhằm mục đích tìm 2 vector gần nhau trong không gian n chiều. <br> VD, 2 văn bản có chủ đề tương tự sẽ có giá trị các vector gần nhau, trong khi 2 đoạn văn bản về 2 chủ đề khác nhau sẽ có giá trị các vector thấp. <br> (Mình gọi \"điểm tương tự\" của 2 token là \"giá trị các vector\"). <br> Các phép đo điểm tương tự phổ biến là tích vô hướng và độ tương tự cosin. |\n",
        "| **Large Language Model (LLM)** | Mô hình học máy được đào tạo sâu có khả năng hiểu và tạo văn bản ngôn ngữ con người. <br> Nói sâu hơn, đây là 1 mô hình đc đào tạo để biểu diễn các mẫu (pattern) trong văn bản theo dạng số. <br> 1 LLM sinh sẽ sinh ra 1 chuỗi số khi đc cung cấp 1 chuỗi số (chuỗi số thường là đoạn văn bản sau khi embedding). <br> VD: được cung cấp 1 chuỗi văn bản \"life is good\", 1 LLM có thể tạo ra \"I want to play today\". <br> Mô hình dự đoán này phụ thuộc nhiều vào dữ liệu Huấn Luyện và Yêu Cầu của người dùng (User Prompt). |\n",
        "| **LLM context window** | Số Lượng Tokens mà LLM có thể nhận. <br> VD, vào tháng 8 năm 2024 GPT-4o có Context Window mặc định là 8192 nghìn tokens. (khoảng 96 trang văn bản word). <br> Mô hình Gemma-7b-it mình dùng trong dự án (tháng 8 năm 2024) này có Context Window là 2048 tới 4096 token (24 trang văn bản). <br> Context Window hơn nghĩa là LLM (hoặc RAG pipeline) có thể nhận nhiều thông tin có liên quan hơn để hỗ trợ truy vấn mà không gây ra ảo giác cao. |\n",
        "| **Prompt** | Một thuật ngữ để mô tả đầu vào cho LLM tạo sinh. Ý tưởng của \"kỹ thuật nhắc nhở\" [prompt engineering](https://www.google.com/url?q=https%3A%2F%2Fen.wikipedia.org%2Fwiki%2FPrompt_engineering) <br> là cấu trúc đầu vào dựa trên văn bản (hoặc dựa trên hình ảnh) cho LLM tạo sinh theo 1 cách cự thể để đầu ra được tạo ra là lý tưởng vs người gửi. <br> Kỹ thuật này có thể thực hiện được vì khả năng học trong ngữ cảnh của LLM, <br> tức là nó có thể sử dụng cách biểu diễn ngôn ngữ của mình để phân tích nhắc và nhận ra đầu vào phù hợp có thể là gì. |"
      ]
    },
    {
      "cell_type": "markdown",
      "metadata": {
        "id": "c2D6N-uktFko"
      },
      "source": [
        "## Chúng ta sẽ xây dựng những gì ?\n",
        "\n",
        "Chúng ta sẽ xây dựng đường ống RAG cho phép chúng ta trò chuyện với một tài liệu PDF về thông tin tuyển sinh.\n",
        "\n",
        "Các phần ta sẽ Code:\n",
        "1. Mở file PDF\n",
        "2. Định dạng văn bản của file PDF để chuẩn bị cho mô hình nhúng (quy trình này gọi là Chunking phân tách/phân đoạn văn bản)\n",
        "3. Nhúng tất cả các đoạn văn bản và chuyển chúng thành biểu diễn số (vector) để lưu trữ sử dụng sau.\n",
        "4. Xây dựng 1 hệ thống truy xuất sử dụng tìm kiếm vector để tìm các đoạn văn bản có liên quan dựa trên truy vấn\n",
        "5. Tạo lời nhắc (prompt) kết hợp các đoạn văn bản đã truy xuất.\n",
        "6. Tạo câu trả lời cho truy vấn xuất dựa trên đoạn trích từ PDF.\n",
        "\n",
        "Các Bước trên có thể chia thành 2 phần chính:\n",
        "1. \"Tiền Xử Lý / Nhúng\" tài liệu (bước 1 - 3).\n",
        "2. Tìm và trả lời câu hỏi (bước 4 - 6).\n",
        "\n",
        "Đây là cấu trúc chúng ta sẽ đi theo:\n",
        "<img src=\"https://docs.aws.amazon.com/images/sagemaker/latest/dg/images/jumpstart/jumpstart-fm-rag.jpg\" alt=\"flowchart of a local RAG workflow\" />\n",
        "\n",
        "Tài liệu tham khảo của cấu trúc trên: https://developer.nvidia.com/blog/rag-101-demystifying-retrieval-augmented-generation-pipelines/\n"
      ]
    },
    {
      "cell_type": "markdown",
      "metadata": {
        "id": "uRKI4FDRsc8U"
      },
      "source": [
        "## Tải Các Yêu Cầu và Thiết Lập Môi Trường"
      ]
    },
    {
      "cell_type": "code",
      "execution_count": null,
      "metadata": {
        "collapsed": true,
        "id": "eiBT6emFqS3e",
        "colab": {
          "base_uri": "https://localhost:8080/"
        },
        "outputId": "e736ec44-550a-4039-a03a-407b929bacd0"
      },
      "outputs": [
        {
          "output_type": "stream",
          "name": "stdout",
          "text": [
            "Get:1 https://cloud.r-project.org/bin/linux/ubuntu jammy-cran40/ InRelease [3,632 B]\n",
            "Get:2 https://developer.download.nvidia.com/compute/cuda/repos/ubuntu2204/x86_64  InRelease [1,581 B]\n",
            "Hit:3 http://archive.ubuntu.com/ubuntu jammy InRelease\n",
            "Get:4 https://r2u.stat.illinois.edu/ubuntu jammy InRelease [6,555 B]\n",
            "Get:5 http://security.ubuntu.com/ubuntu jammy-security InRelease [129 kB]\n",
            "Get:6 http://archive.ubuntu.com/ubuntu jammy-updates InRelease [128 kB]\n",
            "Get:7 https://cloud.r-project.org/bin/linux/ubuntu jammy-cran40/ Packages [70.9 kB]\n",
            "Get:8 https://ppa.launchpadcontent.net/deadsnakes/ppa/ubuntu jammy InRelease [18.1 kB]\n",
            "Get:9 https://developer.download.nvidia.com/compute/cuda/repos/ubuntu2204/x86_64  Packages [1,381 kB]\n",
            "Get:10 http://archive.ubuntu.com/ubuntu jammy-backports InRelease [127 kB]\n",
            "Get:11 https://ppa.launchpadcontent.net/graphics-drivers/ppa/ubuntu jammy InRelease [24.3 kB]\n",
            "Hit:12 https://ppa.launchpadcontent.net/ubuntugis/ppa/ubuntu jammy InRelease\n",
            "Get:13 https://r2u.stat.illinois.edu/ubuntu jammy/main amd64 Packages [2,686 kB]\n",
            "Get:14 http://archive.ubuntu.com/ubuntu jammy-updates/multiverse amd64 Packages [55.7 kB]\n",
            "Get:15 http://security.ubuntu.com/ubuntu jammy-security/multiverse amd64 Packages [47.7 kB]\n",
            "Get:16 http://archive.ubuntu.com/ubuntu jammy-updates/universe amd64 Packages [1,540 kB]\n",
            "Get:17 https://r2u.stat.illinois.edu/ubuntu jammy/main all Packages [8,812 kB]\n",
            "Get:18 http://security.ubuntu.com/ubuntu jammy-security/main amd64 Packages [2,775 kB]\n",
            "Get:19 https://ppa.launchpadcontent.net/deadsnakes/ppa/ubuntu jammy/main amd64 Packages [33.6 kB]\n",
            "Get:20 http://archive.ubuntu.com/ubuntu jammy-updates/restricted amd64 Packages [4,148 kB]\n",
            "Get:21 http://archive.ubuntu.com/ubuntu jammy-updates/main amd64 Packages [3,092 kB]\n",
            "Get:22 https://ppa.launchpadcontent.net/graphics-drivers/ppa/ubuntu jammy/main amd64 Packages [46.8 kB]\n",
            "Get:23 http://security.ubuntu.com/ubuntu jammy-security/restricted amd64 Packages [3,978 kB]\n",
            "Get:24 http://security.ubuntu.com/ubuntu jammy-security/universe amd64 Packages [1,241 kB]\n",
            "Get:25 http://archive.ubuntu.com/ubuntu jammy-backports/main amd64 Packages [82.7 kB]\n",
            "Get:26 http://archive.ubuntu.com/ubuntu jammy-backports/universe amd64 Packages [35.2 kB]\n",
            "Fetched 30.5 MB in 6s (5,326 kB/s)\n",
            "Reading package lists... Done\n",
            "W: Skipping acquire of configured file 'main/source/Sources' as repository 'https://r2u.stat.illinois.edu/ubuntu jammy InRelease' does not seem to provide it (sources.list entry misspelt?)\n",
            "Reading package lists... Done\n",
            "Building dependency tree... Done\n",
            "Reading state information... Done\n",
            "Note, selecting 'python3-distutils' instead of 'python3.11-distutils'\n",
            "python3-distutils is already the newest version (3.10.8-1~22.04).\n",
            "libpython3.11-dev is already the newest version (3.11.11-1+jammy1).\n",
            "libpython3.11-dev set to manually installed.\n",
            "python3.11 is already the newest version (3.11.11-1+jammy1).\n",
            "python3.11-dev is already the newest version (3.11.11-1+jammy1).\n",
            "0 upgraded, 0 newly installed, 0 to remove and 79 not upgraded.\n"
          ]
        }
      ],
      "source": [
        "!sudo apt-get update -y\n",
        "!sudo apt-get install python3.11 python3.11-dev python3.11-distutils libpython3.11-dev"
      ]
    },
    {
      "cell_type": "code",
      "execution_count": null,
      "metadata": {
        "colab": {
          "base_uri": "https://localhost:8080/"
        },
        "collapsed": true,
        "id": "ERjibmX8qTPv",
        "outputId": "796e9e7d-1bcc-4a82-ff99-b2bb40adb60d"
      },
      "outputs": [
        {
          "output_type": "stream",
          "name": "stdout",
          "text": [
            "[INFO] Running in Google Colab, installing requirements.\n",
            "Requirement already satisfied: torch in /usr/local/lib/python3.11/dist-packages (2.6.0)\n",
            "Requirement already satisfied: filelock in /usr/local/lib/python3.11/dist-packages (from torch) (3.17.0)\n",
            "Requirement already satisfied: typing-extensions>=4.10.0 in /usr/local/lib/python3.11/dist-packages (from torch) (4.12.2)\n",
            "Requirement already satisfied: networkx in /usr/local/lib/python3.11/dist-packages (from torch) (3.4.2)\n",
            "Requirement already satisfied: jinja2 in /usr/local/lib/python3.11/dist-packages (from torch) (3.1.5)\n",
            "Requirement already satisfied: fsspec in /usr/local/lib/python3.11/dist-packages (from torch) (2024.10.0)\n",
            "Requirement already satisfied: nvidia-cuda-nvrtc-cu12==12.4.127 in /usr/local/lib/python3.11/dist-packages (from torch) (12.4.127)\n",
            "Requirement already satisfied: nvidia-cuda-runtime-cu12==12.4.127 in /usr/local/lib/python3.11/dist-packages (from torch) (12.4.127)\n",
            "Requirement already satisfied: nvidia-cuda-cupti-cu12==12.4.127 in /usr/local/lib/python3.11/dist-packages (from torch) (12.4.127)\n",
            "Requirement already satisfied: nvidia-cudnn-cu12==9.1.0.70 in /usr/local/lib/python3.11/dist-packages (from torch) (9.1.0.70)\n",
            "Requirement already satisfied: nvidia-cublas-cu12==12.4.5.8 in /usr/local/lib/python3.11/dist-packages (from torch) (12.4.5.8)\n",
            "Requirement already satisfied: nvidia-cufft-cu12==11.2.1.3 in /usr/local/lib/python3.11/dist-packages (from torch) (11.2.1.3)\n",
            "Requirement already satisfied: nvidia-curand-cu12==10.3.5.147 in /usr/local/lib/python3.11/dist-packages (from torch) (10.3.5.147)\n",
            "Requirement already satisfied: nvidia-cusolver-cu12==11.6.1.9 in /usr/local/lib/python3.11/dist-packages (from torch) (11.6.1.9)\n",
            "Requirement already satisfied: nvidia-cusparse-cu12==12.3.1.170 in /usr/local/lib/python3.11/dist-packages (from torch) (12.3.1.170)\n",
            "Requirement already satisfied: nvidia-cusparselt-cu12==0.6.2 in /usr/local/lib/python3.11/dist-packages (from torch) (0.6.2)\n",
            "Requirement already satisfied: nvidia-nccl-cu12==2.21.5 in /usr/local/lib/python3.11/dist-packages (from torch) (2.21.5)\n",
            "Requirement already satisfied: nvidia-nvtx-cu12==12.4.127 in /usr/local/lib/python3.11/dist-packages (from torch) (12.4.127)\n",
            "Requirement already satisfied: nvidia-nvjitlink-cu12==12.4.127 in /usr/local/lib/python3.11/dist-packages (from torch) (12.4.127)\n",
            "Requirement already satisfied: triton==3.2.0 in /usr/local/lib/python3.11/dist-packages (from torch) (3.2.0)\n",
            "Requirement already satisfied: sympy==1.13.1 in /usr/local/lib/python3.11/dist-packages (from torch) (1.13.1)\n",
            "Requirement already satisfied: mpmath<1.4,>=1.1.0 in /usr/local/lib/python3.11/dist-packages (from sympy==1.13.1->torch) (1.3.0)\n",
            "Requirement already satisfied: MarkupSafe>=2.0 in /usr/local/lib/python3.11/dist-packages (from jinja2->torch) (3.0.2)\n",
            "Requirement already satisfied: PyMuPDF in /usr/local/lib/python3.11/dist-packages (1.25.5)\n",
            "Requirement already satisfied: tqdm in /usr/local/lib/python3.11/dist-packages (4.67.1)\n",
            "Requirement already satisfied: sentence-transformers in /usr/local/lib/python3.11/dist-packages (3.4.1)\n",
            "Requirement already satisfied: transformers<5.0.0,>=4.41.0 in /usr/local/lib/python3.11/dist-packages (from sentence-transformers) (4.50.3)\n",
            "Requirement already satisfied: tqdm in /usr/local/lib/python3.11/dist-packages (from sentence-transformers) (4.67.1)\n",
            "Requirement already satisfied: torch>=1.11.0 in /usr/local/lib/python3.11/dist-packages (from sentence-transformers) (2.6.0)\n",
            "Requirement already satisfied: scikit-learn in /usr/local/lib/python3.11/dist-packages (from sentence-transformers) (1.6.1)\n",
            "Requirement already satisfied: scipy in /usr/local/lib/python3.11/dist-packages (from sentence-transformers) (1.13.1)\n",
            "Requirement already satisfied: huggingface-hub>=0.20.0 in /usr/local/lib/python3.11/dist-packages (from sentence-transformers) (0.28.1)\n",
            "Requirement already satisfied: Pillow in /usr/local/lib/python3.11/dist-packages (from sentence-transformers) (11.1.0)\n",
            "Requirement already satisfied: filelock in /usr/local/lib/python3.11/dist-packages (from huggingface-hub>=0.20.0->sentence-transformers) (3.17.0)\n",
            "Requirement already satisfied: fsspec>=2023.5.0 in /usr/local/lib/python3.11/dist-packages (from huggingface-hub>=0.20.0->sentence-transformers) (2024.10.0)\n",
            "Requirement already satisfied: packaging>=20.9 in /usr/local/lib/python3.11/dist-packages (from huggingface-hub>=0.20.0->sentence-transformers) (24.2)\n",
            "Requirement already satisfied: pyyaml>=5.1 in /usr/local/lib/python3.11/dist-packages (from huggingface-hub>=0.20.0->sentence-transformers) (6.0.2)\n",
            "Requirement already satisfied: requests in /usr/local/lib/python3.11/dist-packages (from huggingface-hub>=0.20.0->sentence-transformers) (2.32.3)\n",
            "Requirement already satisfied: typing-extensions>=3.7.4.3 in /usr/local/lib/python3.11/dist-packages (from huggingface-hub>=0.20.0->sentence-transformers) (4.12.2)\n",
            "Requirement already satisfied: networkx in /usr/local/lib/python3.11/dist-packages (from torch>=1.11.0->sentence-transformers) (3.4.2)\n",
            "Requirement already satisfied: jinja2 in /usr/local/lib/python3.11/dist-packages (from torch>=1.11.0->sentence-transformers) (3.1.5)\n",
            "Requirement already satisfied: nvidia-cuda-nvrtc-cu12==12.4.127 in /usr/local/lib/python3.11/dist-packages (from torch>=1.11.0->sentence-transformers) (12.4.127)\n",
            "Requirement already satisfied: nvidia-cuda-runtime-cu12==12.4.127 in /usr/local/lib/python3.11/dist-packages (from torch>=1.11.0->sentence-transformers) (12.4.127)\n",
            "Requirement already satisfied: nvidia-cuda-cupti-cu12==12.4.127 in /usr/local/lib/python3.11/dist-packages (from torch>=1.11.0->sentence-transformers) (12.4.127)\n",
            "Requirement already satisfied: nvidia-cudnn-cu12==9.1.0.70 in /usr/local/lib/python3.11/dist-packages (from torch>=1.11.0->sentence-transformers) (9.1.0.70)\n",
            "Requirement already satisfied: nvidia-cublas-cu12==12.4.5.8 in /usr/local/lib/python3.11/dist-packages (from torch>=1.11.0->sentence-transformers) (12.4.5.8)\n",
            "Requirement already satisfied: nvidia-cufft-cu12==11.2.1.3 in /usr/local/lib/python3.11/dist-packages (from torch>=1.11.0->sentence-transformers) (11.2.1.3)\n",
            "Requirement already satisfied: nvidia-curand-cu12==10.3.5.147 in /usr/local/lib/python3.11/dist-packages (from torch>=1.11.0->sentence-transformers) (10.3.5.147)\n",
            "Requirement already satisfied: nvidia-cusolver-cu12==11.6.1.9 in /usr/local/lib/python3.11/dist-packages (from torch>=1.11.0->sentence-transformers) (11.6.1.9)\n",
            "Requirement already satisfied: nvidia-cusparse-cu12==12.3.1.170 in /usr/local/lib/python3.11/dist-packages (from torch>=1.11.0->sentence-transformers) (12.3.1.170)\n",
            "Requirement already satisfied: nvidia-cusparselt-cu12==0.6.2 in /usr/local/lib/python3.11/dist-packages (from torch>=1.11.0->sentence-transformers) (0.6.2)\n",
            "Requirement already satisfied: nvidia-nccl-cu12==2.21.5 in /usr/local/lib/python3.11/dist-packages (from torch>=1.11.0->sentence-transformers) (2.21.5)\n",
            "Requirement already satisfied: nvidia-nvtx-cu12==12.4.127 in /usr/local/lib/python3.11/dist-packages (from torch>=1.11.0->sentence-transformers) (12.4.127)\n",
            "Requirement already satisfied: nvidia-nvjitlink-cu12==12.4.127 in /usr/local/lib/python3.11/dist-packages (from torch>=1.11.0->sentence-transformers) (12.4.127)\n",
            "Requirement already satisfied: triton==3.2.0 in /usr/local/lib/python3.11/dist-packages (from torch>=1.11.0->sentence-transformers) (3.2.0)\n",
            "Requirement already satisfied: sympy==1.13.1 in /usr/local/lib/python3.11/dist-packages (from torch>=1.11.0->sentence-transformers) (1.13.1)\n",
            "Requirement already satisfied: mpmath<1.4,>=1.1.0 in /usr/local/lib/python3.11/dist-packages (from sympy==1.13.1->torch>=1.11.0->sentence-transformers) (1.3.0)\n",
            "Requirement already satisfied: numpy>=1.17 in /usr/local/lib/python3.11/dist-packages (from transformers<5.0.0,>=4.41.0->sentence-transformers) (1.26.4)\n",
            "Requirement already satisfied: regex!=2019.12.17 in /usr/local/lib/python3.11/dist-packages (from transformers<5.0.0,>=4.41.0->sentence-transformers) (2024.11.6)\n",
            "Requirement already satisfied: tokenizers<0.22,>=0.21 in /usr/local/lib/python3.11/dist-packages (from transformers<5.0.0,>=4.41.0->sentence-transformers) (0.21.0)\n",
            "Requirement already satisfied: safetensors>=0.4.3 in /usr/local/lib/python3.11/dist-packages (from transformers<5.0.0,>=4.41.0->sentence-transformers) (0.5.3)\n",
            "Requirement already satisfied: joblib>=1.2.0 in /usr/local/lib/python3.11/dist-packages (from scikit-learn->sentence-transformers) (1.4.2)\n",
            "Requirement already satisfied: threadpoolctl>=3.1.0 in /usr/local/lib/python3.11/dist-packages (from scikit-learn->sentence-transformers) (3.5.0)\n",
            "Requirement already satisfied: MarkupSafe>=2.0 in /usr/local/lib/python3.11/dist-packages (from jinja2->torch>=1.11.0->sentence-transformers) (3.0.2)\n",
            "Requirement already satisfied: charset-normalizer<4,>=2 in /usr/local/lib/python3.11/dist-packages (from requests->huggingface-hub>=0.20.0->sentence-transformers) (3.4.1)\n",
            "Requirement already satisfied: idna<4,>=2.5 in /usr/local/lib/python3.11/dist-packages (from requests->huggingface-hub>=0.20.0->sentence-transformers) (3.10)\n",
            "Requirement already satisfied: urllib3<3,>=1.21.1 in /usr/local/lib/python3.11/dist-packages (from requests->huggingface-hub>=0.20.0->sentence-transformers) (2.3.0)\n",
            "Requirement already satisfied: certifi>=2017.4.17 in /usr/local/lib/python3.11/dist-packages (from requests->huggingface-hub>=0.20.0->sentence-transformers) (2025.1.31)\n",
            "Requirement already satisfied: accelerate in /usr/local/lib/python3.11/dist-packages (1.3.0)\n",
            "Requirement already satisfied: numpy<3.0.0,>=1.17 in /usr/local/lib/python3.11/dist-packages (from accelerate) (1.26.4)\n",
            "Requirement already satisfied: packaging>=20.0 in /usr/local/lib/python3.11/dist-packages (from accelerate) (24.2)\n",
            "Requirement already satisfied: psutil in /usr/local/lib/python3.11/dist-packages (from accelerate) (5.9.5)\n",
            "Requirement already satisfied: pyyaml in /usr/local/lib/python3.11/dist-packages (from accelerate) (6.0.2)\n",
            "Requirement already satisfied: torch>=2.0.0 in /usr/local/lib/python3.11/dist-packages (from accelerate) (2.6.0)\n",
            "Requirement already satisfied: huggingface-hub>=0.21.0 in /usr/local/lib/python3.11/dist-packages (from accelerate) (0.28.1)\n",
            "Requirement already satisfied: safetensors>=0.4.3 in /usr/local/lib/python3.11/dist-packages (from accelerate) (0.5.3)\n",
            "Requirement already satisfied: filelock in /usr/local/lib/python3.11/dist-packages (from huggingface-hub>=0.21.0->accelerate) (3.17.0)\n",
            "Requirement already satisfied: fsspec>=2023.5.0 in /usr/local/lib/python3.11/dist-packages (from huggingface-hub>=0.21.0->accelerate) (2024.10.0)\n",
            "Requirement already satisfied: requests in /usr/local/lib/python3.11/dist-packages (from huggingface-hub>=0.21.0->accelerate) (2.32.3)\n",
            "Requirement already satisfied: tqdm>=4.42.1 in /usr/local/lib/python3.11/dist-packages (from huggingface-hub>=0.21.0->accelerate) (4.67.1)\n",
            "Requirement already satisfied: typing-extensions>=3.7.4.3 in /usr/local/lib/python3.11/dist-packages (from huggingface-hub>=0.21.0->accelerate) (4.12.2)\n",
            "Requirement already satisfied: networkx in /usr/local/lib/python3.11/dist-packages (from torch>=2.0.0->accelerate) (3.4.2)\n",
            "Requirement already satisfied: jinja2 in /usr/local/lib/python3.11/dist-packages (from torch>=2.0.0->accelerate) (3.1.5)\n",
            "Requirement already satisfied: nvidia-cuda-nvrtc-cu12==12.4.127 in /usr/local/lib/python3.11/dist-packages (from torch>=2.0.0->accelerate) (12.4.127)\n",
            "Requirement already satisfied: nvidia-cuda-runtime-cu12==12.4.127 in /usr/local/lib/python3.11/dist-packages (from torch>=2.0.0->accelerate) (12.4.127)\n",
            "Requirement already satisfied: nvidia-cuda-cupti-cu12==12.4.127 in /usr/local/lib/python3.11/dist-packages (from torch>=2.0.0->accelerate) (12.4.127)\n",
            "Requirement already satisfied: nvidia-cudnn-cu12==9.1.0.70 in /usr/local/lib/python3.11/dist-packages (from torch>=2.0.0->accelerate) (9.1.0.70)\n",
            "Requirement already satisfied: nvidia-cublas-cu12==12.4.5.8 in /usr/local/lib/python3.11/dist-packages (from torch>=2.0.0->accelerate) (12.4.5.8)\n",
            "Requirement already satisfied: nvidia-cufft-cu12==11.2.1.3 in /usr/local/lib/python3.11/dist-packages (from torch>=2.0.0->accelerate) (11.2.1.3)\n",
            "Requirement already satisfied: nvidia-curand-cu12==10.3.5.147 in /usr/local/lib/python3.11/dist-packages (from torch>=2.0.0->accelerate) (10.3.5.147)\n",
            "Requirement already satisfied: nvidia-cusolver-cu12==11.6.1.9 in /usr/local/lib/python3.11/dist-packages (from torch>=2.0.0->accelerate) (11.6.1.9)\n",
            "Requirement already satisfied: nvidia-cusparse-cu12==12.3.1.170 in /usr/local/lib/python3.11/dist-packages (from torch>=2.0.0->accelerate) (12.3.1.170)\n",
            "Requirement already satisfied: nvidia-cusparselt-cu12==0.6.2 in /usr/local/lib/python3.11/dist-packages (from torch>=2.0.0->accelerate) (0.6.2)\n",
            "Requirement already satisfied: nvidia-nccl-cu12==2.21.5 in /usr/local/lib/python3.11/dist-packages (from torch>=2.0.0->accelerate) (2.21.5)\n",
            "Requirement already satisfied: nvidia-nvtx-cu12==12.4.127 in /usr/local/lib/python3.11/dist-packages (from torch>=2.0.0->accelerate) (12.4.127)\n",
            "Requirement already satisfied: nvidia-nvjitlink-cu12==12.4.127 in /usr/local/lib/python3.11/dist-packages (from torch>=2.0.0->accelerate) (12.4.127)\n",
            "Requirement already satisfied: triton==3.2.0 in /usr/local/lib/python3.11/dist-packages (from torch>=2.0.0->accelerate) (3.2.0)\n",
            "Requirement already satisfied: sympy==1.13.1 in /usr/local/lib/python3.11/dist-packages (from torch>=2.0.0->accelerate) (1.13.1)\n",
            "Requirement already satisfied: mpmath<1.4,>=1.1.0 in /usr/local/lib/python3.11/dist-packages (from sympy==1.13.1->torch>=2.0.0->accelerate) (1.3.0)\n",
            "Requirement already satisfied: MarkupSafe>=2.0 in /usr/local/lib/python3.11/dist-packages (from jinja2->torch>=2.0.0->accelerate) (3.0.2)\n",
            "Requirement already satisfied: charset-normalizer<4,>=2 in /usr/local/lib/python3.11/dist-packages (from requests->huggingface-hub>=0.21.0->accelerate) (3.4.1)\n",
            "Requirement already satisfied: idna<4,>=2.5 in /usr/local/lib/python3.11/dist-packages (from requests->huggingface-hub>=0.21.0->accelerate) (3.10)\n",
            "Requirement already satisfied: urllib3<3,>=1.21.1 in /usr/local/lib/python3.11/dist-packages (from requests->huggingface-hub>=0.21.0->accelerate) (2.3.0)\n",
            "Requirement already satisfied: certifi>=2017.4.17 in /usr/local/lib/python3.11/dist-packages (from requests->huggingface-hub>=0.21.0->accelerate) (2025.1.31)\n",
            "Requirement already satisfied: bitsandbytes in /usr/local/lib/python3.11/dist-packages (0.45.4)\n",
            "Requirement already satisfied: torch<3,>=2.0 in /usr/local/lib/python3.11/dist-packages (from bitsandbytes) (2.6.0)\n",
            "Requirement already satisfied: numpy>=1.17 in /usr/local/lib/python3.11/dist-packages (from bitsandbytes) (1.26.4)\n",
            "Requirement already satisfied: filelock in /usr/local/lib/python3.11/dist-packages (from torch<3,>=2.0->bitsandbytes) (3.17.0)\n",
            "Requirement already satisfied: typing-extensions>=4.10.0 in /usr/local/lib/python3.11/dist-packages (from torch<3,>=2.0->bitsandbytes) (4.12.2)\n",
            "Requirement already satisfied: networkx in /usr/local/lib/python3.11/dist-packages (from torch<3,>=2.0->bitsandbytes) (3.4.2)\n",
            "Requirement already satisfied: jinja2 in /usr/local/lib/python3.11/dist-packages (from torch<3,>=2.0->bitsandbytes) (3.1.5)\n",
            "Requirement already satisfied: fsspec in /usr/local/lib/python3.11/dist-packages (from torch<3,>=2.0->bitsandbytes) (2024.10.0)\n",
            "Requirement already satisfied: nvidia-cuda-nvrtc-cu12==12.4.127 in /usr/local/lib/python3.11/dist-packages (from torch<3,>=2.0->bitsandbytes) (12.4.127)\n",
            "Requirement already satisfied: nvidia-cuda-runtime-cu12==12.4.127 in /usr/local/lib/python3.11/dist-packages (from torch<3,>=2.0->bitsandbytes) (12.4.127)\n",
            "Requirement already satisfied: nvidia-cuda-cupti-cu12==12.4.127 in /usr/local/lib/python3.11/dist-packages (from torch<3,>=2.0->bitsandbytes) (12.4.127)\n",
            "Requirement already satisfied: nvidia-cudnn-cu12==9.1.0.70 in /usr/local/lib/python3.11/dist-packages (from torch<3,>=2.0->bitsandbytes) (9.1.0.70)\n",
            "Requirement already satisfied: nvidia-cublas-cu12==12.4.5.8 in /usr/local/lib/python3.11/dist-packages (from torch<3,>=2.0->bitsandbytes) (12.4.5.8)\n",
            "Requirement already satisfied: nvidia-cufft-cu12==11.2.1.3 in /usr/local/lib/python3.11/dist-packages (from torch<3,>=2.0->bitsandbytes) (11.2.1.3)\n",
            "Requirement already satisfied: nvidia-curand-cu12==10.3.5.147 in /usr/local/lib/python3.11/dist-packages (from torch<3,>=2.0->bitsandbytes) (10.3.5.147)\n",
            "Requirement already satisfied: nvidia-cusolver-cu12==11.6.1.9 in /usr/local/lib/python3.11/dist-packages (from torch<3,>=2.0->bitsandbytes) (11.6.1.9)\n",
            "Requirement already satisfied: nvidia-cusparse-cu12==12.3.1.170 in /usr/local/lib/python3.11/dist-packages (from torch<3,>=2.0->bitsandbytes) (12.3.1.170)\n",
            "Requirement already satisfied: nvidia-cusparselt-cu12==0.6.2 in /usr/local/lib/python3.11/dist-packages (from torch<3,>=2.0->bitsandbytes) (0.6.2)\n",
            "Requirement already satisfied: nvidia-nccl-cu12==2.21.5 in /usr/local/lib/python3.11/dist-packages (from torch<3,>=2.0->bitsandbytes) (2.21.5)\n",
            "Requirement already satisfied: nvidia-nvtx-cu12==12.4.127 in /usr/local/lib/python3.11/dist-packages (from torch<3,>=2.0->bitsandbytes) (12.4.127)\n",
            "Requirement already satisfied: nvidia-nvjitlink-cu12==12.4.127 in /usr/local/lib/python3.11/dist-packages (from torch<3,>=2.0->bitsandbytes) (12.4.127)\n",
            "Requirement already satisfied: triton==3.2.0 in /usr/local/lib/python3.11/dist-packages (from torch<3,>=2.0->bitsandbytes) (3.2.0)\n",
            "Requirement already satisfied: sympy==1.13.1 in /usr/local/lib/python3.11/dist-packages (from torch<3,>=2.0->bitsandbytes) (1.13.1)\n",
            "Requirement already satisfied: mpmath<1.4,>=1.1.0 in /usr/local/lib/python3.11/dist-packages (from sympy==1.13.1->torch<3,>=2.0->bitsandbytes) (1.3.0)\n",
            "Requirement already satisfied: MarkupSafe>=2.0 in /usr/local/lib/python3.11/dist-packages (from jinja2->torch<3,>=2.0->bitsandbytes) (3.0.2)\n",
            "Requirement already satisfied: flash-attn in /usr/local/lib/python3.11/dist-packages (2.7.4.post1)\n",
            "Requirement already satisfied: torch in /usr/local/lib/python3.11/dist-packages (from flash-attn) (2.6.0)\n",
            "Requirement already satisfied: einops in /usr/local/lib/python3.11/dist-packages (from flash-attn) (0.8.1)\n",
            "Requirement already satisfied: filelock in /usr/local/lib/python3.11/dist-packages (from torch->flash-attn) (3.17.0)\n",
            "Requirement already satisfied: typing-extensions>=4.10.0 in /usr/local/lib/python3.11/dist-packages (from torch->flash-attn) (4.12.2)\n",
            "Requirement already satisfied: networkx in /usr/local/lib/python3.11/dist-packages (from torch->flash-attn) (3.4.2)\n",
            "Requirement already satisfied: jinja2 in /usr/local/lib/python3.11/dist-packages (from torch->flash-attn) (3.1.5)\n",
            "Requirement already satisfied: fsspec in /usr/local/lib/python3.11/dist-packages (from torch->flash-attn) (2024.10.0)\n",
            "Requirement already satisfied: nvidia-cuda-nvrtc-cu12==12.4.127 in /usr/local/lib/python3.11/dist-packages (from torch->flash-attn) (12.4.127)\n",
            "Requirement already satisfied: nvidia-cuda-runtime-cu12==12.4.127 in /usr/local/lib/python3.11/dist-packages (from torch->flash-attn) (12.4.127)\n",
            "Requirement already satisfied: nvidia-cuda-cupti-cu12==12.4.127 in /usr/local/lib/python3.11/dist-packages (from torch->flash-attn) (12.4.127)\n",
            "Requirement already satisfied: nvidia-cudnn-cu12==9.1.0.70 in /usr/local/lib/python3.11/dist-packages (from torch->flash-attn) (9.1.0.70)\n",
            "Requirement already satisfied: nvidia-cublas-cu12==12.4.5.8 in /usr/local/lib/python3.11/dist-packages (from torch->flash-attn) (12.4.5.8)\n",
            "Requirement already satisfied: nvidia-cufft-cu12==11.2.1.3 in /usr/local/lib/python3.11/dist-packages (from torch->flash-attn) (11.2.1.3)\n",
            "Requirement already satisfied: nvidia-curand-cu12==10.3.5.147 in /usr/local/lib/python3.11/dist-packages (from torch->flash-attn) (10.3.5.147)\n",
            "Requirement already satisfied: nvidia-cusolver-cu12==11.6.1.9 in /usr/local/lib/python3.11/dist-packages (from torch->flash-attn) (11.6.1.9)\n",
            "Requirement already satisfied: nvidia-cusparse-cu12==12.3.1.170 in /usr/local/lib/python3.11/dist-packages (from torch->flash-attn) (12.3.1.170)\n",
            "Requirement already satisfied: nvidia-cusparselt-cu12==0.6.2 in /usr/local/lib/python3.11/dist-packages (from torch->flash-attn) (0.6.2)\n",
            "Requirement already satisfied: nvidia-nccl-cu12==2.21.5 in /usr/local/lib/python3.11/dist-packages (from torch->flash-attn) (2.21.5)\n",
            "Requirement already satisfied: nvidia-nvtx-cu12==12.4.127 in /usr/local/lib/python3.11/dist-packages (from torch->flash-attn) (12.4.127)\n",
            "Requirement already satisfied: nvidia-nvjitlink-cu12==12.4.127 in /usr/local/lib/python3.11/dist-packages (from torch->flash-attn) (12.4.127)\n",
            "Requirement already satisfied: triton==3.2.0 in /usr/local/lib/python3.11/dist-packages (from torch->flash-attn) (3.2.0)\n",
            "Requirement already satisfied: sympy==1.13.1 in /usr/local/lib/python3.11/dist-packages (from torch->flash-attn) (1.13.1)\n",
            "Requirement already satisfied: mpmath<1.4,>=1.1.0 in /usr/local/lib/python3.11/dist-packages (from sympy==1.13.1->torch->flash-attn) (1.3.0)\n",
            "Requirement already satisfied: MarkupSafe>=2.0 in /usr/local/lib/python3.11/dist-packages (from jinja2->torch->flash-attn) (3.0.2)\n"
          ]
        }
      ],
      "source": [
        "# Perform Google Colab installs (if running in Google Colab)\n",
        "import os\n",
        "\n",
        "if \"COLAB_GPU\" in os.environ:\n",
        "    print(\"[INFO] Running in Google Colab, installing requirements.\")\n",
        "    !pip install -U torch # requires torch 2.1.1+ (for efficient sdpa implementation)\n",
        "    !pip install PyMuPDF # for reading PDFs with Python\n",
        "    !pip install tqdm # for progress bars\n",
        "    !pip install sentence-transformers # for embedding models\n",
        "    !pip install accelerate # for quantization model loading\n",
        "    !pip install bitsandbytes # for quantizing models (less storage space)\n",
        "    !pip install flash-attn --no-build-isolation # for faster attention mechanism = faster LLM inference"
      ]
    },
    {
      "cell_type": "markdown",
      "metadata": {
        "id": "_DHi66ZXsrsb"
      },
      "source": [
        "# 1. Xử lý và nhúng tài liệu/văn bản\n",
        "Nguyên Liệu:\n",
        "\n",
        "* Tài Liệu PDF tùy chọn.\n",
        "* Mô hình Nhúng tùy chọn.\n",
        "\n",
        "Các Bước:\n",
        "\n",
        "* Import tài liệu PDF .\n",
        "* Xử lý văn bản để nhúng (e.g. chia văn bản thành các câu).\n",
        "* Nhúng các đoạn văn bản vào mô hình nhúng.\n",
        "* Lưu trữ vào tệp để sử dụng sau.\n"
      ]
    },
    {
      "cell_type": "markdown",
      "metadata": {
        "id": "VhjH0WDcx34B"
      },
      "source": [
        "### Tải Văn Bản PDF\n",
        "Chúng ta sẽ dùng 1 bộ data về tuyển sinh đại học"
      ]
    },
    {
      "cell_type": "code",
      "execution_count": null,
      "metadata": {
        "colab": {
          "base_uri": "https://localhost:8080/"
        },
        "id": "Emgbudz9Jnp7",
        "outputId": "acb91a0d-3661-469e-9049-5d06eae17608"
      },
      "outputs": [
        {
          "output_type": "stream",
          "name": "stdout",
          "text": [
            "Requirement already satisfied: bs4 in /usr/local/lib/python3.11/dist-packages (0.0.2)\n",
            "Requirement already satisfied: beautifulsoup4 in /usr/local/lib/python3.11/dist-packages (from bs4) (4.13.3)\n",
            "Requirement already satisfied: soupsieve>1.2 in /usr/local/lib/python3.11/dist-packages (from beautifulsoup4->bs4) (2.6)\n",
            "Requirement already satisfied: typing-extensions>=4.0.0 in /usr/local/lib/python3.11/dist-packages (from beautifulsoup4->bs4) (4.12.2)\n"
          ]
        }
      ],
      "source": [
        "!pip install bs4"
      ]
    },
    {
      "cell_type": "code",
      "execution_count": null,
      "metadata": {
        "colab": {
          "base_uri": "https://localhost:8080/"
        },
        "id": "-qbP3ssVpsN_",
        "outputId": "3fdb755b-ed65-4e21-b2a1-03276f9ed265"
      },
      "outputs": [
        {
          "output_type": "stream",
          "name": "stdout",
          "text": [
            "File /content/drive/MyDrive/AI_DATA/Thông Tin Tuyển Sinh.pdf exists.\n"
          ]
        }
      ],
      "source": [
        "# Download PDF file\n",
        "import os\n",
        "import requests\n",
        "\n",
        "# Get PDF document\n",
        "pdf_path = \"/content/drive/MyDrive/AI_DATA/Thông Tin Tuyển Sinh.pdf\"\n",
        "\n",
        "# Download PDF if it doesn't already exist\n",
        "if not os.path.exists(pdf_path):\n",
        "  print(\"File doesn't exist\")\n",
        "else:\n",
        "  print(f\"File {pdf_path} exists.\")"
      ]
    },
    {
      "cell_type": "code",
      "execution_count": null,
      "metadata": {
        "colab": {
          "base_uri": "https://localhost:8080/"
        },
        "collapsed": true,
        "id": "EaQywvZhqP9s",
        "outputId": "1b1a58c0-1f0f-4ae7-f072-eea00f66889b"
      },
      "outputs": [
        {
          "output_type": "stream",
          "name": "stdout",
          "text": [
            "Requirement already satisfied: fitz in /usr/local/lib/python3.11/dist-packages (0.0.1.dev2)\n",
            "Requirement already satisfied: configobj in /usr/local/lib/python3.11/dist-packages (from fitz) (5.0.9)\n",
            "Requirement already satisfied: configparser in /usr/local/lib/python3.11/dist-packages (from fitz) (7.2.0)\n",
            "Requirement already satisfied: httplib2 in /usr/local/lib/python3.11/dist-packages (from fitz) (0.22.0)\n",
            "Requirement already satisfied: nibabel in /usr/local/lib/python3.11/dist-packages (from fitz) (5.3.2)\n",
            "Requirement already satisfied: nipype in /usr/local/lib/python3.11/dist-packages (from fitz) (1.10.0)\n",
            "Requirement already satisfied: numpy in /usr/local/lib/python3.11/dist-packages (from fitz) (1.26.4)\n",
            "Requirement already satisfied: pandas in /usr/local/lib/python3.11/dist-packages (from fitz) (2.2.2)\n",
            "Requirement already satisfied: pyxnat in /usr/local/lib/python3.11/dist-packages (from fitz) (1.6.3)\n",
            "Requirement already satisfied: scipy in /usr/local/lib/python3.11/dist-packages (from fitz) (1.13.1)\n",
            "Requirement already satisfied: pyparsing!=3.0.0,!=3.0.1,!=3.0.2,!=3.0.3,<4,>=2.4.2 in /usr/local/lib/python3.11/dist-packages (from httplib2->fitz) (3.2.1)\n",
            "Requirement already satisfied: importlib-resources>=5.12 in /usr/local/lib/python3.11/dist-packages (from nibabel->fitz) (6.5.2)\n",
            "Requirement already satisfied: packaging>=20 in /usr/local/lib/python3.11/dist-packages (from nibabel->fitz) (24.2)\n",
            "Requirement already satisfied: typing-extensions>=4.6 in /usr/local/lib/python3.11/dist-packages (from nibabel->fitz) (4.12.2)\n",
            "Requirement already satisfied: click>=6.6.0 in /usr/local/lib/python3.11/dist-packages (from nipype->fitz) (8.1.8)\n",
            "Requirement already satisfied: networkx>=2.5 in /usr/local/lib/python3.11/dist-packages (from nipype->fitz) (3.4.2)\n",
            "Requirement already satisfied: prov>=1.5.2 in /usr/local/lib/python3.11/dist-packages (from nipype->fitz) (2.0.1)\n",
            "Requirement already satisfied: pydot>=1.2.3 in /usr/local/lib/python3.11/dist-packages (from nipype->fitz) (3.0.4)\n",
            "Requirement already satisfied: python-dateutil>=2.2 in /usr/local/lib/python3.11/dist-packages (from nipype->fitz) (2.8.2)\n",
            "Requirement already satisfied: rdflib>=5.0.0 in /usr/local/lib/python3.11/dist-packages (from nipype->fitz) (6.3.2)\n",
            "Requirement already satisfied: simplejson>=3.8.0 in /usr/local/lib/python3.11/dist-packages (from nipype->fitz) (3.20.1)\n",
            "Requirement already satisfied: traits>=6.2 in /usr/local/lib/python3.11/dist-packages (from nipype->fitz) (7.0.2)\n",
            "Requirement already satisfied: filelock>=3.0.0 in /usr/local/lib/python3.11/dist-packages (from nipype->fitz) (3.17.0)\n",
            "Requirement already satisfied: acres in /usr/local/lib/python3.11/dist-packages (from nipype->fitz) (0.3.0)\n",
            "Requirement already satisfied: etelemetry>=0.3.1 in /usr/local/lib/python3.11/dist-packages (from nipype->fitz) (0.3.1)\n",
            "Requirement already satisfied: looseversion!=1.2 in /usr/local/lib/python3.11/dist-packages (from nipype->fitz) (1.3.0)\n",
            "Requirement already satisfied: puremagic in /usr/local/lib/python3.11/dist-packages (from nipype->fitz) (1.28)\n",
            "Requirement already satisfied: pytz>=2020.1 in /usr/local/lib/python3.11/dist-packages (from pandas->fitz) (2025.1)\n",
            "Requirement already satisfied: tzdata>=2022.7 in /usr/local/lib/python3.11/dist-packages (from pandas->fitz) (2025.1)\n",
            "Requirement already satisfied: lxml>=4.3 in /usr/local/lib/python3.11/dist-packages (from pyxnat->fitz) (5.3.1)\n",
            "Requirement already satisfied: requests>=2.20 in /usr/local/lib/python3.11/dist-packages (from pyxnat->fitz) (2.32.3)\n",
            "Requirement already satisfied: pathlib>=1.0 in /usr/local/lib/python3.11/dist-packages (from pyxnat->fitz) (1.0.1)\n",
            "Requirement already satisfied: ci-info>=0.2 in /usr/local/lib/python3.11/dist-packages (from etelemetry>=0.3.1->nipype->fitz) (0.3.0)\n",
            "Requirement already satisfied: six>=1.5 in /usr/local/lib/python3.11/dist-packages (from python-dateutil>=2.2->nipype->fitz) (1.17.0)\n",
            "Requirement already satisfied: isodate<0.7.0,>=0.6.0 in /usr/local/lib/python3.11/dist-packages (from rdflib>=5.0.0->nipype->fitz) (0.6.1)\n",
            "Requirement already satisfied: charset-normalizer<4,>=2 in /usr/local/lib/python3.11/dist-packages (from requests>=2.20->pyxnat->fitz) (3.4.1)\n",
            "Requirement already satisfied: idna<4,>=2.5 in /usr/local/lib/python3.11/dist-packages (from requests>=2.20->pyxnat->fitz) (3.10)\n",
            "Requirement already satisfied: urllib3<3,>=1.21.1 in /usr/local/lib/python3.11/dist-packages (from requests>=2.20->pyxnat->fitz) (2.3.0)\n",
            "Requirement already satisfied: certifi>=2017.4.17 in /usr/local/lib/python3.11/dist-packages (from requests>=2.20->pyxnat->fitz) (2025.1.31)\n",
            "Collecting pymupdf\n",
            "  Using cached pymupdf-1.25.5-cp39-abi3-manylinux2014_x86_64.manylinux_2_17_x86_64.whl.metadata (3.4 kB)\n",
            "Using cached pymupdf-1.25.5-cp39-abi3-manylinux2014_x86_64.manylinux_2_17_x86_64.whl (20.0 MB)\n",
            "Installing collected packages: pymupdf\n",
            "  Attempting uninstall: pymupdf\n",
            "    Found existing installation: PyMuPDF 1.25.5\n",
            "    Uninstalling PyMuPDF-1.25.5:\n",
            "      Successfully uninstalled PyMuPDF-1.25.5\n",
            "Successfully installed pymupdf-1.25.5\n"
          ]
        }
      ],
      "source": [
        "!pip install fitz\n",
        "!pip install --force-reinstall pymupdf"
      ]
    },
    {
      "cell_type": "markdown",
      "metadata": {
        "id": "dIWksxwis-p7"
      },
      "source": []
    },
    {
      "cell_type": "code",
      "execution_count": null,
      "metadata": {
        "colab": {
          "base_uri": "https://localhost:8080/"
        },
        "id": "taOhNbuGuoJH",
        "outputId": "b83f7033-132c-477f-f67b-4b6ec7f6dedf"
      },
      "outputs": [
        {
          "output_type": "stream",
          "name": "stdout",
          "text": [
            "Collecting pymupdf\n",
            "  Using cached pymupdf-1.25.5-cp39-abi3-manylinux2014_x86_64.manylinux_2_17_x86_64.whl.metadata (3.4 kB)\n",
            "Using cached pymupdf-1.25.5-cp39-abi3-manylinux2014_x86_64.manylinux_2_17_x86_64.whl (20.0 MB)\n",
            "Installing collected packages: pymupdf\n",
            "  Attempting uninstall: pymupdf\n",
            "    Found existing installation: PyMuPDF 1.25.5\n",
            "    Uninstalling PyMuPDF-1.25.5:\n",
            "      Successfully uninstalled PyMuPDF-1.25.5\n",
            "Successfully installed pymupdf-1.25.5\n"
          ]
        }
      ],
      "source": [
        "# Run this is you got ModuleNotFoundError: No module named 'frontend'\n",
        "!pip install --force-reinstall pymupdf"
      ]
    },
    {
      "cell_type": "markdown",
      "metadata": {
        "id": "PEMKNVtKDmvd"
      },
      "source": [
        "Sau khi có được file PDF mình sẽ dùng thư viện fitz để mở và xem qua file PDF để hiểu hơn về nó."
      ]
    },
    {
      "cell_type": "code",
      "execution_count": null,
      "metadata": {
        "colab": {
          "base_uri": "https://localhost:8080/",
          "height": 1000,
          "referenced_widgets": [
            "36affe7f5f454f459a3fe388b87d9b75",
            "c837521ae6524994bc56d09617cd53c6",
            "1559198c030c42bfbb40d68c338ade6e",
            "d964c93690894fd581c4a00c8b1093a9",
            "5a89ba0834774b77b7340285b0808e86",
            "de99fc62b2eb4c7da015004505b88491",
            "fa5565025bc54bb3a7fef59af64f10cc",
            "7bb205a8e1e54fb9845261fc0717d84e",
            "65336cded8f8469380d4dbf127beb819",
            "317ab9177a2540f99ce2455a8b415adf",
            "0db5a421a939411a8cd05e99869d3b0f"
          ]
        },
        "id": "7c1zTOO-qZpv",
        "outputId": "0acc1f22-2e61-4b64-e2f3-7ce09ae34332"
      },
      "outputs": [
        {
          "output_type": "display_data",
          "data": {
            "text/plain": [
              "0it [00:00, ?it/s]"
            ],
            "application/vnd.jupyter.widget-view+json": {
              "version_major": 2,
              "version_minor": 0,
              "model_id": "36affe7f5f454f459a3fe388b87d9b75"
            }
          },
          "metadata": {}
        },
        {
          "output_type": "execute_result",
          "data": {
            "text/plain": [
              "[{'page_number': 0,\n",
              "  'page_char_count': 2301,\n",
              "  'page_word_count': 501,\n",
              "  'page_sentence_count_raw': 17,\n",
              "  'page_token_count': 575.25,\n",
              "  'text': 'Thông Tin Tuyển Sinh  Trường Đại học CMC, thành lập năm 2011 và đổi tên vào năm 2022, là thành viên của Tập  đoàn Công nghệ CMC, định hướng trở thành đại học số hàng đầu châu Á vào năm 2033.  Năm 2025, trường tuyển sinh 1510 chỉ tiêu, tập trung vào các ngành như Công nghệ Thông  tin, Khoa học Máy tính, Trí tuệ Nhân tạo, và Ngôn ngữ.  Các phương thức xét tuyển bao gồm:  •  CMC401: Dựa trên kỳ thi CMC-TEST 2025 (30 câu Toán, 30 câu Tiếng Anh, 20 câu  Tư duy logic), diễn ra Đợt 1 vào ngày 29/3/2025, đề minh họa tại [đề minh họa CMC- TEST]([invalid url, do not cite]de-minh-hoa-ky-thi-danh-gia-nang-luc-truong-dai-hoc- cmc-cmc-test-nam-2025/).  •  CMC200: Xét học bạ THPT, không cộng điểm ưu tiên, công thức: Ngành Kỹ thuật  (Toán×2 + Môn1 + Môn2), Ngành khác (Toán + Văn + Môn1 + Môn2).  •  CMC100: Dựa trên kết quả thi tốt nghiệp THPT, có thể cộng điểm ưu tiên, công thức  tương tự CMC200.  •  CMC303: Xét tuyển thẳng cho thí sinh đạt giải học sinh giỏi, chứng chỉ quốc tế như  IELTS 6.0+, SAT, ACT, A-Level, hoặc học sinh trường THPT chuyên đạt loại Tốt lớp  12.  Quỹ học bổng 96 tỷ VND năm 2025 bao gồm:  •  CMC Khai Phóng (100% học phí, 30 suất): Giải quốc tế/quốc gia, điểm THPT  ≥35/40, IELTS 7.5+.  •  CMC Sáng Tạo (70%, 50 suất): Giải tỉnh, 6 môn ≥9.0 (Toán bắt buộc), IELTS 7.0+.  •  CMC Tiên Phong (50%, 70 suất): 6 môn ≥8.5, điểm THPT ≥33/40, IELTS 6.5+.  •  CMC Kiến Tạo (30%, 150 suất): 6 môn ≥8.0, điểm THPT ≥32/40, IELTS 6.0+.  Ưu tiên thí sinh đăng ký sớm và chọn CMC nguyện vọng 1. Chi tiết tại [tuyển sinh  CMC]([invalid url, do not cite]).    Nội Quy Chế và Ưu Đãi  Nội Quy Chế: Không tìm thấy thông tin công khai, có thể nằm trong cổng nội bộ, cần liên hệ  nhà trường. Dựa trên thông lệ, nội quy thường bao gồm quy định học tập, đạo đức, kỷ luật.  Ưu Đãi:  •  Cam kết 100% việc làm cho sinh viên ngành công nghệ học hệ song ngữ, thực tập  tại Top 500 doanh nghiệp Việt Nam (VNR500) và đối tác quốc tế, với triết lý “True  internship – Good job”.  •  Cơ sở vật chất hiện đại: 6 phòng Lab với AI, AR/VR, hỗ trợ học tập từ năm nhất, hệ  thống IT tiên tiến như nhận diện khuôn mặt, đo nhiệt độ cơ thể.  •  Học phí cố định: Công nghệ Thông tin/Khoa học Máy tính 18,2 triệu VND/học kỳ;  Quản trị Kinh doanh 16,8 triệu VND/học kỳ; Ngôn ngữ Hàn/Japan 15,4 triệu VND/học  kỳ (2022-2023).'},\n",
              " {'page_number': 1,\n",
              "  'page_char_count': 2649,\n",
              "  'page_word_count': 588,\n",
              "  'page_sentence_count_raw': 16,\n",
              "  'page_token_count': 662.25,\n",
              "  'text': '•  Hỗ trợ học tiếng Anh miễn phí đạt chuẩn CEFR B2, cơ hội thực tập quốc tế tại Nhật  Bản, Hàn Quốc, Hoa Kỳ.      Báo Cáo Chi Tiết: Thông Tin Tuyển Sinh, Nội Quy Chế và Ưu Đãi Cho Sinh Viên  Trường Đại học CMC  Trường Đại học CMC, thành lập vào năm 2011 với tên ban đầu là Trường Đại học Mỹ thuật  Công nghiệp Á Châu, chính thức đổi tên thành Trường Đại học CMC theo Quyết định số  895/QĐ-TTg của Thủ tướng Chính phủ ngày 26/7/2022. Là thành viên thuộc Khối Nghiên  cứu và Giáo dục của Tập đoàn Công nghệ CMC, trường định hướng trở thành đại học công  nghệ và đổi mới sáng tạo, với sứ mệnh đào tạo nguồn nhân lực chất lượng cao phục vụ  chuyển đổi số và kinh tế số. Đến năm 2033, trường đặt mục tiêu trở thành đại học số hàng  đầu châu Á, tập trung vào các ngành như Khoa học Máy tính, Trí tuệ Nhân tạo (AI), Công  nghệ Thông tin, và Quản trị Kinh doanh số. Trụ sở chính tại Số 11 Duy Tân, Dịch Vọng Hậu,  Cầu Giấy, Hà Nội, cùng các cơ sở khác tại Hà Đông và Nam Từ Liêm, trường cam kết 100%  sinh viên ngành công nghệ học hệ song ngữ có việc làm sau tốt nghiệp tại Tập đoàn CMC,  Samsung và các đối tác quốc tế.  I. Thông Tin Tuyển Sinh  Năm 2025, Trường Đại học CMC thông báo tuyển sinh với tổng chỉ tiêu 1510, tập trung vào  các ngành như Công nghệ Thông tin, Khoa học Máy tính, Trí tuệ Nhân tạo, Kỹ thuật Phần  mềm, và Ngôn ngữ (Hàn Quốc, Nhật Bản, Trung Quốc). Đây là một con số đáng chú ý, phản  ánh quy mô tuyển sinh của trường trong bối cảnh nhu cầu nhân lực công nghệ cao ngày  càng tăng.  Các phương thức xét tuyển được thiết kế đa dạng để phù hợp với nhiều đối tượng thí sinh,  bao gồm:  Phương  Thức  Chi Tiết  CMC401  Xét tuyển dựa vào kết quả kỳ thi Đánh giá năng lực CMC-TEST 2025, gồm 30  câu Toán, 30 câu Tiếng Anh, và 20 câu Tư duy logic. Kỳ thi này đã diễn ra Đợt 1  vào ngày 29/3/2025, với đề minh họa công khai tại [đề minh họa CMC- TEST]([invalid url, do not cite]de-minh-hoa-ky-thi-danh-gia-nang-luc-truong-dai- hoc-cmc-cmc-test-nam-2025/).  CMC200  Xét học bạ THPT, không cộng điểm ưu tiên, dựa trên điểm trung bình môn theo  tổ hợp xét tuyển. Công thức tính điểm: Ngành Kỹ thuật (Toán×2 + Môn1 +  Môn2), Ngành khác (Toán + Văn + Môn1 + Môn2).  CMC100 Xét kết quả thi tốt nghiệp THPT, có thể cộng điểm ưu tiên nếu đủ điều kiện.  Công thức tương tự CMC200 nhưng cộng thêm điểm ưu tiên theo quy định.  CMC303  Xét tuyển thẳng theo quy chế Bộ GD&ĐT, áp dụng cho các đối tượng như thí  sinh đạt giải học sinh giỏi quốc gia/quốc tế, có chứng chỉ quốc tế như IELTS  6.0+, SAT, ACT, A-Level, hoặc học sinh trường THPT chuyên đạt loại Tốt lớp 12.  Điểm nổi bật là quỹ học bổng 96 tỷ VND dành cho năm 2025, với các mức cụ thể như sau:'},\n",
              " {'page_number': 2,\n",
              "  'page_char_count': 2850,\n",
              "  'page_word_count': 656,\n",
              "  'page_sentence_count_raw': 16,\n",
              "  'page_token_count': 712.5,\n",
              "  'text': 'Loại Học  Bổng  Số  Lượng  Mức Giảm Tiêu Chí  CMC Khai  Phóng  30  100% học  phí  Giải quốc tế/quốc gia 2022–2025, điểm THPT ≥35/40,  IELTS 7.5+, Toán ≥8.0  CMC Sáng  Tạo  50  70% học  phí  Giải tỉnh 2022–2025, 6 môn ≥9.0 (Toán bắt buộc,  không môn <6.5), IELTS 7.0+  CMC Tiên  Phong  70  50% học  phí  6 môn ≥8.5 (Toán bắt buộc, không môn <6.5), điểm  THPT ≥33/40, IELTS 6.5+  CMC Kiến  Tạo  150  30% học  phí  6 môn ≥8.0 (Toán bắt buộc, không môn <6.5), điểm  THPT ≥32/40, IELTS 6.0+  Thí sinh đăng ký sớm và chọn CMC là nguyện vọng 1 sẽ được ưu tiên. Chi tiết về tuyển  sinh có thể tham khảo tại [tuyển sinh CMC]([invalid url, do not cite]).  II. Nội Quy Chế Sinh Viên  Sau khi tìm kiếm trên website chính thức [Trường Đại học CMC]([invalid url, do not cite]) và  các nguồn liên quan, không tìm thấy thông tin công khai về nội quy chế sinh viên. Có khả  năng các quy định này được lưu trữ trong cổng thông tin nội bộ dành cho sinh viên, không  được chia sẻ công khai trên trang web. Điều này không bất thường, vì nhiều trường đại học  chỉ cung cấp nội quy qua tài liệu in hoặc hệ thống quản lý học tập. Dựa trên thông lệ của  các trường đại học Việt Nam, nội quy chế thường bao gồm các quy định về học tập, rèn  luyện đạo đức, kỷ luật, và quyền lợi sinh viên, nhưng chi tiết cụ thể cần liên hệ trực tiếp với  nhà trường để biết thêm.  III. Ưu Đãi Cho Sinh Viên  Trường Đại học CMC cung cấp nhiều ưu đãi hấp dẫn, giúp sinh viên có môi trường học tập  và phát triển toàn diện:  •  Học bổng và Hỗ Trợ Tài Chính: Quỹ học bổng 96 tỷ VND năm 2025 là một điểm  nhấn, với các mức từ 30% đến 100% học phí, dựa trên thành tích học tập và chứng  chỉ quốc tế. Ngoài ra, học phí được cố định trong suốt khóa học, ví dụ: Công nghệ  Thông tin và Khoa học Máy tính là 18,2 triệu VND/học kỳ; Quản trị Kinh doanh là  16,8 triệu VND/học kỳ; Ngôn ngữ Hàn/Japan là 15,4 triệu VND/học kỳ (dữ liệu áp  dụng cho sinh viên nhập học 2022-2023). Sinh viên cũng được hỗ trợ học tiếng Anh  miễn phí đạt chuẩn CEFR B2, một lợi ích không nhỏ cho sự phát triển nghề nghiệp.  •  Cam Kết Việc Làm: Một ưu đãi đáng chú ý là cam kết 100% việc làm cho sinh viên  ngành công nghệ học hệ song ngữ sau khi tốt nghiệp, với cơ hội làm việc tại Tập  đoàn CMC, Samsung, và các doanh nghiệp thuộc Top 500 Việt Nam (VNR500).  Chương trình thực tập “True internship – Good job” đảm bảo giao việc thật, đánh giá  thật, huấn luyện thật, giúp sinh viên tích lũy kinh nghiệm từ năm nhất.  •  Cơ Sở Vật Chất: Là đại học số đầu tiên của Việt Nam, trường đầu tư mạnh vào hạ  tầng hiện đại, bao gồm 6 phòng Lab với công nghệ tiên tiến như AI Chatbot, thực tế  ảo tăng cường (AR/VR), hỗ trợ học tập và nghiên cứu. Hệ thống IT thông minh với  nhận diện khuôn mặt, đo nhiệt độ cơ thể, và phát hiện bất thường hành vi cũng  được triển khai, tạo môi trường học tập an toàn và tiện nghi. Các đánh giá từ sinh'}]"
            ]
          },
          "metadata": {},
          "execution_count": 88
        }
      ],
      "source": [
        "import fitz # (pymupdf, found this is better than pypdf for our use case)\n",
        "from tqdm.auto import tqdm # for progress bars visualization, requires !pip install tqdm\n",
        "\n",
        "def text_formatter(text: str) -> str:\n",
        "    \"\"\"Performs minor formatting on text.\"\"\"\n",
        "    cleaned_text = text.replace(\"\\n\", \" \").strip() # strip \"line break\" with a \"space\"\n",
        "\n",
        "    return cleaned_text\n",
        "\n",
        "# Open PDF and get lines/pages\n",
        "# Note: this only focuses on text, rather than images/figures etc\n",
        "def open_and_read_pdf(pdf_path: str) -> list[dict]:\n",
        "    \"\"\"\n",
        "    Opens a PDF file, reads its text content page by page, and collects statistics.\n",
        "\n",
        "    Parameters:\n",
        "        pdf_path (str): The file path to the PDF document to be opened and read.\n",
        "\n",
        "    Returns:\n",
        "        list[dict]: A list of dictionaries, each containing the page number\n",
        "        (adjusted), character count, word count, sentence count, token count, and the extracted text\n",
        "        for each page.\n",
        "    \"\"\"\n",
        "    doc = fitz.open(pdf_path)  # open a document\n",
        "    pages_and_texts = []\n",
        "    for page_number, page in tqdm(enumerate(doc)):  # iterate the document pages\n",
        "        text = page.get_text()  # get plain text encoded as UTF-8\n",
        "        text = text_formatter(text)\n",
        "        pages_and_texts.append({\"page_number\": page_number  ,\n",
        "                                \"page_char_count\": len(text),\n",
        "                                \"page_word_count\": len(text.split(\" \")),\n",
        "                                \"page_sentence_count_raw\": len(text.split(\". \")),\n",
        "                                \"page_token_count\": len(text) / 4,  # 1 token = ~4 chars, see: https://help.openai.com/en/articles/4936856-what-are-tokens-and-how-to-count-them\n",
        "                                \"text\": text})\n",
        "    return pages_and_texts\n",
        "\n",
        "pages_and_texts = open_and_read_pdf(pdf_path=pdf_path)\n",
        "pages_and_texts[:3]"
      ]
    },
    {
      "cell_type": "markdown",
      "metadata": {
        "id": "t72IJLyvxzYu"
      },
      "source": [
        "lấy 1 tập mẫu ngẫu nhiên để trực quan hóa"
      ]
    },
    {
      "cell_type": "code",
      "execution_count": null,
      "metadata": {
        "colab": {
          "base_uri": "https://localhost:8080/"
        },
        "id": "c5zwAFAiqvYV",
        "outputId": "694a35e2-9898-4b03-a915-790be22973b6"
      },
      "outputs": [
        {
          "output_type": "execute_result",
          "data": {
            "text/plain": [
              "[{'page_number': 9,\n",
              "  'page_char_count': 1606,\n",
              "  'page_word_count': 384,\n",
              "  'page_sentence_count_raw': 21,\n",
              "  'page_token_count': 401.5,\n",
              "  'text': '•  Cây ATM của các ngân hàng lớn.  •  Wifi miễn phí phủ sóng toàn trường.  Xung quanh trường có nhiều tiện ích như quán ăn, siêu thị, phòng gym và nhà trọ, đáp ứng  nhu cầu sinh hoạt hàng ngày của sinh viên.  2. Phương thức tuyển sinh  Trường Đại học CMC áp dụng nhiều phương thức tuyển sinh linh hoạt để phù hợp với các  đối tượng thí sinh:  •  Xét tuyển học bạ: Dựa trên điểm trung bình các môn theo tổ hợp xét tuyển, yêu cầu  tối thiểu 6.0 trở lên (tùy ngành).  •  Xét tuyển dựa trên điểm thi tốt nghiệp THPT: Sử dụng kết quả kỳ thi THPT quốc  gia.  •  Xét tuyển thẳng: Dành cho thí sinh đạt giải học sinh giỏi hoặc có chứng chỉ quốc tế  (IELTS 6.0+, SAT, ACT, A-Level).  Điểm xét tuyển được tính dựa trên tổng điểm 3 môn theo tổ hợp hoặc điểm trung bình học  bạ, tùy phương thức. Trường không tổ chức kỳ thi đầu vào riêng, giúp giảm áp lực cho thí  sinh.  Thời gian tuyển sinh  •  Bắt đầu: Từ tháng 3 hàng năm.  •  Hạn chót: Thường vào tháng 9, nhưng thí sinh nên theo dõi thông báo chính thức  để cập nhật thời gian cụ thể.  Cách đăng ký xét tuyển  Thí sinh có thể:  •  Đăng ký trực tuyến qua website của trường.  •  Nộp hồ sơ trực tiếp tại phòng tuyển sinh.  Hồ sơ nhập học  Hồ sơ bao gồm:  •  Bằng tốt nghiệp THPT (bản sao công chứng).  •  Học bạ THPT.  •  Giấy chứng nhận sức khỏe.  •  Ảnh 3x4 (mới chụp trong vòng 6 tháng).  Thời gian xét duyệt hồ sơ thường từ 5-7 ngày làm việc, và kết quả sẽ được thông báo qua  website, email hoặc SMS.  3. Các ngành đào tạo  Trường Đại học CMC cung cấp nhiều ngành học hấp dẫn, đặc biệt trong lĩnh vực công nghệ  và kinh doanh số. Một số ngành nổi bật bao gồm:'},\n",
              " {'page_number': 6,\n",
              "  'page_char_count': 3228,\n",
              "  'page_word_count': 738,\n",
              "  'page_sentence_count_raw': 20,\n",
              "  'page_token_count': 807.0,\n",
              "  'text': 'chỉ quốc tế. Ngoài ra, học phí được cố định trong suốt khóa học, ví dụ: Công nghệ  Thông tin và Khoa học Máy tính là 18,2 triệu VND/học kỳ; Quản trị Kinh doanh là  16,8 triệu VND/học kỳ; Ngôn ngữ Hàn/Japan là 15,4 triệu VND/học kỳ (dữ liệu áp  dụng cho sinh viên nhập học 2022-2023). Sinh viên cũng được hỗ trợ học tiếng Anh  miễn phí đạt chuẩn CEFR B2, một lợi ích không nhỏ cho sự phát triển nghề nghiệp.  •  Cam Kết Việc Làm: Một ưu đãi đáng chú ý là cam kết 100% việc làm cho sinh viên  ngành công nghệ học hệ song ngữ sau khi tốt nghiệp, với cơ hội làm việc tại Tập  đoàn CMC, Samsung, và các doanh nghiệp thuộc Top 500 Việt Nam (VNR500).  Chương trình thực tập “True internship – Good job” đảm bảo giao việc thật, đánh giá  thật, huấn luyện thật, giúp sinh viên tích lũy kinh nghiệm từ năm nhất.  •  Cơ Sở Vật Chất: Là đại học số đầu tiên của Việt Nam, trường đầu tư mạnh vào hạ  tầng hiện đại, bao gồm 6 phòng Lab với công nghệ tiên tiến như AI Chatbot, thực tế  ảo tăng cường (AR/VR), hỗ trợ học tập và nghiên cứu. Hệ thống IT thông minh với  nhận diện khuôn mặt, đo nhiệt độ cơ thể, và phát hiện bất thường hành vi cũng  được triển khai, tạo môi trường học tập an toàn và tiện nghi. Các đánh giá từ sinh  viên cho thấy cơ sở vật chất hiện đại, đội ngũ giảng viên giàu kinh nghiệm, và cơ hội  thực tập quốc tế tại Nhật Bản, Hàn Quốc, Hoa Kỳ.  •  Hoạt Động Hỗ Trợ Khác: Sinh viên được khuyến khích tham gia các câu lạc bộ, hội  thảo kỹ năng (Leader Talk), và tọa đàm về xu hướng công nghệ, giúp phát triển kỹ  năng mềm và mở rộng mạng lưới quan hệ.  IV. Đánh Giá Tổng Quan  Trường Đại học CMC nổi bật với định hướng công nghệ, quỹ học bổng lớn, và cam kết việc  làm, phù hợp cho sinh viên muốn theo đuổi các ngành liên quan đến AI, IT, và kinh tế số.  Tuy nhiên, việc không tìm thấy nội quy chế công khai có thể gây khó khăn cho phụ huynh và  thí sinh muốn tìm hiểu trước khi đăng ký. Với cơ sở vật chất hiện đại và các ưu đãi toàn  diện, trường là lựa chọn tiềm năng, đặc biệt cho những bạn trẻ có đam mê công nghệ và  mong muốn phát triển sự nghiệp quốc tế.  Thông Tin Mới Về Trường Đại học CMC  Trường Đại học CMC không chỉ nổi bật với lịch sử phát triển, các chương trình hợp tác quốc  tế hay nghiên cứu tiên tiến, mà còn được biết đến qua cơ sở vật chất hiện đại, các hoạt  động ngoại khóa phong phú, và những sáng kiến thúc đẩy khởi nghiệp. Dưới đây là các  thông tin chi tiết về những khía cạnh này.  1. Cơ Sở Vật Chất Hiện Đại  Trường Đại học CMC sở hữu hệ thống cơ sở vật chất được thiết kế theo tiêu chuẩn quốc tế,  phục vụ tối đa cho nhu cầu học tập, nghiên cứu và sinh hoạt của sinh viên. Một số điểm nổi  bật bao gồm:  •  Khuôn viên xanh và thông minh: Tọa lạc tại vị trí chiến lược ở Hà Nội, khuôn viên  trường được xây dựng với ý tưởng \"Đại học xanh\", kết hợp không gian học tập hiện  đại và các khu vực cây xanh thân thiện với môi trường. Hệ thống quản lý khuôn viên  sử dụng công nghệ thông minh như cảm biến tiết kiệm năng lượng và quản lý rác  thải tự động.  •  Thư viện số đa phương tiện: Thư viện của trường không chỉ cung cấp hàng ngàn  đầu sách chuyên ngành công nghệ mà còn tích hợp hệ thống tài liệu số, cho phép  sinh viên truy cập tài nguyên học tập từ khắp nơi trên thế giới thông qua nền tảng'},\n",
              " {'page_number': 3,\n",
              "  'page_char_count': 2440,\n",
              "  'page_word_count': 539,\n",
              "  'page_sentence_count_raw': 19,\n",
              "  'page_token_count': 610.0,\n",
              "  'text': 'viên cho thấy cơ sở vật chất hiện đại, đội ngũ giảng viên giàu kinh nghiệm, và cơ hội  thực tập quốc tế tại Nhật Bản, Hàn Quốc, Hoa Kỳ.  •  Hoạt Động Hỗ Trợ Khác: Sinh viên được khuyến khích tham gia các câu lạc bộ, hội  thảo kỹ năng (Leader Talk), và tọa đàm về xu hướng công nghệ, giúp phát triển kỹ  năng mềm và mở rộng mạng lưới quan hệ.  IV. Đánh Giá Tổng Quan  Trường Đại học CMC nổi bật với định hướng công nghệ, quỹ học bổng lớn, và cam kết việc  làm, phù hợp cho sinh viên muốn theo đuổi các ngành liên quan đến AI, IT, và kinh tế số.  Tuy nhiên, việc không tìm thấy nội quy chế công khai có thể gây khó khăn cho phụ huynh và  thí sinh muốn tìm hiểu trước khi đăng ký. Với cơ sở vật chất hiện đại và các ưu đãi toàn  diện, trường là lựa chọn tiềm năng, đặc biệt cho những bạn trẻ có đam mê công nghệ và  mong muốn phát triển sự nghiệp quốc tế.  Thông Tin Tuyển Sinh  Trường Đại học CMC, thành lập năm 2011 và đổi tên vào năm 2022, là thành viên của Tập  đoàn Công nghệ CMC, định hướng trở thành đại học số hàng đầu châu Á vào năm 2033.  Năm 2025, trường tuyển sinh 1510 chỉ tiêu, tập trung vào các ngành như Công nghệ Thông  tin, Khoa học Máy tính, Trí tuệ Nhân tạo, và Ngôn ngữ.  Các phương thức xét tuyển bao gồm:  •  CMC401: Dựa trên kỳ thi CMC-TEST 2025 (30 câu Toán, 30 câu Tiếng Anh, 20 câu  Tư duy logic), diễn ra Đợt 1 vào ngày 29/3/2025, đề minh họa tại [đề minh họa CMC- TEST]([invalid url, do not cite]de-minh-hoa-ky-thi-danh-gia-nang-luc-truong-dai-hoc- cmc-cmc-test-nam-2025/).  •  CMC200: Xét học bạ THPT, không cộng điểm ưu tiên, công thức: Ngành Kỹ thuật  (Toán×2 + Môn1 + Môn2), Ngành khác (Toán + Văn + Môn1 + Môn2).  •  CMC100: Dựa trên kết quả thi tốt nghiệp THPT, có thể cộng điểm ưu tiên, công thức  tương tự CMC200.  •  CMC303: Xét tuyển thẳng cho thí sinh đạt giải học sinh giỏi, chứng chỉ quốc tế như  IELTS 6.0+, SAT, ACT, A-Level, hoặc học sinh trường THPT chuyên đạt loại Tốt lớp  12.  Quỹ học bổng 96 tỷ VND năm 2025 bao gồm:  •  CMC Khai Phóng (100% học phí, 30 suất): Giải quốc tế/quốc gia, điểm THPT  ≥35/40, IELTS 7.5+.  •  CMC Sáng Tạo (70%, 50 suất): Giải tỉnh, 6 môn ≥9.0 (Toán bắt buộc), IELTS 7.0+.  •  CMC Tiên Phong (50%, 70 suất): 6 môn ≥8.5, điểm THPT ≥33/40, IELTS 6.5+.  •  CMC Kiến Tạo (30%, 150 suất): 6 môn ≥8.0, điểm THPT ≥32/40, IELTS 6.0+.  Ưu tiên thí sinh đăng ký sớm và chọn CMC nguyện vọng 1. Chi tiết tại [tuyển sinh  CMC]([invalid url, do not cite]).    Nội Quy Chế và Ưu Đãi'}]"
            ]
          },
          "metadata": {},
          "execution_count": 89
        }
      ],
      "source": [
        "import random\n",
        "\n",
        "random.sample(pages_and_texts, k=3) # return 3 random pages"
      ]
    },
    {
      "cell_type": "markdown",
      "metadata": {
        "id": "p2npMhTgyIiZ"
      },
      "source": [
        "### Lấy số liệu thống kê về văn bản\n",
        "Điều này có nghĩa là mô hình đã được đào tạo để thu thập và chuyển thành văn bản nhúng với 800 tokens (1 tokens ~= 4 ký tự ~= 0,75 từ)."
      ]
    },
    {
      "cell_type": "code",
      "execution_count": null,
      "metadata": {
        "colab": {
          "base_uri": "https://localhost:8080/",
          "height": 206
        },
        "id": "TUPZPP5Tqwe0",
        "outputId": "b2988d49-e6c3-46d5-9adc-d2ca9edcc3fa"
      },
      "outputs": [
        {
          "output_type": "execute_result",
          "data": {
            "text/plain": [
              "   page_number  page_char_count  page_word_count  page_sentence_count_raw  \\\n",
              "0            0             2301              501                       17   \n",
              "1            1             2649              588                       16   \n",
              "2            2             2850              656                       16   \n",
              "3            3             2440              539                       19   \n",
              "4            4             2568              589                       15   \n",
              "\n",
              "   page_token_count                                               text  \n",
              "0            575.25  Thông Tin Tuyển Sinh  Trường Đại học CMC, thàn...  \n",
              "1            662.25  •  Hỗ trợ học tiếng Anh miễn phí đạt chuẩn CEF...  \n",
              "2            712.50  Loại Học  Bổng  Số  Lượng  Mức Giảm Tiêu Chí  ...  \n",
              "3            610.00  viên cho thấy cơ sở vật chất hiện đại, đội ngũ...  \n",
              "4            642.00  Nội Quy Chế: Không tìm thấy thông tin công kha...  "
            ],
            "text/html": [
              "\n",
              "  <div id=\"df-2233f629-7ac1-4065-a13b-807b468f572b\" class=\"colab-df-container\">\n",
              "    <div>\n",
              "<style scoped>\n",
              "    .dataframe tbody tr th:only-of-type {\n",
              "        vertical-align: middle;\n",
              "    }\n",
              "\n",
              "    .dataframe tbody tr th {\n",
              "        vertical-align: top;\n",
              "    }\n",
              "\n",
              "    .dataframe thead th {\n",
              "        text-align: right;\n",
              "    }\n",
              "</style>\n",
              "<table border=\"1\" class=\"dataframe\">\n",
              "  <thead>\n",
              "    <tr style=\"text-align: right;\">\n",
              "      <th></th>\n",
              "      <th>page_number</th>\n",
              "      <th>page_char_count</th>\n",
              "      <th>page_word_count</th>\n",
              "      <th>page_sentence_count_raw</th>\n",
              "      <th>page_token_count</th>\n",
              "      <th>text</th>\n",
              "    </tr>\n",
              "  </thead>\n",
              "  <tbody>\n",
              "    <tr>\n",
              "      <th>0</th>\n",
              "      <td>0</td>\n",
              "      <td>2301</td>\n",
              "      <td>501</td>\n",
              "      <td>17</td>\n",
              "      <td>575.25</td>\n",
              "      <td>Thông Tin Tuyển Sinh  Trường Đại học CMC, thàn...</td>\n",
              "    </tr>\n",
              "    <tr>\n",
              "      <th>1</th>\n",
              "      <td>1</td>\n",
              "      <td>2649</td>\n",
              "      <td>588</td>\n",
              "      <td>16</td>\n",
              "      <td>662.25</td>\n",
              "      <td>•  Hỗ trợ học tiếng Anh miễn phí đạt chuẩn CEF...</td>\n",
              "    </tr>\n",
              "    <tr>\n",
              "      <th>2</th>\n",
              "      <td>2</td>\n",
              "      <td>2850</td>\n",
              "      <td>656</td>\n",
              "      <td>16</td>\n",
              "      <td>712.50</td>\n",
              "      <td>Loại Học  Bổng  Số  Lượng  Mức Giảm Tiêu Chí  ...</td>\n",
              "    </tr>\n",
              "    <tr>\n",
              "      <th>3</th>\n",
              "      <td>3</td>\n",
              "      <td>2440</td>\n",
              "      <td>539</td>\n",
              "      <td>19</td>\n",
              "      <td>610.00</td>\n",
              "      <td>viên cho thấy cơ sở vật chất hiện đại, đội ngũ...</td>\n",
              "    </tr>\n",
              "    <tr>\n",
              "      <th>4</th>\n",
              "      <td>4</td>\n",
              "      <td>2568</td>\n",
              "      <td>589</td>\n",
              "      <td>15</td>\n",
              "      <td>642.00</td>\n",
              "      <td>Nội Quy Chế: Không tìm thấy thông tin công kha...</td>\n",
              "    </tr>\n",
              "  </tbody>\n",
              "</table>\n",
              "</div>\n",
              "    <div class=\"colab-df-buttons\">\n",
              "\n",
              "  <div class=\"colab-df-container\">\n",
              "    <button class=\"colab-df-convert\" onclick=\"convertToInteractive('df-2233f629-7ac1-4065-a13b-807b468f572b')\"\n",
              "            title=\"Convert this dataframe to an interactive table.\"\n",
              "            style=\"display:none;\">\n",
              "\n",
              "  <svg xmlns=\"http://www.w3.org/2000/svg\" height=\"24px\" viewBox=\"0 -960 960 960\">\n",
              "    <path d=\"M120-120v-720h720v720H120Zm60-500h600v-160H180v160Zm220 220h160v-160H400v160Zm0 220h160v-160H400v160ZM180-400h160v-160H180v160Zm440 0h160v-160H620v160ZM180-180h160v-160H180v160Zm440 0h160v-160H620v160Z\"/>\n",
              "  </svg>\n",
              "    </button>\n",
              "\n",
              "  <style>\n",
              "    .colab-df-container {\n",
              "      display:flex;\n",
              "      gap: 12px;\n",
              "    }\n",
              "\n",
              "    .colab-df-convert {\n",
              "      background-color: #E8F0FE;\n",
              "      border: none;\n",
              "      border-radius: 50%;\n",
              "      cursor: pointer;\n",
              "      display: none;\n",
              "      fill: #1967D2;\n",
              "      height: 32px;\n",
              "      padding: 0 0 0 0;\n",
              "      width: 32px;\n",
              "    }\n",
              "\n",
              "    .colab-df-convert:hover {\n",
              "      background-color: #E2EBFA;\n",
              "      box-shadow: 0px 1px 2px rgba(60, 64, 67, 0.3), 0px 1px 3px 1px rgba(60, 64, 67, 0.15);\n",
              "      fill: #174EA6;\n",
              "    }\n",
              "\n",
              "    .colab-df-buttons div {\n",
              "      margin-bottom: 4px;\n",
              "    }\n",
              "\n",
              "    [theme=dark] .colab-df-convert {\n",
              "      background-color: #3B4455;\n",
              "      fill: #D2E3FC;\n",
              "    }\n",
              "\n",
              "    [theme=dark] .colab-df-convert:hover {\n",
              "      background-color: #434B5C;\n",
              "      box-shadow: 0px 1px 3px 1px rgba(0, 0, 0, 0.15);\n",
              "      filter: drop-shadow(0px 1px 2px rgba(0, 0, 0, 0.3));\n",
              "      fill: #FFFFFF;\n",
              "    }\n",
              "  </style>\n",
              "\n",
              "    <script>\n",
              "      const buttonEl =\n",
              "        document.querySelector('#df-2233f629-7ac1-4065-a13b-807b468f572b button.colab-df-convert');\n",
              "      buttonEl.style.display =\n",
              "        google.colab.kernel.accessAllowed ? 'block' : 'none';\n",
              "\n",
              "      async function convertToInteractive(key) {\n",
              "        const element = document.querySelector('#df-2233f629-7ac1-4065-a13b-807b468f572b');\n",
              "        const dataTable =\n",
              "          await google.colab.kernel.invokeFunction('convertToInteractive',\n",
              "                                                    [key], {});\n",
              "        if (!dataTable) return;\n",
              "\n",
              "        const docLinkHtml = 'Like what you see? Visit the ' +\n",
              "          '<a target=\"_blank\" href=https://colab.research.google.com/notebooks/data_table.ipynb>data table notebook</a>'\n",
              "          + ' to learn more about interactive tables.';\n",
              "        element.innerHTML = '';\n",
              "        dataTable['output_type'] = 'display_data';\n",
              "        await google.colab.output.renderOutput(dataTable, element);\n",
              "        const docLink = document.createElement('div');\n",
              "        docLink.innerHTML = docLinkHtml;\n",
              "        element.appendChild(docLink);\n",
              "      }\n",
              "    </script>\n",
              "  </div>\n",
              "\n",
              "\n",
              "<div id=\"df-34f7adfc-ef4f-4553-91da-e7aee1e4a15f\">\n",
              "  <button class=\"colab-df-quickchart\" onclick=\"quickchart('df-34f7adfc-ef4f-4553-91da-e7aee1e4a15f')\"\n",
              "            title=\"Suggest charts\"\n",
              "            style=\"display:none;\">\n",
              "\n",
              "<svg xmlns=\"http://www.w3.org/2000/svg\" height=\"24px\"viewBox=\"0 0 24 24\"\n",
              "     width=\"24px\">\n",
              "    <g>\n",
              "        <path d=\"M19 3H5c-1.1 0-2 .9-2 2v14c0 1.1.9 2 2 2h14c1.1 0 2-.9 2-2V5c0-1.1-.9-2-2-2zM9 17H7v-7h2v7zm4 0h-2V7h2v10zm4 0h-2v-4h2v4z\"/>\n",
              "    </g>\n",
              "</svg>\n",
              "  </button>\n",
              "\n",
              "<style>\n",
              "  .colab-df-quickchart {\n",
              "      --bg-color: #E8F0FE;\n",
              "      --fill-color: #1967D2;\n",
              "      --hover-bg-color: #E2EBFA;\n",
              "      --hover-fill-color: #174EA6;\n",
              "      --disabled-fill-color: #AAA;\n",
              "      --disabled-bg-color: #DDD;\n",
              "  }\n",
              "\n",
              "  [theme=dark] .colab-df-quickchart {\n",
              "      --bg-color: #3B4455;\n",
              "      --fill-color: #D2E3FC;\n",
              "      --hover-bg-color: #434B5C;\n",
              "      --hover-fill-color: #FFFFFF;\n",
              "      --disabled-bg-color: #3B4455;\n",
              "      --disabled-fill-color: #666;\n",
              "  }\n",
              "\n",
              "  .colab-df-quickchart {\n",
              "    background-color: var(--bg-color);\n",
              "    border: none;\n",
              "    border-radius: 50%;\n",
              "    cursor: pointer;\n",
              "    display: none;\n",
              "    fill: var(--fill-color);\n",
              "    height: 32px;\n",
              "    padding: 0;\n",
              "    width: 32px;\n",
              "  }\n",
              "\n",
              "  .colab-df-quickchart:hover {\n",
              "    background-color: var(--hover-bg-color);\n",
              "    box-shadow: 0 1px 2px rgba(60, 64, 67, 0.3), 0 1px 3px 1px rgba(60, 64, 67, 0.15);\n",
              "    fill: var(--button-hover-fill-color);\n",
              "  }\n",
              "\n",
              "  .colab-df-quickchart-complete:disabled,\n",
              "  .colab-df-quickchart-complete:disabled:hover {\n",
              "    background-color: var(--disabled-bg-color);\n",
              "    fill: var(--disabled-fill-color);\n",
              "    box-shadow: none;\n",
              "  }\n",
              "\n",
              "  .colab-df-spinner {\n",
              "    border: 2px solid var(--fill-color);\n",
              "    border-color: transparent;\n",
              "    border-bottom-color: var(--fill-color);\n",
              "    animation:\n",
              "      spin 1s steps(1) infinite;\n",
              "  }\n",
              "\n",
              "  @keyframes spin {\n",
              "    0% {\n",
              "      border-color: transparent;\n",
              "      border-bottom-color: var(--fill-color);\n",
              "      border-left-color: var(--fill-color);\n",
              "    }\n",
              "    20% {\n",
              "      border-color: transparent;\n",
              "      border-left-color: var(--fill-color);\n",
              "      border-top-color: var(--fill-color);\n",
              "    }\n",
              "    30% {\n",
              "      border-color: transparent;\n",
              "      border-left-color: var(--fill-color);\n",
              "      border-top-color: var(--fill-color);\n",
              "      border-right-color: var(--fill-color);\n",
              "    }\n",
              "    40% {\n",
              "      border-color: transparent;\n",
              "      border-right-color: var(--fill-color);\n",
              "      border-top-color: var(--fill-color);\n",
              "    }\n",
              "    60% {\n",
              "      border-color: transparent;\n",
              "      border-right-color: var(--fill-color);\n",
              "    }\n",
              "    80% {\n",
              "      border-color: transparent;\n",
              "      border-right-color: var(--fill-color);\n",
              "      border-bottom-color: var(--fill-color);\n",
              "    }\n",
              "    90% {\n",
              "      border-color: transparent;\n",
              "      border-bottom-color: var(--fill-color);\n",
              "    }\n",
              "  }\n",
              "</style>\n",
              "\n",
              "  <script>\n",
              "    async function quickchart(key) {\n",
              "      const quickchartButtonEl =\n",
              "        document.querySelector('#' + key + ' button');\n",
              "      quickchartButtonEl.disabled = true;  // To prevent multiple clicks.\n",
              "      quickchartButtonEl.classList.add('colab-df-spinner');\n",
              "      try {\n",
              "        const charts = await google.colab.kernel.invokeFunction(\n",
              "            'suggestCharts', [key], {});\n",
              "      } catch (error) {\n",
              "        console.error('Error during call to suggestCharts:', error);\n",
              "      }\n",
              "      quickchartButtonEl.classList.remove('colab-df-spinner');\n",
              "      quickchartButtonEl.classList.add('colab-df-quickchart-complete');\n",
              "    }\n",
              "    (() => {\n",
              "      let quickchartButtonEl =\n",
              "        document.querySelector('#df-34f7adfc-ef4f-4553-91da-e7aee1e4a15f button');\n",
              "      quickchartButtonEl.style.display =\n",
              "        google.colab.kernel.accessAllowed ? 'block' : 'none';\n",
              "    })();\n",
              "  </script>\n",
              "</div>\n",
              "\n",
              "    </div>\n",
              "  </div>\n"
            ],
            "application/vnd.google.colaboratory.intrinsic+json": {
              "type": "dataframe",
              "variable_name": "df",
              "summary": "{\n  \"name\": \"df\",\n  \"rows\": 13,\n  \"fields\": [\n    {\n      \"column\": \"page_number\",\n      \"properties\": {\n        \"dtype\": \"number\",\n        \"std\": 3,\n        \"min\": 0,\n        \"max\": 12,\n        \"num_unique_values\": 13,\n        \"samples\": [\n          11,\n          9,\n          0\n        ],\n        \"semantic_type\": \"\",\n        \"description\": \"\"\n      }\n    },\n    {\n      \"column\": \"page_char_count\",\n      \"properties\": {\n        \"dtype\": \"number\",\n        \"std\": 523,\n        \"min\": 1606,\n        \"max\": 3228,\n        \"num_unique_values\": 13,\n        \"samples\": [\n          1738,\n          1606,\n          2301\n        ],\n        \"semantic_type\": \"\",\n        \"description\": \"\"\n      }\n    },\n    {\n      \"column\": \"page_word_count\",\n      \"properties\": {\n        \"dtype\": \"number\",\n        \"std\": 113,\n        \"min\": 384,\n        \"max\": 738,\n        \"num_unique_values\": 13,\n        \"samples\": [\n          412,\n          384,\n          501\n        ],\n        \"semantic_type\": \"\",\n        \"description\": \"\"\n      }\n    },\n    {\n      \"column\": \"page_sentence_count_raw\",\n      \"properties\": {\n        \"dtype\": \"number\",\n        \"std\": 2,\n        \"min\": 15,\n        \"max\": 24,\n        \"num_unique_values\": 8,\n        \"samples\": [\n          16,\n          21,\n          17\n        ],\n        \"semantic_type\": \"\",\n        \"description\": \"\"\n      }\n    },\n    {\n      \"column\": \"page_token_count\",\n      \"properties\": {\n        \"dtype\": \"number\",\n        \"std\": 130.79071043425614,\n        \"min\": 401.5,\n        \"max\": 807.0,\n        \"num_unique_values\": 13,\n        \"samples\": [\n          434.5,\n          401.5,\n          575.25\n        ],\n        \"semantic_type\": \"\",\n        \"description\": \"\"\n      }\n    },\n    {\n      \"column\": \"text\",\n      \"properties\": {\n        \"dtype\": \"string\",\n        \"num_unique_values\": 13,\n        \"samples\": [\n          \"nghi\\u1ec7p. Ngo\\u00e0i ra, tr\\u01b0\\u1eddng c\\u00f2n cung c\\u1ea5p c\\u00e1c kh\\u00f3a h\\u1ecdc k\\u1ef9 n\\u0103ng m\\u1ec1m (giao ti\\u1ebfp, l\\u00e0m vi\\u1ec7c  nh\\u00f3m, qu\\u1ea3n l\\u00fd th\\u1eddi gian).  Th\\u1ef1c t\\u1eadp  Th\\u1ef1c t\\u1eadp l\\u00e0 b\\u1eaft bu\\u1ed9c \\u0111\\u1ec3 t\\u1ed1t nghi\\u1ec7p. T\\u1eeb n\\u0103m 3, sinh vi\\u00ean c\\u00f3 c\\u01a1 h\\u1ed9i th\\u1ef1c t\\u1eadp h\\u01b0\\u1edfng l\\u01b0\\u01a1ng  t\\u1ea1i c\\u00e1c doanh nghi\\u1ec7p \\u0111\\u1ed1i t\\u00e1c.  \\u0110i\\u1ec1u ki\\u1ec7n t\\u1ed1t nghi\\u1ec7p  \\u2022  Ho\\u00e0n th\\u00e0nh \\u0111\\u1ee7 s\\u1ed1 t\\u00edn ch\\u1ec9 theo ch\\u01b0\\u01a1ng tr\\u00ecnh.  \\u2022  \\u0110\\u1ea1t chu\\u1ea9n ti\\u1ebfng Anh \\u0111\\u1ea7u ra (IELTS 6.0 ho\\u1eb7c t\\u01b0\\u01a1ng \\u0111\\u01b0\\u01a1ng).  \\u2022  Ho\\u00e0n th\\u00e0nh k\\u1ef3 th\\u1ef1c t\\u1eadp.  Sinh vi\\u00ean kh\\u00f4ng \\u0111\\u1ee7 t\\u00edn ch\\u1ec9 ho\\u1eb7c ch\\u01b0a \\u0111\\u1ea1t chu\\u1ea9n ti\\u1ebfng Anh c\\u00f3 th\\u1ec3 h\\u1ecdc l\\u1ea1i ho\\u1eb7c tham gia l\\u1edbp  b\\u1ed5 tr\\u1ee3.  6. C\\u01a1 h\\u1ed9i vi\\u1ec7c l\\u00e0m v\\u00e0 ch\\u01b0\\u01a1ng tr\\u00ecnh qu\\u1ed1c t\\u1ebf  C\\u01a1 h\\u1ed9i vi\\u1ec7c l\\u00e0m  Tr\\u01b0\\u1eddng c\\u00f3 trung t\\u00e2m h\\u1ed7 tr\\u1ee3 vi\\u1ec7c l\\u00e0m, t\\u1ed5 ch\\u1ee9c ng\\u00e0y h\\u1ed9i vi\\u1ec7c l\\u00e0m v\\u00e0 k\\u1ebft n\\u1ed1i v\\u1edbi doanh  nghi\\u1ec7p, gi\\u00fap sinh vi\\u00ean d\\u1ec5 d\\u00e0ng t\\u00ecm vi\\u1ec7c sau t\\u1ed1t nghi\\u1ec7p. Sinh vi\\u00ean c\\u0169ng \\u0111\\u01b0\\u1ee3c h\\u1ed7 tr\\u1ee3 t\\u01b0 v\\u1ea5n  vi\\u1ec7c l\\u00e0m th\\u00eam \\u0111\\u1ec3 v\\u1eeba h\\u1ecdc v\\u1eeba l\\u00e0m.  Ch\\u01b0\\u01a1ng tr\\u00ecnh li\\u00ean k\\u1ebft qu\\u1ed1c t\\u1ebf  Tr\\u01b0\\u1eddng h\\u1ee3p t\\u00e1c v\\u1edbi c\\u00e1c tr\\u01b0\\u1eddng \\u0111\\u1ea1i h\\u1ecdc qu\\u1ed1c t\\u1ebf, cung c\\u1ea5p:  \\u2022  Ch\\u01b0\\u01a1ng tr\\u00ecnh trao \\u0111\\u1ed5i sinh vi\\u00ean: C\\u01a1 h\\u1ed9i h\\u1ecdc t\\u1eadp ng\\u1eafn h\\u1ea1n \\u1edf n\\u01b0\\u1edbc ngo\\u00e0i.  \\u2022  H\\u1ecdc k\\u1ebft h\\u1ee3p doanh nghi\\u1ec7p: V\\u1eeba h\\u1ecdc l\\u00fd thuy\\u1ebft v\\u1eeba l\\u00e0m vi\\u1ec7c th\\u1ef1c t\\u1ebf.  H\\u1ed7 tr\\u1ee3 kh\\u1edfi nghi\\u1ec7p  Trung t\\u00e2m h\\u1ed7 tr\\u1ee3 kh\\u1edfi nghi\\u1ec7p k\\u1ebft n\\u1ed1i sinh vi\\u00ean v\\u1edbi qu\\u1ef9 \\u0111\\u1ea7u t\\u01b0 v\\u00e0 chuy\\u00ean gia, h\\u1ed7 tr\\u1ee3 ph\\u00e1t  tri\\u1ec3n \\u00fd t\\u01b0\\u1edfng kinh doanh.  7. H\\u1ed7 tr\\u1ee3 sinh vi\\u00ean  K\\u00fd t\\u00fac x\\u00e1  Tr\\u01b0\\u1eddng h\\u1ed7 tr\\u1ee3 t\\u00ecm k\\u00fd t\\u00fac x\\u00e1 ho\\u1eb7c ch\\u1ed7 \\u1edf g\\u1ea7n tr\\u01b0\\u1eddng, \\u01b0u ti\\u00ean sinh vi\\u00ean n\\u0103m nh\\u1ea5t v\\u00e0 ho\\u00e0n  c\\u1ea3nh \\u0111\\u1eb7c bi\\u1ec7t. Vi\\u1ec7c \\u1edf k\\u00fd t\\u00fac x\\u00e1 kh\\u00f4ng b\\u1eaft bu\\u1ed9c, sinh vi\\u00ean c\\u00f3 th\\u1ec3 t\\u1ef1 thu\\u00ea tr\\u1ecd b\\u00ean ngo\\u00e0i.  Ho\\u1ea1t \\u0111\\u1ed9ng ngo\\u1ea1i kh\\u00f3a  Tr\\u01b0\\u1eddng c\\u00f3 nhi\\u1ec1u c\\u00e2u l\\u1ea1c b\\u1ed9 (C\\u00f4ng ngh\\u1ec7, Kinh doanh, Ngh\\u1ec7 thu\\u1eadt, Th\\u1ec3 thao) v\\u00e0 ho\\u1ea1t \\u0111\\u1ed9ng  nh\\u01b0 t\\u00ecnh nguy\\u1ec7n, h\\u1ed9i tr\\u1ea1i, th\\u1ec3 thao. Tham gia l\\u00e0 t\\u1ef1 nguy\\u1ec7n nh\\u01b0ng \\u0111\\u01b0\\u1ee3c khuy\\u1ebfn kh\\u00edch \\u0111\\u1ec3  ph\\u00e1t tri\\u1ec3n k\\u1ef9 n\\u0103ng m\\u1ec1m.  H\\u1ed7 tr\\u1ee3 t\\u00e2m l\\u00fd  D\\u1ecbch v\\u1ee5 t\\u01b0 v\\u1ea5n t\\u00e2m l\\u00fd mi\\u1ec5n ph\\u00ed gi\\u00fap sinh vi\\u00ean gi\\u1ea3i quy\\u1ebft \\u00e1p l\\u1ef1c h\\u1ecdc t\\u1eadp v\\u00e0 v\\u1ea5n \\u0111\\u1ec1 c\\u00e1 nh\\u00e2n.  C\\u01a1 s\\u1edf v\\u1eadt ch\\u1ea5t  \\u2022  Ph\\u00f2ng gym mi\\u1ec5n ph\\u00ed trong gi\\u1edd h\\u00e0nh ch\\u00ednh.\",\n          \"\\u2022  C\\u00e2y ATM c\\u1ee7a c\\u00e1c ng\\u00e2n h\\u00e0ng l\\u1edbn.  \\u2022  Wifi mi\\u1ec5n ph\\u00ed ph\\u1ee7 s\\u00f3ng to\\u00e0n tr\\u01b0\\u1eddng.  Xung quanh tr\\u01b0\\u1eddng c\\u00f3 nhi\\u1ec1u ti\\u1ec7n \\u00edch nh\\u01b0 qu\\u00e1n \\u0103n, si\\u00eau th\\u1ecb, ph\\u00f2ng gym v\\u00e0 nh\\u00e0 tr\\u1ecd, \\u0111\\u00e1p \\u1ee9ng  nhu c\\u1ea7u sinh ho\\u1ea1t h\\u00e0ng ng\\u00e0y c\\u1ee7a sinh vi\\u00ean.  2. Ph\\u01b0\\u01a1ng th\\u1ee9c tuy\\u1ec3n sinh  Tr\\u01b0\\u1eddng \\u0110\\u1ea1i h\\u1ecdc CMC \\u00e1p d\\u1ee5ng nhi\\u1ec1u ph\\u01b0\\u01a1ng th\\u1ee9c tuy\\u1ec3n sinh linh ho\\u1ea1t \\u0111\\u1ec3 ph\\u00f9 h\\u1ee3p v\\u1edbi c\\u00e1c  \\u0111\\u1ed1i t\\u01b0\\u1ee3ng th\\u00ed sinh:  \\u2022  X\\u00e9t tuy\\u1ec3n h\\u1ecdc b\\u1ea1: D\\u1ef1a tr\\u00ean \\u0111i\\u1ec3m trung b\\u00ecnh c\\u00e1c m\\u00f4n theo t\\u1ed5 h\\u1ee3p x\\u00e9t tuy\\u1ec3n, y\\u00eau c\\u1ea7u  t\\u1ed1i thi\\u1ec3u 6.0 tr\\u1edf l\\u00ean (t\\u00f9y ng\\u00e0nh).  \\u2022  X\\u00e9t tuy\\u1ec3n d\\u1ef1a tr\\u00ean \\u0111i\\u1ec3m thi t\\u1ed1t nghi\\u1ec7p THPT: S\\u1eed d\\u1ee5ng k\\u1ebft qu\\u1ea3 k\\u1ef3 thi THPT qu\\u1ed1c  gia.  \\u2022  X\\u00e9t tuy\\u1ec3n th\\u1eb3ng: D\\u00e0nh cho th\\u00ed sinh \\u0111\\u1ea1t gi\\u1ea3i h\\u1ecdc sinh gi\\u1ecfi ho\\u1eb7c c\\u00f3 ch\\u1ee9ng ch\\u1ec9 qu\\u1ed1c t\\u1ebf  (IELTS 6.0+, SAT, ACT, A-Level).  \\u0110i\\u1ec3m x\\u00e9t tuy\\u1ec3n \\u0111\\u01b0\\u1ee3c t\\u00ednh d\\u1ef1a tr\\u00ean t\\u1ed5ng \\u0111i\\u1ec3m 3 m\\u00f4n theo t\\u1ed5 h\\u1ee3p ho\\u1eb7c \\u0111i\\u1ec3m trung b\\u00ecnh h\\u1ecdc  b\\u1ea1, t\\u00f9y ph\\u01b0\\u01a1ng th\\u1ee9c. Tr\\u01b0\\u1eddng kh\\u00f4ng t\\u1ed5 ch\\u1ee9c k\\u1ef3 thi \\u0111\\u1ea7u v\\u00e0o ri\\u00eang, gi\\u00fap gi\\u1ea3m \\u00e1p l\\u1ef1c cho th\\u00ed  sinh.  Th\\u1eddi gian tuy\\u1ec3n sinh  \\u2022  B\\u1eaft \\u0111\\u1ea7u: T\\u1eeb th\\u00e1ng 3 h\\u00e0ng n\\u0103m.  \\u2022  H\\u1ea1n ch\\u00f3t: Th\\u01b0\\u1eddng v\\u00e0o th\\u00e1ng 9, nh\\u01b0ng th\\u00ed sinh n\\u00ean theo d\\u00f5i th\\u00f4ng b\\u00e1o ch\\u00ednh th\\u1ee9c  \\u0111\\u1ec3 c\\u1eadp nh\\u1eadt th\\u1eddi gian c\\u1ee5 th\\u1ec3.  C\\u00e1ch \\u0111\\u0103ng k\\u00fd x\\u00e9t tuy\\u1ec3n  Th\\u00ed sinh c\\u00f3 th\\u1ec3:  \\u2022  \\u0110\\u0103ng k\\u00fd tr\\u1ef1c tuy\\u1ebfn qua website c\\u1ee7a tr\\u01b0\\u1eddng.  \\u2022  N\\u1ed9p h\\u1ed3 s\\u01a1 tr\\u1ef1c ti\\u1ebfp t\\u1ea1i ph\\u00f2ng tuy\\u1ec3n sinh.  H\\u1ed3 s\\u01a1 nh\\u1eadp h\\u1ecdc  H\\u1ed3 s\\u01a1 bao g\\u1ed3m:  \\u2022  B\\u1eb1ng t\\u1ed1t nghi\\u1ec7p THPT (b\\u1ea3n sao c\\u00f4ng ch\\u1ee9ng).  \\u2022  H\\u1ecdc b\\u1ea1 THPT.  \\u2022  Gi\\u1ea5y ch\\u1ee9ng nh\\u1eadn s\\u1ee9c kh\\u1ecfe.  \\u2022  \\u1ea2nh 3x4 (m\\u1edbi ch\\u1ee5p trong v\\u00f2ng 6 th\\u00e1ng).  Th\\u1eddi gian x\\u00e9t duy\\u1ec7t h\\u1ed3 s\\u01a1 th\\u01b0\\u1eddng t\\u1eeb 5-7 ng\\u00e0y l\\u00e0m vi\\u1ec7c, v\\u00e0 k\\u1ebft qu\\u1ea3 s\\u1ebd \\u0111\\u01b0\\u1ee3c th\\u00f4ng b\\u00e1o qua  website, email ho\\u1eb7c SMS.  3. C\\u00e1c ng\\u00e0nh \\u0111\\u00e0o t\\u1ea1o  Tr\\u01b0\\u1eddng \\u0110\\u1ea1i h\\u1ecdc CMC cung c\\u1ea5p nhi\\u1ec1u ng\\u00e0nh h\\u1ecdc h\\u1ea5p d\\u1eabn, \\u0111\\u1eb7c bi\\u1ec7t trong l\\u0129nh v\\u1ef1c c\\u00f4ng ngh\\u1ec7  v\\u00e0 kinh doanh s\\u1ed1. M\\u1ed9t s\\u1ed1 ng\\u00e0nh n\\u1ed5i b\\u1eadt bao g\\u1ed3m:\",\n          \"Th\\u00f4ng Tin Tuy\\u1ec3n Sinh  Tr\\u01b0\\u1eddng \\u0110\\u1ea1i h\\u1ecdc CMC, th\\u00e0nh l\\u1eadp n\\u0103m 2011 v\\u00e0 \\u0111\\u1ed5i t\\u00ean v\\u00e0o n\\u0103m 2022, l\\u00e0 th\\u00e0nh vi\\u00ean c\\u1ee7a T\\u1eadp  \\u0111o\\u00e0n C\\u00f4ng ngh\\u1ec7 CMC, \\u0111\\u1ecbnh h\\u01b0\\u1edbng tr\\u1edf th\\u00e0nh \\u0111\\u1ea1i h\\u1ecdc s\\u1ed1 h\\u00e0ng \\u0111\\u1ea7u ch\\u00e2u \\u00c1 v\\u00e0o n\\u0103m 2033.  N\\u0103m 2025, tr\\u01b0\\u1eddng tuy\\u1ec3n sinh 1510 ch\\u1ec9 ti\\u00eau, t\\u1eadp trung v\\u00e0o c\\u00e1c ng\\u00e0nh nh\\u01b0 C\\u00f4ng ngh\\u1ec7 Th\\u00f4ng  tin, Khoa h\\u1ecdc M\\u00e1y t\\u00ednh, Tr\\u00ed tu\\u1ec7 Nh\\u00e2n t\\u1ea1o, v\\u00e0 Ng\\u00f4n ng\\u1eef.  C\\u00e1c ph\\u01b0\\u01a1ng th\\u1ee9c x\\u00e9t tuy\\u1ec3n bao g\\u1ed3m:  \\u2022  CMC401: D\\u1ef1a tr\\u00ean k\\u1ef3 thi CMC-TEST 2025 (30 c\\u00e2u To\\u00e1n, 30 c\\u00e2u Ti\\u1ebfng Anh, 20 c\\u00e2u  T\\u01b0 duy logic), di\\u1ec5n ra \\u0110\\u1ee3t 1 v\\u00e0o ng\\u00e0y 29/3/2025, \\u0111\\u1ec1 minh h\\u1ecda t\\u1ea1i [\\u0111\\u1ec1 minh h\\u1ecda CMC- TEST]([invalid url, do not cite]de-minh-hoa-ky-thi-danh-gia-nang-luc-truong-dai-hoc- cmc-cmc-test-nam-2025/).  \\u2022  CMC200: X\\u00e9t h\\u1ecdc b\\u1ea1 THPT, kh\\u00f4ng c\\u1ed9ng \\u0111i\\u1ec3m \\u01b0u ti\\u00ean, c\\u00f4ng th\\u1ee9c: Ng\\u00e0nh K\\u1ef9 thu\\u1eadt  (To\\u00e1n\\u00d72 + M\\u00f4n1 + M\\u00f4n2), Ng\\u00e0nh kh\\u00e1c (To\\u00e1n + V\\u0103n + M\\u00f4n1 + M\\u00f4n2).  \\u2022  CMC100: D\\u1ef1a tr\\u00ean k\\u1ebft qu\\u1ea3 thi t\\u1ed1t nghi\\u1ec7p THPT, c\\u00f3 th\\u1ec3 c\\u1ed9ng \\u0111i\\u1ec3m \\u01b0u ti\\u00ean, c\\u00f4ng th\\u1ee9c  t\\u01b0\\u01a1ng t\\u1ef1 CMC200.  \\u2022  CMC303: X\\u00e9t tuy\\u1ec3n th\\u1eb3ng cho th\\u00ed sinh \\u0111\\u1ea1t gi\\u1ea3i h\\u1ecdc sinh gi\\u1ecfi, ch\\u1ee9ng ch\\u1ec9 qu\\u1ed1c t\\u1ebf nh\\u01b0  IELTS 6.0+, SAT, ACT, A-Level, ho\\u1eb7c h\\u1ecdc sinh tr\\u01b0\\u1eddng THPT chuy\\u00ean \\u0111\\u1ea1t lo\\u1ea1i T\\u1ed1t l\\u1edbp  12.  Qu\\u1ef9 h\\u1ecdc b\\u1ed5ng 96 t\\u1ef7 VND n\\u0103m 2025 bao g\\u1ed3m:  \\u2022  CMC Khai Ph\\u00f3ng (100% h\\u1ecdc ph\\u00ed, 30 su\\u1ea5t): Gi\\u1ea3i qu\\u1ed1c t\\u1ebf/qu\\u1ed1c gia, \\u0111i\\u1ec3m THPT  \\u226535/40, IELTS 7.5+.  \\u2022  CMC S\\u00e1ng T\\u1ea1o (70%, 50 su\\u1ea5t): Gi\\u1ea3i t\\u1ec9nh, 6 m\\u00f4n \\u22659.0 (To\\u00e1n b\\u1eaft bu\\u1ed9c), IELTS 7.0+.  \\u2022  CMC Ti\\u00ean Phong (50%, 70 su\\u1ea5t): 6 m\\u00f4n \\u22658.5, \\u0111i\\u1ec3m THPT \\u226533/40, IELTS 6.5+.  \\u2022  CMC Ki\\u1ebfn T\\u1ea1o (30%, 150 su\\u1ea5t): 6 m\\u00f4n \\u22658.0, \\u0111i\\u1ec3m THPT \\u226532/40, IELTS 6.0+.  \\u01afu ti\\u00ean th\\u00ed sinh \\u0111\\u0103ng k\\u00fd s\\u1edbm v\\u00e0 ch\\u1ecdn CMC nguy\\u1ec7n v\\u1ecdng 1. Chi ti\\u1ebft t\\u1ea1i [tuy\\u1ec3n sinh  CMC]([invalid url, do not cite]).    N\\u1ed9i Quy Ch\\u1ebf v\\u00e0 \\u01afu \\u0110\\u00e3i  N\\u1ed9i Quy Ch\\u1ebf: Kh\\u00f4ng t\\u00ecm th\\u1ea5y th\\u00f4ng tin c\\u00f4ng khai, c\\u00f3 th\\u1ec3 n\\u1eb1m trong c\\u1ed5ng n\\u1ed9i b\\u1ed9, c\\u1ea7n li\\u00ean h\\u1ec7  nh\\u00e0 tr\\u01b0\\u1eddng. D\\u1ef1a tr\\u00ean th\\u00f4ng l\\u1ec7, n\\u1ed9i quy th\\u01b0\\u1eddng bao g\\u1ed3m quy \\u0111\\u1ecbnh h\\u1ecdc t\\u1eadp, \\u0111\\u1ea1o \\u0111\\u1ee9c, k\\u1ef7 lu\\u1eadt.  \\u01afu \\u0110\\u00e3i:  \\u2022  Cam k\\u1ebft 100% vi\\u1ec7c l\\u00e0m cho sinh vi\\u00ean ng\\u00e0nh c\\u00f4ng ngh\\u1ec7 h\\u1ecdc h\\u1ec7 song ng\\u1eef, th\\u1ef1c t\\u1eadp  t\\u1ea1i Top 500 doanh nghi\\u1ec7p Vi\\u1ec7t Nam (VNR500) v\\u00e0 \\u0111\\u1ed1i t\\u00e1c qu\\u1ed1c t\\u1ebf, v\\u1edbi tri\\u1ebft l\\u00fd \\u201cTrue  internship \\u2013 Good job\\u201d.  \\u2022  C\\u01a1 s\\u1edf v\\u1eadt ch\\u1ea5t hi\\u1ec7n \\u0111\\u1ea1i: 6 ph\\u00f2ng Lab v\\u1edbi AI, AR/VR, h\\u1ed7 tr\\u1ee3 h\\u1ecdc t\\u1eadp t\\u1eeb n\\u0103m nh\\u1ea5t, h\\u1ec7  th\\u1ed1ng IT ti\\u00ean ti\\u1ebfn nh\\u01b0 nh\\u1eadn di\\u1ec7n khu\\u00f4n m\\u1eb7t, \\u0111o nhi\\u1ec7t \\u0111\\u1ed9 c\\u01a1 th\\u1ec3.  \\u2022  H\\u1ecdc ph\\u00ed c\\u1ed1 \\u0111\\u1ecbnh: C\\u00f4ng ngh\\u1ec7 Th\\u00f4ng tin/Khoa h\\u1ecdc M\\u00e1y t\\u00ednh 18,2 tri\\u1ec7u VND/h\\u1ecdc k\\u1ef3;  Qu\\u1ea3n tr\\u1ecb Kinh doanh 16,8 tri\\u1ec7u VND/h\\u1ecdc k\\u1ef3; Ng\\u00f4n ng\\u1eef H\\u00e0n/Japan 15,4 tri\\u1ec7u VND/h\\u1ecdc  k\\u1ef3 (2022-2023).\"\n        ],\n        \"semantic_type\": \"\",\n        \"description\": \"\"\n      }\n    }\n  ]\n}"
            }
          },
          "metadata": {},
          "execution_count": 90
        }
      ],
      "source": [
        "import pandas as pd\n",
        "\n",
        "df = pd.DataFrame(pages_and_texts) # Frame the Data\n",
        "df.head() # Check few first data"
      ]
    },
    {
      "cell_type": "code",
      "execution_count": null,
      "metadata": {
        "colab": {
          "base_uri": "https://localhost:8080/",
          "height": 564
        },
        "id": "xOBCz6a-4Bbr",
        "outputId": "1019f8ae-f51c-428e-a407-30de0fcd90f5"
      },
      "outputs": [
        {
          "output_type": "display_data",
          "data": {
            "text/plain": [
              "<Figure size 1000x600 with 1 Axes>"
            ],
            "image/png": "[encoded data removed]"
          },
          "metadata": {}
        }
      ],
      "source": [
        "# Token Count by Page Number\n",
        "\n",
        "import matplotlib.pyplot as plt\n",
        "\n",
        "plt.figure(figsize=(10, 6))\n",
        "plt.plot(df['page_number'], df['page_token_count'])\n",
        "plt.xlabel('Page Number')\n",
        "plt.ylabel('Token Count')\n",
        "_ = plt.title('Token Count by Page Number')"
      ]
    },
    {
      "cell_type": "markdown",
      "metadata": {
        "id": "D_VUZQS96FoG"
      },
      "source": []
    },
    {
      "cell_type": "code",
      "execution_count": null,
      "metadata": {
        "colab": {
          "base_uri": "https://localhost:8080/",
          "height": 300
        },
        "id": "vzzLS0Lyqxi4",
        "outputId": "e871d88d-149e-413e-e5a4-2dfa3ce62413"
      },
      "outputs": [
        {
          "output_type": "execute_result",
          "data": {
            "text/plain": [
              "       page_number  page_char_count  page_word_count  page_sentence_count_raw  \\\n",
              "count        13.00            13.00            13.00                    13.00   \n",
              "mean          6.00          2396.23           549.23                    19.08   \n",
              "std           3.89           523.16           113.91                     2.96   \n",
              "min           0.00          1606.00           384.00                    15.00   \n",
              "25%           3.00          1793.00           430.00                    16.00   \n",
              "50%           6.00          2457.00           553.00                    20.00   \n",
              "75%           9.00          2717.00           629.00                    21.00   \n",
              "max          12.00          3228.00           738.00                    24.00   \n",
              "\n",
              "       page_token_count  \n",
              "count             13.00  \n",
              "mean             599.06  \n",
              "std              130.79  \n",
              "min              401.50  \n",
              "25%              448.25  \n",
              "50%              614.25  \n",
              "75%              679.25  \n",
              "max              807.00  "
            ],
            "text/html": [
              "\n",
              "  <div id=\"df-d8bb9ba6-50f9-4028-b327-6dfd3fee90a9\" class=\"colab-df-container\">\n",
              "    <div>\n",
              "<style scoped>\n",
              "    .dataframe tbody tr th:only-of-type {\n",
              "        vertical-align: middle;\n",
              "    }\n",
              "\n",
              "    .dataframe tbody tr th {\n",
              "        vertical-align: top;\n",
              "    }\n",
              "\n",
              "    .dataframe thead th {\n",
              "        text-align: right;\n",
              "    }\n",
              "</style>\n",
              "<table border=\"1\" class=\"dataframe\">\n",
              "  <thead>\n",
              "    <tr style=\"text-align: right;\">\n",
              "      <th></th>\n",
              "      <th>page_number</th>\n",
              "      <th>page_char_count</th>\n",
              "      <th>page_word_count</th>\n",
              "      <th>page_sentence_count_raw</th>\n",
              "      <th>page_token_count</th>\n",
              "    </tr>\n",
              "  </thead>\n",
              "  <tbody>\n",
              "    <tr>\n",
              "      <th>count</th>\n",
              "      <td>13.00</td>\n",
              "      <td>13.00</td>\n",
              "      <td>13.00</td>\n",
              "      <td>13.00</td>\n",
              "      <td>13.00</td>\n",
              "    </tr>\n",
              "    <tr>\n",
              "      <th>mean</th>\n",
              "      <td>6.00</td>\n",
              "      <td>2396.23</td>\n",
              "      <td>549.23</td>\n",
              "      <td>19.08</td>\n",
              "      <td>599.06</td>\n",
              "    </tr>\n",
              "    <tr>\n",
              "      <th>std</th>\n",
              "      <td>3.89</td>\n",
              "      <td>523.16</td>\n",
              "      <td>113.91</td>\n",
              "      <td>2.96</td>\n",
              "      <td>130.79</td>\n",
              "    </tr>\n",
              "    <tr>\n",
              "      <th>min</th>\n",
              "      <td>0.00</td>\n",
              "      <td>1606.00</td>\n",
              "      <td>384.00</td>\n",
              "      <td>15.00</td>\n",
              "      <td>401.50</td>\n",
              "    </tr>\n",
              "    <tr>\n",
              "      <th>25%</th>\n",
              "      <td>3.00</td>\n",
              "      <td>1793.00</td>\n",
              "      <td>430.00</td>\n",
              "      <td>16.00</td>\n",
              "      <td>448.25</td>\n",
              "    </tr>\n",
              "    <tr>\n",
              "      <th>50%</th>\n",
              "      <td>6.00</td>\n",
              "      <td>2457.00</td>\n",
              "      <td>553.00</td>\n",
              "      <td>20.00</td>\n",
              "      <td>614.25</td>\n",
              "    </tr>\n",
              "    <tr>\n",
              "      <th>75%</th>\n",
              "      <td>9.00</td>\n",
              "      <td>2717.00</td>\n",
              "      <td>629.00</td>\n",
              "      <td>21.00</td>\n",
              "      <td>679.25</td>\n",
              "    </tr>\n",
              "    <tr>\n",
              "      <th>max</th>\n",
              "      <td>12.00</td>\n",
              "      <td>3228.00</td>\n",
              "      <td>738.00</td>\n",
              "      <td>24.00</td>\n",
              "      <td>807.00</td>\n",
              "    </tr>\n",
              "  </tbody>\n",
              "</table>\n",
              "</div>\n",
              "    <div class=\"colab-df-buttons\">\n",
              "\n",
              "  <div class=\"colab-df-container\">\n",
              "    <button class=\"colab-df-convert\" onclick=\"convertToInteractive('df-d8bb9ba6-50f9-4028-b327-6dfd3fee90a9')\"\n",
              "            title=\"Convert this dataframe to an interactive table.\"\n",
              "            style=\"display:none;\">\n",
              "\n",
              "  <svg xmlns=\"http://www.w3.org/2000/svg\" height=\"24px\" viewBox=\"0 -960 960 960\">\n",
              "    <path d=\"M120-120v-720h720v720H120Zm60-500h600v-160H180v160Zm220 220h160v-160H400v160Zm0 220h160v-160H400v160ZM180-400h160v-160H180v160Zm440 0h160v-160H620v160ZM180-180h160v-160H180v160Zm440 0h160v-160H620v160Z\"/>\n",
              "  </svg>\n",
              "    </button>\n",
              "\n",
              "  <style>\n",
              "    .colab-df-container {\n",
              "      display:flex;\n",
              "      gap: 12px;\n",
              "    }\n",
              "\n",
              "    .colab-df-convert {\n",
              "      background-color: #E8F0FE;\n",
              "      border: none;\n",
              "      border-radius: 50%;\n",
              "      cursor: pointer;\n",
              "      display: none;\n",
              "      fill: #1967D2;\n",
              "      height: 32px;\n",
              "      padding: 0 0 0 0;\n",
              "      width: 32px;\n",
              "    }\n",
              "\n",
              "    .colab-df-convert:hover {\n",
              "      background-color: #E2EBFA;\n",
              "      box-shadow: 0px 1px 2px rgba(60, 64, 67, 0.3), 0px 1px 3px 1px rgba(60, 64, 67, 0.15);\n",
              "      fill: #174EA6;\n",
              "    }\n",
              "\n",
              "    .colab-df-buttons div {\n",
              "      margin-bottom: 4px;\n",
              "    }\n",
              "\n",
              "    [theme=dark] .colab-df-convert {\n",
              "      background-color: #3B4455;\n",
              "      fill: #D2E3FC;\n",
              "    }\n",
              "\n",
              "    [theme=dark] .colab-df-convert:hover {\n",
              "      background-color: #434B5C;\n",
              "      box-shadow: 0px 1px 3px 1px rgba(0, 0, 0, 0.15);\n",
              "      filter: drop-shadow(0px 1px 2px rgba(0, 0, 0, 0.3));\n",
              "      fill: #FFFFFF;\n",
              "    }\n",
              "  </style>\n",
              "\n",
              "    <script>\n",
              "      const buttonEl =\n",
              "        document.querySelector('#df-d8bb9ba6-50f9-4028-b327-6dfd3fee90a9 button.colab-df-convert');\n",
              "      buttonEl.style.display =\n",
              "        google.colab.kernel.accessAllowed ? 'block' : 'none';\n",
              "\n",
              "      async function convertToInteractive(key) {\n",
              "        const element = document.querySelector('#df-d8bb9ba6-50f9-4028-b327-6dfd3fee90a9');\n",
              "        const dataTable =\n",
              "          await google.colab.kernel.invokeFunction('convertToInteractive',\n",
              "                                                    [key], {});\n",
              "        if (!dataTable) return;\n",
              "\n",
              "        const docLinkHtml = 'Like what you see? Visit the ' +\n",
              "          '<a target=\"_blank\" href=https://colab.research.google.com/notebooks/data_table.ipynb>data table notebook</a>'\n",
              "          + ' to learn more about interactive tables.';\n",
              "        element.innerHTML = '';\n",
              "        dataTable['output_type'] = 'display_data';\n",
              "        await google.colab.output.renderOutput(dataTable, element);\n",
              "        const docLink = document.createElement('div');\n",
              "        docLink.innerHTML = docLinkHtml;\n",
              "        element.appendChild(docLink);\n",
              "      }\n",
              "    </script>\n",
              "  </div>\n",
              "\n",
              "\n",
              "<div id=\"df-6b16a4a9-b801-4b4c-bf03-18feeb650867\">\n",
              "  <button class=\"colab-df-quickchart\" onclick=\"quickchart('df-6b16a4a9-b801-4b4c-bf03-18feeb650867')\"\n",
              "            title=\"Suggest charts\"\n",
              "            style=\"display:none;\">\n",
              "\n",
              "<svg xmlns=\"http://www.w3.org/2000/svg\" height=\"24px\"viewBox=\"0 0 24 24\"\n",
              "     width=\"24px\">\n",
              "    <g>\n",
              "        <path d=\"M19 3H5c-1.1 0-2 .9-2 2v14c0 1.1.9 2 2 2h14c1.1 0 2-.9 2-2V5c0-1.1-.9-2-2-2zM9 17H7v-7h2v7zm4 0h-2V7h2v10zm4 0h-2v-4h2v4z\"/>\n",
              "    </g>\n",
              "</svg>\n",
              "  </button>\n",
              "\n",
              "<style>\n",
              "  .colab-df-quickchart {\n",
              "      --bg-color: #E8F0FE;\n",
              "      --fill-color: #1967D2;\n",
              "      --hover-bg-color: #E2EBFA;\n",
              "      --hover-fill-color: #174EA6;\n",
              "      --disabled-fill-color: #AAA;\n",
              "      --disabled-bg-color: #DDD;\n",
              "  }\n",
              "\n",
              "  [theme=dark] .colab-df-quickchart {\n",
              "      --bg-color: #3B4455;\n",
              "      --fill-color: #D2E3FC;\n",
              "      --hover-bg-color: #434B5C;\n",
              "      --hover-fill-color: #FFFFFF;\n",
              "      --disabled-bg-color: #3B4455;\n",
              "      --disabled-fill-color: #666;\n",
              "  }\n",
              "\n",
              "  .colab-df-quickchart {\n",
              "    background-color: var(--bg-color);\n",
              "    border: none;\n",
              "    border-radius: 50%;\n",
              "    cursor: pointer;\n",
              "    display: none;\n",
              "    fill: var(--fill-color);\n",
              "    height: 32px;\n",
              "    padding: 0;\n",
              "    width: 32px;\n",
              "  }\n",
              "\n",
              "  .colab-df-quickchart:hover {\n",
              "    background-color: var(--hover-bg-color);\n",
              "    box-shadow: 0 1px 2px rgba(60, 64, 67, 0.3), 0 1px 3px 1px rgba(60, 64, 67, 0.15);\n",
              "    fill: var(--button-hover-fill-color);\n",
              "  }\n",
              "\n",
              "  .colab-df-quickchart-complete:disabled,\n",
              "  .colab-df-quickchart-complete:disabled:hover {\n",
              "    background-color: var(--disabled-bg-color);\n",
              "    fill: var(--disabled-fill-color);\n",
              "    box-shadow: none;\n",
              "  }\n",
              "\n",
              "  .colab-df-spinner {\n",
              "    border: 2px solid var(--fill-color);\n",
              "    border-color: transparent;\n",
              "    border-bottom-color: var(--fill-color);\n",
              "    animation:\n",
              "      spin 1s steps(1) infinite;\n",
              "  }\n",
              "\n",
              "  @keyframes spin {\n",
              "    0% {\n",
              "      border-color: transparent;\n",
              "      border-bottom-color: var(--fill-color);\n",
              "      border-left-color: var(--fill-color);\n",
              "    }\n",
              "    20% {\n",
              "      border-color: transparent;\n",
              "      border-left-color: var(--fill-color);\n",
              "      border-top-color: var(--fill-color);\n",
              "    }\n",
              "    30% {\n",
              "      border-color: transparent;\n",
              "      border-left-color: var(--fill-color);\n",
              "      border-top-color: var(--fill-color);\n",
              "      border-right-color: var(--fill-color);\n",
              "    }\n",
              "    40% {\n",
              "      border-color: transparent;\n",
              "      border-right-color: var(--fill-color);\n",
              "      border-top-color: var(--fill-color);\n",
              "    }\n",
              "    60% {\n",
              "      border-color: transparent;\n",
              "      border-right-color: var(--fill-color);\n",
              "    }\n",
              "    80% {\n",
              "      border-color: transparent;\n",
              "      border-right-color: var(--fill-color);\n",
              "      border-bottom-color: var(--fill-color);\n",
              "    }\n",
              "    90% {\n",
              "      border-color: transparent;\n",
              "      border-bottom-color: var(--fill-color);\n",
              "    }\n",
              "  }\n",
              "</style>\n",
              "\n",
              "  <script>\n",
              "    async function quickchart(key) {\n",
              "      const quickchartButtonEl =\n",
              "        document.querySelector('#' + key + ' button');\n",
              "      quickchartButtonEl.disabled = true;  // To prevent multiple clicks.\n",
              "      quickchartButtonEl.classList.add('colab-df-spinner');\n",
              "      try {\n",
              "        const charts = await google.colab.kernel.invokeFunction(\n",
              "            'suggestCharts', [key], {});\n",
              "      } catch (error) {\n",
              "        console.error('Error during call to suggestCharts:', error);\n",
              "      }\n",
              "      quickchartButtonEl.classList.remove('colab-df-spinner');\n",
              "      quickchartButtonEl.classList.add('colab-df-quickchart-complete');\n",
              "    }\n",
              "    (() => {\n",
              "      let quickchartButtonEl =\n",
              "        document.querySelector('#df-6b16a4a9-b801-4b4c-bf03-18feeb650867 button');\n",
              "      quickchartButtonEl.style.display =\n",
              "        google.colab.kernel.accessAllowed ? 'block' : 'none';\n",
              "    })();\n",
              "  </script>\n",
              "</div>\n",
              "\n",
              "    </div>\n",
              "  </div>\n"
            ],
            "application/vnd.google.colaboratory.intrinsic+json": {
              "type": "dataframe",
              "summary": "{\n  \"name\": \"df\",\n  \"rows\": 8,\n  \"fields\": [\n    {\n      \"column\": \"page_number\",\n      \"properties\": {\n        \"dtype\": \"number\",\n        \"std\": 4.479526242488468,\n        \"min\": 0.0,\n        \"max\": 13.0,\n        \"num_unique_values\": 7,\n        \"samples\": [\n          13.0,\n          6.0,\n          9.0\n        ],\n        \"semantic_type\": \"\",\n        \"description\": \"\"\n      }\n    },\n    {\n      \"column\": \"page_char_count\",\n      \"properties\": {\n        \"dtype\": \"number\",\n        \"std\": 1102.8983237029538,\n        \"min\": 13.0,\n        \"max\": 3228.0,\n        \"num_unique_values\": 8,\n        \"samples\": [\n          2396.23,\n          2457.0,\n          13.0\n        ],\n        \"semantic_type\": \"\",\n        \"description\": \"\"\n      }\n    },\n    {\n      \"column\": \"page_word_count\",\n      \"properties\": {\n        \"dtype\": \"number\",\n        \"std\": 250.603907320468,\n        \"min\": 13.0,\n        \"max\": 738.0,\n        \"num_unique_values\": 8,\n        \"samples\": [\n          549.23,\n          553.0,\n          13.0\n        ],\n        \"semantic_type\": \"\",\n        \"description\": \"\"\n      }\n    },\n    {\n      \"column\": \"page_sentence_count_raw\",\n      \"properties\": {\n        \"dtype\": \"number\",\n        \"std\": 6.473824217570322,\n        \"min\": 2.96,\n        \"max\": 24.0,\n        \"num_unique_values\": 8,\n        \"samples\": [\n          19.08,\n          20.0,\n          13.0\n        ],\n        \"semantic_type\": \"\",\n        \"description\": \"\"\n      }\n    },\n    {\n      \"column\": \"page_token_count\",\n      \"properties\": {\n        \"dtype\": \"number\",\n        \"std\": 273.42729353522844,\n        \"min\": 13.0,\n        \"max\": 807.0,\n        \"num_unique_values\": 8,\n        \"samples\": [\n          599.06,\n          614.25,\n          13.0\n        ],\n        \"semantic_type\": \"\",\n        \"description\": \"\"\n      }\n    }\n  ]\n}"
            }
          },
          "metadata": {},
          "execution_count": 92
        }
      ],
      "source": [
        "# Get stats\n",
        "df.describe().round(2)"
      ]
    },
    {
      "cell_type": "markdown",
      "metadata": {
        "id": "G_W1l7Xh6aRk"
      },
      "source": [
        "**Mô tả trên cho chúng ta biết:** thông tin về số trang, ký tự, từ, số token từng trang trên tổng số trang là 13.\n",
        "\n",
        "+ count: Số lượng trang không phải giá trị null trong mỗi cột\n",
        "+ mean: Giá trị trung bình (mean) của mỗi cột.\n",
        "+ std: Độ lệch chuẩn, đo lường lượng biến thiên hoặc độ phân tán.\n",
        "+ min: Giá trị nhỏ nhất trong mỗi cột.\n",
        "+ 25%: 25% trên tổng (còn được gọi là tứ phân vị thứ nhất), biểu thị rằng 25% điểm dữ liệu nhỏ hơn hoặc bằng giá trị này.\n",
        "+ 50%: 50% trên tổng (còn được gọi là trung vị), biểu thị rằng 50% điểm dữ liệu nhỏ hơn hoặc bằng giá trị này.\n",
        "+ 75%: 75% trên tổng (còn được gọi là tứ phân vị thứ ba), biểu thị rằng 75% điểm dữ liệu nhỏ hơn hoặc bằng giá trị này.\n",
        "+ max: Giá trị lớn nhất trong từng cột."
      ]
    },
    {
      "cell_type": "markdown",
      "metadata": {
        "id": "upha2FyRM_fs"
      },
      "source": [
        "Tải thư viện từ điển Tiếng Việt bằng spacy để có thể phân biệt các từ trong văn bản."
      ]
    },
    {
      "cell_type": "code",
      "execution_count": null,
      "metadata": {
        "colab": {
          "base_uri": "https://localhost:8080/"
        },
        "collapsed": true,
        "id": "cbs-Aobr0IKn",
        "outputId": "ef74ae87-c4e7-4226-aa73-5743ec62478d"
      },
      "outputs": [
        {
          "output_type": "stream",
          "name": "stdout",
          "text": [
            "Requirement already satisfied: pyvi in /usr/local/lib/python3.11/dist-packages (0.1.1)\n",
            "Requirement already satisfied: scikit-learn in /usr/local/lib/python3.11/dist-packages (from pyvi) (1.6.1)\n",
            "Requirement already satisfied: sklearn-crfsuite in /usr/local/lib/python3.11/dist-packages (from pyvi) (0.5.0)\n",
            "Requirement already satisfied: numpy>=1.19.5 in /usr/local/lib/python3.11/dist-packages (from scikit-learn->pyvi) (1.26.4)\n",
            "Requirement already satisfied: scipy>=1.6.0 in /usr/local/lib/python3.11/dist-packages (from scikit-learn->pyvi) (1.13.1)\n",
            "Requirement already satisfied: joblib>=1.2.0 in /usr/local/lib/python3.11/dist-packages (from scikit-learn->pyvi) (1.4.2)\n",
            "Requirement already satisfied: threadpoolctl>=3.1.0 in /usr/local/lib/python3.11/dist-packages (from scikit-learn->pyvi) (3.5.0)\n",
            "Requirement already satisfied: python-crfsuite>=0.9.7 in /usr/local/lib/python3.11/dist-packages (from sklearn-crfsuite->pyvi) (0.9.11)\n",
            "Requirement already satisfied: tabulate>=0.4.2 in /usr/local/lib/python3.11/dist-packages (from sklearn-crfsuite->pyvi) (0.9.0)\n",
            "Requirement already satisfied: tqdm>=2.0 in /usr/local/lib/python3.11/dist-packages (from sklearn-crfsuite->pyvi) (4.67.1)\n"
          ]
        }
      ],
      "source": [
        "!pip install pyvi"
      ]
    },
    {
      "cell_type": "code",
      "execution_count": null,
      "metadata": {
        "colab": {
          "base_uri": "https://localhost:8080/"
        },
        "id": "MmPLPKUa-8IL",
        "outputId": "867904dc-4505-4381-99e7-ea78a3410741"
      },
      "outputs": [
        {
          "output_type": "stream",
          "name": "stdout",
          "text": [
            "Collecting https://gitlab.com/trungtv/vi_spacy/-/raw/master/packages/vi_core_news_lg-3.6.0/dist/vi_core_news_lg-3.6.0.tar.gz\n",
            "  Using cached https://gitlab.com/trungtv/vi_spacy/-/raw/master/packages/vi_core_news_lg-3.6.0/dist/vi_core_news_lg-3.6.0.tar.gz (233.3 MB)\n",
            "  Preparing metadata (setup.py) ... \u001b[?25l\u001b[?25hdone\n",
            "Requirement already satisfied: spacy<3.7.0,>=3.6.0 in /usr/local/lib/python3.11/dist-packages (from vi_core_news_lg==3.6.0) (3.6.1)\n",
            "Requirement already satisfied: spacy-legacy<3.1.0,>=3.0.11 in /usr/local/lib/python3.11/dist-packages (from spacy<3.7.0,>=3.6.0->vi_core_news_lg==3.6.0) (3.0.12)\n",
            "Requirement already satisfied: spacy-loggers<2.0.0,>=1.0.0 in /usr/local/lib/python3.11/dist-packages (from spacy<3.7.0,>=3.6.0->vi_core_news_lg==3.6.0) (1.0.5)\n",
            "Requirement already satisfied: murmurhash<1.1.0,>=0.28.0 in /usr/local/lib/python3.11/dist-packages (from spacy<3.7.0,>=3.6.0->vi_core_news_lg==3.6.0) (1.0.12)\n",
            "Requirement already satisfied: cymem<2.1.0,>=2.0.2 in /usr/local/lib/python3.11/dist-packages (from spacy<3.7.0,>=3.6.0->vi_core_news_lg==3.6.0) (2.0.11)\n",
            "Requirement already satisfied: preshed<3.1.0,>=3.0.2 in /usr/local/lib/python3.11/dist-packages (from spacy<3.7.0,>=3.6.0->vi_core_news_lg==3.6.0) (3.0.9)\n",
            "Requirement already satisfied: thinc<8.2.0,>=8.1.8 in /usr/local/lib/python3.11/dist-packages (from spacy<3.7.0,>=3.6.0->vi_core_news_lg==3.6.0) (8.1.12)\n",
            "Requirement already satisfied: wasabi<1.2.0,>=0.9.1 in /usr/local/lib/python3.11/dist-packages (from spacy<3.7.0,>=3.6.0->vi_core_news_lg==3.6.0) (1.1.3)\n",
            "Requirement already satisfied: srsly<3.0.0,>=2.4.3 in /usr/local/lib/python3.11/dist-packages (from spacy<3.7.0,>=3.6.0->vi_core_news_lg==3.6.0) (2.5.1)\n",
            "Requirement already satisfied: catalogue<2.1.0,>=2.0.6 in /usr/local/lib/python3.11/dist-packages (from spacy<3.7.0,>=3.6.0->vi_core_news_lg==3.6.0) (2.0.10)\n",
            "Collecting typer<0.10.0,>=0.3.0 (from spacy<3.7.0,>=3.6.0->vi_core_news_lg==3.6.0)\n",
            "  Using cached typer-0.9.4-py3-none-any.whl.metadata (14 kB)\n",
            "Requirement already satisfied: pathy>=0.10.0 in /usr/local/lib/python3.11/dist-packages (from spacy<3.7.0,>=3.6.0->vi_core_news_lg==3.6.0) (0.11.0)\n",
            "Requirement already satisfied: smart-open<7.0.0,>=5.2.1 in /usr/local/lib/python3.11/dist-packages (from spacy<3.7.0,>=3.6.0->vi_core_news_lg==3.6.0) (6.4.0)\n",
            "Requirement already satisfied: tqdm<5.0.0,>=4.38.0 in /usr/local/lib/python3.11/dist-packages (from spacy<3.7.0,>=3.6.0->vi_core_news_lg==3.6.0) (4.67.1)\n",
            "Requirement already satisfied: numpy>=1.15.0 in /usr/local/lib/python3.11/dist-packages (from spacy<3.7.0,>=3.6.0->vi_core_news_lg==3.6.0) (1.26.4)\n",
            "Requirement already satisfied: requests<3.0.0,>=2.13.0 in /usr/local/lib/python3.11/dist-packages (from spacy<3.7.0,>=3.6.0->vi_core_news_lg==3.6.0) (2.32.3)\n",
            "Requirement already satisfied: pydantic!=1.8,!=1.8.1,<3.0.0,>=1.7.4 in /usr/local/lib/python3.11/dist-packages (from spacy<3.7.0,>=3.6.0->vi_core_news_lg==3.6.0) (2.10.6)\n",
            "Requirement already satisfied: jinja2 in /usr/local/lib/python3.11/dist-packages (from spacy<3.7.0,>=3.6.0->vi_core_news_lg==3.6.0) (3.1.5)\n",
            "Requirement already satisfied: setuptools in /usr/local/lib/python3.11/dist-packages (from spacy<3.7.0,>=3.6.0->vi_core_news_lg==3.6.0) (75.1.0)\n",
            "Requirement already satisfied: packaging>=20.0 in /usr/local/lib/python3.11/dist-packages (from spacy<3.7.0,>=3.6.0->vi_core_news_lg==3.6.0) (24.2)\n",
            "Requirement already satisfied: langcodes<4.0.0,>=3.2.0 in /usr/local/lib/python3.11/dist-packages (from spacy<3.7.0,>=3.6.0->vi_core_news_lg==3.6.0) (3.5.0)\n",
            "Requirement already satisfied: language-data>=1.2 in /usr/local/lib/python3.11/dist-packages (from langcodes<4.0.0,>=3.2.0->spacy<3.7.0,>=3.6.0->vi_core_news_lg==3.6.0) (1.3.0)\n",
            "Requirement already satisfied: pathlib-abc==0.1.1 in /usr/local/lib/python3.11/dist-packages (from pathy>=0.10.0->spacy<3.7.0,>=3.6.0->vi_core_news_lg==3.6.0) (0.1.1)\n",
            "Requirement already satisfied: annotated-types>=0.6.0 in /usr/local/lib/python3.11/dist-packages (from pydantic!=1.8,!=1.8.1,<3.0.0,>=1.7.4->spacy<3.7.0,>=3.6.0->vi_core_news_lg==3.6.0) (0.7.0)\n",
            "Requirement already satisfied: pydantic-core==2.27.2 in /usr/local/lib/python3.11/dist-packages (from pydantic!=1.8,!=1.8.1,<3.0.0,>=1.7.4->spacy<3.7.0,>=3.6.0->vi_core_news_lg==3.6.0) (2.27.2)\n",
            "Requirement already satisfied: typing-extensions>=4.12.2 in /usr/local/lib/python3.11/dist-packages (from pydantic!=1.8,!=1.8.1,<3.0.0,>=1.7.4->spacy<3.7.0,>=3.6.0->vi_core_news_lg==3.6.0) (4.12.2)\n",
            "Requirement already satisfied: charset-normalizer<4,>=2 in /usr/local/lib/python3.11/dist-packages (from requests<3.0.0,>=2.13.0->spacy<3.7.0,>=3.6.0->vi_core_news_lg==3.6.0) (3.4.1)\n",
            "Requirement already satisfied: idna<4,>=2.5 in /usr/local/lib/python3.11/dist-packages (from requests<3.0.0,>=2.13.0->spacy<3.7.0,>=3.6.0->vi_core_news_lg==3.6.0) (3.10)\n",
            "Requirement already satisfied: urllib3<3,>=1.21.1 in /usr/local/lib/python3.11/dist-packages (from requests<3.0.0,>=2.13.0->spacy<3.7.0,>=3.6.0->vi_core_news_lg==3.6.0) (2.3.0)\n",
            "Requirement already satisfied: certifi>=2017.4.17 in /usr/local/lib/python3.11/dist-packages (from requests<3.0.0,>=2.13.0->spacy<3.7.0,>=3.6.0->vi_core_news_lg==3.6.0) (2025.1.31)\n",
            "Requirement already satisfied: blis<0.8.0,>=0.7.8 in /usr/local/lib/python3.11/dist-packages (from thinc<8.2.0,>=8.1.8->spacy<3.7.0,>=3.6.0->vi_core_news_lg==3.6.0) (0.7.11)\n",
            "Requirement already satisfied: confection<1.0.0,>=0.0.1 in /usr/local/lib/python3.11/dist-packages (from thinc<8.2.0,>=8.1.8->spacy<3.7.0,>=3.6.0->vi_core_news_lg==3.6.0) (0.1.5)\n",
            "Requirement already satisfied: click<9.0.0,>=7.1.1 in /usr/local/lib/python3.11/dist-packages (from typer<0.10.0,>=0.3.0->spacy<3.7.0,>=3.6.0->vi_core_news_lg==3.6.0) (8.1.8)\n",
            "Requirement already satisfied: MarkupSafe>=2.0 in /usr/local/lib/python3.11/dist-packages (from jinja2->spacy<3.7.0,>=3.6.0->vi_core_news_lg==3.6.0) (3.0.2)\n",
            "Requirement already satisfied: marisa-trie>=1.1.0 in /usr/local/lib/python3.11/dist-packages (from language-data>=1.2->langcodes<4.0.0,>=3.2.0->spacy<3.7.0,>=3.6.0->vi_core_news_lg==3.6.0) (1.2.1)\n",
            "Using cached typer-0.9.4-py3-none-any.whl (45 kB)\n",
            "Installing collected packages: typer\n",
            "  Attempting uninstall: typer\n",
            "    Found existing installation: typer 0.15.2\n",
            "    Uninstalling typer-0.15.2:\n",
            "      Successfully uninstalled typer-0.15.2\n",
            "\u001b[31mERROR: pip's dependency resolver does not currently take into account all the packages that are installed. This behaviour is the source of the following dependency conflicts.\n",
            "gradio 5.23.3 requires typer<1.0,>=0.12; sys_platform != \"emscripten\", but you have typer 0.9.4 which is incompatible.\n",
            "fastai 2.7.18 requires torch<2.6,>=1.10, but you have torch 2.6.0 which is incompatible.\n",
            "en-core-web-sm 3.7.1 requires spacy<3.8.0,>=3.7.2, but you have spacy 3.6.1 which is incompatible.\u001b[0m\u001b[31m\n",
            "\u001b[0mSuccessfully installed typer-0.9.4\n"
          ]
        }
      ],
      "source": [
        "!pip install https://gitlab.com/trungtv/vi_spacy/-/raw/master/packages/vi_core_news_lg-3.6.0/dist/vi_core_news_lg-3.6.0.tar.gz"
      ]
    },
    {
      "cell_type": "code",
      "execution_count": null,
      "metadata": {
        "colab": {
          "base_uri": "https://localhost:8080/"
        },
        "id": "BI_ajN40ETnw",
        "outputId": "e8e349e7-f0a2-4ce0-b96c-f766950967fc"
      },
      "outputs": [
        {
          "output_type": "stream",
          "name": "stdout",
          "text": [
            "Found existing installation: numpy 1.26.4\n",
            "Uninstalling numpy-1.26.4:\n",
            "  Would remove:\n",
            "    /usr/local/bin/f2py\n",
            "    /usr/local/lib/python3.11/dist-packages/numpy-1.26.4.dist-info/*\n",
            "    /usr/local/lib/python3.11/dist-packages/numpy.libs/libgfortran-040039e1.so.5.0.0\n",
            "    /usr/local/lib/python3.11/dist-packages/numpy.libs/libopenblas64_p-r0-0cf96a72.3.23.dev.so\n",
            "    /usr/local/lib/python3.11/dist-packages/numpy.libs/libquadmath-96973f99.so.0.0.0\n",
            "    /usr/local/lib/python3.11/dist-packages/numpy/*\n",
            "Proceed (Y/n)? y\n",
            "  Successfully uninstalled numpy-1.26.4\n",
            "Collecting numpy==1.26.4\n",
            "  Using cached numpy-1.26.4-cp311-cp311-manylinux_2_17_x86_64.manylinux2014_x86_64.whl.metadata (61 kB)\n",
            "Using cached numpy-1.26.4-cp311-cp311-manylinux_2_17_x86_64.manylinux2014_x86_64.whl (18.3 MB)\n",
            "Installing collected packages: numpy\n",
            "\u001b[31mERROR: pip's dependency resolver does not currently take into account all the packages that are installed. This behaviour is the source of the following dependency conflicts.\n",
            "gradio 5.23.3 requires typer<1.0,>=0.12; sys_platform != \"emscripten\", but you have typer 0.9.4 which is incompatible.\n",
            "fastai 2.7.18 requires torch<2.6,>=1.10, but you have torch 2.6.0 which is incompatible.\n",
            "en-core-web-sm 3.7.1 requires spacy<3.8.0,>=3.7.2, but you have spacy 3.6.1 which is incompatible.\u001b[0m\u001b[31m\n",
            "\u001b[0mSuccessfully installed numpy-1.26.4\n"
          ]
        }
      ],
      "source": [
        "#phiên bản numpy phù hợp\n",
        "!pip uninstall numpy\n",
        "!pip install numpy==1.26.4\n"
      ]
    },
    {
      "cell_type": "markdown",
      "metadata": {
        "id": "aCkrMc_SFLNA"
      },
      "source": [
        "### Xử lý văn bản (Chia các trang thành các câu)\n",
        "\n",
        "Trong phần , mình sẽ phá từng văn bản thành các, trung bình 1 trang có thể chia thành 5, 7 hoặc 10 câu.\n",
        "Chúng ta thực hiện các bước sau:\n",
        "\n",
        "`Nhận văn bản -> Chia thành các nhóm/chunks -> nhúng các nhóm/chunks -> dùng để nhúng`\n",
        "\n",
        "Có 2 cách để chia văn bản thành các câu:\n",
        "1. Dùng `text = .split(\"\")` của python\n",
        "2. Dùng thư viện spaCy hoặc nltk.\n",
        "\n",
        "Vì sao phải chia thành các ?\n",
        "+ Để xử lý nhanh gọn các văn bản lớn chứa nhiều ký tự.\n",
        "+ Để có thể truy xuất từng nhóm các câu hiệu quả trong RAG pipeline."
      ]
    },
    {
      "cell_type": "code",
      "execution_count": null,
      "metadata": {
        "colab": {
          "base_uri": "https://localhost:8080/"
        },
        "id": "KjbBxj44qyxo",
        "outputId": "f18b035c-b237-40e2-bc29-c0be1cd446f6"
      },
      "outputs": [
        {
          "output_type": "stream",
          "name": "stdout",
          "text": [
            "Sentence 1: Đây là một câu.\n",
            "Sentence 2: Đây là một câu khác\n"
          ]
        }
      ],
      "source": [
        "import spacy\n",
        "\n",
        "# Assuming a valid Vietnamese model is installed (e.g., a custom one if vi_core_news_lg isn't real)\n",
        "nlp = spacy.load('vi_core_news_lg')  # Replace with a real model if needed\n",
        "\n",
        "# Add the sentencizer pipeline\n",
        "nlp.add_pipe(\"sentencizer\")\n",
        "\n",
        "# Preprocess the text by adding a space after the comma\n",
        "text = \"Đây là một câu.Đây là một câu khác\"  # Added space\n",
        "doc = nlp(text)\n",
        "\n",
        "# Check the number of sentences\n",
        "sentences = list(doc.sents)\n",
        "assert len(sentences) == 2, f\"Expected 2 sentences, got {len(sentences)}\"\n",
        "\n",
        "# Print the sentences\n",
        "for i, sent in enumerate(sentences):\n",
        "    print(f\"Sentence {i+1}: {sent.text}\")"
      ]
    },
    {
      "cell_type": "code",
      "execution_count": null,
      "metadata": {
        "colab": {
          "base_uri": "https://localhost:8080/",
          "height": 49,
          "referenced_widgets": [
            "61e1b42a71d94366aa36bf5bb381f7b8",
            "993625139eaf4599b587d89cf394dcc9",
            "8cd1e96d56ff4391b9c3259d627c6bf7",
            "7a84b86219dd4a03bbdc077153004618",
            "b68f07f897524ba5b71dda306be3f6d9",
            "0897f0d065064a34bb600bd570557f84",
            "e537ac3d19ea44d296147c758c74e3c4",
            "573d76043259402c9c07b2b9d0a352c7",
            "8f51782f4c354e09a55c3c61fbe17e0e",
            "a30870bb0a8148a491843a502e876613",
            "15bede1c712941d788543934dcb43884"
          ]
        },
        "id": "eLq8kLzRqz-O",
        "outputId": "e4fd6914-e185-4af9-d1ab-bd307c32c029"
      },
      "outputs": [
        {
          "output_type": "display_data",
          "data": {
            "text/plain": [
              "  0%|          | 0/13 [00:00<?, ?it/s]"
            ],
            "application/vnd.jupyter.widget-view+json": {
              "version_major": 2,
              "version_minor": 0,
              "model_id": "61e1b42a71d94366aa36bf5bb381f7b8"
            }
          },
          "metadata": {}
        }
      ],
      "source": [
        "for item in tqdm(pages_and_texts): # tqlm to display loop as progress bar\n",
        "    item[\"sentences\"] = list(nlp(item[\"text\"]).sents) # text into \"sentences\"\n",
        "\n",
        "    # Make sure all sentences are strings\n",
        "    item[\"sentences\"] = [str(sentence) for sentence in item[\"sentences\"]] # convert sentence to string\n",
        "\n",
        "    # Count the sentences\n",
        "    item[\"page_sentence_count_spacy\"] = len(item[\"sentences\"])\n"
      ]
    },
    {
      "cell_type": "code",
      "execution_count": null,
      "metadata": {
        "colab": {
          "base_uri": "https://localhost:8080/"
        },
        "id": "U9Gff_TRIYtU",
        "outputId": "1c66d681-c488-41e2-eebb-47185da9a097"
      },
      "outputs": [
        {
          "output_type": "stream",
          "name": "stdout",
          "text": [
            "['Nội Quy Chế', ': Không tìm thấy thông tin công khai, có thể nằm trong cổng nội bộ, cần liên hệ  nhà trường.', 'Dựa trên thông lệ, nội quy thường bao gồm quy định học tập, đạo đức, kỷ luật.', ' Ưu Đãi:  •  Cam kết 100% việc làm cho sinh viên ngành công nghệ học hệ song ngữ, thực tập  tại Top 500 doanh nghiệp Việt Nam (VNR500) và đối tác quốc tế, với triết lý “True  internship – Good job”.', ' •  Cơ sở vật chất hiện đại: 6 phòng Lab với AI, AR/VR, hỗ trợ học tập từ năm nhất, hệ  thống IT tiên tiến như nhận diện khuôn mặt, đo nhiệt độ cơ thể.', ' •  Học phí cố định: Công nghệ Thông tin/Khoa học Máy tính 18,2 triệu VND/học kỳ;  Quản trị Kinh doanh 16,8 triệu VND/học kỳ; Ngôn ngữ Hàn/Japan 15,4 triệu VND/học  kỳ (2022-2023).', ' •  Hỗ trợ học tiếng Anh miễn phí đạt chuẩn CEFR B2, cơ hội thực tập quốc tế tại Nhật  Bản, Hàn Quốc, Hoa Kỳ.', '     Báo Cáo Chi Tiết: Thông Tin Tuyển Sinh, Nội Quy Chế và Ưu Đãi Cho Sinh Viên  Trường Đại học CMC  Trường Đại học CMC, thành lập vào năm 2011 với tên ban đầu là Trường Đại học Mỹ thuật  Công nghiệp Á Châu, chính thức đổi tên thành Trường Đại học CMC theo Quyết định số  895/QĐ-TTg của Thủ tướng Chính phủ ngày 26/7/2022.', 'Là thành viên thuộc Khối Nghiên  cứu và Giáo dục của Tập đoàn Công nghệ CMC, trường định hướng trở thành đại học công  nghệ và đổi mới sáng tạo, với sứ mệnh đào tạo nguồn nhân lực chất lượng cao phục vụ  chuyển đổi số và kinh tế số.', 'Đến năm 2033, trường đặt mục tiêu trở thành đại học số hàng  đầu châu Á, tập trung vào các ngành như Khoa học Máy tính, Trí tuệ Nhân tạo (AI), Công  nghệ Thông tin, và Quản trị Kinh doanh số.', 'Trụ sở chính tại Số 11 Duy Tân, Dịch Vọng Hậu,  Cầu Giấy, Hà Nội, cùng các cơ sở khác tại Hà Đông và Nam Từ Liêm, trường cam kết 100%  sinh viên ngành công nghệ học hệ song ngữ có việc làm sau tốt nghiệp tại Tập đoàn CMC,  Samsung và các đối tác quốc tế.', ' I.', 'Thông Tin Tuyển Sinh  Năm 2025, Trường Đại học CMC thông báo tuyển sinh với tổng chỉ tiêu 1510, tập trung vào  các ngành như Công nghệ Thông tin, Khoa học Máy tính, Trí tuệ Nhân tạo, Kỹ thuật Phần  mềm, và Ngôn ngữ (Hàn Quốc, Nhật Bản, Trung Quốc).', 'Đây là một con số đáng chú ý, phản  ánh quy mô tuyển sinh của trường trong bối cảnh nhu cầu nhân lực công nghệ cao ngày  càng tăng.', ' Các phương thức xét tuyển được thiết kế đa dạng để phù hợp với nhiều đối tượng thí sinh,  bao gồm:  Phương  Thức  Chi Tiết  CMC401  Xét tuyển dựa vào kết quả kỳ thi Đánh giá năng lực CMC-TEST 2025, gồm 30  câu Toán, 30 câu Tiếng Anh, và 20 câu Tư duy logic.', 'Kỳ thi này đã diễn ra Đợt 1  vào ngày 29/3/2025, với đề minh họa công khai tại [đề minh họa CMC-']\n"
          ]
        }
      ],
      "source": [
        "print(pages_and_texts[4][\"sentences\"])"
      ]
    },
    {
      "cell_type": "code",
      "execution_count": null,
      "metadata": {
        "colab": {
          "base_uri": "https://localhost:8080/"
        },
        "id": "weCsSd0Bq0wi",
        "outputId": "b5fbb6e9-0382-4aaa-d981-0eccceff9d32"
      },
      "outputs": [
        {
          "output_type": "execute_result",
          "data": {
            "text/plain": [
              "[{'page_number': 9,\n",
              "  'page_char_count': 1606,\n",
              "  'page_word_count': 384,\n",
              "  'page_sentence_count_raw': 21,\n",
              "  'page_token_count': 401.5,\n",
              "  'text': '•  Cây ATM của các ngân hàng lớn.  •  Wifi miễn phí phủ sóng toàn trường.  Xung quanh trường có nhiều tiện ích như quán ăn, siêu thị, phòng gym và nhà trọ, đáp ứng  nhu cầu sinh hoạt hàng ngày của sinh viên.  2. Phương thức tuyển sinh  Trường Đại học CMC áp dụng nhiều phương thức tuyển sinh linh hoạt để phù hợp với các  đối tượng thí sinh:  •  Xét tuyển học bạ: Dựa trên điểm trung bình các môn theo tổ hợp xét tuyển, yêu cầu  tối thiểu 6.0 trở lên (tùy ngành).  •  Xét tuyển dựa trên điểm thi tốt nghiệp THPT: Sử dụng kết quả kỳ thi THPT quốc  gia.  •  Xét tuyển thẳng: Dành cho thí sinh đạt giải học sinh giỏi hoặc có chứng chỉ quốc tế  (IELTS 6.0+, SAT, ACT, A-Level).  Điểm xét tuyển được tính dựa trên tổng điểm 3 môn theo tổ hợp hoặc điểm trung bình học  bạ, tùy phương thức. Trường không tổ chức kỳ thi đầu vào riêng, giúp giảm áp lực cho thí  sinh.  Thời gian tuyển sinh  •  Bắt đầu: Từ tháng 3 hàng năm.  •  Hạn chót: Thường vào tháng 9, nhưng thí sinh nên theo dõi thông báo chính thức  để cập nhật thời gian cụ thể.  Cách đăng ký xét tuyển  Thí sinh có thể:  •  Đăng ký trực tuyến qua website của trường.  •  Nộp hồ sơ trực tiếp tại phòng tuyển sinh.  Hồ sơ nhập học  Hồ sơ bao gồm:  •  Bằng tốt nghiệp THPT (bản sao công chứng).  •  Học bạ THPT.  •  Giấy chứng nhận sức khỏe.  •  Ảnh 3x4 (mới chụp trong vòng 6 tháng).  Thời gian xét duyệt hồ sơ thường từ 5-7 ngày làm việc, và kết quả sẽ được thông báo qua  website, email hoặc SMS.  3. Các ngành đào tạo  Trường Đại học CMC cung cấp nhiều ngành học hấp dẫn, đặc biệt trong lĩnh vực công nghệ  và kinh doanh số. Một số ngành nổi bật bao gồm:',\n",
              "  'sentences': ['•  Cây ATM của các ngân hàng lớn.',\n",
              "   ' •  Wifi miễn phí phủ sóng toàn trường.',\n",
              "   ' Xung quanh trường có nhiều tiện ích như quán ăn, siêu thị, phòng gym và nhà trọ, đáp ứng  nhu cầu sinh hoạt hàng ngày của sinh viên.',\n",
              "   ' 2.',\n",
              "   'Phương thức tuyển sinh  Trường Đại học CMC áp dụng nhiều phương thức tuyển sinh linh hoạt để phù hợp với các  đối tượng thí sinh:  •  Xét tuyển học bạ: Dựa trên điểm trung bình các môn theo tổ hợp xét tuyển, yêu cầu  tối thiểu 6.0 trở lên (tùy ngành).',\n",
              "   ' •  Xét tuyển dựa trên điểm thi tốt nghiệp THPT: Sử dụng kết quả kỳ thi THPT quốc  gia.',\n",
              "   ' •  Xét tuyển thẳng: Dành cho thí sinh đạt giải học sinh giỏi hoặc có chứng chỉ quốc tế  (IELTS 6.0+, SAT, ACT, A-Level).',\n",
              "   ' Điểm xét tuyển được tính dựa trên tổng điểm 3 môn theo tổ hợp hoặc điểm trung bình học  bạ, tùy phương thức.',\n",
              "   'Trường không tổ chức kỳ thi đầu vào riêng, giúp giảm áp lực cho thí  sinh.',\n",
              "   ' Thời gian tuyển sinh  •  Bắt đầu: Từ tháng 3 hàng năm.',\n",
              "   ' •  Hạn chót: Thường vào tháng 9, nhưng thí sinh nên theo dõi thông báo chính thức  để cập nhật thời gian cụ thể.',\n",
              "   ' Cách đăng ký xét tuyển  Thí sinh có thể:  •  Đăng ký trực tuyến qua website của trường.',\n",
              "   ' •  Nộp hồ sơ trực tiếp tại phòng tuyển sinh.',\n",
              "   ' Hồ sơ nhập học  Hồ sơ bao gồm:  •  Bằng tốt nghiệp THPT (bản sao công chứng).',\n",
              "   ' •  Học bạ THPT.',\n",
              "   ' •  Giấy chứng nhận sức khỏe.',\n",
              "   ' •  Ảnh 3x4 (mới chụp trong vòng 6 tháng).',\n",
              "   ' Thời gian xét duyệt hồ sơ thường từ 5-7 ngày làm việc, và kết quả sẽ được thông báo qua  website, email hoặc SMS.  3.',\n",
              "   'Các ngành đào tạo  Trường Đại học CMC cung cấp nhiều ngành học hấp dẫn, đặc biệt trong lĩnh vực công nghệ  và kinh doanh số.',\n",
              "   'Một số ngành nổi bật bao gồm:'],\n",
              "  'page_sentence_count_spacy': 20}]"
            ]
          },
          "metadata": {},
          "execution_count": 96
        }
      ],
      "source": [
        "# Inspect an example\n",
        "random.sample(pages_and_texts, k=1) # chọn random 1 trang"
      ]
    },
    {
      "cell_type": "markdown",
      "metadata": {
        "id": "jjeCNK3C9a_-"
      },
      "source": [
        "Mô tả trang vừa lấy được cho mình hiểu được độ phức tạp của 1 trang pdf và để giải quyết sự phức đó chúng ta có thể dùng chunking"
      ]
    },
    {
      "cell_type": "code",
      "execution_count": null,
      "metadata": {
        "colab": {
          "base_uri": "https://localhost:8080/",
          "height": 300
        },
        "id": "d2eXdanNq13j",
        "outputId": "1075f65a-572e-4521-afb0-273e35777fee"
      },
      "outputs": [
        {
          "output_type": "execute_result",
          "data": {
            "text/plain": [
              "       page_number  page_char_count  page_word_count  page_sentence_count_raw  \\\n",
              "count        13.00            13.00            13.00                    13.00   \n",
              "mean          6.00          2396.23           549.23                    19.08   \n",
              "std           3.89           523.16           113.91                     2.96   \n",
              "min           0.00          1606.00           384.00                    15.00   \n",
              "25%           3.00          1793.00           430.00                    16.00   \n",
              "50%           6.00          2457.00           553.00                    20.00   \n",
              "75%           9.00          2717.00           629.00                    21.00   \n",
              "max          12.00          3228.00           738.00                    24.00   \n",
              "\n",
              "       page_token_count  page_sentence_count_spacy  \n",
              "count             13.00                      13.00  \n",
              "mean             599.06                      19.38  \n",
              "std              130.79                       3.04  \n",
              "min              401.50                      14.00  \n",
              "25%              448.25                      16.00  \n",
              "50%              614.25                      20.00  \n",
              "75%              679.25                      22.00  \n",
              "max              807.00                      23.00  "
            ],
            "text/html": [
              "\n",
              "  <div id=\"df-92964c00-0ecf-4aed-8690-886d40db192b\" class=\"colab-df-container\">\n",
              "    <div>\n",
              "<style scoped>\n",
              "    .dataframe tbody tr th:only-of-type {\n",
              "        vertical-align: middle;\n",
              "    }\n",
              "\n",
              "    .dataframe tbody tr th {\n",
              "        vertical-align: top;\n",
              "    }\n",
              "\n",
              "    .dataframe thead th {\n",
              "        text-align: right;\n",
              "    }\n",
              "</style>\n",
              "<table border=\"1\" class=\"dataframe\">\n",
              "  <thead>\n",
              "    <tr style=\"text-align: right;\">\n",
              "      <th></th>\n",
              "      <th>page_number</th>\n",
              "      <th>page_char_count</th>\n",
              "      <th>page_word_count</th>\n",
              "      <th>page_sentence_count_raw</th>\n",
              "      <th>page_token_count</th>\n",
              "      <th>page_sentence_count_spacy</th>\n",
              "    </tr>\n",
              "  </thead>\n",
              "  <tbody>\n",
              "    <tr>\n",
              "      <th>count</th>\n",
              "      <td>13.00</td>\n",
              "      <td>13.00</td>\n",
              "      <td>13.00</td>\n",
              "      <td>13.00</td>\n",
              "      <td>13.00</td>\n",
              "      <td>13.00</td>\n",
              "    </tr>\n",
              "    <tr>\n",
              "      <th>mean</th>\n",
              "      <td>6.00</td>\n",
              "      <td>2396.23</td>\n",
              "      <td>549.23</td>\n",
              "      <td>19.08</td>\n",
              "      <td>599.06</td>\n",
              "      <td>19.38</td>\n",
              "    </tr>\n",
              "    <tr>\n",
              "      <th>std</th>\n",
              "      <td>3.89</td>\n",
              "      <td>523.16</td>\n",
              "      <td>113.91</td>\n",
              "      <td>2.96</td>\n",
              "      <td>130.79</td>\n",
              "      <td>3.04</td>\n",
              "    </tr>\n",
              "    <tr>\n",
              "      <th>min</th>\n",
              "      <td>0.00</td>\n",
              "      <td>1606.00</td>\n",
              "      <td>384.00</td>\n",
              "      <td>15.00</td>\n",
              "      <td>401.50</td>\n",
              "      <td>14.00</td>\n",
              "    </tr>\n",
              "    <tr>\n",
              "      <th>25%</th>\n",
              "      <td>3.00</td>\n",
              "      <td>1793.00</td>\n",
              "      <td>430.00</td>\n",
              "      <td>16.00</td>\n",
              "      <td>448.25</td>\n",
              "      <td>16.00</td>\n",
              "    </tr>\n",
              "    <tr>\n",
              "      <th>50%</th>\n",
              "      <td>6.00</td>\n",
              "      <td>2457.00</td>\n",
              "      <td>553.00</td>\n",
              "      <td>20.00</td>\n",
              "      <td>614.25</td>\n",
              "      <td>20.00</td>\n",
              "    </tr>\n",
              "    <tr>\n",
              "      <th>75%</th>\n",
              "      <td>9.00</td>\n",
              "      <td>2717.00</td>\n",
              "      <td>629.00</td>\n",
              "      <td>21.00</td>\n",
              "      <td>679.25</td>\n",
              "      <td>22.00</td>\n",
              "    </tr>\n",
              "    <tr>\n",
              "      <th>max</th>\n",
              "      <td>12.00</td>\n",
              "      <td>3228.00</td>\n",
              "      <td>738.00</td>\n",
              "      <td>24.00</td>\n",
              "      <td>807.00</td>\n",
              "      <td>23.00</td>\n",
              "    </tr>\n",
              "  </tbody>\n",
              "</table>\n",
              "</div>\n",
              "    <div class=\"colab-df-buttons\">\n",
              "\n",
              "  <div class=\"colab-df-container\">\n",
              "    <button class=\"colab-df-convert\" onclick=\"convertToInteractive('df-92964c00-0ecf-4aed-8690-886d40db192b')\"\n",
              "            title=\"Convert this dataframe to an interactive table.\"\n",
              "            style=\"display:none;\">\n",
              "\n",
              "  <svg xmlns=\"http://www.w3.org/2000/svg\" height=\"24px\" viewBox=\"0 -960 960 960\">\n",
              "    <path d=\"M120-120v-720h720v720H120Zm60-500h600v-160H180v160Zm220 220h160v-160H400v160Zm0 220h160v-160H400v160ZM180-400h160v-160H180v160Zm440 0h160v-160H620v160ZM180-180h160v-160H180v160Zm440 0h160v-160H620v160Z\"/>\n",
              "  </svg>\n",
              "    </button>\n",
              "\n",
              "  <style>\n",
              "    .colab-df-container {\n",
              "      display:flex;\n",
              "      gap: 12px;\n",
              "    }\n",
              "\n",
              "    .colab-df-convert {\n",
              "      background-color: #E8F0FE;\n",
              "      border: none;\n",
              "      border-radius: 50%;\n",
              "      cursor: pointer;\n",
              "      display: none;\n",
              "      fill: #1967D2;\n",
              "      height: 32px;\n",
              "      padding: 0 0 0 0;\n",
              "      width: 32px;\n",
              "    }\n",
              "\n",
              "    .colab-df-convert:hover {\n",
              "      background-color: #E2EBFA;\n",
              "      box-shadow: 0px 1px 2px rgba(60, 64, 67, 0.3), 0px 1px 3px 1px rgba(60, 64, 67, 0.15);\n",
              "      fill: #174EA6;\n",
              "    }\n",
              "\n",
              "    .colab-df-buttons div {\n",
              "      margin-bottom: 4px;\n",
              "    }\n",
              "\n",
              "    [theme=dark] .colab-df-convert {\n",
              "      background-color: #3B4455;\n",
              "      fill: #D2E3FC;\n",
              "    }\n",
              "\n",
              "    [theme=dark] .colab-df-convert:hover {\n",
              "      background-color: #434B5C;\n",
              "      box-shadow: 0px 1px 3px 1px rgba(0, 0, 0, 0.15);\n",
              "      filter: drop-shadow(0px 1px 2px rgba(0, 0, 0, 0.3));\n",
              "      fill: #FFFFFF;\n",
              "    }\n",
              "  </style>\n",
              "\n",
              "    <script>\n",
              "      const buttonEl =\n",
              "        document.querySelector('#df-92964c00-0ecf-4aed-8690-886d40db192b button.colab-df-convert');\n",
              "      buttonEl.style.display =\n",
              "        google.colab.kernel.accessAllowed ? 'block' : 'none';\n",
              "\n",
              "      async function convertToInteractive(key) {\n",
              "        const element = document.querySelector('#df-92964c00-0ecf-4aed-8690-886d40db192b');\n",
              "        const dataTable =\n",
              "          await google.colab.kernel.invokeFunction('convertToInteractive',\n",
              "                                                    [key], {});\n",
              "        if (!dataTable) return;\n",
              "\n",
              "        const docLinkHtml = 'Like what you see? Visit the ' +\n",
              "          '<a target=\"_blank\" href=https://colab.research.google.com/notebooks/data_table.ipynb>data table notebook</a>'\n",
              "          + ' to learn more about interactive tables.';\n",
              "        element.innerHTML = '';\n",
              "        dataTable['output_type'] = 'display_data';\n",
              "        await google.colab.output.renderOutput(dataTable, element);\n",
              "        const docLink = document.createElement('div');\n",
              "        docLink.innerHTML = docLinkHtml;\n",
              "        element.appendChild(docLink);\n",
              "      }\n",
              "    </script>\n",
              "  </div>\n",
              "\n",
              "\n",
              "<div id=\"df-5e789c8f-17de-411f-90eb-ae9e03b6cd63\">\n",
              "  <button class=\"colab-df-quickchart\" onclick=\"quickchart('df-5e789c8f-17de-411f-90eb-ae9e03b6cd63')\"\n",
              "            title=\"Suggest charts\"\n",
              "            style=\"display:none;\">\n",
              "\n",
              "<svg xmlns=\"http://www.w3.org/2000/svg\" height=\"24px\"viewBox=\"0 0 24 24\"\n",
              "     width=\"24px\">\n",
              "    <g>\n",
              "        <path d=\"M19 3H5c-1.1 0-2 .9-2 2v14c0 1.1.9 2 2 2h14c1.1 0 2-.9 2-2V5c0-1.1-.9-2-2-2zM9 17H7v-7h2v7zm4 0h-2V7h2v10zm4 0h-2v-4h2v4z\"/>\n",
              "    </g>\n",
              "</svg>\n",
              "  </button>\n",
              "\n",
              "<style>\n",
              "  .colab-df-quickchart {\n",
              "      --bg-color: #E8F0FE;\n",
              "      --fill-color: #1967D2;\n",
              "      --hover-bg-color: #E2EBFA;\n",
              "      --hover-fill-color: #174EA6;\n",
              "      --disabled-fill-color: #AAA;\n",
              "      --disabled-bg-color: #DDD;\n",
              "  }\n",
              "\n",
              "  [theme=dark] .colab-df-quickchart {\n",
              "      --bg-color: #3B4455;\n",
              "      --fill-color: #D2E3FC;\n",
              "      --hover-bg-color: #434B5C;\n",
              "      --hover-fill-color: #FFFFFF;\n",
              "      --disabled-bg-color: #3B4455;\n",
              "      --disabled-fill-color: #666;\n",
              "  }\n",
              "\n",
              "  .colab-df-quickchart {\n",
              "    background-color: var(--bg-color);\n",
              "    border: none;\n",
              "    border-radius: 50%;\n",
              "    cursor: pointer;\n",
              "    display: none;\n",
              "    fill: var(--fill-color);\n",
              "    height: 32px;\n",
              "    padding: 0;\n",
              "    width: 32px;\n",
              "  }\n",
              "\n",
              "  .colab-df-quickchart:hover {\n",
              "    background-color: var(--hover-bg-color);\n",
              "    box-shadow: 0 1px 2px rgba(60, 64, 67, 0.3), 0 1px 3px 1px rgba(60, 64, 67, 0.15);\n",
              "    fill: var(--button-hover-fill-color);\n",
              "  }\n",
              "\n",
              "  .colab-df-quickchart-complete:disabled,\n",
              "  .colab-df-quickchart-complete:disabled:hover {\n",
              "    background-color: var(--disabled-bg-color);\n",
              "    fill: var(--disabled-fill-color);\n",
              "    box-shadow: none;\n",
              "  }\n",
              "\n",
              "  .colab-df-spinner {\n",
              "    border: 2px solid var(--fill-color);\n",
              "    border-color: transparent;\n",
              "    border-bottom-color: var(--fill-color);\n",
              "    animation:\n",
              "      spin 1s steps(1) infinite;\n",
              "  }\n",
              "\n",
              "  @keyframes spin {\n",
              "    0% {\n",
              "      border-color: transparent;\n",
              "      border-bottom-color: var(--fill-color);\n",
              "      border-left-color: var(--fill-color);\n",
              "    }\n",
              "    20% {\n",
              "      border-color: transparent;\n",
              "      border-left-color: var(--fill-color);\n",
              "      border-top-color: var(--fill-color);\n",
              "    }\n",
              "    30% {\n",
              "      border-color: transparent;\n",
              "      border-left-color: var(--fill-color);\n",
              "      border-top-color: var(--fill-color);\n",
              "      border-right-color: var(--fill-color);\n",
              "    }\n",
              "    40% {\n",
              "      border-color: transparent;\n",
              "      border-right-color: var(--fill-color);\n",
              "      border-top-color: var(--fill-color);\n",
              "    }\n",
              "    60% {\n",
              "      border-color: transparent;\n",
              "      border-right-color: var(--fill-color);\n",
              "    }\n",
              "    80% {\n",
              "      border-color: transparent;\n",
              "      border-right-color: var(--fill-color);\n",
              "      border-bottom-color: var(--fill-color);\n",
              "    }\n",
              "    90% {\n",
              "      border-color: transparent;\n",
              "      border-bottom-color: var(--fill-color);\n",
              "    }\n",
              "  }\n",
              "</style>\n",
              "\n",
              "  <script>\n",
              "    async function quickchart(key) {\n",
              "      const quickchartButtonEl =\n",
              "        document.querySelector('#' + key + ' button');\n",
              "      quickchartButtonEl.disabled = true;  // To prevent multiple clicks.\n",
              "      quickchartButtonEl.classList.add('colab-df-spinner');\n",
              "      try {\n",
              "        const charts = await google.colab.kernel.invokeFunction(\n",
              "            'suggestCharts', [key], {});\n",
              "      } catch (error) {\n",
              "        console.error('Error during call to suggestCharts:', error);\n",
              "      }\n",
              "      quickchartButtonEl.classList.remove('colab-df-spinner');\n",
              "      quickchartButtonEl.classList.add('colab-df-quickchart-complete');\n",
              "    }\n",
              "    (() => {\n",
              "      let quickchartButtonEl =\n",
              "        document.querySelector('#df-5e789c8f-17de-411f-90eb-ae9e03b6cd63 button');\n",
              "      quickchartButtonEl.style.display =\n",
              "        google.colab.kernel.accessAllowed ? 'block' : 'none';\n",
              "    })();\n",
              "  </script>\n",
              "</div>\n",
              "\n",
              "    </div>\n",
              "  </div>\n"
            ],
            "application/vnd.google.colaboratory.intrinsic+json": {
              "type": "dataframe",
              "summary": "{\n  \"name\": \"df\",\n  \"rows\": 8,\n  \"fields\": [\n    {\n      \"column\": \"page_number\",\n      \"properties\": {\n        \"dtype\": \"number\",\n        \"std\": 4.479526242488468,\n        \"min\": 0.0,\n        \"max\": 13.0,\n        \"num_unique_values\": 7,\n        \"samples\": [\n          13.0,\n          6.0,\n          9.0\n        ],\n        \"semantic_type\": \"\",\n        \"description\": \"\"\n      }\n    },\n    {\n      \"column\": \"page_char_count\",\n      \"properties\": {\n        \"dtype\": \"number\",\n        \"std\": 1102.8983237029538,\n        \"min\": 13.0,\n        \"max\": 3228.0,\n        \"num_unique_values\": 8,\n        \"samples\": [\n          2396.23,\n          2457.0,\n          13.0\n        ],\n        \"semantic_type\": \"\",\n        \"description\": \"\"\n      }\n    },\n    {\n      \"column\": \"page_word_count\",\n      \"properties\": {\n        \"dtype\": \"number\",\n        \"std\": 250.603907320468,\n        \"min\": 13.0,\n        \"max\": 738.0,\n        \"num_unique_values\": 8,\n        \"samples\": [\n          549.23,\n          553.0,\n          13.0\n        ],\n        \"semantic_type\": \"\",\n        \"description\": \"\"\n      }\n    },\n    {\n      \"column\": \"page_sentence_count_raw\",\n      \"properties\": {\n        \"dtype\": \"number\",\n        \"std\": 6.473824217570322,\n        \"min\": 2.96,\n        \"max\": 24.0,\n        \"num_unique_values\": 8,\n        \"samples\": [\n          19.08,\n          20.0,\n          13.0\n        ],\n        \"semantic_type\": \"\",\n        \"description\": \"\"\n      }\n    },\n    {\n      \"column\": \"page_token_count\",\n      \"properties\": {\n        \"dtype\": \"number\",\n        \"std\": 273.42729353522844,\n        \"min\": 13.0,\n        \"max\": 807.0,\n        \"num_unique_values\": 8,\n        \"samples\": [\n          599.06,\n          614.25,\n          13.0\n        ],\n        \"semantic_type\": \"\",\n        \"description\": \"\"\n      }\n    },\n    {\n      \"column\": \"page_sentence_count_spacy\",\n      \"properties\": {\n        \"dtype\": \"number\",\n        \"std\": 6.465887962442371,\n        \"min\": 3.04,\n        \"max\": 23.0,\n        \"num_unique_values\": 8,\n        \"samples\": [\n          19.38,\n          20.0,\n          13.0\n        ],\n        \"semantic_type\": \"\",\n        \"description\": \"\"\n      }\n    }\n  ]\n}"
            }
          },
          "metadata": {},
          "execution_count": 97
        }
      ],
      "source": [
        "df = pd.DataFrame(pages_and_texts)\n",
        "df.describe().round(2)"
      ]
    },
    {
      "cell_type": "markdown",
      "metadata": {
        "id": "CY5C8cBkXzq4"
      },
      "source": [
        "Thư viện spaCy chia từng câu bởi các dấu cách (vd: \",\" và \".\")\n",
        "\n",
        "Chúng ta đã chia thành câu văn bản thành các câu, tiếp theo ta sẽ gộp các câu đó lại thành các cụm/."
      ]
    },
    {
      "cell_type": "markdown",
      "metadata": {
        "id": "bylwnjawyzyZ"
      },
      "source": [
        "### Chia nhỏ các câu (Chunking)\n",
        "\n",
        "Vì sao:\n",
        "* Để dễ dàng quản lý các đoạn văn bản có kích thước tương tự.\n",
        "* Không làm quá tải mô hình nhúng với các tokens   (note: nếu mô hình có khả năng nhận 384 tokens, mình có thể sẽ mất 1 số thông tin nếu cố nhúng 1 chuỗi hơn 400 tokens)\n",
        "* Cửa sổ ngữ cảnh (Context windown - số lượng token LLM có thể nhận) có thể bị giới hạn và yêu cầu sức mạnh tính toán lớn hơn nên chúng ta muốn đảm bảo sự ổn định của mô hình.\n",
        "\n"
      ]
    },
    {
      "cell_type": "code",
      "execution_count": null,
      "metadata": {
        "colab": {
          "base_uri": "https://localhost:8080/",
          "height": 49,
          "referenced_widgets": [
            "bdf40db160af4540aa7fa4d00958c7e9",
            "154df5349d2240eeb6a7fc413a85f069",
            "a322731022f844669b21b5d469722420",
            "a24999d7016a47529053278adf3e764f",
            "897758086f30425b8a6083a7a9c6dab9",
            "e9eb42c55ad9424ab636044cefc26095",
            "8998f15c7802439cb8bd0dab609afb72",
            "d9610ef8fdf04ad9a16973d44aa1e029",
            "75dd74503780476aaac3c864a453b5fd",
            "6d5b4a260a9f4bcb9c01e21833ac9607",
            "a3accd0aa94b4ca7afa2344929fe8fca"
          ]
        },
        "id": "oF0KrW0qq24f",
        "outputId": "0d9a94ff-7665-48dc-8ed7-7b14b3e273e8"
      },
      "outputs": [
        {
          "output_type": "display_data",
          "data": {
            "text/plain": [
              "  0%|          | 0/13 [00:00<?, ?it/s]"
            ],
            "application/vnd.jupyter.widget-view+json": {
              "version_major": 2,
              "version_minor": 0,
              "model_id": "bdf40db160af4540aa7fa4d00958c7e9"
            }
          },
          "metadata": {}
        }
      ],
      "source": [
        "# Define split size to turn groups of sentences into chunks\n",
        "num_sentence_chunk_size = 8\n",
        "\n",
        "def split_list(input_list: list, slice_size: int) -> list[list[str]]:\n",
        "    \"\"\"\n",
        "    Splits the input_list into sublists of size slice_size (or as close as possible).\n",
        "\n",
        "    Parameters:\n",
        "    - input_list: The list to be split into chunks.\n",
        "    - slice_size: The number of items in each chunk.\n",
        "\n",
        "    Returns:\n",
        "    - A list of sublists, where each sublist contains up to slice_size elements.\n",
        "\n",
        "    Example:\n",
        "    A list of 17 sentences with a slice_size of 8 would be split into:\n",
        "    [[sentence1, ..., sentence8], [sentence9, ..., sentence16], [sentence17]]\n",
        "    \"\"\"\n",
        "    # Create a list of sublists, each with a maximum of slice_size elements\n",
        "    return [\n",
        "        # Summarize: For all sentences in a page, every 8 senteces -> slice 8 sentence as a chunks.\n",
        "\n",
        "        # Create a chunk from the current start_index to start_index + slice_size\n",
        "        input_list[start_index : start_index + slice_size] # ex: 0: 0+8, 8: 8+8, 24: 24 + 8\n",
        "\n",
        "        # Iterate over the input list with step size equal to slice_size\n",
        "        for start_index in range(0, len(input_list), slice_size) # ex: for 1 in range(start: 0, end: 9, step: 8)\n",
        "    ]\n",
        "\n",
        "# Loop through each page and its associated text data\n",
        "for item in tqdm(pages_and_texts):\n",
        "    # Split the sentences on the current page into chunks\n",
        "    item[\"sentence_chunks\"] = split_list(\n",
        "        input_list=item[\"sentences\"], # sentence of a page\n",
        "        slice_size=num_sentence_chunk_size # chunk size\n",
        "    )\n",
        "\n",
        "    # Store the number of chunks created\n",
        "    item[\"num_chunks\"] = len(item[\"sentence_chunks\"])"
      ]
    },
    {
      "cell_type": "code",
      "execution_count": null,
      "metadata": {
        "colab": {
          "base_uri": "https://localhost:8080/",
          "height": 127
        },
        "id": "lJuvqlrOfLx3",
        "outputId": "82c764e7-a66b-4c5c-bdf9-694e407e2222"
      },
      "outputs": [
        {
          "output_type": "execute_result",
          "data": {
            "text/plain": [
              "'•  Phòng máy tính và thư viện mở cửa miễn phí.  •  Giáo trình điện tử miễn phí, sinh viên có thể mua bản in nếu cần.  Hỗ trợ đặc biệt  Sinh viên khuyết tật được hỗ trợ về cơ sở vật chất, học phí và phương pháp học tập phù  hợp.  8. Quy trình và thủ tục  •  Tra cứu kết quả xét tuyển: Qua website, email hoặc SMS.  •  Đăng ký tín chỉ: Trước kỳ học mới 2-3 tuần qua hệ thống sinh viên.  •  Học lại/cải thiện điểm: Đăng ký môn bị trượt hoặc muốn nâng điểm vào kỳ tiếp  theo.  •  Chuyển ngành: Nộp đơn tại phòng đào tạo, xét duyệt dựa trên điểm số và chỉ tiêu.  •  Bảo lưu học tập: Tối đa 2 năm, cần nộp đơn và lý do hợp lệ.  •  Hoàn học phí: Có chính sách hoàn theo giai đoạn nếu nghỉ học, liên hệ phòng tài  chính.  •  Giấy xác nhận sinh viên: Xin tại phòng đào tạo hoặc trực tuyến.  •  Nhập học: Thường khai giảng vào tháng 9, theo thông báo chính thức.  9. Các câu hỏi thường gặp khác  •  Tham quan trường: Liên hệ phòng tuyển sinh để đặt lịch hoặc tham gia Open Day.  •  Học quân sự: Bắt buộc, tổ chức tập trung theo lịch trường.  •  Lễ tốt nghiệp: Tổ chức trang trọng hàng năm với sự tham gia của gia đình và giảng  viên.  •  Đồng phục: Không bắt buộc, nhưng yêu cầu trang phục lịch sự.  •  Sĩ số lớp: Từ 30-50 sinh viên, đảm bảo chất lượng giảng dạy.  10. Kết luận  Trường Đại học CMC là lựa chọn lý tưởng cho những ai muốn phát triển trong lĩnh vực công  nghệ và kinh doanh số. Với chương trình đào tạo thực tiễn, cơ sở vật chất hiện đại, chính  sách học bổng hấp dẫn và nhiều cơ hội việc làm, trường không chỉ cung cấp kiến thức mà  còn tạo điều kiện để sinh viên phát triển toàn diện. Nếu bạn quan tâm, hãy liên hệ phòng  tuyển sinh qua hotline, email hoặc đến trực tiếp tại 84C Nguyễn Thanh Bình, Hà Đông, Hà  Nội để được tư vấn chi tiết và bắt đầu hành trình chinh phục tương lai!'"
            ],
            "application/vnd.google.colaboratory.intrinsic+json": {
              "type": "string"
            }
          },
          "metadata": {},
          "execution_count": 99
        }
      ],
      "source": [
        "pages_and_texts[12]['text']"
      ]
    },
    {
      "cell_type": "code",
      "execution_count": null,
      "metadata": {
        "colab": {
          "base_uri": "https://localhost:8080/"
        },
        "collapsed": true,
        "id": "OUKHR-f8q4U4",
        "outputId": "e9092d67-40b1-4c9a-e278-868b6707f836"
      },
      "outputs": [
        {
          "output_type": "execute_result",
          "data": {
            "text/plain": [
              "[{'page_number': 10,\n",
              "  'page_char_count': 1793,\n",
              "  'page_word_count': 430,\n",
              "  'page_sentence_count_raw': 24,\n",
              "  'page_token_count': 448.25,\n",
              "  'text': '•  Công nghệ thông tin: Ch Favored chuyên ngành Trí tuệ nhân tạo (AI) và Khoa  học dữ liệu.  •  Công nghệ tài chính (Fintech).  •  Kinh doanh số.  •  Thiết kế đồ họa.  Ngoài ra, trường còn đào tạo các ngành ngôn ngữ như Hàn Quốc, Nhật Bản, Trung Quốc.  Sinh viên có thể học song ngành nếu đáp ứng điều kiện về điểm số và thời gian học tập.  4. Học phí và hỗ trợ tài chính  Học phí  Học phí tại Trường Đại học CMC dao động từ 40 - 60 triệu VNĐ/năm, tùy theo ngành học.  Sinh viên có thể đóng học phí theo từng kỳ hoặc từng đợt theo chính sách hỗ trợ của  trường.  Chương trình tiếng Anh  Sinh viên cần đạt trình độ tiếng Anh tương đương IELTS 6.0 để tốt nghiệp. Nếu chưa có  chứng chỉ (IELTS, TOEFL, PTE), sinh viên phải tham gia chương trình tiếng Anh của trường  với 6 cấp độ, mỗi cấp độ chi phí 10 triệu VNĐ.  Hỗ trợ tài chính  •  Học bổng: Dựa trên điểm thi đầu vào hoặc thành tích học tập, mức từ 25% - 100%  học phí. Để duy trì học bổng, sinh viên cần đạt GPA theo quy định và không vi phạm  nội quy.  •  Miễn giảm học phí: Áp dụng cho sinh viên thuộc diện hộ nghèo, cận nghèo hoặc  hoàn cảnh đặc biệt.  •  Vay học phí: Hỗ trợ vay vốn qua ngân hàng đối tác hoặc quỹ giáo dục.  Học phí có thể điều chỉnh hàng năm nhưng không tăng đột biến, đảm bảo minh bạch và ổn  định.  5. Chương trình đào tạo  Thời gian đào tạo  Chương trình học kéo dài từ 3.5 - 4 năm, tùy ngành và tiến độ học tập. Sinh viên có thể học  vượt để rút ngắn thời gian nếu đủ điều kiện.  Hình thức học  •  Chủ yếu học trực tiếp tại trường.  •  Hỗ trợ học online cho một số môn lý thuyết.  •  Không có chương trình đào tạo từ xa chính quy.  Nội dung đào tạo  Chương trình chú trọng thực hành, với nhiều môn học kết hợp dự án thực tế và bài tập  doanh nghiệp. Sinh viên được chọn môn tự chọn theo sở thích và định hướng nghề',\n",
              "  'sentences': ['•  Công nghệ thông tin: Ch Favored chuyên ngành Trí tuệ nhân tạo (AI) và Khoa  học dữ liệu.',\n",
              "   ' •  Công nghệ tài chính (Fintech).',\n",
              "   ' •  Kinh doanh số.',\n",
              "   ' •  Thiết kế đồ họa.',\n",
              "   ' Ngoài ra, trường còn đào tạo các ngành ngôn ngữ như Hàn Quốc, Nhật Bản, Trung Quốc.',\n",
              "   ' Sinh viên có thể học song ngành nếu đáp ứng điều kiện về điểm số và thời gian học tập.',\n",
              "   ' 4.',\n",
              "   'Học phí và hỗ trợ tài chính  Học phí  Học phí tại Trường Đại học CMC dao động từ 40 - 60 triệu VNĐ/năm, tùy theo ngành học.',\n",
              "   ' Sinh viên có thể đóng học phí theo từng kỳ hoặc từng đợt theo chính sách hỗ trợ của  trường.',\n",
              "   ' Chương trình tiếng Anh  Sinh viên cần đạt trình độ tiếng Anh tương đương IELTS 6.0 để tốt nghiệp.',\n",
              "   'Nếu chưa có  chứng chỉ (IELTS, TOEFL, PTE), sinh viên phải tham gia chương trình tiếng Anh của trường  với 6 cấp độ, mỗi cấp độ chi phí 10 triệu VNĐ.  Hỗ trợ tài chính  •  Học bổng: Dựa trên điểm thi đầu vào hoặc thành tích học tập, mức từ 25% - 100%  học phí.',\n",
              "   'Để duy trì học bổng, sinh viên cần đạt GPA theo quy định và không vi phạm  nội quy.',\n",
              "   ' •  Miễn giảm học phí: Áp dụng cho sinh viên thuộc diện hộ nghèo, cận nghèo hoặc  hoàn cảnh đặc biệt.',\n",
              "   ' •  Vay học phí: Hỗ trợ vay vốn qua ngân hàng đối tác hoặc quỹ giáo dục.',\n",
              "   ' Học phí có thể điều chỉnh hàng năm nhưng không tăng đột biến, đảm bảo minh bạch và ổn  định.',\n",
              "   ' 5.',\n",
              "   'Chương trình đào tạo  Thời gian đào tạo  Chương trình học kéo dài từ 3.5 - 4 năm, tùy ngành và tiến độ học tập.',\n",
              "   'Sinh viên có thể học  vượt để rút ngắn thời gian nếu đủ điều kiện.',\n",
              "   ' Hình thức học  •  Chủ yếu học trực tiếp tại trường.',\n",
              "   ' •  Hỗ trợ học online cho một số môn lý thuyết.',\n",
              "   ' •  Không có chương trình đào tạo từ xa chính quy.',\n",
              "   ' Nội dung đào tạo  Chương trình chú trọng thực hành, với nhiều môn học kết hợp dự án thực tế và bài tập  doanh nghiệp.',\n",
              "   'Sinh viên được chọn môn tự chọn theo sở thích và định hướng nghề'],\n",
              "  'page_sentence_count_spacy': 23,\n",
              "  'sentence_chunks': [['•  Công nghệ thông tin: Ch Favored chuyên ngành Trí tuệ nhân tạo (AI) và Khoa  học dữ liệu.',\n",
              "    ' •  Công nghệ tài chính (Fintech).',\n",
              "    ' •  Kinh doanh số.',\n",
              "    ' •  Thiết kế đồ họa.',\n",
              "    ' Ngoài ra, trường còn đào tạo các ngành ngôn ngữ như Hàn Quốc, Nhật Bản, Trung Quốc.',\n",
              "    ' Sinh viên có thể học song ngành nếu đáp ứng điều kiện về điểm số và thời gian học tập.',\n",
              "    ' 4.',\n",
              "    'Học phí và hỗ trợ tài chính  Học phí  Học phí tại Trường Đại học CMC dao động từ 40 - 60 triệu VNĐ/năm, tùy theo ngành học.'],\n",
              "   [' Sinh viên có thể đóng học phí theo từng kỳ hoặc từng đợt theo chính sách hỗ trợ của  trường.',\n",
              "    ' Chương trình tiếng Anh  Sinh viên cần đạt trình độ tiếng Anh tương đương IELTS 6.0 để tốt nghiệp.',\n",
              "    'Nếu chưa có  chứng chỉ (IELTS, TOEFL, PTE), sinh viên phải tham gia chương trình tiếng Anh của trường  với 6 cấp độ, mỗi cấp độ chi phí 10 triệu VNĐ.  Hỗ trợ tài chính  •  Học bổng: Dựa trên điểm thi đầu vào hoặc thành tích học tập, mức từ 25% - 100%  học phí.',\n",
              "    'Để duy trì học bổng, sinh viên cần đạt GPA theo quy định và không vi phạm  nội quy.',\n",
              "    ' •  Miễn giảm học phí: Áp dụng cho sinh viên thuộc diện hộ nghèo, cận nghèo hoặc  hoàn cảnh đặc biệt.',\n",
              "    ' •  Vay học phí: Hỗ trợ vay vốn qua ngân hàng đối tác hoặc quỹ giáo dục.',\n",
              "    ' Học phí có thể điều chỉnh hàng năm nhưng không tăng đột biến, đảm bảo minh bạch và ổn  định.',\n",
              "    ' 5.'],\n",
              "   ['Chương trình đào tạo  Thời gian đào tạo  Chương trình học kéo dài từ 3.5 - 4 năm, tùy ngành và tiến độ học tập.',\n",
              "    'Sinh viên có thể học  vượt để rút ngắn thời gian nếu đủ điều kiện.',\n",
              "    ' Hình thức học  •  Chủ yếu học trực tiếp tại trường.',\n",
              "    ' •  Hỗ trợ học online cho một số môn lý thuyết.',\n",
              "    ' •  Không có chương trình đào tạo từ xa chính quy.',\n",
              "    ' Nội dung đào tạo  Chương trình chú trọng thực hành, với nhiều môn học kết hợp dự án thực tế và bài tập  doanh nghiệp.',\n",
              "    'Sinh viên được chọn môn tự chọn theo sở thích và định hướng nghề']],\n",
              "  'num_chunks': 3}]"
            ]
          },
          "metadata": {},
          "execution_count": 100
        }
      ],
      "source": [
        "# Sample an example from the group (note: many pages have only 1 chunk as they have <=8 sentences total)\n",
        "random.sample(pages_and_texts, k=1)"
      ]
    },
    {
      "cell_type": "code",
      "execution_count": null,
      "metadata": {
        "colab": {
          "base_uri": "https://localhost:8080/",
          "height": 300
        },
        "id": "eoF_RNDeq5mh",
        "outputId": "7c4f227a-d6d0-4921-ad91-f2b37d634a5b"
      },
      "outputs": [
        {
          "output_type": "execute_result",
          "data": {
            "text/plain": [
              "       page_number  page_char_count  page_word_count  page_sentence_count_raw  \\\n",
              "count        13.00            13.00            13.00                    13.00   \n",
              "mean          6.00          2396.23           549.23                    19.08   \n",
              "std           3.89           523.16           113.91                     2.96   \n",
              "min           0.00          1606.00           384.00                    15.00   \n",
              "25%           3.00          1793.00           430.00                    16.00   \n",
              "50%           6.00          2457.00           553.00                    20.00   \n",
              "75%           9.00          2717.00           629.00                    21.00   \n",
              "max          12.00          3228.00           738.00                    24.00   \n",
              "\n",
              "       page_token_count  page_sentence_count_spacy  num_chunks  \n",
              "count             13.00                      13.00       13.00  \n",
              "mean             599.06                      19.38        2.69  \n",
              "std              130.79                       3.04        0.48  \n",
              "min              401.50                      14.00        2.00  \n",
              "25%              448.25                      16.00        2.00  \n",
              "50%              614.25                      20.00        3.00  \n",
              "75%              679.25                      22.00        3.00  \n",
              "max              807.00                      23.00        3.00  "
            ],
            "text/html": [
              "\n",
              "  <div id=\"df-1c8f0929-d254-4d27-a700-58c81817f01b\" class=\"colab-df-container\">\n",
              "    <div>\n",
              "<style scoped>\n",
              "    .dataframe tbody tr th:only-of-type {\n",
              "        vertical-align: middle;\n",
              "    }\n",
              "\n",
              "    .dataframe tbody tr th {\n",
              "        vertical-align: top;\n",
              "    }\n",
              "\n",
              "    .dataframe thead th {\n",
              "        text-align: right;\n",
              "    }\n",
              "</style>\n",
              "<table border=\"1\" class=\"dataframe\">\n",
              "  <thead>\n",
              "    <tr style=\"text-align: right;\">\n",
              "      <th></th>\n",
              "      <th>page_number</th>\n",
              "      <th>page_char_count</th>\n",
              "      <th>page_word_count</th>\n",
              "      <th>page_sentence_count_raw</th>\n",
              "      <th>page_token_count</th>\n",
              "      <th>page_sentence_count_spacy</th>\n",
              "      <th>num_chunks</th>\n",
              "    </tr>\n",
              "  </thead>\n",
              "  <tbody>\n",
              "    <tr>\n",
              "      <th>count</th>\n",
              "      <td>13.00</td>\n",
              "      <td>13.00</td>\n",
              "      <td>13.00</td>\n",
              "      <td>13.00</td>\n",
              "      <td>13.00</td>\n",
              "      <td>13.00</td>\n",
              "      <td>13.00</td>\n",
              "    </tr>\n",
              "    <tr>\n",
              "      <th>mean</th>\n",
              "      <td>6.00</td>\n",
              "      <td>2396.23</td>\n",
              "      <td>549.23</td>\n",
              "      <td>19.08</td>\n",
              "      <td>599.06</td>\n",
              "      <td>19.38</td>\n",
              "      <td>2.69</td>\n",
              "    </tr>\n",
              "    <tr>\n",
              "      <th>std</th>\n",
              "      <td>3.89</td>\n",
              "      <td>523.16</td>\n",
              "      <td>113.91</td>\n",
              "      <td>2.96</td>\n",
              "      <td>130.79</td>\n",
              "      <td>3.04</td>\n",
              "      <td>0.48</td>\n",
              "    </tr>\n",
              "    <tr>\n",
              "      <th>min</th>\n",
              "      <td>0.00</td>\n",
              "      <td>1606.00</td>\n",
              "      <td>384.00</td>\n",
              "      <td>15.00</td>\n",
              "      <td>401.50</td>\n",
              "      <td>14.00</td>\n",
              "      <td>2.00</td>\n",
              "    </tr>\n",
              "    <tr>\n",
              "      <th>25%</th>\n",
              "      <td>3.00</td>\n",
              "      <td>1793.00</td>\n",
              "      <td>430.00</td>\n",
              "      <td>16.00</td>\n",
              "      <td>448.25</td>\n",
              "      <td>16.00</td>\n",
              "      <td>2.00</td>\n",
              "    </tr>\n",
              "    <tr>\n",
              "      <th>50%</th>\n",
              "      <td>6.00</td>\n",
              "      <td>2457.00</td>\n",
              "      <td>553.00</td>\n",
              "      <td>20.00</td>\n",
              "      <td>614.25</td>\n",
              "      <td>20.00</td>\n",
              "      <td>3.00</td>\n",
              "    </tr>\n",
              "    <tr>\n",
              "      <th>75%</th>\n",
              "      <td>9.00</td>\n",
              "      <td>2717.00</td>\n",
              "      <td>629.00</td>\n",
              "      <td>21.00</td>\n",
              "      <td>679.25</td>\n",
              "      <td>22.00</td>\n",
              "      <td>3.00</td>\n",
              "    </tr>\n",
              "    <tr>\n",
              "      <th>max</th>\n",
              "      <td>12.00</td>\n",
              "      <td>3228.00</td>\n",
              "      <td>738.00</td>\n",
              "      <td>24.00</td>\n",
              "      <td>807.00</td>\n",
              "      <td>23.00</td>\n",
              "      <td>3.00</td>\n",
              "    </tr>\n",
              "  </tbody>\n",
              "</table>\n",
              "</div>\n",
              "    <div class=\"colab-df-buttons\">\n",
              "\n",
              "  <div class=\"colab-df-container\">\n",
              "    <button class=\"colab-df-convert\" onclick=\"convertToInteractive('df-1c8f0929-d254-4d27-a700-58c81817f01b')\"\n",
              "            title=\"Convert this dataframe to an interactive table.\"\n",
              "            style=\"display:none;\">\n",
              "\n",
              "  <svg xmlns=\"http://www.w3.org/2000/svg\" height=\"24px\" viewBox=\"0 -960 960 960\">\n",
              "    <path d=\"M120-120v-720h720v720H120Zm60-500h600v-160H180v160Zm220 220h160v-160H400v160Zm0 220h160v-160H400v160ZM180-400h160v-160H180v160Zm440 0h160v-160H620v160ZM180-180h160v-160H180v160Zm440 0h160v-160H620v160Z\"/>\n",
              "  </svg>\n",
              "    </button>\n",
              "\n",
              "  <style>\n",
              "    .colab-df-container {\n",
              "      display:flex;\n",
              "      gap: 12px;\n",
              "    }\n",
              "\n",
              "    .colab-df-convert {\n",
              "      background-color: #E8F0FE;\n",
              "      border: none;\n",
              "      border-radius: 50%;\n",
              "      cursor: pointer;\n",
              "      display: none;\n",
              "      fill: #1967D2;\n",
              "      height: 32px;\n",
              "      padding: 0 0 0 0;\n",
              "      width: 32px;\n",
              "    }\n",
              "\n",
              "    .colab-df-convert:hover {\n",
              "      background-color: #E2EBFA;\n",
              "      box-shadow: 0px 1px 2px rgba(60, 64, 67, 0.3), 0px 1px 3px 1px rgba(60, 64, 67, 0.15);\n",
              "      fill: #174EA6;\n",
              "    }\n",
              "\n",
              "    .colab-df-buttons div {\n",
              "      margin-bottom: 4px;\n",
              "    }\n",
              "\n",
              "    [theme=dark] .colab-df-convert {\n",
              "      background-color: #3B4455;\n",
              "      fill: #D2E3FC;\n",
              "    }\n",
              "\n",
              "    [theme=dark] .colab-df-convert:hover {\n",
              "      background-color: #434B5C;\n",
              "      box-shadow: 0px 1px 3px 1px rgba(0, 0, 0, 0.15);\n",
              "      filter: drop-shadow(0px 1px 2px rgba(0, 0, 0, 0.3));\n",
              "      fill: #FFFFFF;\n",
              "    }\n",
              "  </style>\n",
              "\n",
              "    <script>\n",
              "      const buttonEl =\n",
              "        document.querySelector('#df-1c8f0929-d254-4d27-a700-58c81817f01b button.colab-df-convert');\n",
              "      buttonEl.style.display =\n",
              "        google.colab.kernel.accessAllowed ? 'block' : 'none';\n",
              "\n",
              "      async function convertToInteractive(key) {\n",
              "        const element = document.querySelector('#df-1c8f0929-d254-4d27-a700-58c81817f01b');\n",
              "        const dataTable =\n",
              "          await google.colab.kernel.invokeFunction('convertToInteractive',\n",
              "                                                    [key], {});\n",
              "        if (!dataTable) return;\n",
              "\n",
              "        const docLinkHtml = 'Like what you see? Visit the ' +\n",
              "          '<a target=\"_blank\" href=https://colab.research.google.com/notebooks/data_table.ipynb>data table notebook</a>'\n",
              "          + ' to learn more about interactive tables.';\n",
              "        element.innerHTML = '';\n",
              "        dataTable['output_type'] = 'display_data';\n",
              "        await google.colab.output.renderOutput(dataTable, element);\n",
              "        const docLink = document.createElement('div');\n",
              "        docLink.innerHTML = docLinkHtml;\n",
              "        element.appendChild(docLink);\n",
              "      }\n",
              "    </script>\n",
              "  </div>\n",
              "\n",
              "\n",
              "<div id=\"df-848164d8-7126-436a-af5d-ed4bf6ed29b9\">\n",
              "  <button class=\"colab-df-quickchart\" onclick=\"quickchart('df-848164d8-7126-436a-af5d-ed4bf6ed29b9')\"\n",
              "            title=\"Suggest charts\"\n",
              "            style=\"display:none;\">\n",
              "\n",
              "<svg xmlns=\"http://www.w3.org/2000/svg\" height=\"24px\"viewBox=\"0 0 24 24\"\n",
              "     width=\"24px\">\n",
              "    <g>\n",
              "        <path d=\"M19 3H5c-1.1 0-2 .9-2 2v14c0 1.1.9 2 2 2h14c1.1 0 2-.9 2-2V5c0-1.1-.9-2-2-2zM9 17H7v-7h2v7zm4 0h-2V7h2v10zm4 0h-2v-4h2v4z\"/>\n",
              "    </g>\n",
              "</svg>\n",
              "  </button>\n",
              "\n",
              "<style>\n",
              "  .colab-df-quickchart {\n",
              "      --bg-color: #E8F0FE;\n",
              "      --fill-color: #1967D2;\n",
              "      --hover-bg-color: #E2EBFA;\n",
              "      --hover-fill-color: #174EA6;\n",
              "      --disabled-fill-color: #AAA;\n",
              "      --disabled-bg-color: #DDD;\n",
              "  }\n",
              "\n",
              "  [theme=dark] .colab-df-quickchart {\n",
              "      --bg-color: #3B4455;\n",
              "      --fill-color: #D2E3FC;\n",
              "      --hover-bg-color: #434B5C;\n",
              "      --hover-fill-color: #FFFFFF;\n",
              "      --disabled-bg-color: #3B4455;\n",
              "      --disabled-fill-color: #666;\n",
              "  }\n",
              "\n",
              "  .colab-df-quickchart {\n",
              "    background-color: var(--bg-color);\n",
              "    border: none;\n",
              "    border-radius: 50%;\n",
              "    cursor: pointer;\n",
              "    display: none;\n",
              "    fill: var(--fill-color);\n",
              "    height: 32px;\n",
              "    padding: 0;\n",
              "    width: 32px;\n",
              "  }\n",
              "\n",
              "  .colab-df-quickchart:hover {\n",
              "    background-color: var(--hover-bg-color);\n",
              "    box-shadow: 0 1px 2px rgba(60, 64, 67, 0.3), 0 1px 3px 1px rgba(60, 64, 67, 0.15);\n",
              "    fill: var(--button-hover-fill-color);\n",
              "  }\n",
              "\n",
              "  .colab-df-quickchart-complete:disabled,\n",
              "  .colab-df-quickchart-complete:disabled:hover {\n",
              "    background-color: var(--disabled-bg-color);\n",
              "    fill: var(--disabled-fill-color);\n",
              "    box-shadow: none;\n",
              "  }\n",
              "\n",
              "  .colab-df-spinner {\n",
              "    border: 2px solid var(--fill-color);\n",
              "    border-color: transparent;\n",
              "    border-bottom-color: var(--fill-color);\n",
              "    animation:\n",
              "      spin 1s steps(1) infinite;\n",
              "  }\n",
              "\n",
              "  @keyframes spin {\n",
              "    0% {\n",
              "      border-color: transparent;\n",
              "      border-bottom-color: var(--fill-color);\n",
              "      border-left-color: var(--fill-color);\n",
              "    }\n",
              "    20% {\n",
              "      border-color: transparent;\n",
              "      border-left-color: var(--fill-color);\n",
              "      border-top-color: var(--fill-color);\n",
              "    }\n",
              "    30% {\n",
              "      border-color: transparent;\n",
              "      border-left-color: var(--fill-color);\n",
              "      border-top-color: var(--fill-color);\n",
              "      border-right-color: var(--fill-color);\n",
              "    }\n",
              "    40% {\n",
              "      border-color: transparent;\n",
              "      border-right-color: var(--fill-color);\n",
              "      border-top-color: var(--fill-color);\n",
              "    }\n",
              "    60% {\n",
              "      border-color: transparent;\n",
              "      border-right-color: var(--fill-color);\n",
              "    }\n",
              "    80% {\n",
              "      border-color: transparent;\n",
              "      border-right-color: var(--fill-color);\n",
              "      border-bottom-color: var(--fill-color);\n",
              "    }\n",
              "    90% {\n",
              "      border-color: transparent;\n",
              "      border-bottom-color: var(--fill-color);\n",
              "    }\n",
              "  }\n",
              "</style>\n",
              "\n",
              "  <script>\n",
              "    async function quickchart(key) {\n",
              "      const quickchartButtonEl =\n",
              "        document.querySelector('#' + key + ' button');\n",
              "      quickchartButtonEl.disabled = true;  // To prevent multiple clicks.\n",
              "      quickchartButtonEl.classList.add('colab-df-spinner');\n",
              "      try {\n",
              "        const charts = await google.colab.kernel.invokeFunction(\n",
              "            'suggestCharts', [key], {});\n",
              "      } catch (error) {\n",
              "        console.error('Error during call to suggestCharts:', error);\n",
              "      }\n",
              "      quickchartButtonEl.classList.remove('colab-df-spinner');\n",
              "      quickchartButtonEl.classList.add('colab-df-quickchart-complete');\n",
              "    }\n",
              "    (() => {\n",
              "      let quickchartButtonEl =\n",
              "        document.querySelector('#df-848164d8-7126-436a-af5d-ed4bf6ed29b9 button');\n",
              "      quickchartButtonEl.style.display =\n",
              "        google.colab.kernel.accessAllowed ? 'block' : 'none';\n",
              "    })();\n",
              "  </script>\n",
              "</div>\n",
              "\n",
              "    </div>\n",
              "  </div>\n"
            ],
            "application/vnd.google.colaboratory.intrinsic+json": {
              "type": "dataframe",
              "summary": "{\n  \"name\": \"df\",\n  \"rows\": 8,\n  \"fields\": [\n    {\n      \"column\": \"page_number\",\n      \"properties\": {\n        \"dtype\": \"number\",\n        \"std\": 4.479526242488468,\n        \"min\": 0.0,\n        \"max\": 13.0,\n        \"num_unique_values\": 7,\n        \"samples\": [\n          13.0,\n          6.0,\n          9.0\n        ],\n        \"semantic_type\": \"\",\n        \"description\": \"\"\n      }\n    },\n    {\n      \"column\": \"page_char_count\",\n      \"properties\": {\n        \"dtype\": \"number\",\n        \"std\": 1102.8983237029538,\n        \"min\": 13.0,\n        \"max\": 3228.0,\n        \"num_unique_values\": 8,\n        \"samples\": [\n          2396.23,\n          2457.0,\n          13.0\n        ],\n        \"semantic_type\": \"\",\n        \"description\": \"\"\n      }\n    },\n    {\n      \"column\": \"page_word_count\",\n      \"properties\": {\n        \"dtype\": \"number\",\n        \"std\": 250.603907320468,\n        \"min\": 13.0,\n        \"max\": 738.0,\n        \"num_unique_values\": 8,\n        \"samples\": [\n          549.23,\n          553.0,\n          13.0\n        ],\n        \"semantic_type\": \"\",\n        \"description\": \"\"\n      }\n    },\n    {\n      \"column\": \"page_sentence_count_raw\",\n      \"properties\": {\n        \"dtype\": \"number\",\n        \"std\": 6.473824217570322,\n        \"min\": 2.96,\n        \"max\": 24.0,\n        \"num_unique_values\": 8,\n        \"samples\": [\n          19.08,\n          20.0,\n          13.0\n        ],\n        \"semantic_type\": \"\",\n        \"description\": \"\"\n      }\n    },\n    {\n      \"column\": \"page_token_count\",\n      \"properties\": {\n        \"dtype\": \"number\",\n        \"std\": 273.42729353522844,\n        \"min\": 13.0,\n        \"max\": 807.0,\n        \"num_unique_values\": 8,\n        \"samples\": [\n          599.06,\n          614.25,\n          13.0\n        ],\n        \"semantic_type\": \"\",\n        \"description\": \"\"\n      }\n    },\n    {\n      \"column\": \"page_sentence_count_spacy\",\n      \"properties\": {\n        \"dtype\": \"number\",\n        \"std\": 6.465887962442371,\n        \"min\": 3.04,\n        \"max\": 23.0,\n        \"num_unique_values\": 8,\n        \"samples\": [\n          19.38,\n          20.0,\n          13.0\n        ],\n        \"semantic_type\": \"\",\n        \"description\": \"\"\n      }\n    },\n    {\n      \"column\": \"num_chunks\",\n      \"properties\": {\n        \"dtype\": \"number\",\n        \"std\": 3.8749264969987314,\n        \"min\": 0.48,\n        \"max\": 13.0,\n        \"num_unique_values\": 5,\n        \"samples\": [\n          2.69,\n          3.0,\n          0.48\n        ],\n        \"semantic_type\": \"\",\n        \"description\": \"\"\n      }\n    }\n  ]\n}"
            }
          },
          "metadata": {},
          "execution_count": 101
        }
      ],
      "source": [
        "# Create a DataFrame to get stats\n",
        "df = pd.DataFrame(pages_and_texts)\n",
        "df.describe().round(2)"
      ]
    },
    {
      "cell_type": "markdown",
      "metadata": {
        "id": "8sERiIIn2eo7"
      },
      "source": [
        "### Chia từng phần thành một mục riêng ( Tokenizer the each Sentence)"
      ]
    },
    {
      "cell_type": "markdown",
      "metadata": {
        "id": "uj3EIfkA-pHR"
      },
      "source": [
        "\n",
        "Ở trên thư viện spaCy đã giúp chia trang thành các câu, trong phần này mình sẽ tạo gộp 10 câu thành 1 nhóm cho từng từng"
      ]
    },
    {
      "cell_type": "code",
      "execution_count": null,
      "metadata": {
        "colab": {
          "base_uri": "https://localhost:8080/",
          "height": 67,
          "referenced_widgets": [
            "8e2f4ba373ed4029b6ac96ba977ca8ef",
            "adaf754dcf3743f2bda91352b3ab2d3f",
            "0cf8653ff61348f997c51945d908ea53",
            "d5e9d6d4ea2242c48de627012eadedcf",
            "5b0873415d04426c839fbe6c3de2a1e8",
            "ffccd725a54e4008b35a3272267cd9e7",
            "c394497d61284a5f9843fb3f0b71a8e0",
            "989b25b36d0346969c36c4a3d5acceed",
            "f7c97336f314460d9db1a70cbb3107e4",
            "22f6c0ba777a4218b2d783adab269777",
            "23970e158e1940b0a95ca7cf686c8890"
          ]
        },
        "id": "2yno68IPq6mB",
        "outputId": "4aadf917-42ce-437e-ec0b-a86ff97dd14b"
      },
      "outputs": [
        {
          "output_type": "display_data",
          "data": {
            "text/plain": [
              "  0%|          | 0/13 [00:00<?, ?it/s]"
            ],
            "application/vnd.jupyter.widget-view+json": {
              "version_major": 2,
              "version_minor": 0,
              "model_id": "8e2f4ba373ed4029b6ac96ba977ca8ef"
            }
          },
          "metadata": {}
        },
        {
          "output_type": "execute_result",
          "data": {
            "text/plain": [
              "35"
            ]
          },
          "metadata": {},
          "execution_count": 102
        }
      ],
      "source": [
        "import re\n",
        "\n",
        "# Split each chunk into its own item\n",
        "pages_and_chunks = [] # list of pages contain chunks\n",
        "for item in tqdm(pages_and_texts):\n",
        "    for sentence_chunk in item[\"sentence_chunks\"]: # store the processed chunk in dict with key \"sentence_chunks\"\n",
        "        chunk_dict = {} # store chunks of a page\n",
        "        chunk_dict[\"page_number\"] = item[\"page_number\"] # Stores the page number associated with this chunk.\n",
        "\n",
        "        # Join the sentences together into a paragraph-like structure, aka a chunk (so they are a single string)\n",
        "\n",
        "        # remove double space with single space and join them in a single string\n",
        "        joined_sentence_chunk = \"\".join(sentence_chunk).replace(\"  \", \" \").strip()\n",
        "        # \".A\" -> \". A\" for any full-stop/capital letter combo. (for spacy to recognize stop word better)\n",
        "        joined_sentence_chunk = re.sub(r'\\.([A-Z])', r'. \\1', joined_sentence_chunk)\n",
        "        chunk_dict[\"sentence_chunk\"] = joined_sentence_chunk # Stores the joined sentence chunk.\n",
        "\n",
        "        # Get stats about the chunk\n",
        "        chunk_dict[\"chunk_char_count\"] = len(joined_sentence_chunk)\n",
        "        chunk_dict[\"chunk_word_count\"] = len([word for word in joined_sentence_chunk.split(\" \")])\n",
        "        chunk_dict[\"chunk_token_count\"] = len(joined_sentence_chunk) / 4 # 1 token = ~4 characters\n",
        "\n",
        "        pages_and_chunks.append(chunk_dict)\n",
        "\n",
        "# How many chunks do we have?\n",
        "len(pages_and_chunks)"
      ]
    },
    {
      "cell_type": "markdown",
      "metadata": {
        "id": "ej-nqGZx-CWx"
      },
      "source": [
        "Let see the Chunk we have"
      ]
    },
    {
      "cell_type": "code",
      "execution_count": null,
      "metadata": {
        "colab": {
          "base_uri": "https://localhost:8080/"
        },
        "id": "X3pGPquQq71F",
        "outputId": "c3acb688-e387-4a1f-820c-e044ce54c57a"
      },
      "outputs": [
        {
          "output_type": "execute_result",
          "data": {
            "text/plain": [
              "[{'page_number': 2,\n",
              "  'sentence_chunk': 'Ngoài ra, học phí được cố định trong suốt khóa học, ví dụ: Công nghệ Thông tin và Khoa học Máy tính là 18,2 triệu VND/học kỳ; Quản trị Kinh doanh là 16,8 triệu VND/học kỳ; Ngôn ngữ Hàn/Japan là 15,4 triệu VND/học kỳ (dữ liệu áp dụng cho sinh viên nhập học 2022-2023). Sinh viên cũng được hỗ trợ học tiếng Anh miễn phí đạt chuẩn CEFR B2, một lợi ích không nhỏ cho sự phát triển nghề nghiệp. • Cam Kết Việc Làm: Một ưu đãi đáng chú ý là cam kết 100% việc làm cho sinh viên ngành công nghệ học hệ song ngữ sau khi tốt nghiệp, với cơ hội làm việc tại Tập đoàn CMC, Samsung, và các doanh nghiệp thuộc Top 500 Việt Nam (VNR500). Chương trình thực tập “True internship – Good job” đảm bảo giao việc thật, đánh giá thật, huấn luyện thật, giúp sinh viên tích lũy kinh nghiệm từ năm nhất. • Cơ Sở Vật Chất: Là đại học số đầu tiên của Việt Nam, trường đầu tư mạnh vào hạ tầng hiện đại, bao gồm 6 phòng Lab với công nghệ tiên tiến như AI Chatbot, thực tế ảo tăng cường (AR/VR), hỗ trợ học tập và nghiên cứu. Hệ thống IT thông minh với nhận diện khuôn mặt, đo nhiệt độ cơ thể, và phát hiện bất thường hành vi cũng được triển khai, tạo môi trường học tập an toàn và tiện nghi. Các đánh giá từ sinh',\n",
              "  'chunk_char_count': 1183,\n",
              "  'chunk_word_count': 251,\n",
              "  'chunk_token_count': 295.75}]"
            ]
          },
          "metadata": {},
          "execution_count": 103
        }
      ],
      "source": [
        "# View a random sample\n",
        "random.sample(pages_and_chunks, k=1)"
      ]
    },
    {
      "cell_type": "markdown",
      "metadata": {
        "id": "CA7DsuYJmE34"
      },
      "source": []
    },
    {
      "cell_type": "code",
      "execution_count": null,
      "metadata": {
        "colab": {
          "base_uri": "https://localhost:8080/",
          "height": 300
        },
        "id": "5_cAtKntq8rz",
        "outputId": "223a81a0-3547-4b66-f805-53d4813b776b"
      },
      "outputs": [
        {
          "output_type": "execute_result",
          "data": {
            "text/plain": [
              "       page_number  chunk_char_count  chunk_word_count  chunk_token_count\n",
              "count        35.00             35.00             35.00              35.00\n",
              "mean          6.34            870.86            185.46             217.71\n",
              "std           3.82            366.86             76.79              91.72\n",
              "min           0.00            304.00             67.00              76.00\n",
              "25%           3.00            554.50            115.50             138.62\n",
              "50%           7.00            797.00            172.00             199.25\n",
              "75%           9.50           1150.50            245.00             287.62\n",
              "max          12.00           1599.00            338.00             399.75"
            ],
            "text/html": [
              "\n",
              "  <div id=\"df-9f51da22-93b4-4958-92ec-7847c9e4018e\" class=\"colab-df-container\">\n",
              "    <div>\n",
              "<style scoped>\n",
              "    .dataframe tbody tr th:only-of-type {\n",
              "        vertical-align: middle;\n",
              "    }\n",
              "\n",
              "    .dataframe tbody tr th {\n",
              "        vertical-align: top;\n",
              "    }\n",
              "\n",
              "    .dataframe thead th {\n",
              "        text-align: right;\n",
              "    }\n",
              "</style>\n",
              "<table border=\"1\" class=\"dataframe\">\n",
              "  <thead>\n",
              "    <tr style=\"text-align: right;\">\n",
              "      <th></th>\n",
              "      <th>page_number</th>\n",
              "      <th>chunk_char_count</th>\n",
              "      <th>chunk_word_count</th>\n",
              "      <th>chunk_token_count</th>\n",
              "    </tr>\n",
              "  </thead>\n",
              "  <tbody>\n",
              "    <tr>\n",
              "      <th>count</th>\n",
              "      <td>35.00</td>\n",
              "      <td>35.00</td>\n",
              "      <td>35.00</td>\n",
              "      <td>35.00</td>\n",
              "    </tr>\n",
              "    <tr>\n",
              "      <th>mean</th>\n",
              "      <td>6.34</td>\n",
              "      <td>870.86</td>\n",
              "      <td>185.46</td>\n",
              "      <td>217.71</td>\n",
              "    </tr>\n",
              "    <tr>\n",
              "      <th>std</th>\n",
              "      <td>3.82</td>\n",
              "      <td>366.86</td>\n",
              "      <td>76.79</td>\n",
              "      <td>91.72</td>\n",
              "    </tr>\n",
              "    <tr>\n",
              "      <th>min</th>\n",
              "      <td>0.00</td>\n",
              "      <td>304.00</td>\n",
              "      <td>67.00</td>\n",
              "      <td>76.00</td>\n",
              "    </tr>\n",
              "    <tr>\n",
              "      <th>25%</th>\n",
              "      <td>3.00</td>\n",
              "      <td>554.50</td>\n",
              "      <td>115.50</td>\n",
              "      <td>138.62</td>\n",
              "    </tr>\n",
              "    <tr>\n",
              "      <th>50%</th>\n",
              "      <td>7.00</td>\n",
              "      <td>797.00</td>\n",
              "      <td>172.00</td>\n",
              "      <td>199.25</td>\n",
              "    </tr>\n",
              "    <tr>\n",
              "      <th>75%</th>\n",
              "      <td>9.50</td>\n",
              "      <td>1150.50</td>\n",
              "      <td>245.00</td>\n",
              "      <td>287.62</td>\n",
              "    </tr>\n",
              "    <tr>\n",
              "      <th>max</th>\n",
              "      <td>12.00</td>\n",
              "      <td>1599.00</td>\n",
              "      <td>338.00</td>\n",
              "      <td>399.75</td>\n",
              "    </tr>\n",
              "  </tbody>\n",
              "</table>\n",
              "</div>\n",
              "    <div class=\"colab-df-buttons\">\n",
              "\n",
              "  <div class=\"colab-df-container\">\n",
              "    <button class=\"colab-df-convert\" onclick=\"convertToInteractive('df-9f51da22-93b4-4958-92ec-7847c9e4018e')\"\n",
              "            title=\"Convert this dataframe to an interactive table.\"\n",
              "            style=\"display:none;\">\n",
              "\n",
              "  <svg xmlns=\"http://www.w3.org/2000/svg\" height=\"24px\" viewBox=\"0 -960 960 960\">\n",
              "    <path d=\"M120-120v-720h720v720H120Zm60-500h600v-160H180v160Zm220 220h160v-160H400v160Zm0 220h160v-160H400v160ZM180-400h160v-160H180v160Zm440 0h160v-160H620v160ZM180-180h160v-160H180v160Zm440 0h160v-160H620v160Z\"/>\n",
              "  </svg>\n",
              "    </button>\n",
              "\n",
              "  <style>\n",
              "    .colab-df-container {\n",
              "      display:flex;\n",
              "      gap: 12px;\n",
              "    }\n",
              "\n",
              "    .colab-df-convert {\n",
              "      background-color: #E8F0FE;\n",
              "      border: none;\n",
              "      border-radius: 50%;\n",
              "      cursor: pointer;\n",
              "      display: none;\n",
              "      fill: #1967D2;\n",
              "      height: 32px;\n",
              "      padding: 0 0 0 0;\n",
              "      width: 32px;\n",
              "    }\n",
              "\n",
              "    .colab-df-convert:hover {\n",
              "      background-color: #E2EBFA;\n",
              "      box-shadow: 0px 1px 2px rgba(60, 64, 67, 0.3), 0px 1px 3px 1px rgba(60, 64, 67, 0.15);\n",
              "      fill: #174EA6;\n",
              "    }\n",
              "\n",
              "    .colab-df-buttons div {\n",
              "      margin-bottom: 4px;\n",
              "    }\n",
              "\n",
              "    [theme=dark] .colab-df-convert {\n",
              "      background-color: #3B4455;\n",
              "      fill: #D2E3FC;\n",
              "    }\n",
              "\n",
              "    [theme=dark] .colab-df-convert:hover {\n",
              "      background-color: #434B5C;\n",
              "      box-shadow: 0px 1px 3px 1px rgba(0, 0, 0, 0.15);\n",
              "      filter: drop-shadow(0px 1px 2px rgba(0, 0, 0, 0.3));\n",
              "      fill: #FFFFFF;\n",
              "    }\n",
              "  </style>\n",
              "\n",
              "    <script>\n",
              "      const buttonEl =\n",
              "        document.querySelector('#df-9f51da22-93b4-4958-92ec-7847c9e4018e button.colab-df-convert');\n",
              "      buttonEl.style.display =\n",
              "        google.colab.kernel.accessAllowed ? 'block' : 'none';\n",
              "\n",
              "      async function convertToInteractive(key) {\n",
              "        const element = document.querySelector('#df-9f51da22-93b4-4958-92ec-7847c9e4018e');\n",
              "        const dataTable =\n",
              "          await google.colab.kernel.invokeFunction('convertToInteractive',\n",
              "                                                    [key], {});\n",
              "        if (!dataTable) return;\n",
              "\n",
              "        const docLinkHtml = 'Like what you see? Visit the ' +\n",
              "          '<a target=\"_blank\" href=https://colab.research.google.com/notebooks/data_table.ipynb>data table notebook</a>'\n",
              "          + ' to learn more about interactive tables.';\n",
              "        element.innerHTML = '';\n",
              "        dataTable['output_type'] = 'display_data';\n",
              "        await google.colab.output.renderOutput(dataTable, element);\n",
              "        const docLink = document.createElement('div');\n",
              "        docLink.innerHTML = docLinkHtml;\n",
              "        element.appendChild(docLink);\n",
              "      }\n",
              "    </script>\n",
              "  </div>\n",
              "\n",
              "\n",
              "<div id=\"df-07866ee9-8878-4738-99ba-9405addce74e\">\n",
              "  <button class=\"colab-df-quickchart\" onclick=\"quickchart('df-07866ee9-8878-4738-99ba-9405addce74e')\"\n",
              "            title=\"Suggest charts\"\n",
              "            style=\"display:none;\">\n",
              "\n",
              "<svg xmlns=\"http://www.w3.org/2000/svg\" height=\"24px\"viewBox=\"0 0 24 24\"\n",
              "     width=\"24px\">\n",
              "    <g>\n",
              "        <path d=\"M19 3H5c-1.1 0-2 .9-2 2v14c0 1.1.9 2 2 2h14c1.1 0 2-.9 2-2V5c0-1.1-.9-2-2-2zM9 17H7v-7h2v7zm4 0h-2V7h2v10zm4 0h-2v-4h2v4z\"/>\n",
              "    </g>\n",
              "</svg>\n",
              "  </button>\n",
              "\n",
              "<style>\n",
              "  .colab-df-quickchart {\n",
              "      --bg-color: #E8F0FE;\n",
              "      --fill-color: #1967D2;\n",
              "      --hover-bg-color: #E2EBFA;\n",
              "      --hover-fill-color: #174EA6;\n",
              "      --disabled-fill-color: #AAA;\n",
              "      --disabled-bg-color: #DDD;\n",
              "  }\n",
              "\n",
              "  [theme=dark] .colab-df-quickchart {\n",
              "      --bg-color: #3B4455;\n",
              "      --fill-color: #D2E3FC;\n",
              "      --hover-bg-color: #434B5C;\n",
              "      --hover-fill-color: #FFFFFF;\n",
              "      --disabled-bg-color: #3B4455;\n",
              "      --disabled-fill-color: #666;\n",
              "  }\n",
              "\n",
              "  .colab-df-quickchart {\n",
              "    background-color: var(--bg-color);\n",
              "    border: none;\n",
              "    border-radius: 50%;\n",
              "    cursor: pointer;\n",
              "    display: none;\n",
              "    fill: var(--fill-color);\n",
              "    height: 32px;\n",
              "    padding: 0;\n",
              "    width: 32px;\n",
              "  }\n",
              "\n",
              "  .colab-df-quickchart:hover {\n",
              "    background-color: var(--hover-bg-color);\n",
              "    box-shadow: 0 1px 2px rgba(60, 64, 67, 0.3), 0 1px 3px 1px rgba(60, 64, 67, 0.15);\n",
              "    fill: var(--button-hover-fill-color);\n",
              "  }\n",
              "\n",
              "  .colab-df-quickchart-complete:disabled,\n",
              "  .colab-df-quickchart-complete:disabled:hover {\n",
              "    background-color: var(--disabled-bg-color);\n",
              "    fill: var(--disabled-fill-color);\n",
              "    box-shadow: none;\n",
              "  }\n",
              "\n",
              "  .colab-df-spinner {\n",
              "    border: 2px solid var(--fill-color);\n",
              "    border-color: transparent;\n",
              "    border-bottom-color: var(--fill-color);\n",
              "    animation:\n",
              "      spin 1s steps(1) infinite;\n",
              "  }\n",
              "\n",
              "  @keyframes spin {\n",
              "    0% {\n",
              "      border-color: transparent;\n",
              "      border-bottom-color: var(--fill-color);\n",
              "      border-left-color: var(--fill-color);\n",
              "    }\n",
              "    20% {\n",
              "      border-color: transparent;\n",
              "      border-left-color: var(--fill-color);\n",
              "      border-top-color: var(--fill-color);\n",
              "    }\n",
              "    30% {\n",
              "      border-color: transparent;\n",
              "      border-left-color: var(--fill-color);\n",
              "      border-top-color: var(--fill-color);\n",
              "      border-right-color: var(--fill-color);\n",
              "    }\n",
              "    40% {\n",
              "      border-color: transparent;\n",
              "      border-right-color: var(--fill-color);\n",
              "      border-top-color: var(--fill-color);\n",
              "    }\n",
              "    60% {\n",
              "      border-color: transparent;\n",
              "      border-right-color: var(--fill-color);\n",
              "    }\n",
              "    80% {\n",
              "      border-color: transparent;\n",
              "      border-right-color: var(--fill-color);\n",
              "      border-bottom-color: var(--fill-color);\n",
              "    }\n",
              "    90% {\n",
              "      border-color: transparent;\n",
              "      border-bottom-color: var(--fill-color);\n",
              "    }\n",
              "  }\n",
              "</style>\n",
              "\n",
              "  <script>\n",
              "    async function quickchart(key) {\n",
              "      const quickchartButtonEl =\n",
              "        document.querySelector('#' + key + ' button');\n",
              "      quickchartButtonEl.disabled = true;  // To prevent multiple clicks.\n",
              "      quickchartButtonEl.classList.add('colab-df-spinner');\n",
              "      try {\n",
              "        const charts = await google.colab.kernel.invokeFunction(\n",
              "            'suggestCharts', [key], {});\n",
              "      } catch (error) {\n",
              "        console.error('Error during call to suggestCharts:', error);\n",
              "      }\n",
              "      quickchartButtonEl.classList.remove('colab-df-spinner');\n",
              "      quickchartButtonEl.classList.add('colab-df-quickchart-complete');\n",
              "    }\n",
              "    (() => {\n",
              "      let quickchartButtonEl =\n",
              "        document.querySelector('#df-07866ee9-8878-4738-99ba-9405addce74e button');\n",
              "      quickchartButtonEl.style.display =\n",
              "        google.colab.kernel.accessAllowed ? 'block' : 'none';\n",
              "    })();\n",
              "  </script>\n",
              "</div>\n",
              "\n",
              "    </div>\n",
              "  </div>\n"
            ],
            "application/vnd.google.colaboratory.intrinsic+json": {
              "type": "dataframe",
              "summary": "{\n  \"name\": \"df\",\n  \"rows\": 8,\n  \"fields\": [\n    {\n      \"column\": \"page_number\",\n      \"properties\": {\n        \"dtype\": \"number\",\n        \"std\": 10.937769098730456,\n        \"min\": 0.0,\n        \"max\": 35.0,\n        \"num_unique_values\": 8,\n        \"samples\": [\n          6.34,\n          7.0,\n          35.0\n        ],\n        \"semantic_type\": \"\",\n        \"description\": \"\"\n      }\n    },\n    {\n      \"column\": \"chunk_char_count\",\n      \"properties\": {\n        \"dtype\": \"number\",\n        \"std\": 504.2946770915365,\n        \"min\": 35.0,\n        \"max\": 1599.0,\n        \"num_unique_values\": 8,\n        \"samples\": [\n          870.86,\n          797.0,\n          35.0\n        ],\n        \"semantic_type\": \"\",\n        \"description\": \"\"\n      }\n    },\n    {\n      \"column\": \"chunk_word_count\",\n      \"properties\": {\n        \"dtype\": \"number\",\n        \"std\": 101.85663621517956,\n        \"min\": 35.0,\n        \"max\": 338.0,\n        \"num_unique_values\": 8,\n        \"samples\": [\n          185.46,\n          172.0,\n          35.0\n        ],\n        \"semantic_type\": \"\",\n        \"description\": \"\"\n      }\n    },\n    {\n      \"column\": \"chunk_token_count\",\n      \"properties\": {\n        \"dtype\": \"number\",\n        \"std\": 121.306799766719,\n        \"min\": 35.0,\n        \"max\": 399.75,\n        \"num_unique_values\": 8,\n        \"samples\": [\n          217.71,\n          199.25,\n          35.0\n        ],\n        \"semantic_type\": \"\",\n        \"description\": \"\"\n      }\n    }\n  ]\n}"
            }
          },
          "metadata": {},
          "execution_count": 104
        }
      ],
      "source": [
        "# Get stats about our chunks\n",
        "df = pd.DataFrame(pages_and_chunks)\n",
        "df.describe().round(2)"
      ]
    },
    {
      "cell_type": "markdown",
      "metadata": {
        "id": "2PwN7Jvg0gVD"
      },
      "source": [
        "### Lọc số câu với Token thấp\n",
        "Mình sẽ muốn kiểm tra các Chunk có số token thấp (khả năng là noise)\n",
        "\n",
        "-> Bằng cách xem các trang với ít hơn 30 tokens (độ vài trung bình của 1 câu) và mình thấy rẳng đây là các phần đầu câu (header) và cuối câu (footer) không mang lại nhiều giá trị và không đáng giữ lại."
      ]
    },
    {
      "cell_type": "code",
      "execution_count": null,
      "metadata": {
        "colab": {
          "base_uri": "https://localhost:8080/"
        },
        "id": "UH2j49mwq9kN",
        "outputId": "5a0aef9b-add8-4647-8b4a-d7e590958d98"
      },
      "outputs": [
        {
          "output_type": "stream",
          "name": "stdout",
          "text": [
            "No chunks found with token count less than or equal to 30.\n"
          ]
        }
      ],
      "source": [
        "# Show random chunks with under 30 tokens in length\n",
        "min_token_length = 30\n",
        "filtered_df = df[df[\"chunk_token_count\"] <= min_token_length]\n",
        "\n",
        "# Check if the filtered DataFrame is empty before sampling\n",
        "if not filtered_df.empty:\n",
        "    for row in filtered_df.sample(min(5, len(filtered_df))).iterrows():\n",
        "        print(f'Chunk token count: {row[1][\"chunk_token_count\"]} | Text: {row[1][\"sentence_chunk\"]}')\n",
        "else:\n",
        "    print(f\"No chunks found with token count less than or equal to {min_token_length}.\")"
      ]
    },
    {
      "cell_type": "markdown",
      "metadata": {
        "id": "4vrxGTYO1Xrc"
      },
      "source": [
        "Mình sẽ lọc DatDataFrame/danh sách của từ điển (của model) chỉ bao gồm tokens có độ dài trên 30.   "
      ]
    },
    {
      "cell_type": "code",
      "execution_count": null,
      "metadata": {
        "colab": {
          "base_uri": "https://localhost:8080/"
        },
        "id": "PH1SnQP6q-Sw",
        "outputId": "c590cd8e-cde8-45f4-ca0c-2ba8012c2b62"
      },
      "outputs": [
        {
          "output_type": "execute_result",
          "data": {
            "text/plain": [
              "[{'page_number': 0,\n",
              "  'sentence_chunk': 'Thông Tin Tuyển Sinh Trường Đại học CMC, thành lập năm 2011 và đổi tên vào năm 2022, là thành viên của Tập đoàn Công nghệ CMC, định hướng trở thành đại học số hàng đầu châu Á vào năm 2033. Năm 2025, trường tuyển sinh 1510 chỉ tiêu, tập trung vào các ngành như Công nghệ Thông tin, Khoa học Máy tính, Trí tuệ Nhân tạo, và Ngôn ngữ. Các phương thức xét tuyển bao gồm: • CMC401: Dựa trên kỳ thi CMC-TEST 2025 (30 câu Toán, 30 câu Tiếng Anh, 20 câu Tư duylogic), diễn ra Đợt 1 vào ngày 29/3/2025, đề minh họa tại [đề minh họa CMC- TEST]([invalid url, do not cite]de-minh-hoa-ky-thi-danh-gia-nang-luc-truong-dai-hoc- cmc-cmc-test-nam-2025/). • CMC200: Xét học bạ THPT, không cộng điểm ưu tiên, công thức: Ngành Kỹ thuật (Toán×2 + Môn1 + Môn2), Ngành khác (Toán + Văn + Môn1 + Môn2). • CMC100: Dựa trên kết quả thi tốt nghiệp THPT, có thể cộng điểm ưu tiên, công thức tương tự CMC200. • CMC303: Xét tuyển thẳng cho thí sinh đạt giải học sinh giỏi, chứng chỉ quốc tế như IELTS 6.0+, SAT, ACT, A-Level, hoặc học sinh trường THPT chuyên đạt loại Tốt lớp 12. Quỹ học bổng 96 tỷ VND năm 2025 bao gồm: • CMC',\n",
              "  'chunk_char_count': 1095,\n",
              "  'chunk_word_count': 214,\n",
              "  'chunk_token_count': 273.75},\n",
              " {'page_number': 0,\n",
              "  'sentence_chunk': 'Khai Phóng (100% học phí, 30 suất): Giải quốc tế/quốc gia, điểm THPT ≥35/40, IELTS 7.5+. • CMCSáng Tạo (70%, 50 suất): Giải tỉnh, 6 môn ≥9.0 (Toán bắt buộc), IELTS 7.0+. • CMC Tiên Phong (50%, 70 suất): 6 môn ≥8.5, điểm THPT ≥33/40, IELTS 6.5+. • CMC Kiến Tạo (30%, 150 suất): 6 môn ≥8.0, điểm THPT ≥32/40, IELTS 6.0+. Ưu tiên thí sinh đăng ký sớm và chọn CMC nguyện vọng 1. Chi tiết tại [tuyển sinh CMC]([invalid url, do not cite]).  Nội Quy Chế và Ưu Đãi Nội Quy Chế: Không tìm thấy thông tin công khai, có thể nằm trong cổng nội bộ, cần liên hệ nhà trường.',\n",
              "  'chunk_char_count': 559,\n",
              "  'chunk_word_count': 114,\n",
              "  'chunk_token_count': 139.75}]"
            ]
          },
          "metadata": {},
          "execution_count": 106
        }
      ],
      "source": [
        "pages_and_chunks_over_min_token_len = df[df[\"chunk_token_count\"] > min_token_length].to_dict(orient=\"records\")\n",
        "pages_and_chunks_over_min_token_len[:2] # VIew 2 page with more than 30 tokens"
      ]
    },
    {
      "cell_type": "markdown",
      "metadata": {
        "id": "5g5VJ2cD11NF"
      },
      "source": [
        "### Nhúng các đoạn văn bản\n",
        "Trong khi con người hiểu văn bản tốt, máy chỉ hiểu tốt nhất khi văn bản ở dưới dạng số.\n",
        "\n",
        "Embedding nói đơn giản nó là nhúng các tokens dạng text về dạng số.\n",
        "\n",
        "Điểm mạnh của Embedding hiện đại được gọi là *biểu diễn có thể học được*\n",
        "\n",
        "Nghĩa là thay vì chúng chỉ ánh xạ các từ/tokens/ký tự thành số (ví dụ: {\"a\": 0, \"b\": 1, \"c\": 3...}), các biểu diễn số của tokens được học bằng cách xem các tập văn bản lớn và hiểu được các token liên kết với nhau như thế nào.\n",
        "\n",
        "Để đạt được điều đó ta có thể chuyển chuyển các chunk thành các vector nhúng.\n",
        "\n"
      ]
    },
    {
      "cell_type": "code",
      "execution_count": null,
      "metadata": {
        "colab": {
          "base_uri": "https://localhost:8080/"
        },
        "collapsed": true,
        "id": "S1D8iDc3q_2A",
        "outputId": "91091f59-dba3-40cd-e06a-09980f3569c8"
      },
      "outputs": [
        {
          "output_type": "stream",
          "name": "stdout",
          "text": [
            "Requirement already satisfied: torch in /usr/local/lib/python3.11/dist-packages (2.6.0)\n",
            "Requirement already satisfied: torchvision in /usr/local/lib/python3.11/dist-packages (0.21.0)\n",
            "Requirement already satisfied: transformers in /usr/local/lib/python3.11/dist-packages (4.50.3)\n",
            "Requirement already satisfied: filelock in /usr/local/lib/python3.11/dist-packages (from torch) (3.17.0)\n",
            "Requirement already satisfied: typing-extensions>=4.10.0 in /usr/local/lib/python3.11/dist-packages (from torch) (4.12.2)\n",
            "Requirement already satisfied: networkx in /usr/local/lib/python3.11/dist-packages (from torch) (3.4.2)\n",
            "Requirement already satisfied: jinja2 in /usr/local/lib/python3.11/dist-packages (from torch) (3.1.5)\n",
            "Requirement already satisfied: fsspec in /usr/local/lib/python3.11/dist-packages (from torch) (2024.10.0)\n",
            "Requirement already satisfied: nvidia-cuda-nvrtc-cu12==12.4.127 in /usr/local/lib/python3.11/dist-packages (from torch) (12.4.127)\n",
            "Requirement already satisfied: nvidia-cuda-runtime-cu12==12.4.127 in /usr/local/lib/python3.11/dist-packages (from torch) (12.4.127)\n",
            "Requirement already satisfied: nvidia-cuda-cupti-cu12==12.4.127 in /usr/local/lib/python3.11/dist-packages (from torch) (12.4.127)\n",
            "Requirement already satisfied: nvidia-cudnn-cu12==9.1.0.70 in /usr/local/lib/python3.11/dist-packages (from torch) (9.1.0.70)\n",
            "Requirement already satisfied: nvidia-cublas-cu12==12.4.5.8 in /usr/local/lib/python3.11/dist-packages (from torch) (12.4.5.8)\n",
            "Requirement already satisfied: nvidia-cufft-cu12==11.2.1.3 in /usr/local/lib/python3.11/dist-packages (from torch) (11.2.1.3)\n",
            "Requirement already satisfied: nvidia-curand-cu12==10.3.5.147 in /usr/local/lib/python3.11/dist-packages (from torch) (10.3.5.147)\n",
            "Requirement already satisfied: nvidia-cusolver-cu12==11.6.1.9 in /usr/local/lib/python3.11/dist-packages (from torch) (11.6.1.9)\n",
            "Requirement already satisfied: nvidia-cusparse-cu12==12.3.1.170 in /usr/local/lib/python3.11/dist-packages (from torch) (12.3.1.170)\n",
            "Requirement already satisfied: nvidia-cusparselt-cu12==0.6.2 in /usr/local/lib/python3.11/dist-packages (from torch) (0.6.2)\n",
            "Requirement already satisfied: nvidia-nccl-cu12==2.21.5 in /usr/local/lib/python3.11/dist-packages (from torch) (2.21.5)\n",
            "Requirement already satisfied: nvidia-nvtx-cu12==12.4.127 in /usr/local/lib/python3.11/dist-packages (from torch) (12.4.127)\n",
            "Requirement already satisfied: nvidia-nvjitlink-cu12==12.4.127 in /usr/local/lib/python3.11/dist-packages (from torch) (12.4.127)\n",
            "Requirement already satisfied: triton==3.2.0 in /usr/local/lib/python3.11/dist-packages (from torch) (3.2.0)\n",
            "Requirement already satisfied: sympy==1.13.1 in /usr/local/lib/python3.11/dist-packages (from torch) (1.13.1)\n",
            "Requirement already satisfied: mpmath<1.4,>=1.1.0 in /usr/local/lib/python3.11/dist-packages (from sympy==1.13.1->torch) (1.3.0)\n",
            "Requirement already satisfied: numpy in /usr/local/lib/python3.11/dist-packages (from torchvision) (1.26.4)\n",
            "Requirement already satisfied: pillow!=8.3.*,>=5.3.0 in /usr/local/lib/python3.11/dist-packages (from torchvision) (11.1.0)\n",
            "Requirement already satisfied: huggingface-hub<1.0,>=0.26.0 in /usr/local/lib/python3.11/dist-packages (from transformers) (0.28.1)\n",
            "Requirement already satisfied: packaging>=20.0 in /usr/local/lib/python3.11/dist-packages (from transformers) (24.2)\n",
            "Requirement already satisfied: pyyaml>=5.1 in /usr/local/lib/python3.11/dist-packages (from transformers) (6.0.2)\n",
            "Requirement already satisfied: regex!=2019.12.17 in /usr/local/lib/python3.11/dist-packages (from transformers) (2024.11.6)\n",
            "Requirement already satisfied: requests in /usr/local/lib/python3.11/dist-packages (from transformers) (2.32.3)\n",
            "Requirement already satisfied: tokenizers<0.22,>=0.21 in /usr/local/lib/python3.11/dist-packages (from transformers) (0.21.0)\n",
            "Requirement already satisfied: safetensors>=0.4.3 in /usr/local/lib/python3.11/dist-packages (from transformers) (0.5.3)\n",
            "Requirement already satisfied: tqdm>=4.27 in /usr/local/lib/python3.11/dist-packages (from transformers) (4.67.1)\n",
            "Requirement already satisfied: MarkupSafe>=2.0 in /usr/local/lib/python3.11/dist-packages (from jinja2->torch) (3.0.2)\n",
            "Requirement already satisfied: charset-normalizer<4,>=2 in /usr/local/lib/python3.11/dist-packages (from requests->transformers) (3.4.1)\n",
            "Requirement already satisfied: idna<4,>=2.5 in /usr/local/lib/python3.11/dist-packages (from requests->transformers) (3.10)\n",
            "Requirement already satisfied: urllib3<3,>=1.21.1 in /usr/local/lib/python3.11/dist-packages (from requests->transformers) (2.3.0)\n",
            "Requirement already satisfied: certifi>=2017.4.17 in /usr/local/lib/python3.11/dist-packages (from requests->transformers) (2025.1.31)\n"
          ]
        }
      ],
      "source": [
        "!pip install --upgrade torch torchvision transformers"
      ]
    },
    {
      "cell_type": "code",
      "execution_count": null,
      "metadata": {
        "colab": {
          "base_uri": "https://localhost:8080/"
        },
        "collapsed": true,
        "id": "cdB0F87drA2U",
        "outputId": "fe8d2cc2-c744-4fde-eedc-4e6c8262772d"
      },
      "outputs": [
        {
          "output_type": "stream",
          "name": "stdout",
          "text": [
            "Sentence: Thư viện Hướng dẫn Tuyển sinh cung cấp một cách dễ dàng và mã nguồn mở để hiểu quy trình tuyển sinh.\n",
            "Embedding: [ 3.03892000e-03 -3.13988924e-02  2.32520476e-02  3.79332379e-02\n",
            "  6.93038255e-02  1.26473159e-02 -1.78797562e-02 -3.09897289e-02\n",
            "  3.11118402e-02 -4.09953743e-02 -7.15358183e-02 -1.47133395e-02\n",
            "  3.94966677e-02 -1.56046168e-04  5.88978641e-04 -1.12733934e-02\n",
            "  2.31560972e-02 -3.52201983e-02  1.14874560e-02 -4.39668708e-02\n",
            "  1.64650474e-02  1.66929350e-03  7.13780820e-02  3.21739875e-02\n",
            "  4.96647768e-02 -2.94985138e-02  2.97490917e-02 -1.88477337e-02\n",
            "  1.54604064e-02 -4.59808148e-02  4.38488722e-02  2.14526430e-02\n",
            " -8.97644646e-03 -4.49965857e-02  2.61578589e-06 -6.14705607e-02\n",
            " -5.29972184e-03 -3.59376371e-02 -3.80704068e-02  3.33713517e-02\n",
            "  3.24028283e-02  7.24161370e-03 -4.47000004e-03 -1.32950507e-02\n",
            " -1.13837644e-02  4.62341681e-02 -1.93560421e-02  6.61457703e-02\n",
            "  3.30714101e-04 -1.33659318e-02  6.28986489e-03 -1.79290902e-02\n",
            " -3.40356566e-02 -5.34312390e-02  2.58994550e-02 -2.69202329e-02\n",
            "  9.84348357e-03  1.37540087e-01  2.38182340e-02 -4.20759171e-02\n",
            " -3.98582406e-02 -4.04659733e-02 -1.26686785e-02 -2.84279920e-02\n",
            " -2.30873213e-03  1.46495095e-02  3.65514085e-02  4.23354432e-02\n",
            "  6.86090579e-03  3.76638509e-02  1.47551792e-02 -8.42122920e-03\n",
            " -9.54741891e-03  7.34312683e-02  4.05433662e-02 -2.02453844e-02\n",
            " -3.83266062e-02 -3.18853222e-02  2.40021083e-03 -1.77466609e-02\n",
            "  8.84720907e-02 -1.57215726e-02  5.54997614e-03  2.17688717e-02\n",
            " -5.71415313e-02 -1.31409571e-01 -2.13705786e-02 -2.12637205e-02\n",
            " -2.17306968e-02 -3.98585983e-02 -4.49356996e-02  2.89820395e-02\n",
            "  1.14478208e-02 -1.16885558e-03  2.97679119e-02 -3.45507897e-02\n",
            "  2.70845648e-02  3.34839970e-02 -5.88487787e-03 -2.08029430e-02\n",
            " -6.01369701e-02  5.01837134e-02 -4.17642854e-02  2.63295081e-02\n",
            " -1.37050904e-03  2.09934115e-02 -1.54413944e-02  9.65444837e-03\n",
            " -2.68015489e-02 -1.54105593e-02 -4.40119468e-02 -1.22111337e-02\n",
            " -1.48612326e-02  8.67831111e-02  2.31347866e-02 -8.86408519e-03\n",
            " -4.10015769e-02 -1.06834322e-02 -7.75870308e-03 -2.39043348e-02\n",
            "  7.57694244e-02  2.56408732e-02 -8.69747475e-02  3.48401838e-03\n",
            "  4.23116535e-02  5.72878718e-02  8.33495811e-04  4.53577004e-02\n",
            " -1.15578733e-02 -5.63027449e-02  2.29415148e-02  1.50304195e-02\n",
            " -5.43417688e-03 -6.76623359e-03  3.05793658e-02  2.29676999e-02\n",
            " -6.45687804e-02  6.58373535e-02  5.19997552e-02  1.29455846e-04\n",
            " -3.25663351e-02 -1.87356342e-02 -5.10333106e-03 -6.16055354e-02\n",
            " -7.77855664e-02 -4.94488366e-02  7.48724639e-02 -2.64977273e-02\n",
            " -2.75882520e-02  3.53623368e-03 -4.55586798e-03 -1.29687088e-02\n",
            " -3.75235677e-02  2.25380398e-02 -2.91056396e-03  1.53057966e-02\n",
            "  1.93760432e-02  5.41257439e-04  2.25558132e-03 -4.65399236e-04\n",
            " -5.80463093e-03 -1.62452720e-02 -7.31367758e-03 -3.92656513e-02\n",
            "  4.36234400e-02 -2.04616394e-02 -2.03599669e-02  3.25150527e-02\n",
            "  2.45859679e-02  1.65890120e-02  9.50086489e-03  4.39364575e-02\n",
            " -8.52032285e-03  2.59513035e-02 -4.70724981e-03 -4.78506088e-02\n",
            " -3.64422303e-04 -8.05272982e-02 -3.96679901e-02 -2.29357537e-02\n",
            "  1.42213032e-02 -1.18626580e-02  5.51114455e-02  7.44897686e-03\n",
            " -5.40593192e-02  2.07018293e-02 -1.95562728e-02  3.23525257e-02\n",
            " -2.95960158e-02 -1.29051376e-02  3.26127075e-02  3.09730619e-02\n",
            " -3.99135239e-02  4.00423892e-02 -3.65557447e-02  2.59557962e-02\n",
            "  2.72561088e-02 -2.33932445e-03  9.69778374e-03 -6.11096853e-03\n",
            " -7.19047990e-03 -3.43780853e-02  4.49404493e-02 -3.82798575e-02\n",
            " -1.05869370e-02  5.41217066e-02  1.15997589e-03 -1.21812942e-02\n",
            "  4.73735929e-02 -3.39036696e-02  2.24392824e-02 -4.47507985e-02\n",
            "  8.30101664e-04  1.35276467e-02  1.53144011e-02  2.39547007e-02\n",
            " -1.94208641e-02  3.80056836e-02 -3.88869494e-02  5.89515977e-02\n",
            "  1.99930854e-02  6.70205429e-02 -3.61193642e-02  2.53291409e-02\n",
            "  3.10919601e-02 -1.17844967e-02  7.98437372e-03  5.37555013e-03\n",
            "  9.27347876e-03  8.69202316e-02 -2.83035506e-02  8.70213937e-03\n",
            "  2.36895103e-02  7.13283010e-03  5.62583543e-02  4.59142588e-02\n",
            "  3.03968806e-02 -8.44031423e-02  3.05764657e-02 -1.02182617e-02\n",
            " -1.07344391e-03  3.12688425e-02  2.46888082e-02 -5.03642708e-02\n",
            " -3.38640735e-02  3.75786722e-02 -2.76234988e-02 -4.19418439e-02\n",
            " -4.47550230e-03 -1.27790682e-02  6.20497130e-02  1.56344306e-02\n",
            "  6.73729852e-02 -5.02610356e-02  3.95805063e-03  7.17468187e-02\n",
            "  1.05442088e-02  1.37280207e-02 -4.55200337e-02 -2.35123802e-02\n",
            " -2.17113923e-03  6.81821536e-03 -1.44524081e-02 -1.55664748e-02\n",
            "  8.45556781e-02  3.93821374e-02 -2.75371550e-03 -2.24070996e-02\n",
            " -2.27363463e-02 -4.61160252e-03 -5.67962369e-03  4.21041213e-02\n",
            "  1.06527731e-02 -1.03956489e-02 -4.53920960e-02  3.57738659e-02\n",
            " -1.94339678e-02  2.32099835e-02 -1.11875329e-02  5.61924884e-03\n",
            "  3.72385904e-02  2.16330774e-02 -2.98632700e-02  2.69844960e-02\n",
            "  2.27872692e-02 -1.43680330e-02  4.15581912e-02 -1.49771243e-01\n",
            "  2.11531315e-02  7.42608868e-03 -9.43916850e-04 -3.37360799e-02\n",
            "  6.20681094e-03 -6.62517734e-03  2.09768601e-02  1.51488548e-02\n",
            " -7.64057189e-02 -1.40620843e-02 -4.93109226e-03  1.35957282e-02\n",
            " -3.45810340e-03 -1.89568587e-02  9.91396327e-03 -1.30380802e-02\n",
            "  6.78904401e-03 -2.74729053e-03  1.35596590e-02 -6.93780780e-02\n",
            "  7.64848990e-03 -3.94434184e-02  4.74122837e-02 -1.41313467e-02\n",
            "  1.66712422e-02 -7.17141777e-02 -2.44896635e-02  1.32755563e-03\n",
            " -5.43666817e-02  2.43196674e-02  3.04673109e-02 -2.57571433e-02\n",
            "  1.21635525e-02  3.70234959e-02  3.68163511e-02  2.62862034e-02\n",
            " -2.88408492e-02  5.39473956e-03  3.06365322e-02 -4.75752056e-02\n",
            "  6.57311752e-02 -6.54122382e-02  1.33179519e-02  5.80083858e-03\n",
            " -6.36252686e-02 -1.68115385e-02  8.68681632e-03 -8.34536999e-02\n",
            "  1.25548607e-02  5.27570881e-02  3.41803990e-02  4.71238804e-04\n",
            " -1.30182430e-02 -5.51095419e-02 -8.76550970e-04  1.67813431e-02\n",
            " -8.67397785e-02  2.12881081e-02  9.64055653e-05  2.58905273e-02\n",
            "  7.59413391e-02 -3.81332338e-02 -5.76564372e-02 -6.14459254e-02\n",
            "  8.31602514e-03 -3.25115249e-02  6.07689330e-03  5.79944290e-02\n",
            "  1.70014352e-02  2.95020696e-02 -8.05552118e-03  3.85886878e-02\n",
            "  4.24894579e-02  1.66355111e-02 -2.54783481e-02  6.03904910e-02\n",
            "  3.44491787e-02  3.22110280e-02  2.88969465e-02  7.81165957e-02\n",
            "  1.03625925e-02 -4.38904995e-03 -1.03201875e-02 -4.24246714e-02\n",
            "  1.55973723e-02  4.62707058e-02 -3.08164340e-02 -9.01306234e-03\n",
            " -2.20860858e-02  1.30881015e-02  6.51394874e-02  8.84246826e-03\n",
            "  3.16328555e-02 -7.09970891e-02 -1.86974406e-02 -1.13294153e-02\n",
            " -2.46751998e-02  2.18470264e-02  1.90921947e-02 -7.54537992e-03\n",
            " -5.49882241e-02  2.08638664e-02  4.67173494e-02  5.72369173e-02\n",
            " -1.06912851e-02 -6.58898242e-03  1.93855818e-03 -3.58624919e-03\n",
            " -1.25809554e-02  1.00206733e-02 -1.24001913e-02  1.34498598e-02\n",
            " -3.34634050e-03  5.33247963e-02  4.21102606e-02  8.19589570e-02\n",
            "  1.00599397e-02  3.87523212e-02  8.39711912e-03  1.71174109e-02\n",
            "  1.05574052e-03 -7.35733984e-03  4.71097417e-02  5.34033552e-02\n",
            "  5.94332255e-02 -3.81045369e-03 -9.97634530e-02 -1.63325183e-02\n",
            "  2.67773047e-02 -3.98994498e-02  7.50835091e-02 -7.03168213e-02\n",
            "  3.58085670e-02  1.18082650e-02  5.96303213e-03 -3.89844738e-02\n",
            "  1.65608916e-02  1.07866740e-02  8.82780626e-02  2.42179837e-02\n",
            " -7.21711712e-03 -3.66353691e-02 -4.16428447e-02  1.24766445e-02\n",
            " -3.23588587e-02 -3.88012528e-02 -1.29985074e-02 -2.55757198e-02\n",
            "  1.04129585e-02 -1.79580562e-02 -3.32490280e-02 -4.94948402e-02\n",
            " -2.04125121e-02 -5.20954467e-02  2.47326978e-02  2.37412807e-02\n",
            "  5.17079197e-02  9.16783046e-03  4.18175906e-02  3.34103815e-02\n",
            " -5.15654683e-02 -7.64816627e-02 -4.97822277e-03 -2.24652905e-02\n",
            "  3.62608880e-02 -4.54206914e-02 -2.00008657e-02  1.39127523e-02\n",
            " -7.84546807e-02 -6.33548871e-02  3.61356814e-03  2.49291416e-02\n",
            " -2.04605348e-02 -3.32347024e-03 -1.24705564e-02  4.31887023e-02\n",
            " -1.69284046e-02 -4.56573777e-02 -9.36806425e-02  2.80553997e-02\n",
            "  3.91274923e-03 -1.20091913e-02 -2.74375137e-02  6.13386277e-03\n",
            " -1.53239956e-02 -4.50546527e-03  1.01269223e-02 -2.94857621e-02\n",
            "  8.68057832e-03 -1.95465479e-02  4.01741415e-02  1.72740128e-02\n",
            "  2.69791186e-02 -2.12858599e-02 -9.23334528e-03  6.20585009e-02\n",
            " -4.53748181e-02 -3.40133086e-02  6.44526910e-03 -4.26404588e-02\n",
            "  1.09297186e-02 -8.94213002e-03  3.39192115e-02 -5.15789092e-02\n",
            "  1.48813426e-02 -5.66945188e-02  1.95667539e-02 -6.51021078e-02\n",
            " -3.79278697e-03  6.86802063e-03 -4.77491599e-03  2.37007812e-02\n",
            " -4.56435196e-02  3.63253430e-02 -1.51394187e-02  2.75733303e-02\n",
            "  1.19510412e-04  8.88018217e-03 -2.12853886e-02  6.42565778e-03\n",
            " -6.94580423e-03 -9.50163882e-03  1.69080850e-02 -3.58421467e-02\n",
            "  1.59858912e-02 -1.18491083e-01 -2.46199556e-02 -7.59752989e-02\n",
            "  3.74374824e-04 -6.85086055e-03 -4.41241171e-03 -5.65487593e-02\n",
            "  1.66316964e-02 -2.90778074e-02 -1.95226204e-02 -1.29954303e-02\n",
            " -4.65745144e-02 -1.90113112e-02 -2.08042730e-02  2.17837485e-04\n",
            " -1.06748575e-02  8.08307752e-02 -1.35676172e-02  4.60689478e-02\n",
            "  2.81656440e-03 -1.22805974e-02 -1.06672226e-02  1.26917986e-03\n",
            "  2.87880264e-02  1.35960970e-02 -5.64861968e-02  8.15338548e-03\n",
            "  3.47837470e-02 -5.02935657e-03 -3.02993041e-02  2.33429149e-02\n",
            "  4.09165621e-02  7.25636929e-02 -1.73233524e-02 -3.18169706e-02\n",
            "  1.98974796e-02  2.64082272e-02 -3.83504406e-02  1.47032691e-02\n",
            " -1.06337080e-02  9.01038572e-03  6.43665642e-02 -7.62305809e-33\n",
            "  1.02775665e-02 -3.09411567e-02  1.93621824e-03 -4.20444347e-02\n",
            " -6.67844526e-03 -3.07588987e-02  1.28390333e-02  3.01265884e-02\n",
            " -4.56084386e-02 -2.08429084e-03 -8.63372255e-03  7.01076239e-02\n",
            "  1.26296263e-02  2.55777780e-02  2.12115683e-02  1.65500641e-02\n",
            " -2.57558506e-02 -4.08425555e-02  9.41171311e-03 -2.53387559e-02\n",
            "  2.17728037e-02  2.02039555e-02 -6.16222098e-02 -2.35626921e-02\n",
            "  4.61475551e-02  7.50085572e-04 -2.70359013e-02  1.12802200e-02\n",
            " -4.39495733e-03  1.62129744e-03 -3.53250988e-02 -4.69761901e-02\n",
            "  1.66434906e-02  5.26726767e-02 -2.63467096e-02  1.18819845e-03\n",
            " -5.48172221e-02 -1.69050470e-02 -3.64418961e-02 -3.84607874e-02\n",
            " -2.06850413e-02  2.84205116e-02 -8.19777697e-02  2.05257889e-02\n",
            " -1.10625317e-02  2.88953334e-02 -4.38957065e-02 -3.65728848e-02\n",
            "  6.93559945e-02  2.96180369e-03 -4.93079238e-02  1.28780054e-02\n",
            "  2.28191782e-02 -3.47275957e-02 -6.00299705e-03  7.12528676e-02\n",
            " -3.65067795e-02 -3.58025618e-02 -3.00134737e-02 -5.62624726e-03\n",
            "  8.96475744e-03  2.51868274e-02 -2.05638930e-02  2.72117592e-02\n",
            "  9.88623220e-03 -1.55147826e-02  6.64622113e-02 -7.57149234e-03\n",
            "  1.36278048e-02  4.64101247e-02  1.25148064e-02 -7.65718613e-03\n",
            " -2.70020831e-02 -5.86797446e-02  1.50824608e-02 -7.70808086e-02\n",
            " -2.33803298e-02 -1.79809798e-02 -1.64002758e-02  2.17237175e-02\n",
            " -2.49505462e-03  5.39552569e-02 -2.24342458e-02 -3.88097055e-02\n",
            "  3.88494395e-02  7.37710819e-02 -1.94673818e-02  1.77946184e-02\n",
            "  6.00853143e-03  1.36999050e-02 -4.46758084e-02  1.27728451e-02\n",
            "  6.31269962e-02 -3.19058411e-02  3.81665714e-02 -2.35425737e-02\n",
            " -2.81078927e-02  3.53344949e-03 -2.25167610e-02  1.73766222e-02\n",
            " -2.71726772e-02  2.87302467e-03 -3.98064330e-02 -2.34324969e-02\n",
            " -2.01935205e-03  8.31299287e-04  5.91628440e-02  1.46031128e-02\n",
            " -1.68243703e-02 -2.03208392e-03  5.04456311e-02 -7.73298219e-02\n",
            "  4.52988856e-02 -4.18749452e-02 -1.14726657e-02  2.07343102e-02\n",
            "  2.17218567e-02 -1.32928090e-02 -1.67728239e-03 -4.27654050e-02\n",
            " -5.85189722e-02  1.89979393e-02  3.42021473e-02 -2.18113288e-02\n",
            " -5.35856634e-02  1.09776240e-02 -1.60037018e-02  6.85704723e-02\n",
            "  9.56517644e-03 -3.03357909e-03 -1.36034479e-02  3.64754833e-02\n",
            "  3.18514111e-07  2.01603007e-02 -2.26126462e-02  6.32090569e-02\n",
            "  5.88839799e-02  2.82742959e-02 -7.19109625e-02  2.47278549e-02\n",
            "  1.72399543e-02 -2.60667745e-02 -1.40246302e-02  4.88948636e-02\n",
            " -3.87075357e-02  2.55395249e-02 -2.33388646e-03 -7.60283787e-03\n",
            " -3.42100337e-02  2.76152696e-02 -2.01208354e-03 -2.67243246e-03\n",
            " -9.87016875e-03 -5.01174619e-03  2.59018913e-02 -5.90610206e-02\n",
            " -3.16098370e-02  3.10451742e-02  6.02332801e-02  6.40600026e-02\n",
            "  7.03969097e-04  3.34870182e-02  4.36723456e-02  8.59417319e-02\n",
            " -4.11902517e-02 -1.20129641e-02 -2.93808356e-02  2.14621555e-02\n",
            "  1.01636117e-02  6.67720810e-02 -4.06381581e-03 -1.44332219e-02\n",
            "  4.85177636e-02 -5.90416491e-02 -1.24458252e-02 -4.11833115e-02\n",
            " -2.70026959e-02  1.91375092e-02  4.89817746e-02 -1.29627483e-02\n",
            " -3.01153474e-02  1.15850672e-01 -1.46005088e-02  1.63027011e-02\n",
            " -4.80268374e-02  1.20927710e-02  1.97910145e-02  3.12448200e-02\n",
            "  4.64435853e-02 -5.16394190e-02 -3.69719090e-03  3.27155762e-03\n",
            "  5.75850625e-03 -3.49038839e-02  9.23492666e-03  4.04255874e-02\n",
            " -3.56127918e-02  4.14877757e-02 -4.35109884e-02 -7.38221593e-03\n",
            "  2.87048397e-34  1.40425339e-02 -9.52698663e-03 -5.09866420e-03\n",
            " -8.64294544e-03  2.62174010e-02 -5.98652065e-02  3.38837132e-02\n",
            " -4.89824079e-02  4.27073613e-02 -2.35716216e-02 -1.92349851e-02]\n",
            "\n",
            "Sentence: Hồ sơ có thể được nộp từng cái một hoặc dưới dạng danh sách các tài liệu.\n",
            "Embedding: [ 2.60050204e-02 -5.05708810e-03  2.33132001e-02  3.32081281e-02\n",
            "  3.80349681e-02  2.88035385e-02 -3.86796258e-02  1.19282492e-02\n",
            "  2.01680344e-02 -2.09370740e-02 -5.14139310e-02 -9.31835361e-03\n",
            "  5.04679047e-02 -1.78306345e-02  2.57013775e-02 -2.09344700e-02\n",
            " -2.49788687e-02 -1.45151112e-02 -1.17264641e-02 -5.79795018e-02\n",
            " -2.32272372e-02  2.55636349e-02  3.75009887e-02  6.17272854e-02\n",
            "  4.37871441e-02 -7.95077160e-02  3.25689986e-02  3.33146937e-03\n",
            "  1.35851745e-02 -4.33826037e-02  4.28153872e-02  2.15271600e-02\n",
            " -5.01222275e-02 -5.28879883e-03  2.37633230e-06 -6.24702312e-02\n",
            "  3.06245703e-02 -1.09236166e-02 -6.71298429e-02  1.57061778e-02\n",
            "  1.41981049e-02 -5.40059153e-03 -1.28966188e-02 -2.55589280e-02\n",
            " -7.09264306e-04  1.17664505e-03  1.21532641e-02  2.78642271e-02\n",
            "  1.12205576e-02  1.71687249e-02  5.00205019e-03  1.87331028e-02\n",
            " -5.15935421e-02 -2.82653756e-02  4.24758419e-02 -8.92294105e-03\n",
            "  1.38327796e-02  4.69841808e-02  5.06447330e-02 -1.32327238e-02\n",
            " -3.14795859e-02 -4.31088917e-02  5.59459673e-03 -4.93542068e-02\n",
            " -3.87556269e-03  6.15903409e-03 -2.55207811e-02  5.14957123e-02\n",
            "  1.06983064e-02  5.19875921e-02  3.01057175e-02 -5.08574955e-03\n",
            " -1.88967362e-02  1.19308159e-01  5.82483076e-02 -5.13262413e-02\n",
            " -2.73151547e-02 -2.83836736e-04  6.76135253e-03 -3.21259983e-02\n",
            "  7.12396204e-02 -3.95084135e-02 -1.31829921e-02  2.71665100e-02\n",
            " -2.82212701e-02 -5.16475998e-02 -3.22656222e-02 -5.93499020e-02\n",
            " -2.95467190e-02 -3.46254334e-02 -2.90111899e-02  4.13855575e-02\n",
            "  2.27343254e-02  3.84063981e-02  5.71060041e-03 -3.02769169e-02\n",
            "  2.95963939e-02  4.07762006e-02 -2.46455800e-02 -6.96731284e-02\n",
            " -4.07856144e-02  3.84919047e-02 -1.01777397e-01  5.67772426e-02\n",
            " -3.42822894e-02  6.25693873e-02  1.83580853e-02  8.51311907e-03\n",
            " -2.80650258e-02 -3.61345150e-02 -6.60405681e-02 -3.86971608e-02\n",
            "  4.13034856e-03  7.65020624e-02 -7.59603735e-03 -8.51186272e-03\n",
            " -1.64364148e-02 -3.54415178e-03 -3.28503512e-02  3.55330259e-02\n",
            "  7.39508271e-02  1.34687703e-02 -5.48526272e-02  1.35881305e-02\n",
            "  2.55202129e-02  4.70879450e-02  1.00577706e-02  2.35663801e-02\n",
            " -4.79295366e-02 -3.78145985e-02 -1.32621673e-04  3.27955969e-02\n",
            "  2.24880558e-02  4.75967448e-04  3.38340588e-02  1.77786145e-02\n",
            " -4.27678674e-02  5.71861938e-02  4.08879481e-02 -1.15288859e-02\n",
            " -2.86591295e-02  4.65254940e-04 -1.87432226e-02 -2.92963069e-02\n",
            " -6.68493435e-02 -3.38335447e-02  8.48974437e-02  1.49897849e-02\n",
            " -5.34858070e-02 -1.97718795e-02 -6.09480925e-02  1.01479124e-02\n",
            " -3.86517532e-02  3.29552107e-02  3.38727497e-02  3.16553116e-02\n",
            " -1.75142586e-02  2.59389114e-02 -1.09068658e-02 -3.09241693e-02\n",
            "  1.45572983e-02 -9.43020917e-03 -1.39482170e-02 -3.05008423e-02\n",
            " -1.49738770e-02 -1.57260671e-02  2.17506252e-02  3.63060795e-02\n",
            " -2.00998951e-02 -1.18778730e-02  1.54343946e-02  5.99603914e-02\n",
            " -8.48529208e-03  3.34159024e-02 -1.01974583e-03 -8.41649715e-03\n",
            "  5.12794852e-02 -4.50531766e-02 -3.00670061e-02 -3.02234814e-02\n",
            "  3.16620916e-02 -3.82813849e-02  4.43884395e-02  7.26129301e-03\n",
            " -6.98166862e-02 -3.28508718e-03 -1.80286895e-02  5.77694131e-03\n",
            " -2.98515782e-02  3.37220868e-03  2.24159714e-02  9.67335072e-04\n",
            " -2.66089663e-02  7.06872670e-03 -3.16171050e-02  4.09644879e-02\n",
            "  4.72749695e-02  3.14845610e-03  1.90503374e-02  4.59077442e-03\n",
            " -1.87186282e-02 -3.24029550e-02  4.06699441e-02 -4.88536209e-02\n",
            " -4.23307298e-03  5.82736731e-02  2.56878119e-02 -2.55279765e-02\n",
            " -4.14421149e-02 -2.15313956e-02 -1.52362809e-02 -4.55186404e-02\n",
            "  1.33164926e-02  3.87696885e-02  3.25425044e-02  4.31995317e-02\n",
            "  6.52167993e-03  1.70513187e-02 -6.03912175e-02  7.26266876e-02\n",
            "  1.66269634e-02  6.23104423e-02 -4.95199636e-02  1.40335551e-02\n",
            "  7.89527595e-02 -9.48397629e-03  1.39371129e-02 -9.54854023e-03\n",
            "  4.33801189e-02  9.58968922e-02 -3.05251335e-03  1.76597703e-02\n",
            " -8.94108694e-03  2.46974174e-03  2.81419773e-02  1.71177480e-02\n",
            "  1.43255275e-02 -8.86385068e-02  5.10064363e-02  3.93336499e-03\n",
            "  3.44853960e-02 -1.77142918e-02  4.50817794e-02 -2.73704845e-02\n",
            " -1.61223002e-02  3.99481617e-02 -2.03205980e-02 -3.80930901e-02\n",
            "  4.20791022e-02 -3.57608162e-02  3.51661220e-02  5.13970107e-03\n",
            "  5.76592125e-02 -3.88737246e-02  3.62652503e-02  7.65831992e-02\n",
            "  4.89285290e-02 -1.52294710e-02 -2.87768785e-02 -2.17649434e-02\n",
            "  7.26795848e-03  1.40279746e-02 -4.43867072e-02 -3.26243043e-02\n",
            "  7.85980821e-02  5.99019304e-02 -3.87868360e-02 -5.09526208e-02\n",
            " -2.49009319e-02 -7.46258115e-03 -1.94532368e-02  5.80219105e-02\n",
            " -2.30508111e-02 -1.04292622e-03 -3.29411738e-02  4.58282456e-02\n",
            "  1.26731012e-03 -4.07798626e-02  3.11292000e-02 -3.11235189e-02\n",
            "  2.05035345e-03  6.08826466e-02 -1.10603636e-03  3.48888785e-02\n",
            "  3.87749486e-02 -1.07854530e-02  2.47274078e-02 -6.50797337e-02\n",
            " -1.41776800e-02 -8.63108411e-03 -3.51256840e-02 -4.65267152e-02\n",
            "  4.38389275e-03 -2.21067201e-02  2.51286593e-03  3.88543941e-02\n",
            " -2.82356888e-02  6.02303585e-03  1.43267559e-02  5.37155271e-02\n",
            " -3.31664346e-02 -1.27958516e-02  1.37225185e-02 -2.95215249e-02\n",
            "  4.09995988e-02  2.47215200e-02  5.56844845e-03 -6.77567034e-04\n",
            " -3.71977650e-02 -2.00392511e-02  4.16322649e-02 -2.58614570e-02\n",
            "  7.33168272e-05 -1.34619743e-01 -5.42294048e-02  3.73967807e-03\n",
            "  8.56932998e-03 -3.56601924e-02  8.87523219e-03 -6.72690123e-02\n",
            " -1.02388961e-02  5.33022843e-02  1.17321145e-02  1.58659760e-02\n",
            " -5.77627942e-02  2.11903881e-02  1.22857350e-03 -4.60183844e-02\n",
            "  8.79867896e-02 -2.74199788e-02  8.23537994e-04  2.54334253e-03\n",
            " -4.13986072e-02 -1.24765383e-02 -2.18342151e-02 -6.26099557e-02\n",
            " -1.20126856e-02 -1.26961870e-02  5.11301644e-02 -5.11342427e-03\n",
            " -2.00938452e-02 -6.94058463e-02  3.81943560e-03  4.51598018e-02\n",
            " -7.19972104e-02  2.60311700e-02 -1.73151065e-02  2.92293541e-02\n",
            "  7.02738315e-02 -3.67223838e-04 -5.32992594e-02 -2.95596197e-02\n",
            " -7.53350463e-03 -3.41345556e-02 -1.40792625e-02  5.95995709e-02\n",
            "  4.02312241e-02  2.55175438e-02 -2.28919052e-02  2.79917717e-02\n",
            "  4.48872000e-02 -9.81794111e-03 -3.03715449e-02  5.67989983e-02\n",
            " -1.16626620e-02  1.35857835e-02  5.10665886e-02  7.81731606e-02\n",
            "  4.92608501e-03  1.93522219e-02 -6.87811105e-03 -1.02323378e-02\n",
            "  1.13069704e-02  6.31936938e-02 -2.41082888e-02 -3.97124477e-02\n",
            " -1.16835469e-02 -5.98555023e-04  4.39724922e-02 -1.28283841e-03\n",
            "  2.66566128e-03 -2.43755188e-02  8.20758566e-03 -1.01939496e-02\n",
            " -5.18723689e-02 -2.63377815e-03 -9.22192296e-04  1.17379585e-02\n",
            " -3.78278568e-02  4.08182703e-02  3.50779109e-02  2.59989519e-02\n",
            " -1.00632226e-02 -6.04145899e-02 -4.48227488e-03 -1.48418127e-02\n",
            " -2.08309386e-02  2.99896114e-02 -7.49600818e-03 -3.49117327e-03\n",
            " -1.42235737e-02  4.44037430e-02  3.62097844e-02  8.19605067e-02\n",
            " -1.49866445e-02  4.84072194e-02  1.93268415e-02  2.24505458e-02\n",
            "  2.64013428e-02  4.10032719e-02  6.15291484e-02  2.33319979e-02\n",
            "  3.94988209e-02 -9.47110821e-03 -1.01975808e-02 -3.59059945e-02\n",
            "  3.43328826e-02 -6.14598840e-02  9.18213651e-02 -5.00909686e-02\n",
            "  5.04667126e-02  2.99553722e-02 -1.89147629e-02 -7.08981510e-03\n",
            " -1.74838118e-02  3.49575989e-02  6.19031675e-02  3.51641513e-02\n",
            "  3.36391991e-03 -2.88521629e-02 -3.62259410e-02  2.20970903e-02\n",
            " -5.21061048e-02 -5.16802482e-02  1.58956572e-02 -1.61408458e-03\n",
            " -2.69559352e-03 -3.31990272e-02 -3.06942035e-02 -2.50666942e-02\n",
            " -1.46843530e-02 -5.27594388e-02  2.23985761e-02  2.51938254e-02\n",
            "  2.13707369e-02  2.24004537e-02  4.57138047e-02  6.03415668e-02\n",
            " -1.85902882e-02 -8.50425214e-02 -2.90812757e-02 -1.35214301e-02\n",
            "  3.65509875e-02 -1.75526682e-02  1.85313970e-02  3.85335684e-02\n",
            " -1.04460754e-01 -8.99565779e-03  5.84277138e-03  1.99900530e-02\n",
            " -4.01571728e-02  7.30892597e-03 -1.83404833e-02  3.05109508e-02\n",
            " -3.28686386e-02 -1.35893868e-02 -2.77610067e-02 -6.31960630e-02\n",
            " -5.72390854e-03 -1.85917486e-02 -4.95487824e-02 -5.94595540e-03\n",
            " -1.59021541e-02  2.00753231e-02  2.50112219e-03 -1.40924137e-02\n",
            "  7.53477961e-03 -2.71997452e-02 -1.00500993e-02  4.26812842e-02\n",
            "  2.69681159e-02 -1.82342790e-02 -5.02069574e-03  6.18909374e-02\n",
            " -3.10586356e-02 -1.05292145e-02 -2.91613839e-03 -3.86255793e-02\n",
            "  2.16301288e-02 -4.42563705e-02  9.18080565e-03 -6.54184297e-02\n",
            "  1.46011608e-02 -6.45700172e-02  3.08416225e-02 -2.27954779e-02\n",
            " -1.25130331e-02 -2.37746034e-02  2.84788590e-02  4.88731340e-02\n",
            " -4.05767672e-02 -4.97784652e-03  1.74881388e-02  1.46772964e-02\n",
            " -1.91837698e-02  2.43012626e-02  2.11329423e-02  3.27554084e-02\n",
            "  7.87537359e-03  9.14258230e-03  5.89926019e-02 -2.80658919e-02\n",
            "  1.26567626e-04 -1.21314131e-01 -1.05974972e-02 -4.52592745e-02\n",
            "  3.42043452e-02 -3.45215946e-02  1.71101652e-02 -8.08083937e-02\n",
            "  2.27890164e-02 -5.07781766e-02 -5.15862107e-02 -3.75678353e-02\n",
            " -4.76986095e-02 -3.63168977e-02  1.69049352e-02  9.69040208e-03\n",
            " -1.55804642e-02  6.52782917e-02 -2.67855637e-03  4.19013985e-02\n",
            " -2.17055218e-04 -7.66184973e-03 -1.65924989e-02 -2.02794466e-02\n",
            "  3.53179686e-02  1.53075568e-02 -4.64293547e-02  3.66742676e-03\n",
            " -1.38626955e-02 -8.24402180e-03  4.96226072e-04 -2.28304248e-02\n",
            "  1.41975554e-02  1.01470210e-01  6.92751841e-04 -1.83455348e-02\n",
            " -3.08090635e-03  2.77269166e-02 -5.74024618e-02 -5.93939936e-03\n",
            "  5.56390826e-03 -4.94849402e-03  5.72331622e-02 -7.52812957e-33\n",
            " -9.70048737e-03 -7.00508570e-03 -1.37567045e-02 -4.01054882e-02\n",
            " -1.52504994e-02 -9.87224374e-03  1.27786584e-02  3.95624004e-02\n",
            " -3.41521874e-02 -1.16404090e-02 -2.72614267e-02  4.85218801e-02\n",
            "  7.90531561e-03  4.33434620e-02  4.74586971e-02 -4.70789568e-03\n",
            " -3.93713824e-02 -7.33067840e-03 -2.31730919e-02 -7.33242556e-02\n",
            "  1.83341987e-02  8.90686363e-03 -3.26444954e-02 -3.32976952e-02\n",
            "  4.21632156e-02  1.97211113e-02 -1.34228431e-02  2.73768179e-04\n",
            "  2.68049967e-02  1.66957360e-02 -1.89594328e-02 -2.21960316e-03\n",
            "  2.31971443e-02  7.46716112e-02  1.82370339e-02 -3.68233547e-02\n",
            " -5.76296747e-02 -1.32396314e-02 -3.51188928e-02 -3.54934819e-02\n",
            " -3.49507891e-02  1.22401761e-02 -7.91325271e-02  3.80999781e-02\n",
            " -2.07764586e-03  9.46171023e-03 -3.49344239e-02 -6.73367009e-02\n",
            "  4.86203432e-02  6.37520328e-02 -4.94961143e-02  2.43199933e-02\n",
            " -1.65298432e-02 -5.89105077e-02 -2.72136065e-03  3.12516131e-02\n",
            " -2.53680740e-02 -7.87411537e-03 -7.43367970e-02  1.44522535e-02\n",
            " -3.60265672e-02  5.98976985e-02 -9.35154781e-03  3.60821076e-02\n",
            "  3.49542461e-02 -3.11768614e-02  2.68507320e-02  4.56431508e-03\n",
            "  3.72855272e-03  2.13180343e-03  1.20359659e-02 -4.16215658e-02\n",
            " -2.88341548e-02 -5.13239950e-02  3.01855505e-02 -6.09049164e-02\n",
            "  3.22092474e-02 -2.61413436e-02 -5.74946310e-03  1.62452962e-02\n",
            " -2.88493559e-03  5.19024543e-02 -1.99872851e-02 -3.97468433e-02\n",
            "  2.12578122e-02  3.32423374e-02 -2.33442821e-02  2.57696435e-02\n",
            " -1.61594606e-03  2.41080602e-03 -2.44298503e-02  4.96390369e-03\n",
            "  5.35485074e-02 -1.78369023e-02  1.64342467e-02 -5.85218295e-02\n",
            " -3.14380713e-02  1.79802012e-02 -1.97423082e-02  5.57044595e-02\n",
            " -2.83774808e-02 -5.97439520e-03 -1.84560046e-02 -2.78616734e-02\n",
            " -3.13026495e-02  1.44615099e-02  3.51853482e-02  1.07163526e-02\n",
            " -1.72109473e-02 -1.47736594e-02  4.65261601e-02 -1.05304956e-01\n",
            "  6.67404085e-02 -5.37318140e-02 -2.98036691e-02  3.46593186e-02\n",
            "  3.43171544e-02  3.33686848e-03  2.11861124e-03 -3.44534777e-02\n",
            " -2.96507776e-02 -5.18203108e-03  5.64351445e-03 -3.87735367e-02\n",
            " -4.34694514e-02  2.88895778e-02 -1.89023074e-02  5.71980998e-02\n",
            " -3.31186652e-02 -2.15889867e-02 -2.94055208e-04  4.23698127e-02\n",
            "  2.95080952e-07 -1.56123741e-02 -6.29886612e-02  5.05705178e-02\n",
            "  8.27962812e-03  3.49503271e-02 -6.22692332e-02  2.55201310e-02\n",
            "  2.19832323e-02 -4.44911532e-02 -4.30214405e-02  4.19998467e-02\n",
            " -1.02131208e-02  4.26008068e-02 -2.90407222e-02  1.38509348e-02\n",
            " -1.48907378e-02  1.01417517e-02 -2.19049342e-02 -1.41391680e-02\n",
            "  6.20185025e-03  1.52291907e-02  5.11866137e-02 -7.75384810e-03\n",
            " -1.72075201e-02  1.05154477e-02  3.18001248e-02  4.45148945e-02\n",
            "  1.41334524e-02  3.14526744e-02  6.21774942e-02  2.02967916e-02\n",
            " -3.06019243e-02 -3.64072919e-02 -2.00826116e-03  2.30405964e-02\n",
            " -2.20780652e-02  9.72337499e-02  4.56861686e-03 -1.68445967e-02\n",
            "  2.33261157e-02 -1.60146523e-02 -3.24679613e-02 -3.73600833e-02\n",
            " -5.17142601e-02  7.88798556e-02  5.28166071e-02 -3.83515023e-02\n",
            " -8.43041576e-03  6.28734753e-02  1.85184889e-02  4.79090065e-02\n",
            " -5.83528802e-02  2.97966730e-02  1.78349297e-02  8.22061859e-03\n",
            "  4.28101346e-02 -2.55241282e-02  4.56770137e-02  5.00675244e-03\n",
            " -2.52658930e-02 -1.45074341e-03  2.51496490e-02  2.95903459e-02\n",
            " -2.52193809e-02  7.29874223e-02 -5.44489510e-02 -1.36796227e-02\n",
            "  2.31510054e-34 -2.24227365e-02  8.58510938e-03  2.06517167e-02\n",
            "  1.16900345e-02 -6.43750792e-03 -6.67800903e-02 -1.11857774e-02\n",
            "  4.77700774e-03  1.81790553e-02  8.96860287e-03 -2.84339115e-02]\n",
            "\n",
            "Sentence: Tiêu chí tuyển sinh là một trong những yếu tố quan trọng nhất khi chọn trường đại học!\n",
            "Embedding: [-7.49715982e-05 -4.00371887e-02  1.61187612e-02  3.72148678e-02\n",
            "  6.65390715e-02  9.95441061e-03 -8.11376050e-02  1.11400541e-02\n",
            "  1.92535035e-02 -2.71817595e-02 -7.66265541e-02 -1.56370047e-02\n",
            "  2.34312993e-02 -1.43728806e-02  5.26115007e-04 -1.95293427e-02\n",
            "  1.61905978e-02 -3.39502003e-03  8.66041705e-03 -3.12991291e-02\n",
            "  1.40658906e-02  1.07777696e-02  5.75003847e-02  6.88512176e-02\n",
            "  2.67178919e-02 -1.10093737e-02  5.36627229e-03 -2.98082791e-02\n",
            "  9.19906516e-03 -3.17495391e-02  1.67751703e-02  3.36626619e-02\n",
            " -1.79884657e-02 -3.44548607e-03  2.43974569e-06 -4.85627688e-02\n",
            "  3.78073915e-03 -3.07621658e-02 -5.68968877e-02  2.94238888e-02\n",
            "  4.27299961e-02  1.51496837e-02 -8.78778938e-03  1.29097914e-02\n",
            " -1.30784803e-03  1.65275410e-02  2.53908709e-02  7.79653527e-03\n",
            "  3.02052386e-02  1.13239847e-02  6.07760577e-03  1.02647152e-02\n",
            " -7.61713833e-02 -4.60659489e-02  6.84780404e-02 -1.03616463e-02\n",
            "  1.52471699e-02  5.26158623e-02  4.33459356e-02 -6.37008697e-02\n",
            " -3.33003514e-02 -8.31698105e-02  1.58636011e-02 -3.31518874e-02\n",
            "  2.68434815e-04  4.62105125e-03  1.66480150e-02  6.41899928e-02\n",
            "  9.04787704e-03  6.17769174e-02  2.78029796e-02 -3.44591700e-02\n",
            " -1.49557553e-02  1.00269392e-01  4.33195047e-02 -3.55603248e-02\n",
            " -1.97183657e-02  3.08184186e-03  1.17654465e-02 -1.66511461e-02\n",
            "  3.31979915e-02 -3.44891064e-02  5.61408140e-03  1.05305733e-02\n",
            " -6.28206879e-02 -1.01946227e-01 -3.74455974e-02 -5.03557436e-02\n",
            " -2.87580695e-02 -3.00078429e-02  1.65850930e-02  4.71983030e-02\n",
            "  1.37450173e-03  3.45870070e-02  7.48145813e-03 -2.28080768e-02\n",
            "  5.77043928e-02  4.48558666e-02  5.52527886e-03 -8.23694542e-02\n",
            " -4.60469984e-02  4.82140109e-02 -3.52029726e-02  3.37083265e-02\n",
            " -1.83789409e-03  1.49495834e-02  9.92006157e-03  5.49022481e-03\n",
            " -3.07890326e-02 -3.06610335e-02 -4.03403379e-02 -1.53586306e-02\n",
            "  3.90580967e-02  7.72724524e-02 -1.48819964e-02 -1.56955514e-02\n",
            " -1.67345088e-02 -1.55192278e-02  1.36956749e-02 -1.69322733e-02\n",
            "  4.70215231e-02  3.80817689e-02 -7.81697705e-02  2.53746286e-02\n",
            "  2.93711927e-02  4.03259099e-02  7.59115024e-03  1.89097207e-02\n",
            " -1.66791584e-02 -3.29322778e-02  1.28870783e-02  3.60407531e-02\n",
            "  1.31872762e-02 -6.80906326e-03  4.21696454e-02  3.17955241e-02\n",
            " -4.74260785e-02  5.60479946e-02  5.21966554e-02  4.50519137e-02\n",
            " -1.53281260e-02  6.16440596e-03  3.79293635e-02 -5.40088229e-02\n",
            " -5.68394624e-02 -3.17006186e-02  6.49495050e-02  4.67229113e-02\n",
            " -4.80333008e-02 -5.24512772e-03 -1.34735173e-02  1.95266176e-02\n",
            " -2.07672585e-02  3.59207802e-02  9.05502681e-03  2.52127014e-02\n",
            "  1.59316789e-02  1.48733966e-02 -9.23841167e-03 -3.25657427e-02\n",
            " -4.89172107e-03 -2.45271027e-02 -1.40984859e-02 -3.98768112e-02\n",
            "  1.88837806e-03 -7.00670341e-03 -8.74761865e-03  4.61573899e-03\n",
            " -1.46151278e-02 -4.06692363e-02 -1.40872272e-02  3.66223678e-02\n",
            " -4.40430269e-03  3.90818939e-02 -2.75505427e-02 -2.45755371e-02\n",
            "  4.11397181e-02 -4.75567356e-02 -2.37037931e-02 -3.58522497e-02\n",
            "  8.45208857e-03 -4.74685505e-02  4.46153991e-02  2.93248799e-02\n",
            " -7.47523382e-02  2.63976660e-02 -1.23811373e-02 -6.86401036e-03\n",
            " -2.81732380e-02  1.42737646e-02  2.47309990e-02 -2.20418978e-03\n",
            "  8.98006093e-03  5.90382237e-03 -4.64808978e-02  3.16591449e-02\n",
            "  3.31298448e-02 -2.07293779e-02  1.77470800e-02 -1.67204943e-02\n",
            " -2.04359312e-02 -7.01279566e-03  3.14270183e-02 -1.68836042e-02\n",
            " -3.46248932e-02  6.33290559e-02  1.74086597e-02 -5.66335395e-03\n",
            " -2.78678387e-02 -7.16566155e-03 -4.11328375e-02 -3.62209640e-02\n",
            "  4.88082971e-03  3.43531631e-02  1.93435661e-02  5.73827811e-02\n",
            "  2.06123032e-02  2.48634368e-02  5.55746211e-03  6.89602122e-02\n",
            "  1.78373773e-02  5.18266745e-02 -4.87035662e-02  9.10314079e-03\n",
            "  8.68624821e-02  1.05428521e-03  2.77272444e-02  1.83770489e-02\n",
            "  2.02906635e-02  8.36181939e-02 -2.13173740e-02  2.63742842e-02\n",
            "  1.21563785e-02  4.40538919e-04 -1.87121313e-02  2.12606750e-02\n",
            "  2.10077390e-02 -5.60726002e-02  3.86618003e-02 -9.84581094e-03\n",
            "  2.41090748e-02 -1.89380292e-02  1.20729022e-02 -4.72397581e-02\n",
            " -3.24929245e-02  9.86813754e-03 -9.28656943e-03 -2.73919478e-02\n",
            "  2.21394319e-02 -2.17064414e-02  3.50168422e-02  1.95246264e-02\n",
            "  3.32374126e-02 -4.68754359e-02  3.86536419e-02  6.74536005e-02\n",
            " -3.68103827e-03  2.35017025e-04 -1.98512175e-03 -1.33238938e-02\n",
            "  3.14583816e-02  1.05343442e-02  1.63353905e-02 -2.74919486e-03\n",
            "  7.83828571e-02  5.01812063e-02  1.40657481e-02 -1.94801465e-02\n",
            " -1.28429476e-02 -1.80383231e-02 -9.52375960e-03  5.11042960e-02\n",
            " -1.68422777e-02 -1.91953611e-02 -4.76216488e-02  4.26577702e-02\n",
            " -1.69548970e-02 -1.19926948e-02  1.42021803e-02 -2.16843225e-02\n",
            "  7.08896853e-03  5.85744716e-02 -2.46937666e-02  3.32915857e-02\n",
            "  1.92018934e-02 -2.61554271e-02  1.82390306e-02 -1.05450422e-01\n",
            "  1.94119681e-02 -1.59803324e-03  6.53840788e-03 -4.19776700e-02\n",
            "  1.29682934e-02 -4.53768149e-02  1.77092515e-02  1.28120957e-02\n",
            " -4.02359217e-02 -2.29624063e-02 -3.73768667e-03  1.50557309e-02\n",
            " -3.53515372e-02 -1.56425964e-02  2.91731618e-02 -5.66703733e-03\n",
            "  2.30239332e-02 -1.46381631e-02 -7.37950555e-04 -4.52797860e-02\n",
            " -2.42272709e-02 -4.85494919e-02  3.46381851e-02 -3.44136241e-03\n",
            " -3.79026984e-03 -1.10638544e-01 -4.19144779e-02  3.69018577e-02\n",
            " -1.63680054e-02  1.24681136e-02  1.51283490e-02 -3.18120345e-02\n",
            " -2.82277865e-03  6.37959167e-02  1.29804639e-02  5.73458709e-02\n",
            " -3.64950076e-02 -6.40365435e-03  2.61353739e-02 -2.32611354e-02\n",
            "  9.09338072e-02 -6.82073087e-02  5.36678417e-04 -2.42938343e-02\n",
            " -5.07220998e-02 -7.94302579e-03 -4.01109830e-02 -6.88271224e-02\n",
            "  6.02878537e-03  4.76836823e-02  3.98880020e-02 -1.88765097e-02\n",
            " -2.75790505e-02 -5.87842278e-02 -2.52640573e-03  2.39757933e-02\n",
            " -4.51171398e-02  3.22757731e-03 -2.64279917e-02  9.09010228e-03\n",
            "  9.41635668e-02 -3.25473621e-02 -7.36494362e-02 -4.31196950e-02\n",
            "  3.02876085e-02 -5.79939410e-03  9.32240579e-03  7.35756829e-02\n",
            "  3.01899891e-02  1.70432590e-02 -2.26385295e-02  2.33068652e-02\n",
            "  5.34465425e-02  1.90242622e-02 -5.64695187e-02  5.20320348e-02\n",
            " -2.60822766e-04  1.84038393e-02  1.88722387e-02  6.57158345e-02\n",
            "  1.93903353e-02  1.79468803e-02 -2.50179898e-02 -3.57421376e-02\n",
            "  3.75656746e-02  5.49013354e-02 -1.32144373e-02 -4.18167002e-03\n",
            " -2.25485340e-02  4.07650135e-02  7.84398392e-02  3.22448323e-03\n",
            "  1.34020112e-02 -1.20887859e-02  2.63029467e-02 -1.48521671e-02\n",
            " -5.97043820e-02  1.11493524e-02  1.60088651e-02  2.50472315e-02\n",
            " -1.05676837e-01  2.12388672e-02  5.21921143e-02 -6.89455308e-03\n",
            "  7.89956562e-03 -4.86157425e-02 -4.00409987e-03 -2.31914921e-03\n",
            " -1.29001122e-02  2.98661310e-02 -1.31790694e-02 -4.51123668e-03\n",
            " -4.28867480e-03  2.76632681e-02  1.80542860e-02  7.83581138e-02\n",
            " -5.80664352e-03  7.02859536e-02  1.83263253e-02  2.08616704e-02\n",
            "  1.37428707e-02  6.15186468e-02  3.40837352e-02  3.03690396e-02\n",
            "  5.11490293e-02  1.54878404e-02 -5.81612401e-02 -2.04264224e-02\n",
            "  3.10620368e-02 -5.18135801e-02  5.93989529e-02 -5.87244965e-02\n",
            "  4.94576842e-02  1.33228777e-02  2.16145907e-02 -1.33796278e-02\n",
            "  1.26177305e-02  2.92978194e-02  7.16752857e-02  2.63117403e-02\n",
            " -6.42562704e-03 -2.28992440e-02 -6.22017980e-02 -2.49810796e-03\n",
            " -3.33191119e-02 -5.51983938e-02 -7.57123576e-03 -3.69247347e-02\n",
            "  1.26044895e-03 -7.87463039e-02 -3.36821862e-02 -3.60749699e-02\n",
            " -1.10226702e-02 -3.72065492e-02 -9.80117638e-03  1.51733048e-02\n",
            "  3.38854939e-02 -2.28224620e-02  4.11404148e-02  1.97428335e-02\n",
            " -1.44018978e-02 -6.79797605e-02 -1.35561936e-02  1.34156912e-03\n",
            "  3.93201262e-02 -5.11982925e-02  2.09254697e-02  3.62910815e-02\n",
            " -8.96971077e-02 -1.17046693e-02  7.44033884e-03 -7.97304965e-04\n",
            " -2.87037473e-02 -3.06548364e-03  1.02697192e-02  2.24299151e-02\n",
            "  7.46793579e-03 -3.82098444e-02 -4.76121940e-02 -7.63155669e-02\n",
            " -1.02371238e-02 -7.92331528e-03 -3.08752134e-02 -1.74289588e-02\n",
            " -2.07462832e-02  6.16306555e-04  2.27035210e-02 -2.40472369e-02\n",
            "  2.43759919e-02 -4.20394726e-02 -2.05807202e-03  4.25685123e-02\n",
            "  3.30390856e-02 -1.37914740e-03 -6.67387759e-03  4.21870910e-02\n",
            " -5.02031408e-02 -2.33698543e-02 -1.07182264e-02 -7.32047111e-02\n",
            "  1.87521782e-02 -2.56664734e-02  2.45171040e-02 -4.48801816e-02\n",
            " -3.45025538e-03 -1.07590348e-01  3.51310968e-02 -5.63058890e-02\n",
            "  4.35565040e-02 -4.78934590e-03  9.90968570e-03  7.66029060e-02\n",
            " -2.46762354e-02  2.21053734e-02 -1.86638087e-02  2.84469388e-02\n",
            " -6.10859692e-03  9.33761522e-03  4.74646967e-03  2.92876754e-02\n",
            " -3.70527990e-03  5.75522799e-03  6.08289130e-02 -2.91779023e-02\n",
            "  4.10684831e-02 -1.19290091e-01 -3.84281911e-02 -3.70142683e-02\n",
            "  3.46543174e-03 -1.01159289e-02  1.82739329e-02 -6.73517734e-02\n",
            "  2.89893877e-02 -3.92730832e-02 -3.51527445e-02 -2.57349387e-02\n",
            " -1.19637577e-02 -2.95367725e-02 -1.12121422e-02 -1.03469705e-03\n",
            "  1.28544902e-03  5.59761673e-02 -2.34836955e-02  6.24413714e-02\n",
            "  7.30003044e-03  9.15449578e-03 -2.35987618e-03 -1.44613422e-02\n",
            "  2.32163072e-02 -2.76327934e-02 -3.39140370e-02  2.37515680e-02\n",
            " -2.45310576e-03 -3.58811878e-02 -2.82908436e-02 -3.16572143e-03\n",
            "  2.38410812e-02  8.49583894e-02  1.99543815e-02 -9.58368555e-03\n",
            " -1.59433857e-02  5.36851436e-02 -2.55512781e-02 -6.62977295e-03\n",
            " -5.25416527e-03  1.98141485e-02  5.90935461e-02 -7.38878868e-33\n",
            " -3.88191035e-03  4.42937529e-03 -1.83171742e-02 -2.48250142e-02\n",
            "  1.68914138e-03 -5.23716807e-02 -3.46378773e-03  6.18980080e-02\n",
            " -1.01177040e-02  8.65276495e-04 -1.65558197e-02  8.07825103e-02\n",
            "  5.59571106e-03  4.02067564e-02  3.73027623e-02  9.55539290e-03\n",
            " -4.04406935e-02 -6.03623514e-04  3.23754549e-03 -5.82881495e-02\n",
            "  3.11739035e-02  6.89244503e-03 -4.56203818e-02 -3.09420228e-02\n",
            "  1.55829964e-02  3.65141407e-02 -2.18672343e-02  2.57773288e-02\n",
            " -7.40664918e-03  2.29890328e-02 -3.06807179e-02 -1.27215311e-02\n",
            "  1.37013085e-02  5.57161309e-02  8.97941529e-04 -4.02512923e-02\n",
            " -6.46284670e-02 -2.17606928e-02 -3.10560334e-02 -4.01856638e-02\n",
            "  1.02933394e-02  8.87589250e-03 -9.16214287e-02 -8.68364610e-03\n",
            " -7.43270526e-03  1.04274787e-03 -2.97661144e-02 -4.56359871e-02\n",
            "  9.44784433e-02  4.10404056e-02 -5.61930351e-02 -3.97955813e-03\n",
            "  7.61743495e-03 -6.50103688e-02 -3.69040817e-02  6.60865828e-02\n",
            " -5.71221113e-02 -7.12808445e-02 -5.02431989e-02  1.41171813e-02\n",
            "  8.28939676e-03  3.40289846e-02 -1.96238160e-02  6.36038482e-02\n",
            " -1.94101455e-03 -1.73847657e-02  4.98675369e-02 -3.94319519e-02\n",
            " -2.39008479e-02  2.39435565e-02  5.79239894e-03 -8.21545429e-04\n",
            "  1.88295823e-02 -2.86705978e-02  1.65491411e-03 -5.73310480e-02\n",
            " -5.67903090e-03 -2.64303759e-02  4.00560675e-03  5.10971295e-03\n",
            " -2.80069765e-02  3.97425368e-02 -4.16423753e-03 -4.80686575e-02\n",
            "  1.62401088e-02  8.18027779e-02 -2.20222771e-02 -2.25069635e-02\n",
            " -6.01098314e-03  5.96154388e-03 -5.71884550e-02 -3.37788127e-02\n",
            "  6.57056421e-02 -2.56507602e-02  6.25323728e-02 -3.37480605e-02\n",
            " -3.83603126e-02  2.06305180e-02 -1.79111399e-02  1.69084612e-02\n",
            " -1.46137597e-02 -1.34631048e-03 -1.51196718e-02 -5.23512736e-02\n",
            " -2.57527065e-02  1.16878003e-02  4.03287895e-02  1.74689125e-02\n",
            " -1.32913571e-02  2.88675167e-03  4.84196655e-02 -1.08223028e-01\n",
            "  4.35211658e-02 -6.67944178e-02 -1.49585754e-02  2.57297065e-02\n",
            "  3.74226868e-02  1.84682920e-03 -3.37122194e-02  2.12175380e-02\n",
            " -6.18804544e-02  3.05258408e-02  1.27931116e-02 -4.28842232e-02\n",
            " -4.76190709e-02  1.81160346e-02 -2.39078831e-02  5.51827699e-02\n",
            " -7.49735115e-03 -3.42677459e-02 -4.57568699e-03 -6.62703393e-03\n",
            "  3.00290992e-07  4.99751009e-02 -4.17086929e-02  6.48131967e-02\n",
            "  3.85050406e-03  1.33434329e-02 -4.92618941e-02 -2.53065699e-03\n",
            "  9.67889675e-04 -4.05170061e-02 -4.22564149e-03  3.11225690e-02\n",
            " -1.22629646e-02  9.71842092e-03 -2.19111983e-02 -4.39194553e-02\n",
            " -1.67101044e-02 -2.32359674e-02 -3.81776653e-02 -1.67231914e-02\n",
            "  2.16520410e-02  5.21685404e-04  6.28408417e-02 -4.72929291e-02\n",
            " -2.44323332e-02  3.39738317e-02  2.71476880e-02  6.77129850e-02\n",
            "  6.20769220e-04  4.47482951e-02  6.26523271e-02 -1.42164147e-02\n",
            " -3.64767276e-02  6.55676378e-03 -4.52449098e-02  3.69800180e-02\n",
            " -1.87827647e-02  6.72872290e-02 -6.93883374e-03 -2.42114309e-02\n",
            " -3.00972792e-03 -3.22495624e-02 -3.24433250e-03 -1.64498817e-02\n",
            " -6.56878352e-02  3.62289473e-02  2.27095522e-02 -2.83017792e-02\n",
            " -1.91184354e-03  9.89634767e-02  8.75800010e-03  1.97321381e-02\n",
            " -3.63979116e-02  3.54784764e-02  1.22652610e-03  1.40625080e-02\n",
            "  7.47008249e-02 -3.79470363e-02 -6.94655674e-03 -4.83966572e-03\n",
            " -3.31931375e-02 -1.30019477e-02  5.86184789e-04  3.13435532e-02\n",
            "  1.35560017e-02  3.88530344e-02 -6.86431080e-02 -1.79404896e-02\n",
            "  2.44245180e-34 -9.72229894e-03  1.07766129e-02 -3.60256201e-03\n",
            "  3.10272332e-02  2.48635784e-02 -6.30862415e-02  2.05399208e-02\n",
            " -4.98002954e-03  3.97262424e-02  1.81453917e-02 -2.28181053e-02]\n",
            "\n",
            "Sentence: Học cách chuẩn bị hồ sơ tốt và bạn sẽ tiến gần hơn đến việc trở thành một sinh viên thành công.\n",
            "Embedding: [ 5.39997639e-03 -3.77898701e-02  2.72887107e-02  1.48656424e-02\n",
            "  4.97033037e-02  2.39349753e-02 -5.64073734e-02  1.41331013e-02\n",
            "  2.21513789e-02 -4.47874563e-03 -7.45818391e-02 -1.82400774e-02\n",
            "  1.65807027e-02  1.56399440e-02 -1.02570923e-02 -4.63052131e-02\n",
            "  1.53545327e-02 -5.37995016e-03  4.29877862e-02 -5.11197224e-02\n",
            "  4.61416459e-03  9.20832530e-03  4.15977202e-02  4.95400243e-02\n",
            "  7.40017146e-02 -3.73187028e-02  3.38597111e-02 -1.19057838e-02\n",
            "  2.76687299e-03 -5.33174910e-02  1.97101422e-02 -9.06803086e-03\n",
            " -2.87343934e-02 -2.42749825e-02  2.41211524e-06 -4.35887687e-02\n",
            "  2.61589698e-02 -1.06759900e-02 -5.70263453e-02  1.74419321e-02\n",
            "  2.57715117e-02 -1.07005453e-02 -2.34789541e-03 -7.20326696e-03\n",
            " -6.51158998e-03 -2.30569895e-02  7.71061284e-03  2.25338340e-02\n",
            "  1.18837757e-02  6.84451661e-05  8.09424091e-03  6.02611294e-03\n",
            " -4.97212224e-02 -3.08269653e-02  4.60512303e-02 -3.81574705e-02\n",
            "  5.29850088e-03  1.06263466e-01  3.67786959e-02 -6.09627599e-03\n",
            " -5.27559146e-02 -3.50208245e-02  4.84742643e-03 -3.52889597e-02\n",
            "  1.93904415e-02  2.70354059e-02  6.54865876e-02  4.73699793e-02\n",
            "  2.62957718e-02  3.56316157e-02  6.84931641e-03 -2.44151764e-02\n",
            " -1.22856414e-02  1.17605887e-01  3.71961780e-02 -5.78427576e-02\n",
            " -2.57856976e-02 -1.61308441e-02 -5.39938826e-03 -1.54775009e-03\n",
            "  4.35652956e-02  2.49820738e-03 -8.02581478e-03  8.62965733e-03\n",
            " -2.54932903e-02 -1.28955886e-01 -3.07961535e-02 -6.27588630e-02\n",
            " -4.06266190e-02 -3.55587490e-02  1.82718094e-02  2.02108603e-02\n",
            "  3.14521603e-03  2.88336612e-02 -2.13396829e-02 -4.27889228e-02\n",
            "  2.48465128e-02  8.27218294e-02 -3.95843051e-02 -5.58605194e-02\n",
            " -4.96294349e-02  4.63250130e-02 -5.10332957e-02  3.82448286e-02\n",
            " -8.16974603e-03 -1.43889077e-02  9.84205049e-04  7.47663006e-02\n",
            " -3.70143503e-02 -2.93786973e-02 -5.66215552e-02 -2.24336311e-02\n",
            "  5.18897176e-03  5.16499020e-02 -4.15436458e-03  2.76462920e-03\n",
            " -4.97229360e-02  3.25566274e-04 -6.84844854e-04  1.84371602e-02\n",
            "  5.78667559e-02  3.57057736e-03 -3.02371681e-02  5.96873416e-03\n",
            "  4.18456458e-02  7.68115744e-03  2.38425471e-02  3.61657366e-02\n",
            " -2.13810634e-02 -1.20807905e-02  5.54593978e-03  1.88479647e-02\n",
            "  1.21165067e-02  9.01311170e-03  3.25769484e-02  3.13186571e-02\n",
            " -5.87585941e-02  3.60891111e-02  1.08501557e-02  1.43868895e-02\n",
            " -1.29678585e-02 -1.22534418e-02  5.28302928e-03 -4.42695543e-02\n",
            " -5.12739457e-02 -3.63692679e-02  4.96532656e-02  3.77584286e-02\n",
            " -4.42130305e-02 -2.03343909e-02 -4.03263755e-02  3.25170085e-02\n",
            " -1.58028156e-02  3.04899309e-02  5.03510283e-03  2.64598969e-02\n",
            "  4.54763547e-02  6.10183179e-03 -3.96277718e-02 -4.43004407e-02\n",
            "  1.27647631e-02 -5.15356520e-03 -1.66004326e-03 -1.85452867e-02\n",
            "  9.82679613e-03 -2.97188461e-02  1.54434917e-02  4.46962342e-02\n",
            "  1.84246078e-02  3.66360880e-03  1.30548596e-03  5.41523136e-02\n",
            " -3.42898108e-02  5.08546419e-02  2.60934904e-02 -1.92055274e-02\n",
            "  4.55408767e-02 -3.98139097e-02 -4.01922949e-02 -3.19270492e-02\n",
            "  2.56348997e-02 -4.66917343e-02  2.92551033e-02  3.04487273e-02\n",
            " -4.61188741e-02  1.03756394e-02  1.84135661e-02  7.93338753e-03\n",
            " -3.77356075e-02 -2.71436875e-03  1.77468397e-02  1.81696862e-02\n",
            " -3.01159993e-02  1.35137606e-02 -3.27864252e-02  3.33440937e-02\n",
            "  5.00101559e-02 -4.51236358e-03  2.17061918e-02 -3.34171131e-02\n",
            " -1.17387809e-02 -9.25776083e-03  7.10552409e-02 -4.64035720e-02\n",
            " -6.70381682e-03  2.82384083e-02  6.28272444e-02 -1.60265435e-02\n",
            "  7.54554197e-03 -2.93713864e-02  1.52361859e-02 -4.48027439e-02\n",
            "  9.79961082e-03  2.52178591e-02  2.46632993e-02  6.12208992e-02\n",
            " -8.84950720e-03  8.62287730e-03 -3.90975326e-02  5.28091528e-02\n",
            "  7.51547515e-03  4.09464911e-02 -4.12209705e-02  3.59311630e-03\n",
            "  7.35474527e-02  2.67496072e-02  1.78091675e-02  1.72352977e-02\n",
            "  2.74126045e-02  1.03756301e-01 -3.03326990e-03  1.17811067e-02\n",
            "  1.30019104e-02  8.53588711e-03  5.49983978e-02  5.04709855e-02\n",
            "  3.92529927e-02 -1.30739316e-01  2.86883526e-02  1.09303482e-02\n",
            "  3.83701362e-02 -1.97155401e-02  1.79314744e-02 -3.26685682e-02\n",
            " -1.57380700e-02  8.84741917e-03 -1.44051183e-02 -2.50437409e-02\n",
            "  4.69738543e-02 -2.25844700e-02  4.96080182e-02  1.34684676e-02\n",
            "  2.71111913e-02 -4.47607599e-02  2.84014288e-02  5.98236509e-02\n",
            " -3.56147822e-04  5.07244281e-03  1.09471446e-02 -2.43303385e-02\n",
            "  5.87970354e-02 -2.51888717e-03 -4.28220741e-02 -3.96646708e-02\n",
            "  7.20670894e-02  5.15223816e-02 -1.10156909e-02 -5.03247157e-02\n",
            " -1.17146829e-02  6.73759496e-03  5.74642792e-03  6.34405240e-02\n",
            "  1.50697213e-02 -1.68109424e-02 -4.26017381e-02  4.04409319e-02\n",
            "  2.97819171e-02 -8.49686621e-04  1.62365078e-03 -1.57994404e-02\n",
            "  1.12045975e-02  3.00054904e-02 -1.61847891e-03  1.82683151e-02\n",
            "  9.58201382e-03 -3.66774127e-02  2.73933765e-02 -5.30942306e-02\n",
            " -1.96905117e-02 -1.63882542e-02 -2.00264379e-02 -2.69813724e-02\n",
            "  3.94869596e-03 -4.81288023e-02  1.12203555e-02  2.55588964e-02\n",
            " -5.75547367e-02 -7.96679873e-03  3.00422199e-02  3.23936939e-02\n",
            " -6.73735654e-03 -9.27560311e-03  2.71096104e-03 -2.70480756e-02\n",
            "  2.34034359e-02  3.49043272e-02 -9.57943033e-03 -5.10810018e-02\n",
            " -1.25739910e-02 -3.07367072e-02  4.33068946e-02 -7.81120034e-03\n",
            " -2.88867555e-03 -1.12065911e-01 -3.12851258e-02  7.81260151e-03\n",
            " -3.30591761e-02  3.22878710e-03  1.90466288e-02 -5.35572357e-02\n",
            " -1.02037210e-02  5.77886477e-02  2.30791494e-02  1.81492940e-02\n",
            " -3.57747190e-02  2.71466319e-02  1.41539034e-02 -4.76067960e-02\n",
            "  7.68700019e-02 -3.58001105e-02  1.85062352e-03  3.67868482e-03\n",
            " -4.23504077e-02 -1.71677209e-02 -3.52389142e-02 -6.94181249e-02\n",
            "  9.73618589e-03  4.54618596e-02  1.69511139e-02  4.51797945e-03\n",
            " -2.77357604e-02 -5.58425821e-02 -7.81952217e-03  3.00856633e-03\n",
            " -4.33236100e-02  4.31143194e-02  2.76934891e-03  3.35510746e-02\n",
            "  5.66554628e-02 -1.65848732e-02 -5.95470406e-02 -5.35080582e-02\n",
            "  1.60305332e-02 -4.12237756e-02 -1.95213165e-02  5.84621392e-02\n",
            "  2.60938331e-02 -1.13593955e-02 -2.42344197e-02  2.18663048e-02\n",
            "  3.41645479e-02  1.32037373e-02 -3.12335938e-02  4.41816114e-02\n",
            " -1.85587350e-03  1.01531837e-02  4.03936729e-02  7.81475902e-02\n",
            "  2.80386172e-02  9.86361504e-03  1.81123614e-02 -1.97351817e-02\n",
            "  1.86895113e-02  6.20423183e-02 -3.15449648e-02 -3.67911533e-02\n",
            " -1.56897921e-02  1.28285596e-02  6.85495362e-02  3.63148679e-03\n",
            "  4.38343212e-02 -3.20973098e-02  2.96092555e-02  1.03494537e-03\n",
            " -2.12767161e-02 -2.48827860e-02  1.34066520e-02 -6.04234310e-03\n",
            " -8.70239884e-02  1.13215456e-02  3.63149121e-02  1.98234878e-02\n",
            "  3.60800908e-03 -3.19169834e-02  1.81949493e-02 -2.23337729e-02\n",
            " -2.77821440e-02  3.76833715e-02 -1.05748922e-02 -2.53442694e-02\n",
            "  3.95900151e-03  1.90945640e-02  9.26768314e-03  9.13762227e-02\n",
            " -2.61969417e-02  1.07179105e-01 -4.31028530e-02  3.24794762e-02\n",
            "  3.56797315e-02  4.65294793e-02  8.56186524e-02  2.74476241e-02\n",
            "  3.77371721e-02  1.50478268e-02 -8.38118047e-03 -2.72219386e-02\n",
            "  1.73536409e-02 -5.25049008e-02  7.61704445e-02 -3.65056507e-02\n",
            "  1.86157189e-02  2.35338863e-02 -1.38798384e-02 -1.75977014e-02\n",
            " -1.54790133e-02  2.18058582e-02  7.98048899e-02  2.94773206e-02\n",
            " -7.87580293e-03 -2.14532427e-02 -1.55638866e-02  1.91080030e-02\n",
            " -5.14606163e-02 -6.40424937e-02  3.38033214e-03 -4.50083539e-02\n",
            " -2.37690154e-02 -5.57718091e-02 -6.48610666e-02 -2.73515563e-02\n",
            " -4.64866199e-02 -6.52779192e-02  2.71791667e-02  2.59008668e-02\n",
            "  2.01751590e-02  2.75105946e-02  3.97511385e-02  6.97042793e-02\n",
            " -2.82008722e-02 -7.25161061e-02  3.99744790e-03 -4.53884490e-02\n",
            "  4.87937257e-02 -2.67666932e-02  6.32581860e-03  1.63606815e-02\n",
            " -1.28998458e-01 -1.15133356e-02 -8.07632413e-03  1.49140554e-02\n",
            " -1.12926764e-02 -2.57236953e-03 -1.15813955e-03  2.46246215e-02\n",
            " -3.55709679e-02 -1.35644693e-02 -4.82362434e-02 -6.75574169e-02\n",
            " -1.65191697e-04 -7.66784279e-03 -5.12348861e-02 -9.18832701e-03\n",
            " -1.38271842e-02  3.80713679e-02  1.22099267e-02 -1.39850415e-02\n",
            " -5.68903470e-03 -2.73507144e-02  1.69092603e-02  2.37111803e-02\n",
            "  2.30667256e-02 -3.15335579e-03 -3.67144146e-03  2.83284709e-02\n",
            " -3.03642116e-02 -1.79266930e-02 -9.83402040e-03 -4.54493947e-02\n",
            "  1.50961094e-02 -5.00848666e-02  7.64524890e-03 -3.93245183e-02\n",
            " -3.23224720e-03 -6.77331612e-02 -6.64997194e-03 -4.98646535e-02\n",
            "  5.85417040e-02 -1.68192815e-02 -4.52888981e-02  7.88485259e-02\n",
            " -1.59796868e-02  2.99211778e-03  1.10859005e-02  1.54458415e-02\n",
            " -1.54217323e-02  7.38387508e-03 -4.07023495e-03  3.89647894e-02\n",
            "  9.16937366e-03  5.64112142e-03  4.04753052e-02 -7.09133781e-03\n",
            " -1.01429783e-02 -9.65022221e-02 -1.83468126e-02 -3.47217247e-02\n",
            " -6.61838101e-03 -1.88970976e-02  3.64635661e-02 -6.92683682e-02\n",
            "  3.25565562e-02 -2.95964498e-02 -2.40648706e-02 -4.69347797e-02\n",
            " -5.18828481e-02 -2.23294608e-02 -3.00524035e-03  1.30136143e-02\n",
            " -2.65674256e-02  5.72588965e-02 -3.68242525e-02  4.48608361e-02\n",
            " -2.79879905e-02  2.43948679e-03 -1.98220033e-02 -2.30496339e-02\n",
            "  5.73538467e-02 -3.65803996e-03 -4.07253429e-02  1.24052996e-02\n",
            "  2.55684797e-02 -2.25127544e-02  1.59800742e-02  1.07568717e-02\n",
            "  6.10503554e-03  6.72998801e-02  9.44256876e-03 -2.71663927e-02\n",
            "  1.24092046e-02  5.78740239e-02 -3.94272693e-02  1.17468201e-02\n",
            " -1.37940487e-02 -8.38434976e-03  4.18541022e-02 -7.69889805e-33\n",
            " -4.28644521e-03  1.15261069e-02  8.87238327e-03 -1.96274202e-02\n",
            " -3.69470455e-02 -4.74820249e-02 -1.21448394e-02  3.84361818e-02\n",
            " -3.38679664e-02 -1.47757102e-02 -1.41755585e-02  6.72361627e-02\n",
            "  6.52761757e-03  3.70169617e-02  5.48043139e-02 -1.96488481e-02\n",
            " -2.86908243e-02 -1.44724045e-02 -2.32858527e-02 -5.15538529e-02\n",
            "  2.20914390e-02  1.38987263e-03 -5.92680722e-02 -6.71005398e-02\n",
            "  3.11610252e-02  4.36953045e-02 -2.27128267e-02 -3.78664490e-03\n",
            " -5.24267275e-03  4.68070805e-03 -2.47937981e-02 -2.25712806e-02\n",
            "  2.53943708e-02  1.24188684e-01  7.45806261e-04 -5.06421085e-04\n",
            " -4.44671847e-02  1.59905001e-03 -3.89880128e-02 -1.74808912e-02\n",
            " -8.50813114e-04 -6.58242172e-03 -1.01142772e-01  6.62521040e-03\n",
            " -2.42940672e-02  1.26726907e-02 -2.08979640e-02 -6.52560964e-02\n",
            "  4.21691574e-02  7.08526000e-02 -4.93572913e-02  1.87844597e-02\n",
            " -2.93949917e-02 -6.42091036e-02 -1.59907658e-02  8.94130021e-02\n",
            " -2.53543854e-02 -5.85687719e-02 -3.92651074e-02  2.78117191e-02\n",
            " -4.59178127e-02  5.41954413e-02 -1.87345035e-02  4.65196818e-02\n",
            "  2.55775508e-02 -2.71465629e-02  6.51494935e-02 -6.33138865e-02\n",
            " -2.85723284e-02  7.53792096e-03  1.09559074e-02 -1.89966876e-02\n",
            " -1.43813873e-02 -1.23459725e-02 -1.57533661e-02 -5.47404960e-02\n",
            "  1.85191389e-02 -2.25975811e-02 -4.03895527e-02  4.60743569e-02\n",
            " -5.80496993e-03  5.69922961e-02 -2.06411667e-02 -4.46405448e-02\n",
            "  3.87701280e-02  3.45746800e-02 -3.36733721e-02  1.27477758e-02\n",
            "  2.31561512e-02  1.70883126e-04 -1.26768816e-02 -2.71927398e-02\n",
            "  6.83463961e-02 -2.94666421e-02  3.19087319e-02 -6.15553223e-02\n",
            " -2.30261665e-02  5.57348877e-03 -1.19387228e-02  3.21096033e-02\n",
            " -6.08663820e-02  3.26267350e-03  6.05942495e-03 -3.68655361e-02\n",
            " -3.50402668e-02  3.58999483e-02  6.19175881e-02  1.99852549e-02\n",
            "  1.21816783e-03 -5.50681539e-03  2.57680099e-02 -8.59391838e-02\n",
            "  5.54518588e-02 -2.86181327e-02 -1.24868145e-02  3.15827392e-02\n",
            "  1.65606234e-02 -9.19541717e-03 -1.19710127e-02 -1.48769058e-02\n",
            " -3.22399102e-02 -1.03988452e-02  2.33209021e-02 -1.68726873e-02\n",
            " -5.09701446e-02  4.16450463e-02 -3.73303890e-02  3.52229699e-02\n",
            " -5.05428053e-02 -2.18031351e-02  8.51308985e-04  2.64654122e-02\n",
            "  3.03165848e-07  8.55988730e-03 -7.10508823e-02  6.01811484e-02\n",
            "  2.80001294e-02 -9.56710335e-03 -5.73132783e-02  3.02370358e-02\n",
            "  1.02189425e-02 -2.73876581e-02 -2.67306413e-03  3.18659283e-02\n",
            " -3.05047501e-02  5.01698591e-02 -3.46509293e-02  8.10450409e-03\n",
            " -2.64499821e-02 -1.79742835e-02 -3.68537046e-02  2.56847707e-03\n",
            "  7.85543863e-03  2.38848366e-02  3.38419192e-02 -6.07424928e-03\n",
            " -1.55845154e-02  2.63003148e-02  2.63950061e-02  4.84727882e-02\n",
            " -7.28242425e-03  2.40566935e-02  3.95859107e-02 -4.68520215e-03\n",
            " -5.91830909e-02 -3.44384462e-02 -1.24297356e-02  2.22837050e-02\n",
            " -2.82643288e-02  5.82418367e-02 -2.64596436e-02  7.26219825e-03\n",
            "  3.93384360e-02 -3.96528877e-02 -1.09705273e-02 -4.67485301e-02\n",
            " -5.49333841e-02  6.67699948e-02  3.22782099e-02 -8.54540896e-03\n",
            "  1.09981121e-02  8.35819915e-02  1.84371956e-02  2.66993027e-02\n",
            " -2.67750546e-02  1.04616862e-02  5.93002280e-03  2.11930741e-02\n",
            "  5.39030433e-02 -1.83082912e-02  2.04095282e-02 -2.67851981e-03\n",
            " -5.61185367e-02 -1.16057722e-02  8.79024155e-03  3.91457602e-02\n",
            "  5.14235087e-02  5.05305938e-02 -3.69717255e-02 -3.05849947e-02\n",
            "  2.44001151e-34 -1.52904177e-02  1.46412198e-02  1.96856968e-02\n",
            " -1.84615012e-02  6.95607718e-03 -5.23342006e-02  5.00803674e-03\n",
            " -7.00096571e-05  4.23256829e-02 -3.35926306e-03 -2.56791636e-02]\n",
            "\n"
          ]
        }
      ],
      "source": [
        "# Requires !pip install sentence-transformers\n",
        "from sentence_transformers import SentenceTransformer\n",
        "\n",
        "embedding_model = SentenceTransformer(model_name_or_path=\"all-mpnet-base-v2\",\n",
        "                                      device=\"cpu\") # choose the device to load the model to (note: GPU will often be *much* faster than CPU)\n",
        "\n",
        "# Tạo danh sách các câu liên quan đến tuyển sinh bằng tiếng Việt\n",
        "sentences = [\n",
        "    \"Thư viện Hướng dẫn Tuyển sinh cung cấp một cách dễ dàng và mã nguồn mở để hiểu quy trình tuyển sinh.\",\n",
        "    \"Hồ sơ có thể được nộp từng cái một hoặc dưới dạng danh sách các tài liệu.\",\n",
        "    \"Tiêu chí tuyển sinh là một trong những yếu tố quan trọng nhất khi chọn trường đại học!\",\n",
        "    \"Học cách chuẩn bị hồ sơ tốt và bạn sẽ tiến gần hơn đến việc trở thành một sinh viên thành công.\"\n",
        "]\n",
        "\n",
        "# Sentences are encoded/embedded by calling model.encode()\n",
        "embeddings = embedding_model.encode(sentences)\n",
        "embeddings_dict = dict(zip(sentences, embeddings))\n",
        "\n",
        "# See the embeddings\n",
        "for sentence, embedding in embeddings_dict.items():\n",
        "    print(\"Sentence:\", sentence)\n",
        "    print(\"Embedding:\", embedding)\n",
        "    print(\"\")"
      ]
    },
    {
      "cell_type": "markdown",
      "metadata": {
        "id": "mCYs_CkB4ike"
      },
      "source": [
        "Thử với 1 câu"
      ]
    },
    {
      "cell_type": "code",
      "execution_count": null,
      "metadata": {
        "colab": {
          "base_uri": "https://localhost:8080/"
        },
        "id": "xia8xxA4rB8h",
        "outputId": "1f3d4c04-a780-4f36-85b9-b91ce932feaa"
      },
      "outputs": [
        {
          "output_type": "stream",
          "name": "stdout",
          "text": [
            "Sentence: Yo! Xin Chào\n",
            "Embedding:\n",
            "[-5.66845527e-04  4.15614247e-02  1.20046567e-02  2.50652507e-02\n",
            "  4.90664728e-02 -4.38569393e-03 -3.35879624e-02  4.12384123e-02\n",
            " -5.90030178e-02  2.66604498e-02 -8.38250965e-02 -2.00926256e-03\n",
            "  1.09192133e-02  6.04767576e-02 -4.51235510e-02 -2.02485844e-02\n",
            " -1.58079190e-03  1.40439747e-02  8.13807547e-03 -4.55489270e-02\n",
            "  9.22522414e-03 -8.16166308e-03  8.57413784e-02  2.90348567e-02\n",
            "  2.79722102e-02 -3.24122645e-02  4.45236545e-03 -4.17032950e-02\n",
            "  4.23869584e-03 -9.88000073e-03  5.13416901e-02  2.03161296e-02\n",
            "  3.91636835e-03  6.81547821e-02  1.87067667e-06 -6.91219047e-02\n",
            "  2.52688536e-03  3.87177081e-03 -2.61696354e-02  4.15841378e-02\n",
            " -1.66767109e-02 -2.39804406e-02 -4.58236299e-02  1.61268096e-02\n",
            " -2.23155171e-02 -4.82073203e-02  2.21746042e-03  9.38220620e-02\n",
            "  1.24121336e-02 -2.81414408e-02 -1.32660987e-03 -2.49492060e-02\n",
            " -2.40568537e-02 -1.58800054e-02  3.82559448e-02 -2.89768726e-03\n",
            "  2.70062417e-04 -2.12522764e-02  7.42520690e-02  9.91209527e-04\n",
            "  4.54805419e-02 -3.63236815e-02  5.21033928e-02 -1.61753949e-02\n",
            " -5.15906326e-02  1.58071369e-02  2.16723587e-02  1.13879561e-01\n",
            "  1.88101754e-02  9.86442268e-02  9.28525161e-03  1.75553802e-02\n",
            " -1.18153039e-02  7.43528381e-02  4.09854650e-02 -2.24318225e-02\n",
            " -4.97099832e-02  3.01946490e-03  2.70346496e-02 -8.84145964e-03\n",
            "  7.87677523e-03 -3.99319977e-02  2.32484750e-02  4.46748128e-03\n",
            "  2.10981499e-02  9.38240625e-03 -9.88742150e-03 -3.32391486e-02\n",
            "  2.16607675e-02 -2.70955507e-02  5.80652840e-02 -1.35118542e-02\n",
            " -4.83376421e-02  6.29716292e-02  1.07411866e-03  1.06173633e-02\n",
            "  9.03843641e-02 -3.04475660e-03  5.03632985e-03 -7.04557225e-02\n",
            " -6.28221110e-02  4.20860201e-02 -2.17380747e-02  2.06372589e-02\n",
            "  2.36792164e-03  6.14121221e-02  7.43893832e-02 -1.80329254e-03\n",
            " -6.84644608e-03 -5.79714484e-04 -7.67998956e-03 -1.08238049e-02\n",
            " -1.46541372e-02  3.77593152e-02  3.44939195e-02  1.18678622e-03\n",
            " -3.36071178e-02 -2.18009148e-02  1.02912411e-02 -3.79241742e-02\n",
            "  5.65329120e-02  2.78385431e-02 -1.26089416e-02  4.20078896e-02\n",
            "  2.20321561e-03 -1.86825730e-03 -5.44643477e-02  1.57230739e-02\n",
            " -2.39797905e-02 -3.88991386e-02 -3.76007557e-02  2.98712160e-02\n",
            "  3.15165073e-02 -3.85797322e-02  1.19303996e-02  4.69560027e-02\n",
            " -4.45919037e-02  2.24353373e-02  9.02543664e-02 -2.44922861e-02\n",
            " -3.85540910e-02  1.94251202e-02  4.94467691e-02 -5.93400896e-02\n",
            " -5.33973947e-02 -6.57554939e-02  6.88103661e-02  3.81690823e-02\n",
            " -2.17477269e-02 -1.29860481e-02  6.80117235e-02 -4.31344062e-02\n",
            " -6.38920665e-02  2.49301083e-02 -4.51831855e-02  1.78858247e-02\n",
            " -1.89535003e-02  2.03226767e-02 -7.53845088e-03 -1.39235635e-03\n",
            "  3.72764245e-02  1.82669866e-03  1.23090204e-02 -4.13183635e-03\n",
            "  2.97279237e-03 -1.73199922e-02  5.47400862e-02 -3.98259796e-02\n",
            "  7.48359598e-03 -5.15029617e-02 -5.68019822e-02 -1.17898202e-02\n",
            " -3.49551416e-03 -2.76855170e-03  1.34231020e-02 -1.26750506e-02\n",
            " -3.86939012e-02 -8.36339965e-03 -9.86958854e-03 -3.19073610e-02\n",
            " -2.83720344e-03 -8.62435400e-02  4.18150565e-03  3.12434956e-02\n",
            "  3.65813784e-02  3.02937198e-02  9.96397994e-03  3.15334126e-02\n",
            " -7.14922100e-02 -1.82249900e-02  1.28695415e-02 -6.80544134e-03\n",
            " -7.38154650e-02 -9.83776804e-03 -2.88480613e-02  4.35687117e-02\n",
            "  3.85163687e-02 -5.57262227e-02  1.84059218e-02  2.95928470e-03\n",
            " -4.59080264e-02  8.82503297e-03 -2.99614854e-03  1.38769215e-02\n",
            " -6.97755301e-03  3.52201499e-02  4.42880839e-02  3.81011143e-02\n",
            " -2.03432329e-02  3.39733697e-02 -4.18491699e-02 -2.43698284e-02\n",
            "  3.18638198e-02 -9.10967775e-03  1.20239258e-02  8.76292959e-02\n",
            "  3.24962549e-02  6.46751747e-03 -2.23731324e-02  7.42837638e-02\n",
            "  3.96025814e-02 -2.90315244e-02 -5.34329973e-02 -1.42379599e-02\n",
            "  2.38091173e-03 -5.23224659e-02  3.63311432e-02  3.01682539e-02\n",
            "  3.58263738e-02  6.38339296e-02 -4.42853719e-02 -6.40414003e-03\n",
            "  3.57193165e-02 -3.46306600e-02 -2.59974040e-02  9.93058160e-02\n",
            " -6.96185231e-03 -4.01237383e-02  4.18976694e-02 -4.45169583e-02\n",
            "  2.99153868e-02 -2.95161344e-02 -3.78321297e-02 -3.31513397e-02\n",
            "  6.11755438e-02  2.13387739e-02 -4.41336632e-02 -2.45126355e-02\n",
            "  3.76744356e-05 -2.75168335e-03  5.39794862e-02  3.69338281e-02\n",
            "  1.77805370e-03 -1.46503076e-02  7.28355860e-03  6.46016449e-02\n",
            " -7.17940778e-02  3.37584573e-03 -4.02011313e-02  2.16092933e-02\n",
            "  2.67702378e-02  4.14239010e-04  8.46707076e-03 -2.43279152e-02\n",
            "  6.86924979e-02  4.18486558e-02  7.21293595e-03  6.08569756e-02\n",
            "  4.52993903e-03 -3.40775624e-02 -3.18051390e-02  2.58080065e-02\n",
            " -1.16652809e-02 -1.87979024e-02 -2.95488723e-03 -4.66371775e-02\n",
            "  2.02975422e-02 -4.54288954e-03 -4.69209887e-02 -1.26677826e-02\n",
            "  1.49498889e-02  3.71130742e-02 -7.64825009e-03  4.23086062e-02\n",
            " -2.80709658e-02 -2.62686908e-02  3.18496786e-02 -1.06648333e-01\n",
            "  4.21493612e-02 -7.46430680e-02 -3.68441530e-02 -3.70519161e-02\n",
            " -2.48462483e-02 -6.59034252e-02 -6.11459790e-03 -1.12991184e-02\n",
            " -1.83010753e-02 -2.12963186e-02 -1.40918484e-02 -1.37285823e-02\n",
            " -2.04029009e-02 -3.50601561e-02  2.34942008e-02 -2.17343904e-02\n",
            " -5.65948570e-03 -2.60966346e-02  2.14450806e-02 -1.81024652e-02\n",
            " -8.08283873e-03 -2.33403780e-03  1.62056852e-02 -1.68925840e-02\n",
            " -2.47510951e-02 -6.35105819e-02  2.82254256e-02  1.32557675e-02\n",
            "  5.93586266e-02  2.60295141e-02  3.02788299e-02 -6.55493289e-02\n",
            " -2.45970692e-02  4.49630730e-02  2.78527569e-02  1.59198847e-02\n",
            " -2.73651835e-02 -5.16491523e-03 -1.84646882e-02  1.47422707e-05\n",
            "  7.36120492e-02 -3.02463882e-02  2.97760032e-02  3.62669341e-02\n",
            " -4.19515856e-02  1.13309990e-03  3.60502005e-02 -9.41778943e-02\n",
            " -8.45346693e-03 -8.16827491e-02  1.15449075e-02 -6.64707972e-03\n",
            "  4.04624618e-04 -2.09388193e-02  2.29724180e-02  6.60160556e-02\n",
            " -5.28354459e-02  7.17900470e-02 -2.27362402e-02  3.03227454e-02\n",
            "  3.25888321e-02  1.09901931e-02 -8.70550349e-02 -3.50161791e-02\n",
            " -3.26032331e-03  1.32093783e-02 -2.03716140e-02  5.07138260e-02\n",
            " -2.80070730e-04  6.89728558e-02  1.01409694e-02 -1.37202824e-02\n",
            "  3.81404310e-02  3.70682254e-02  3.39905955e-02 -3.85625921e-02\n",
            "  7.42776692e-03  2.16403548e-02  8.78176279e-03  1.61057170e-02\n",
            "  1.75755788e-02  1.18568083e-02  1.93175878e-02 -3.61751504e-02\n",
            "  3.20350984e-03  2.44144183e-02 -4.47506597e-03  2.86746235e-03\n",
            " -2.12593768e-02  9.70566552e-03  6.76474050e-02 -2.20698491e-02\n",
            " -1.97033379e-02 -7.61012314e-03  3.63942944e-02  9.20918584e-03\n",
            " -3.10650468e-03  2.49489173e-02  1.73880160e-02 -5.26531367e-03\n",
            " -8.65722671e-02  5.68421111e-02  2.28063446e-02  1.30257746e-02\n",
            " -5.14024645e-02 -1.41765755e-02  4.26754057e-02  8.68371455e-04\n",
            "  2.82192193e-02  1.57073289e-02 -4.78387950e-03 -2.61911135e-02\n",
            " -4.47750278e-02  1.22900017e-01 -1.92462914e-02  4.02287766e-02\n",
            " -1.00587178e-02 -3.11250947e-02  5.80773018e-02  1.13043385e-02\n",
            "  4.34611849e-02 -4.49048392e-02  3.73228942e-03  1.22584794e-02\n",
            "  1.61126547e-03  2.61665732e-02 -4.62123789e-02 -3.86945754e-02\n",
            "  1.09878592e-02 -6.07302338e-02  4.22293469e-02 -1.10239703e-02\n",
            "  4.50956896e-02  1.58244569e-03 -8.84956960e-03  3.77514884e-02\n",
            " -1.58180539e-02  2.70843524e-02  5.96206300e-02  1.55517422e-02\n",
            "  3.39340381e-02  6.57410640e-03 -5.99105060e-02  3.14530954e-02\n",
            "  1.78245699e-03  2.63159350e-02 -3.88919190e-02 -5.03870659e-02\n",
            "  2.34030117e-03 -4.13756743e-02 -3.53087559e-02 -9.16309133e-02\n",
            " -5.03544472e-02  5.34171239e-03 -3.51214521e-02  2.37198193e-02\n",
            " -1.45918941e-02 -2.59562358e-02 -2.40355842e-02  5.22717647e-02\n",
            " -2.63009816e-02 -3.93444188e-02  4.31925133e-02 -3.17013040e-02\n",
            " -3.03046759e-02 -7.74902999e-02  6.58525340e-03  5.37933875e-03\n",
            "  1.86751708e-02 -1.85071789e-02  1.93953626e-02 -3.05132940e-02\n",
            "  2.92366594e-02  8.91672913e-03 -4.92480844e-02  6.33151224e-03\n",
            "  6.92992192e-03  8.51895437e-02  3.31135988e-02  3.61064263e-02\n",
            " -8.46161135e-03 -1.15759559e-02 -7.43361712e-02 -5.29493811e-03\n",
            " -7.27023929e-03 -1.06165372e-02 -2.06012335e-02 -2.18739696e-02\n",
            "  5.12491204e-02 -1.04772978e-01  3.85885057e-03  3.04975342e-02\n",
            "  6.40362687e-03 -8.57287366e-03 -5.02385804e-03  4.19074483e-02\n",
            " -1.15320226e-02  2.10114289e-02  1.61885768e-02 -4.31340113e-02\n",
            " -3.32036950e-02 -1.51598817e-02 -3.33127566e-02 -2.04702821e-02\n",
            "  2.12245677e-02  8.05591140e-03  3.51315700e-02 -4.83130775e-02\n",
            "  9.39207617e-03 -9.18429196e-02  3.75227234e-03  5.33871539e-02\n",
            " -4.97533344e-02  8.66310764e-03 -9.33614280e-03  1.23497853e-02\n",
            "  1.51239317e-02  6.32784469e-03 -2.93463487e-02  6.75027771e-03\n",
            "  7.84526579e-04 -1.33185806e-02  2.60010045e-02  6.45060837e-03\n",
            " -1.58790573e-02 -1.12212151e-01 -3.57046537e-02 -1.09445013e-01\n",
            "  5.58391102e-02 -2.73836893e-03 -3.68346907e-02 -3.03118508e-02\n",
            " -8.09413940e-03 -2.83055156e-02  2.59994832e-03  5.80255268e-03\n",
            " -2.34092996e-02  3.22804675e-02 -1.57272890e-02 -1.74803380e-02\n",
            "  3.42215644e-03  8.61371979e-02  5.08502871e-02  6.18204363e-02\n",
            "  8.37767031e-03  2.68439073e-02 -1.41954822e-02  3.44907716e-02\n",
            "  5.45326658e-02  4.75204960e-02 -4.65589389e-02 -4.61694179e-03\n",
            " -5.31501044e-03 -1.19120050e-02  2.28605438e-02 -9.07844212e-03\n",
            "  1.40747512e-02  5.60284518e-02  8.69866740e-03  1.09480573e-02\n",
            " -1.24841016e-02  1.62977073e-02  3.42790596e-02 -3.42911147e-02\n",
            "  1.66010354e-02  3.87697071e-02  8.53184797e-03 -6.93936560e-33\n",
            " -5.53512154e-03 -7.31626526e-03 -5.89381531e-02 -8.76619145e-02\n",
            " -3.50866304e-03 -4.78518121e-02 -3.65692712e-02  8.10313318e-03\n",
            " -1.75547749e-02  1.08932389e-03 -1.34931859e-02  5.44130802e-03\n",
            "  1.96155831e-02  3.25973071e-02  3.59376892e-02  1.26639276e-03\n",
            "  1.28717795e-02  4.39717813e-04  1.16287135e-02 -1.53605295e-02\n",
            "  1.08070672e-02  1.08802952e-02 -2.46101767e-02 -3.05863097e-02\n",
            "  4.89534251e-03  3.10486071e-02  2.23822258e-02  2.90353019e-02\n",
            " -3.79706617e-03  4.76172492e-02  1.00810882e-02  3.66509221e-02\n",
            " -1.65528562e-02  2.60677114e-02 -5.58898645e-03 -1.13127725e-02\n",
            " -7.65608922e-02 -5.12938648e-02 -5.55962184e-03  1.06575480e-02\n",
            "  1.84802935e-02 -5.17851347e-03 -4.41107266e-02 -6.01997972e-02\n",
            "  3.00924666e-02  1.99494511e-02  3.80622633e-02 -1.90762915e-02\n",
            "  5.68134189e-02 -5.99793233e-02 -5.36339637e-03 -3.76774259e-02\n",
            "  5.11153508e-03 -4.32179719e-02 -3.08483467e-02  1.92734525e-02\n",
            " -2.81280819e-02  2.60775420e-03 -4.40760329e-02  7.65647693e-03\n",
            "  3.44399698e-02  2.38003898e-02 -3.75670791e-02  4.37288210e-02\n",
            "  4.03312705e-02 -9.76401661e-03  4.75701578e-02 -4.71598916e-02\n",
            " -4.33405563e-02  3.11502740e-02 -7.25413905e-04  3.37717086e-02\n",
            "  5.53543819e-03 -4.10307534e-02 -3.46002541e-02 -1.26253283e-02\n",
            " -4.80110832e-02 -5.70848970e-05  4.19889875e-02 -5.43705001e-03\n",
            " -1.45956576e-02  1.48420979e-04  6.66256156e-03 -1.75379608e-02\n",
            "  2.01618411e-02  4.05918546e-02 -2.10866109e-02 -6.27419772e-03\n",
            " -4.42290753e-02  3.94194350e-02 -6.01221137e-02 -2.63372138e-02\n",
            "  3.93910185e-02 -1.83906313e-02 -3.32878605e-02  1.66833233e-02\n",
            " -3.59686613e-02 -2.11337730e-02 -2.35699359e-02 -1.94734521e-02\n",
            " -5.11298142e-02  3.13099101e-02 -2.68951710e-02 -1.15129841e-03\n",
            " -3.14023085e-02  1.69893019e-02  6.46200329e-02  1.41279697e-02\n",
            " -1.89469401e-02  1.28347054e-02  4.25773114e-02 -4.44355905e-02\n",
            "  5.88312298e-02  1.50676602e-02 -8.76630656e-03  3.51377800e-02\n",
            "  4.53250185e-02  3.09776105e-02 -8.74440302e-04  5.18340580e-02\n",
            " -4.48130630e-02  1.48166334e-02 -4.35787030e-02 -4.16842215e-02\n",
            " -5.79136759e-02  4.28634472e-02 -1.65323410e-02  3.23838368e-02\n",
            " -1.87980495e-02 -4.47426215e-02 -1.73809621e-02  1.62803158e-02\n",
            "  2.61110102e-07  1.32355792e-02 -2.53871717e-02  2.22459678e-02\n",
            "  1.57096107e-02  5.05738668e-02  2.98816338e-03 -4.49485593e-02\n",
            "  1.52970329e-02 -4.20651631e-03  3.51738855e-02  3.51819098e-02\n",
            "  4.26875837e-02  5.30630797e-02 -3.50416312e-03 -5.00736386e-02\n",
            " -3.08419745e-02 -3.77522707e-02 -7.66590908e-02  8.55269842e-04\n",
            "  1.31587321e-02 -2.56589819e-02  5.66400923e-02 -5.46706356e-02\n",
            "  2.30740253e-02  1.96020715e-02 -3.79271246e-02  2.57848594e-02\n",
            "  2.65708342e-02  2.62643918e-02  5.10473996e-02 -7.43696168e-02\n",
            "  1.99529473e-02 -5.44252060e-02 -5.03845215e-02  7.81979039e-02\n",
            "  1.63644459e-02  6.32172599e-02 -4.09797430e-02 -5.48462570e-03\n",
            "  1.85775198e-02 -4.31739911e-02 -2.07318701e-02  1.44331660e-02\n",
            "  1.56880636e-02  1.94465816e-02  1.66397691e-02 -2.19614189e-02\n",
            " -1.16421923e-03  2.22424902e-02 -7.33067235e-03 -2.13811081e-02\n",
            " -2.18577981e-02 -1.44356769e-02  4.38643172e-02  4.75178100e-03\n",
            "  6.24114200e-02  1.53175024e-02  4.56117094e-03  1.68090425e-02\n",
            " -4.68183756e-02  1.58263575e-02 -4.29377779e-02 -8.08364432e-03\n",
            "  5.00377752e-02  2.43316987e-03 -2.13442445e-02 -4.82163439e-03\n",
            "  1.92823019e-34 -1.65301580e-02 -2.45368574e-02 -3.55772078e-02\n",
            "  6.62710145e-02 -5.66927763e-03 -2.94301510e-02  7.30094407e-03\n",
            " -5.44483215e-03  1.69553105e-02 -3.13971303e-02 -2.18099002e-02]\n",
            "Embedding size: (768,)\n"
          ]
        }
      ],
      "source": [
        "single_sentence = \"Yo! Xin Chào\"\n",
        "single_embedding = embedding_model.encode(single_sentence)\n",
        "print(f\"Sentence: {single_sentence}\")\n",
        "print(f\"Embedding:\\n{single_embedding}\")\n",
        "print(f\"Embedding size: {single_embedding.shape}\")"
      ]
    },
    {
      "cell_type": "markdown",
      "metadata": {
        "id": "4ka5ROsRs1uT"
      },
      "source": [
        "Vector nhúng của mình có dạng `(768, )` , là ta có 768 số biểu diễn cho văn bản của chúng ta trong không gian nhiều.\n",
        "\n",
        "\n",
        "> Note: để duy trì độ ổn định khi nhân vector mình sẽ duy trì với 1 chiều không gian là 768, bất kể 1 câu có độ dài 1 hay 1000 tokens, nó sẽ được cắt hoặc đệm thêm 0 để về 384 chiều và chuyển sang vector nhúng có dạng (768, ).\n",
        "\n",
        "\n"
      ]
    },
    {
      "cell_type": "code",
      "execution_count": null,
      "metadata": {
        "colab": {
          "base_uri": "https://localhost:8080/",
          "height": 85,
          "referenced_widgets": [
            "b973ff568ea64c449562053eef1a87ac",
            "51ba44e03d8a44de9637af2365c5158d",
            "ffcf77fb032b4af2926e8911992e93ed",
            "f132654cd31045369e26362a214aa889",
            "e75c8b270bb7479b8e39cff60184d12f",
            "71a6b965f0bc4db5b649aecd8a65caf6",
            "019e958858434789a5eb57cc383330e6",
            "6f4768f398074493837ee6e948c3d535",
            "6aa2357205a243aa939eb1b66c2b029e",
            "0c1ef6e542644fd2ba2f6cbe499f044d",
            "fa6bd93c88dd4e8b972c895e3eb06059"
          ]
        },
        "id": "gQcE3SuarDJd",
        "outputId": "de302fee-5ada-496b-a2a1-02f780ec2268"
      },
      "outputs": [
        {
          "output_type": "display_data",
          "data": {
            "text/plain": [
              "  0%|          | 0/35 [00:00<?, ?it/s]"
            ],
            "application/vnd.jupyter.widget-view+json": {
              "version_major": 2,
              "version_minor": 0,
              "model_id": "b973ff568ea64c449562053eef1a87ac"
            }
          },
          "metadata": {}
        },
        {
          "output_type": "stream",
          "name": "stdout",
          "text": [
            "CPU times: user 24.8 s, sys: 1.33 ms, total: 24.8 s\n",
            "Wall time: 25 s\n"
          ]
        }
      ],
      "source": [
        "%%time\n",
        "\n",
        "# Uncomment to see how long it takes to create embeddings on CPU\n",
        "# Make sure the model is on the CPU\n",
        "embedding_model.to(\"cpu\")\n",
        "\n",
        "# Embed each chunk one by one\n",
        "for item in tqdm(pages_and_chunks_over_min_token_len):\n",
        "    item[\"embedding\"] = embedding_model.encode(item[\"sentence_chunk\"])"
      ]
    },
    {
      "cell_type": "markdown",
      "metadata": {
        "id": "ObAxApIKvCo_"
      },
      "source": [
        "dùng `%%time` để xem ta mất bao nhiêu thời gian để nhúng."
      ]
    },
    {
      "cell_type": "code",
      "execution_count": null,
      "metadata": {
        "colab": {
          "base_uri": "https://localhost:8080/",
          "height": 85,
          "referenced_widgets": [
            "8306f83c8a074ff1b122393c246310de",
            "2a283c8c9b744db3806e157e494db74b",
            "4c90eae9414b471e8920cf29bebad7c7",
            "19333dd933394ae38bc4f024992db7db",
            "a03767fa87564ca8993f6470539a4359",
            "2b4be1604e2148819242973ed9fbaa56",
            "afeaf5f22b8c4c239195c9671377fbfb",
            "8953bc141f41491dabe7811123ffce3b",
            "722a9a1e0f2a4dd6ad91cc5569f974c0",
            "72169b3651794c3baed5bfcb53243c75",
            "ebe85b1ff9e74dbd98a331c3271f8e32"
          ]
        },
        "id": "X78osDWcrESD",
        "outputId": "b5c2a679-b266-4904-a550-1631a01da0c7"
      },
      "outputs": [
        {
          "output_type": "display_data",
          "data": {
            "text/plain": [
              "  0%|          | 0/35 [00:00<?, ?it/s]"
            ],
            "application/vnd.jupyter.widget-view+json": {
              "version_major": 2,
              "version_minor": 0,
              "model_id": "8306f83c8a074ff1b122393c246310de"
            }
          },
          "metadata": {}
        },
        {
          "output_type": "stream",
          "name": "stdout",
          "text": [
            "CPU times: user 1.1 s, sys: 0 ns, total: 1.1 s\n",
            "Wall time: 1.11 s\n"
          ]
        }
      ],
      "source": [
        "%%time\n",
        "\n",
        "# Send the model to the GPU\n",
        "embedding_model.to(\"cuda\") # requires a GPU installed, for reference on my local machine, I'm using a NVIDIA RTX 4090\n",
        "\n",
        "# Create embeddings one by one on the GPU\n",
        "for item in tqdm(pages_and_chunks_over_min_token_len):\n",
        "    item[\"embedding\"] = embedding_model.encode(item[\"sentence_chunk\"])"
      ]
    },
    {
      "cell_type": "markdown",
      "metadata": {
        "id": "4FgjhrNkQPWa"
      },
      "source": [
        "Ta thấy GPU xử lý nhanh hơn 20 lần CPU"
      ]
    },
    {
      "cell_type": "code",
      "execution_count": null,
      "metadata": {
        "id": "TkEDjme8rFrj"
      },
      "outputs": [],
      "source": [
        "# Turn text chunks into a single list\n",
        "text_chunks = [item[\"sentence_chunk\"] for item in pages_and_chunks_over_min_token_len]"
      ]
    },
    {
      "cell_type": "code",
      "execution_count": null,
      "metadata": {
        "colab": {
          "base_uri": "https://localhost:8080/"
        },
        "id": "jgAc9LgirGgF",
        "outputId": "c1b5ca43-38af-4850-9a0d-cd5a9cfb1ac6"
      },
      "outputs": [
        {
          "output_type": "stream",
          "name": "stdout",
          "text": [
            "CPU times: user 681 ms, sys: 2.3 ms, total: 684 ms\n",
            "Wall time: 663 ms\n"
          ]
        },
        {
          "output_type": "execute_result",
          "data": {
            "text/plain": [
              "tensor([[ 0.0411, -0.0095,  0.0173,  ..., -0.0286, -0.0689, -0.0538],\n",
              "        [-0.0028, -0.0552,  0.0017,  ..., -0.0288, -0.0199, -0.0588],\n",
              "        [ 0.0650, -0.0225,  0.0104,  ..., -0.0205,  0.0195, -0.0695],\n",
              "        ...,\n",
              "        [ 0.0580, -0.0814,  0.0201,  ...,  0.0262, -0.0034, -0.0267],\n",
              "        [ 0.0536, -0.0088,  0.0128,  ...,  0.0162, -0.0150, -0.0141],\n",
              "        [ 0.0276, -0.0469,  0.0159,  ...,  0.0186, -0.0198, -0.0342]],\n",
              "       device='cuda:0')"
            ]
          },
          "metadata": {},
          "execution_count": 113
        }
      ],
      "source": [
        "%%time\n",
        "\n",
        "# Embed all texts in batches\n",
        "text_chunk_embeddings = embedding_model.encode(text_chunks,\n",
        "                                               batch_size=25, # you can use different batch sizes here for speed/performance, I found 25 works well for this use case\n",
        "                                               convert_to_tensor=True) # optional to return embeddings as tensor instead of array\n",
        "\n",
        "text_chunk_embeddings"
      ]
    },
    {
      "cell_type": "markdown",
      "metadata": {
        "id": "KcIAmg3BwpiT"
      },
      "source": [
        "### Lưu Vector Nhúng vào File\n",
        "Vì việc Nhúng mất rất nhiều thời gian, mình sẽ lưu và chuyển nó về danh sách từ điển `text_chunks_and_embeddings_df`  "
      ]
    },
    {
      "cell_type": "code",
      "execution_count": null,
      "metadata": {
        "id": "8JKaEPJhrHdj"
      },
      "outputs": [],
      "source": [
        "# Save embeddings to file\n",
        "text_chunks_and_embeddings_df = pd.DataFrame(pages_and_chunks_over_min_token_len)\n",
        "embeddings_df_save_path = \"/content/drive/MyDrive/AI_DATA/text_chunks_and_embeddings_df.csv\"\n",
        "text_chunks_and_embeddings_df.to_csv(embeddings_df_save_path, index=False)"
      ]
    },
    {
      "cell_type": "markdown",
      "metadata": {
        "id": "v1GqooLA4un2"
      },
      "source": [
        "Xem Chunk dưới dạng Vector Nhúng"
      ]
    },
    {
      "cell_type": "code",
      "execution_count": null,
      "metadata": {
        "colab": {
          "base_uri": "https://localhost:8080/",
          "height": 206
        },
        "id": "E43xvfuDrISJ",
        "outputId": "eb1ba062-a460-4162-ffb6-1bbb5a358a16"
      },
      "outputs": [
        {
          "output_type": "execute_result",
          "data": {
            "text/plain": [
              "   page_number                                     sentence_chunk  \\\n",
              "0            0  Thông Tin Tuyển Sinh Trường Đại học CMC, thành...   \n",
              "1            0  Khai Phóng (100% học phí, 30 suất): Giải quốc ...   \n",
              "2            0  Dựa trên thông lệ, nội quy thường bao gồm quy ...   \n",
              "3            1  • Hỗ trợ học tiếng Anh miễn phí đạt chuẩn CEFR...   \n",
              "4            1  Các phương thức xét tuyển được thiết kế đa dạn...   \n",
              "\n",
              "   chunk_char_count  chunk_word_count  chunk_token_count  \\\n",
              "0              1095               214             273.75   \n",
              "1               559               114             139.75   \n",
              "2               597               125             149.25   \n",
              "3              1472               318             368.00   \n",
              "4              1131               225             282.75   \n",
              "\n",
              "                                           embedding  \n",
              "0  [ 4.11062539e-02 -9.45434812e-03  1.72677543e-...  \n",
              "1  [-2.78426148e-03 -5.51779270e-02  1.73170352e-...  \n",
              "2  [ 6.49920329e-02 -2.25101989e-02  1.03664808e-...  \n",
              "3  [ 5.86301535e-02  3.41962762e-02  2.01061536e-...  \n",
              "4  [-4.03009402e-03 -3.42041366e-02 -4.20811586e-...  "
            ],
            "text/html": [
              "\n",
              "  <div id=\"df-2a488b92-d539-46fb-90c3-95c92b8d15a3\" class=\"colab-df-container\">\n",
              "    <div>\n",
              "<style scoped>\n",
              "    .dataframe tbody tr th:only-of-type {\n",
              "        vertical-align: middle;\n",
              "    }\n",
              "\n",
              "    .dataframe tbody tr th {\n",
              "        vertical-align: top;\n",
              "    }\n",
              "\n",
              "    .dataframe thead th {\n",
              "        text-align: right;\n",
              "    }\n",
              "</style>\n",
              "<table border=\"1\" class=\"dataframe\">\n",
              "  <thead>\n",
              "    <tr style=\"text-align: right;\">\n",
              "      <th></th>\n",
              "      <th>page_number</th>\n",
              "      <th>sentence_chunk</th>\n",
              "      <th>chunk_char_count</th>\n",
              "      <th>chunk_word_count</th>\n",
              "      <th>chunk_token_count</th>\n",
              "      <th>embedding</th>\n",
              "    </tr>\n",
              "  </thead>\n",
              "  <tbody>\n",
              "    <tr>\n",
              "      <th>0</th>\n",
              "      <td>0</td>\n",
              "      <td>Thông Tin Tuyển Sinh Trường Đại học CMC, thành...</td>\n",
              "      <td>1095</td>\n",
              "      <td>214</td>\n",
              "      <td>273.75</td>\n",
              "      <td>[ 4.11062539e-02 -9.45434812e-03  1.72677543e-...</td>\n",
              "    </tr>\n",
              "    <tr>\n",
              "      <th>1</th>\n",
              "      <td>0</td>\n",
              "      <td>Khai Phóng (100% học phí, 30 suất): Giải quốc ...</td>\n",
              "      <td>559</td>\n",
              "      <td>114</td>\n",
              "      <td>139.75</td>\n",
              "      <td>[-2.78426148e-03 -5.51779270e-02  1.73170352e-...</td>\n",
              "    </tr>\n",
              "    <tr>\n",
              "      <th>2</th>\n",
              "      <td>0</td>\n",
              "      <td>Dựa trên thông lệ, nội quy thường bao gồm quy ...</td>\n",
              "      <td>597</td>\n",
              "      <td>125</td>\n",
              "      <td>149.25</td>\n",
              "      <td>[ 6.49920329e-02 -2.25101989e-02  1.03664808e-...</td>\n",
              "    </tr>\n",
              "    <tr>\n",
              "      <th>3</th>\n",
              "      <td>1</td>\n",
              "      <td>• Hỗ trợ học tiếng Anh miễn phí đạt chuẩn CEFR...</td>\n",
              "      <td>1472</td>\n",
              "      <td>318</td>\n",
              "      <td>368.00</td>\n",
              "      <td>[ 5.86301535e-02  3.41962762e-02  2.01061536e-...</td>\n",
              "    </tr>\n",
              "    <tr>\n",
              "      <th>4</th>\n",
              "      <td>1</td>\n",
              "      <td>Các phương thức xét tuyển được thiết kế đa dạn...</td>\n",
              "      <td>1131</td>\n",
              "      <td>225</td>\n",
              "      <td>282.75</td>\n",
              "      <td>[-4.03009402e-03 -3.42041366e-02 -4.20811586e-...</td>\n",
              "    </tr>\n",
              "  </tbody>\n",
              "</table>\n",
              "</div>\n",
              "    <div class=\"colab-df-buttons\">\n",
              "\n",
              "  <div class=\"colab-df-container\">\n",
              "    <button class=\"colab-df-convert\" onclick=\"convertToInteractive('df-2a488b92-d539-46fb-90c3-95c92b8d15a3')\"\n",
              "            title=\"Convert this dataframe to an interactive table.\"\n",
              "            style=\"display:none;\">\n",
              "\n",
              "  <svg xmlns=\"http://www.w3.org/2000/svg\" height=\"24px\" viewBox=\"0 -960 960 960\">\n",
              "    <path d=\"M120-120v-720h720v720H120Zm60-500h600v-160H180v160Zm220 220h160v-160H400v160Zm0 220h160v-160H400v160ZM180-400h160v-160H180v160Zm440 0h160v-160H620v160ZM180-180h160v-160H180v160Zm440 0h160v-160H620v160Z\"/>\n",
              "  </svg>\n",
              "    </button>\n",
              "\n",
              "  <style>\n",
              "    .colab-df-container {\n",
              "      display:flex;\n",
              "      gap: 12px;\n",
              "    }\n",
              "\n",
              "    .colab-df-convert {\n",
              "      background-color: #E8F0FE;\n",
              "      border: none;\n",
              "      border-radius: 50%;\n",
              "      cursor: pointer;\n",
              "      display: none;\n",
              "      fill: #1967D2;\n",
              "      height: 32px;\n",
              "      padding: 0 0 0 0;\n",
              "      width: 32px;\n",
              "    }\n",
              "\n",
              "    .colab-df-convert:hover {\n",
              "      background-color: #E2EBFA;\n",
              "      box-shadow: 0px 1px 2px rgba(60, 64, 67, 0.3), 0px 1px 3px 1px rgba(60, 64, 67, 0.15);\n",
              "      fill: #174EA6;\n",
              "    }\n",
              "\n",
              "    .colab-df-buttons div {\n",
              "      margin-bottom: 4px;\n",
              "    }\n",
              "\n",
              "    [theme=dark] .colab-df-convert {\n",
              "      background-color: #3B4455;\n",
              "      fill: #D2E3FC;\n",
              "    }\n",
              "\n",
              "    [theme=dark] .colab-df-convert:hover {\n",
              "      background-color: #434B5C;\n",
              "      box-shadow: 0px 1px 3px 1px rgba(0, 0, 0, 0.15);\n",
              "      filter: drop-shadow(0px 1px 2px rgba(0, 0, 0, 0.3));\n",
              "      fill: #FFFFFF;\n",
              "    }\n",
              "  </style>\n",
              "\n",
              "    <script>\n",
              "      const buttonEl =\n",
              "        document.querySelector('#df-2a488b92-d539-46fb-90c3-95c92b8d15a3 button.colab-df-convert');\n",
              "      buttonEl.style.display =\n",
              "        google.colab.kernel.accessAllowed ? 'block' : 'none';\n",
              "\n",
              "      async function convertToInteractive(key) {\n",
              "        const element = document.querySelector('#df-2a488b92-d539-46fb-90c3-95c92b8d15a3');\n",
              "        const dataTable =\n",
              "          await google.colab.kernel.invokeFunction('convertToInteractive',\n",
              "                                                    [key], {});\n",
              "        if (!dataTable) return;\n",
              "\n",
              "        const docLinkHtml = 'Like what you see? Visit the ' +\n",
              "          '<a target=\"_blank\" href=https://colab.research.google.com/notebooks/data_table.ipynb>data table notebook</a>'\n",
              "          + ' to learn more about interactive tables.';\n",
              "        element.innerHTML = '';\n",
              "        dataTable['output_type'] = 'display_data';\n",
              "        await google.colab.output.renderOutput(dataTable, element);\n",
              "        const docLink = document.createElement('div');\n",
              "        docLink.innerHTML = docLinkHtml;\n",
              "        element.appendChild(docLink);\n",
              "      }\n",
              "    </script>\n",
              "  </div>\n",
              "\n",
              "\n",
              "<div id=\"df-d5496ad1-12ab-4b49-b649-bc21fe987064\">\n",
              "  <button class=\"colab-df-quickchart\" onclick=\"quickchart('df-d5496ad1-12ab-4b49-b649-bc21fe987064')\"\n",
              "            title=\"Suggest charts\"\n",
              "            style=\"display:none;\">\n",
              "\n",
              "<svg xmlns=\"http://www.w3.org/2000/svg\" height=\"24px\"viewBox=\"0 0 24 24\"\n",
              "     width=\"24px\">\n",
              "    <g>\n",
              "        <path d=\"M19 3H5c-1.1 0-2 .9-2 2v14c0 1.1.9 2 2 2h14c1.1 0 2-.9 2-2V5c0-1.1-.9-2-2-2zM9 17H7v-7h2v7zm4 0h-2V7h2v10zm4 0h-2v-4h2v4z\"/>\n",
              "    </g>\n",
              "</svg>\n",
              "  </button>\n",
              "\n",
              "<style>\n",
              "  .colab-df-quickchart {\n",
              "      --bg-color: #E8F0FE;\n",
              "      --fill-color: #1967D2;\n",
              "      --hover-bg-color: #E2EBFA;\n",
              "      --hover-fill-color: #174EA6;\n",
              "      --disabled-fill-color: #AAA;\n",
              "      --disabled-bg-color: #DDD;\n",
              "  }\n",
              "\n",
              "  [theme=dark] .colab-df-quickchart {\n",
              "      --bg-color: #3B4455;\n",
              "      --fill-color: #D2E3FC;\n",
              "      --hover-bg-color: #434B5C;\n",
              "      --hover-fill-color: #FFFFFF;\n",
              "      --disabled-bg-color: #3B4455;\n",
              "      --disabled-fill-color: #666;\n",
              "  }\n",
              "\n",
              "  .colab-df-quickchart {\n",
              "    background-color: var(--bg-color);\n",
              "    border: none;\n",
              "    border-radius: 50%;\n",
              "    cursor: pointer;\n",
              "    display: none;\n",
              "    fill: var(--fill-color);\n",
              "    height: 32px;\n",
              "    padding: 0;\n",
              "    width: 32px;\n",
              "  }\n",
              "\n",
              "  .colab-df-quickchart:hover {\n",
              "    background-color: var(--hover-bg-color);\n",
              "    box-shadow: 0 1px 2px rgba(60, 64, 67, 0.3), 0 1px 3px 1px rgba(60, 64, 67, 0.15);\n",
              "    fill: var(--button-hover-fill-color);\n",
              "  }\n",
              "\n",
              "  .colab-df-quickchart-complete:disabled,\n",
              "  .colab-df-quickchart-complete:disabled:hover {\n",
              "    background-color: var(--disabled-bg-color);\n",
              "    fill: var(--disabled-fill-color);\n",
              "    box-shadow: none;\n",
              "  }\n",
              "\n",
              "  .colab-df-spinner {\n",
              "    border: 2px solid var(--fill-color);\n",
              "    border-color: transparent;\n",
              "    border-bottom-color: var(--fill-color);\n",
              "    animation:\n",
              "      spin 1s steps(1) infinite;\n",
              "  }\n",
              "\n",
              "  @keyframes spin {\n",
              "    0% {\n",
              "      border-color: transparent;\n",
              "      border-bottom-color: var(--fill-color);\n",
              "      border-left-color: var(--fill-color);\n",
              "    }\n",
              "    20% {\n",
              "      border-color: transparent;\n",
              "      border-left-color: var(--fill-color);\n",
              "      border-top-color: var(--fill-color);\n",
              "    }\n",
              "    30% {\n",
              "      border-color: transparent;\n",
              "      border-left-color: var(--fill-color);\n",
              "      border-top-color: var(--fill-color);\n",
              "      border-right-color: var(--fill-color);\n",
              "    }\n",
              "    40% {\n",
              "      border-color: transparent;\n",
              "      border-right-color: var(--fill-color);\n",
              "      border-top-color: var(--fill-color);\n",
              "    }\n",
              "    60% {\n",
              "      border-color: transparent;\n",
              "      border-right-color: var(--fill-color);\n",
              "    }\n",
              "    80% {\n",
              "      border-color: transparent;\n",
              "      border-right-color: var(--fill-color);\n",
              "      border-bottom-color: var(--fill-color);\n",
              "    }\n",
              "    90% {\n",
              "      border-color: transparent;\n",
              "      border-bottom-color: var(--fill-color);\n",
              "    }\n",
              "  }\n",
              "</style>\n",
              "\n",
              "  <script>\n",
              "    async function quickchart(key) {\n",
              "      const quickchartButtonEl =\n",
              "        document.querySelector('#' + key + ' button');\n",
              "      quickchartButtonEl.disabled = true;  // To prevent multiple clicks.\n",
              "      quickchartButtonEl.classList.add('colab-df-spinner');\n",
              "      try {\n",
              "        const charts = await google.colab.kernel.invokeFunction(\n",
              "            'suggestCharts', [key], {});\n",
              "      } catch (error) {\n",
              "        console.error('Error during call to suggestCharts:', error);\n",
              "      }\n",
              "      quickchartButtonEl.classList.remove('colab-df-spinner');\n",
              "      quickchartButtonEl.classList.add('colab-df-quickchart-complete');\n",
              "    }\n",
              "    (() => {\n",
              "      let quickchartButtonEl =\n",
              "        document.querySelector('#df-d5496ad1-12ab-4b49-b649-bc21fe987064 button');\n",
              "      quickchartButtonEl.style.display =\n",
              "        google.colab.kernel.accessAllowed ? 'block' : 'none';\n",
              "    })();\n",
              "  </script>\n",
              "</div>\n",
              "\n",
              "    </div>\n",
              "  </div>\n"
            ],
            "application/vnd.google.colaboratory.intrinsic+json": {
              "type": "dataframe",
              "variable_name": "text_chunks_and_embedding_df_load",
              "summary": "{\n  \"name\": \"text_chunks_and_embedding_df_load\",\n  \"rows\": 35,\n  \"fields\": [\n    {\n      \"column\": \"page_number\",\n      \"properties\": {\n        \"dtype\": \"number\",\n        \"std\": 3,\n        \"min\": 0,\n        \"max\": 12,\n        \"num_unique_values\": 13,\n        \"samples\": [\n          11,\n          9,\n          0\n        ],\n        \"semantic_type\": \"\",\n        \"description\": \"\"\n      }\n    },\n    {\n      \"column\": \"sentence_chunk\",\n      \"properties\": {\n        \"dtype\": \"string\",\n        \"num_unique_values\": 35,\n        \"samples\": [\n          \"\\u2022 C\\u00f4ng ngh\\u1ec7 th\\u00f4ng tin: Ch Favored chuy\\u00ean ng\\u00e0nh Tr\\u00ed tu\\u1ec7 nh\\u00e2n t\\u1ea1o (AI) v\\u00e0 Khoa h\\u1ecdc d\\u1eef li\\u1ec7u. \\u2022 C\\u00f4ng ngh\\u1ec7 t\\u00e0i ch\\u00ednh (Fintech). \\u2022 Kinh doanh s\\u1ed1. \\u2022 Thi\\u1ebft k\\u1ebf \\u0111\\u1ed3 h\\u1ecda. Ngo\\u00e0i ra, tr\\u01b0\\u1eddng c\\u00f2n \\u0111\\u00e0o t\\u1ea1o c\\u00e1c ng\\u00e0nh ng\\u00f4n ng\\u1eef nh\\u01b0 H\\u00e0n Qu\\u1ed1c, Nh\\u1eadt B\\u1ea3n, Trung Qu\\u1ed1c. Sinh vi\\u00ean c\\u00f3 th\\u1ec3 h\\u1ecdc song ng\\u00e0nh n\\u1ebfu \\u0111\\u00e1p \\u1ee9ng \\u0111i\\u1ec1u ki\\u1ec7n v\\u1ec1 \\u0111i\\u1ec3m s\\u1ed1 v\\u00e0 th\\u1eddi gian h\\u1ecdc t\\u1eadp. 4. H\\u1ecdc ph\\u00ed v\\u00e0 h\\u1ed7 tr\\u1ee3 t\\u00e0i ch\\u00ednh H\\u1ecdc ph\\u00ed H\\u1ecdc ph\\u00ed t\\u1ea1i Tr\\u01b0\\u1eddng \\u0110\\u1ea1i h\\u1ecdc CMC dao \\u0111\\u1ed9ng t\\u1eeb 40 - 60 tri\\u1ec7u VN\\u0110/n\\u0103m, t\\u00f9y theo ng\\u00e0nh h\\u1ecdc.\",\n          \"II. N\\u1ed9i Quy Ch\\u1ebf Sinh Vi\\u00ean Sau khi t\\u00ecm ki\\u1ebfm tr\\u00ean website ch\\u00ednh th\\u1ee9c [Tr\\u01b0\\u1eddng \\u0110\\u1ea1i h\\u1ecdc CMC]([invalid url, do not cite]) v\\u00e0 c\\u00e1c ngu\\u1ed3n li\\u00ean quan, kh\\u00f4ng t\\u00ecm th\\u1ea5y th\\u00f4ng tin c\\u00f4ng khai v\\u1ec1 n\\u1ed9i quy ch\\u1ebf sinh vi\\u00ean. C\\u00f3 kh\\u1ea3 n\\u0103ng c\\u00e1c quy \\u0111\\u1ecbnh n\\u00e0y \\u0111\\u01b0\\u1ee3c l\\u01b0u tr\\u1eef trong c\\u1ed5ng th\\u00f4ng tin n\\u1ed9i b\\u1ed9 d\\u00e0nh cho sinh vi\\u00ean, kh\\u00f4ng \\u0111\\u01b0\\u1ee3c chia s\\u1ebb c\\u00f4ng khai tr\\u00ean trang web.\\u0110i\\u1ec1u n\\u00e0y kh\\u00f4ng b\\u1ea5t th\\u01b0\\u1eddng, v\\u00ec nhi\\u1ec1u tr\\u01b0\\u1eddng \\u0111\\u1ea1i h\\u1ecdc ch\\u1ec9 cung c\\u1ea5p n\\u1ed9i quy qua t\\u00e0i li\\u1ec7u in ho\\u1eb7c h\\u1ec7 th\\u1ed1ng qu\\u1ea3n l\\u00fd h\\u1ecdc t\\u1eadp. D\\u1ef1a tr\\u00ean th\\u00f4ng l\\u1ec7 c\\u1ee7a c\\u00e1c tr\\u01b0\\u1eddng \\u0111\\u1ea1i h\\u1ecdc Vi\\u1ec7t Nam, n\\u1ed9i quy ch\\u1ebf th\\u01b0\\u1eddng bao g\\u1ed3m c\\u00e1c quy \\u0111\\u1ecbnh v\\u1ec1 h\\u1ecdc t\\u1eadp, r\\u00e8n luy\\u1ec7n \\u0111\\u1ea1o \\u0111\\u1ee9c, k\\u1ef7 lu\\u1eadt, v\\u00e0 quy\\u1ec1n l\\u1ee3i sinh vi\\u00ean, nh\\u01b0ng chi ti\\u1ebft c\\u1ee5 th\\u1ec3 c\\u1ea7n li\\u00ean h\\u1ec7 tr\\u1ef1c ti\\u1ebfp v\\u1edbi nh\\u00e0 tr\\u01b0\\u1eddng \\u0111\\u1ec3 bi\\u1ebft th\\u00eam. III. \\u01afu \\u0110\\u00e3i Cho Sinh Vi\\u00ean Tr\\u01b0\\u1eddng \\u0110\\u1ea1i h\\u1ecdc CMC cung c\\u1ea5p nhi\\u1ec1u \\u01b0u \\u0111\\u00e3i h\\u1ea5p d\\u1eabn, gi\\u00fap sinh vi\\u00ean c\\u00f3 m\\u00f4i tr\\u01b0\\u1eddng h\\u1ecdc t\\u1eadp v\\u00e0 ph\\u00e1t tri\\u1ec3n to\\u00e0n di\\u1ec7n: \\u2022 H\\u1ecdc b\\u1ed5ng v\\u00e0 H\\u1ed7 Tr\\u1ee3 T\\u00e0i Ch\\u00ednh: Qu\\u1ef9 h\\u1ecdc b\\u1ed5ng 96 t\\u1ef7 VND n\\u0103m 2025 l\\u00e0 m\\u1ed9t \\u0111i\\u1ec3m nh\\u1ea5n, v\\u1edbi c\\u00e1c m\\u1ee9c t\\u1eeb 30% \\u0111\\u1ebfn 100% h\\u1ecdc ph\\u00ed, d\\u1ef1a tr\\u00ean th\\u00e0nh t\\u00edch h\\u1ecdc t\\u1eadp v\\u00e0 ch\\u1ee9ng\",\n          \"Tr\\u01b0\\u1eddng kh\\u00f4ng t\\u1ed5 ch\\u1ee9c k\\u1ef3 thi \\u0111\\u1ea7u v\\u00e0o ri\\u00eang, gi\\u00fap gi\\u1ea3m \\u00e1p l\\u1ef1c cho th\\u00ed sinh. Th\\u1eddi gian tuy\\u1ec3n sinh \\u2022 B\\u1eaft \\u0111\\u1ea7u: T\\u1eeb th\\u00e1ng 3 h\\u00e0ng n\\u0103m. \\u2022 H\\u1ea1n ch\\u00f3t: Th\\u01b0\\u1eddng v\\u00e0o th\\u00e1ng 9, nh\\u01b0ng th\\u00ed sinh n\\u00ean theo d\\u00f5i th\\u00f4ng b\\u00e1o ch\\u00ednh th\\u1ee9c \\u0111\\u1ec3 c\\u1eadp nh\\u1eadt th\\u1eddi gian c\\u1ee5 th\\u1ec3. C\\u00e1ch \\u0111\\u0103ng k\\u00fd x\\u00e9t tuy\\u1ec3n Th\\u00ed sinh c\\u00f3 th\\u1ec3: \\u2022 \\u0110\\u0103ng k\\u00fd tr\\u1ef1c tuy\\u1ebfn qua website c\\u1ee7a tr\\u01b0\\u1eddng. \\u2022 N\\u1ed9p h\\u1ed3 s\\u01a1 tr\\u1ef1c ti\\u1ebfp t\\u1ea1i ph\\u00f2ng tuy\\u1ec3n sinh. H\\u1ed3 s\\u01a1 nh\\u1eadp h\\u1ecdc H\\u1ed3 s\\u01a1 bao g\\u1ed3m: \\u2022 B\\u1eb1ng t\\u1ed1t nghi\\u1ec7p THPT (b\\u1ea3n sao c\\u00f4ng ch\\u1ee9ng). \\u2022 H\\u1ecdc b\\u1ea1 THPT. \\u2022 Gi\\u1ea5y ch\\u1ee9ng nh\\u1eadn s\\u1ee9c kh\\u1ecfe.\"\n        ],\n        \"semantic_type\": \"\",\n        \"description\": \"\"\n      }\n    },\n    {\n      \"column\": \"chunk_char_count\",\n      \"properties\": {\n        \"dtype\": \"number\",\n        \"std\": 366,\n        \"min\": 304,\n        \"max\": 1599,\n        \"num_unique_values\": 35,\n        \"samples\": [\n          454,\n          975,\n          484\n        ],\n        \"semantic_type\": \"\",\n        \"description\": \"\"\n      }\n    },\n    {\n      \"column\": \"chunk_word_count\",\n      \"properties\": {\n        \"dtype\": \"number\",\n        \"std\": 76,\n        \"min\": 67,\n        \"max\": 338,\n        \"num_unique_values\": 33,\n        \"samples\": [\n          139,\n          229,\n          172\n        ],\n        \"semantic_type\": \"\",\n        \"description\": \"\"\n      }\n    },\n    {\n      \"column\": \"chunk_token_count\",\n      \"properties\": {\n        \"dtype\": \"number\",\n        \"std\": 91.7161370202429,\n        \"min\": 76.0,\n        \"max\": 399.75,\n        \"num_unique_values\": 35,\n        \"samples\": [\n          113.5,\n          243.75,\n          121.0\n        ],\n        \"semantic_type\": \"\",\n        \"description\": \"\"\n      }\n    },\n    {\n      \"column\": \"embedding\",\n      \"properties\": {\n        \"dtype\": \"string\",\n        \"num_unique_values\": 35,\n        \"samples\": [\n          \"[ 8.66567716e-03 -5.38373403e-02 -3.55739193e-03 -1.01656411e-02\\n -2.23395824e-02  1.15307467e-02 -3.44956815e-02 -2.30771676e-03\\n  2.00785249e-02  2.04638150e-02 -8.39145482e-02 -2.25441270e-02\\n  7.52484947e-02  1.99659057e-02  1.85737817e-03 -1.02430983e-02\\n  1.39131127e-02  2.94409692e-02 -1.54345315e-02 -5.55090271e-02\\n -1.20006567e-02  9.73323069e-04  2.67397370e-02  5.48647307e-02\\n  8.56021047e-02 -4.22790945e-02  2.69708484e-02  1.68373454e-02\\n -2.79684812e-02 -3.19656245e-02  5.16497940e-02  2.49938038e-03\\n -4.47082259e-02 -1.45170018e-02  2.52841278e-06 -5.98087460e-02\\n  1.30953360e-02 -2.37848070e-02 -8.51597860e-02  6.21341877e-02\\n  1.67232547e-02  6.56601489e-02 -2.23158412e-02  1.36299373e-03\\n  2.80749029e-03  2.44905744e-02  4.25224984e-03  1.91303883e-02\\n -6.91761356e-03  2.76238210e-02  6.85001770e-03  1.59981512e-02\\n -2.87078526e-02 -4.54443693e-02  3.99729125e-02 -2.25959010e-02\\n -2.35066619e-02  7.61870295e-02  7.47307837e-02  7.32242083e-03\\n -4.06366400e-02 -1.72077143e-03 -2.18126718e-02 -1.96991153e-02\\n  9.73572396e-03  1.40162725e-02  3.06434799e-02 -1.45440083e-02\\n  1.90017261e-02  2.94284727e-02  6.87501132e-02 -6.74644439e-03\\n -8.15016218e-03  1.14855498e-01  3.21599208e-02 -4.54529673e-02\\n -4.56075482e-02 -5.04643060e-02 -1.98025238e-02 -2.28133779e-02\\n  5.07011116e-02  3.33531946e-02 -2.55381111e-02  4.08026464e-02\\n  1.28014572e-02 -1.00600928e-01 -3.52318548e-02 -3.44866700e-02\\n  9.36309749e-04 -4.61390764e-02  6.67152554e-02  1.88549347e-02\\n  2.19835024e-02  3.47711183e-02  2.47436743e-02 -3.31998765e-02\\n  2.40507014e-02  8.24652687e-02 -1.39647406e-02 -7.90567622e-02\\n  8.21006019e-03  5.99374697e-02 -1.44675365e-02  6.67672232e-02\\n -7.12250620e-02 -2.68411897e-02  2.48903991e-03 -3.43817216e-03\\n -1.88545715e-02  8.33127764e-04 -3.52716446e-02  3.99081223e-03\\n -8.08378961e-03  5.56358323e-02 -1.92238875e-02 -5.09283654e-02\\n -8.60001370e-02  2.57214941e-02  2.05313619e-02  1.19061731e-02\\n  6.27159327e-02  2.41847038e-02 -3.78280729e-02  1.55766504e-02\\n  5.82562685e-02  4.45466228e-02 -3.11495923e-02  4.24155593e-03\\n -1.65299303e-03 -1.94557887e-02 -2.92539839e-02  3.28982100e-02\\n  2.46715080e-02 -1.35885393e-02  5.14280833e-02  4.00856212e-02\\n -1.39953177e-02  5.04523665e-02  5.14004715e-02  1.85918882e-02\\n  3.40903248e-03  9.62122111e-04 -1.18576139e-02 -6.80593716e-04\\n -3.06068696e-02 -2.88740303e-02  4.42001149e-02  5.50046898e-02\\n -2.54316982e-02 -2.23325100e-02 -3.74822058e-02  5.61245624e-03\\n -7.67954951e-03  1.79541353e-02  5.73083898e-03  3.35260481e-02\\n  7.97272474e-03 -1.15197646e-02 -3.44436951e-02 -1.36747984e-02\\n  1.44516500e-02 -4.41219658e-02 -1.72825959e-02 -1.43358959e-02\\n -7.56701687e-03 -1.75682064e-02  1.79349594e-02  3.63816097e-02\\n  6.58336608e-03 -2.25224029e-02  6.31068414e-03  3.46228876e-03\\n -5.61863184e-03  5.33711985e-02 -1.14399400e-02  2.09368765e-03\\n  7.03485087e-02 -9.64661762e-02 -4.64609936e-02  2.43261959e-02\\n  4.62851040e-02 -5.89979514e-02  3.07918657e-02  1.51745463e-02\\n -5.53520806e-02  3.35557759e-02 -1.18149864e-02  1.93163939e-02\\n -3.44636515e-02 -2.31453869e-02  9.51573066e-03  1.26042934e-02\\n -6.23960122e-02  1.81237962e-02 -2.33715549e-02  1.96589325e-02\\n  3.71428989e-02 -1.02260277e-01  1.97074227e-02  1.14917429e-03\\n -2.48421729e-02 -5.01707084e-02  5.69154881e-02  7.69429952e-02\\n -3.09729343e-03  4.93235700e-02  3.87399946e-03 -2.03164052e-02\\n -2.04421375e-02 -4.49503353e-03 -2.58240923e-02 -2.56881118e-02\\n  4.45833546e-04 -7.91135896e-03  3.81139442e-02  8.66364911e-02\\n  2.25682817e-02  2.44811457e-02 -5.14944270e-03  6.09769113e-02\\n  2.61898967e-03  9.53339487e-02 -1.82777997e-02 -1.89466644e-02\\n  7.32042938e-02 -7.97578972e-03  3.22085619e-02  2.30111182e-02\\n  1.32224634e-02  6.91191554e-02 -1.97910294e-02  7.70736439e-03\\n  2.07810346e-02  2.87844483e-02 -1.47703371e-03  4.54832688e-02\\n  1.70446374e-02 -3.36431637e-02  1.91947259e-02 -6.15577726e-03\\n  1.53918732e-02 -4.25707996e-02  2.40091216e-02 -8.50999262e-03\\n  4.91535701e-02  2.17113961e-02 -1.10803777e-02 -2.22976040e-03\\n -2.04120204e-03  5.30079799e-03  5.44979237e-02  2.78104134e-02\\n  2.97661833e-02  2.34194696e-02  9.95125994e-03 -1.93526049e-03\\n  1.64276343e-02  1.77773740e-02 -4.51615192e-02  8.09535850e-03\\n  1.86452288e-02 -4.41701151e-02 -7.33517716e-03 -1.89732183e-02\\n  7.39791244e-02  1.84201486e-02  2.52735242e-02 -5.38270734e-02\\n -1.11849383e-02 -1.11828931e-03 -1.22559173e-02  4.27683443e-02\\n -1.14204250e-02 -2.63251793e-02 -1.45884398e-02  1.08527793e-02\\n  4.79571223e-02  2.28913333e-02 -1.80380084e-02 -1.64862368e-02\\n  3.19240685e-03  9.04459506e-03  1.60536682e-03  1.56577863e-02\\n  2.37870918e-04 -3.72779965e-02  4.66187745e-02 -7.34745115e-02\\n -1.50993802e-02 -3.57112773e-02 -2.69337371e-03 -4.67432663e-02\\n  9.61303152e-03 -1.85557920e-02 -1.31906802e-02  2.28734221e-02\\n -6.33686706e-02  4.88896817e-02 -3.30784009e-03  5.45008294e-02\\n -7.43686631e-02 -1.34905614e-02 -6.49780501e-03 -1.52868861e-02\\n  9.79065336e-03  2.56507751e-02  2.52767503e-02 -5.12495227e-02\\n -1.37464600e-02 -1.07061965e-02  2.81981621e-02  6.71297312e-03\\n -1.92512944e-03 -9.28148255e-02 -2.82592289e-02  7.87081663e-03\\n -6.90135658e-02  1.80217735e-02 -8.21742928e-04 -4.61426228e-02\\n  2.44900379e-02  4.32188660e-02 -6.79663708e-03  1.08117713e-02\\n -5.80908582e-02 -3.43510648e-04 -4.77835983e-02 -3.49450335e-02\\n  5.83004616e-02 -1.13978572e-01  2.80865766e-02  4.30838019e-02\\n -4.82454114e-02 -4.77985200e-03  1.14658559e-02 -6.34898394e-02\\n -2.88083334e-03  7.77956657e-03  3.30592170e-02 -7.60669122e-03\\n -2.16865689e-02 -6.83308952e-03  1.65072922e-02  8.91174190e-03\\n -6.92536123e-03 -1.96978822e-03 -3.16303931e-02  1.84069276e-02\\n  3.18828747e-02 -5.70249557e-02 -3.01257242e-02 -4.25929651e-02\\n -1.57324988e-02 -1.99507959e-02 -1.65463611e-02  6.12653829e-02\\n  2.83338726e-02 -4.10661139e-02 -1.30627463e-02  2.38565374e-02\\n  4.94444147e-02 -4.54597827e-03 -8.97349697e-03  3.45834307e-02\\n  3.30069885e-02 -1.38129722e-02  3.66877541e-02  5.84399626e-02\\n  3.98240834e-02  1.81150958e-02 -6.77240873e-03 -3.35525372e-03\\n  2.14142930e-02  2.20945124e-02 -4.97747399e-02  1.49769560e-02\\n -1.89091079e-02  4.96472493e-02  9.55433771e-02  1.06253382e-02\\n  2.57289056e-02 -4.73938882e-02  5.22089303e-02  2.26741959e-03\\n  3.21926665e-03  1.74011588e-02  3.06223985e-03 -3.19630280e-02\\n -7.28318021e-02  2.45516542e-02  4.17750552e-02  2.93757278e-03\\n  2.02990677e-02 -5.22386394e-02  6.38360856e-04  1.34303397e-03\\n  3.22510600e-02  6.08663028e-03 -1.46404596e-03  1.54095609e-02\\n  2.87939161e-02  2.26364844e-02 -1.39936674e-02  4.30463888e-02\\n  9.78798606e-03  6.33945316e-02 -1.44737996e-02  4.27055545e-03\\n -3.13728340e-02  3.18650156e-02  4.34324741e-02  2.19373778e-02\\n  2.94495840e-02  2.67243274e-02 -3.24768461e-02 -5.99762425e-02\\n  1.23131955e-02 -2.90287640e-02  5.83164208e-02 -8.81633088e-02\\n  5.53993620e-02  4.12242860e-02 -1.45857660e-02 -1.83921251e-02\\n  1.33373495e-02  1.93838309e-02  8.87592807e-02  2.22993139e-02\\n  3.52275260e-02 -2.51583215e-02 -7.40425363e-02  6.08779415e-02\\n -5.66651709e-02 -6.74974080e-03 -1.58598311e-02 -5.08484058e-02\\n -5.30863646e-03 -2.48165149e-02 -1.23152286e-02 -1.78410150e-02\\n -8.25836584e-02 -2.90648434e-02  3.90779376e-02  1.47687010e-02\\n  2.49423739e-02 -2.75698751e-02  2.99910344e-02  5.71692036e-03\\n -7.74281425e-03 -8.79750028e-02  1.12378504e-03 -5.54860830e-02\\n  2.38430258e-02 -3.62734795e-02 -2.60168165e-02 -9.74095613e-03\\n -5.22920415e-02 -2.54847016e-02 -1.10993972e-02  3.61014716e-02\\n  1.30726136e-02  2.86510549e-02 -2.21163109e-02 -3.38335871e-03\\n  2.62522008e-02 -6.36149794e-02 -1.27444509e-02 -7.12586567e-02\\n  5.09861205e-03  1.50558585e-02 -3.11407745e-02 -3.19940448e-02\\n -1.36864875e-02  2.17317734e-02  4.04275991e-02 -6.65998692e-03\\n  7.70905474e-03  3.65798250e-02  2.44056154e-02  2.57714503e-02\\n -4.20388626e-03  7.09349709e-03 -3.46187912e-02  1.57653715e-03\\n  1.05121052e-02 -7.89624080e-03  9.96838976e-03 -1.49667170e-02\\n  1.55701740e-02 -7.53932670e-02  4.77722026e-02 -2.27090456e-02\\n -5.22639370e-03 -1.14225283e-01  4.79358770e-02 -3.04017663e-02\\n -1.17535880e-02  1.17426924e-02 -6.37263730e-02  5.67839332e-02\\n -5.40159177e-03  1.39910718e-02  8.37602839e-03  6.04390539e-02\\n  5.78660611e-03 -6.73765969e-03 -2.69946456e-03  6.49692491e-03\\n  2.56036129e-03 -1.26610901e-02  3.60284783e-02  1.43037569e-02\\n -3.95824015e-02 -1.30246162e-01  9.40232258e-03 -1.81940813e-02\\n  2.82954797e-02 -2.75469180e-02 -4.95203491e-03 -3.06247659e-02\\n  4.37523946e-02 -2.34202500e-02  9.41618811e-03 -4.59364429e-02\\n -4.81846444e-02 -6.35805950e-02  9.61232372e-03 -6.73374347e-03\\n -2.90206447e-02  5.75759970e-02 -4.27115969e-02  9.45214927e-03\\n -8.59504193e-03  7.19218794e-03 -3.56526710e-02 -4.14570458e-02\\n  4.82784100e-02 -1.90773269e-03 -2.80941036e-02  4.73178215e-02\\n -3.21250297e-02 -4.41744290e-02 -2.26313854e-03 -2.95676813e-02\\n  1.35518983e-02  3.19428518e-02  1.89325474e-02 -6.54257741e-03\\n  1.58580206e-03  8.32544863e-02  6.60780538e-03  8.60050786e-03\\n -4.38970961e-02 -5.37380436e-03  3.15313339e-02 -7.88423383e-33\\n  5.65133174e-04 -6.75544725e-04  5.96749596e-03  2.16789935e-02\\n -2.80829649e-02 -2.70303693e-02 -2.79861633e-02  2.78996006e-02\\n -3.91072966e-02 -3.89033593e-02 -3.35146077e-02  5.27208112e-02\\n  1.88977551e-02  4.64727990e-02  5.65616377e-02  1.47092780e-02\\n -4.10477817e-02 -5.03275311e-03 -1.02844527e-02 -2.76940428e-02\\n  2.09700428e-02  3.79954018e-02  1.67475920e-02 -5.53836785e-02\\n  4.87265140e-02  3.74702290e-02 -2.05653179e-02 -1.91372558e-02\\n  3.20595689e-02 -3.17092352e-02 -1.87748987e-02 -5.83729753e-03\\n  2.99548392e-05  7.19634145e-02  1.34514272e-02 -2.74218135e-02\\n -7.09755719e-02 -1.54203558e-02 -2.32989229e-02  3.33454390e-03\\n  2.56153359e-03  6.20041741e-03 -6.13504723e-02 -2.43741591e-02\\n -6.08191602e-02  1.37499347e-02 -1.95909645e-02 -3.51205319e-02\\n  2.75930185e-02  7.18652904e-02 -3.72725688e-02  8.38093832e-03\\n  5.72073134e-03 -1.89643018e-02 -3.55714746e-02  7.65132681e-02\\n -2.30322103e-03 -7.01646879e-02 -1.94320511e-02  1.48923891e-02\\n -3.36854644e-02  5.82778119e-02 -2.15970017e-02 -1.31092491e-02\\n  6.06613606e-03  5.80842886e-03  5.59567809e-02 -4.91076894e-03\\n -1.27837444e-02 -3.80490944e-02 -7.60443229e-03  1.00558205e-02\\n -5.54887205e-03 -2.47903485e-02 -1.02505283e-02 -9.74358693e-02\\n  2.20116936e-02  8.89775809e-03  4.18750010e-02 -6.03233464e-03\\n -1.30970888e-02  3.13213728e-02 -4.79981601e-02 -2.55892910e-02\\n  2.42828466e-02  3.96701805e-02 -1.84819270e-02  7.06306240e-03\\n  8.65189731e-03  1.07371593e-02 -6.39122538e-03  2.58724447e-02\\n  5.32970764e-02 -1.22258598e-02  8.49477481e-03 -5.44178113e-02\\n  2.57278662e-02  2.54550073e-02 -4.42079315e-03 -5.84359700e-03\\n -2.44878978e-02 -1.25460420e-02 -1.71637964e-02 -8.36921670e-03\\n  4.93486703e-04  2.02979986e-02  6.63012564e-02  2.01702397e-02\\n -2.91055311e-02  1.67554282e-02  1.94672700e-02 -8.68017375e-02\\n  5.16768955e-02 -6.61754161e-02 -1.11426972e-02  2.40939148e-02\\n  1.70592535e-02 -7.43863732e-02  1.51603362e-02  1.68170147e-02\\n -1.17298332e-03 -2.81770006e-02 -2.46413387e-02 -2.66470364e-03\\n -4.82436232e-02  6.19534515e-02 -3.29762138e-02  4.32690568e-02\\n -2.62895394e-02 -2.90871318e-02 -1.05512969e-04  2.92183319e-03\\n  3.26094266e-07 -2.28695758e-02  2.26544272e-02  3.50380354e-02\\n  2.15963256e-02 -8.89673713e-04 -5.12420163e-02 -4.42092977e-02\\n -1.43817090e-03 -4.64271009e-02 -5.53093990e-03  3.70575227e-02\\n -4.97750763e-04  4.18166518e-02 -6.93074539e-02 -4.60659564e-02\\n -6.29821643e-02  5.64387161e-03 -2.94650216e-02  8.98719300e-03\\n -1.15877762e-02 -4.16227244e-02  5.25307432e-02 -1.95218530e-02\\n -3.46962884e-02  1.54843237e-02  2.80091818e-02  3.98425795e-02\\n -3.54663432e-02  4.80350964e-02  1.00242801e-03 -3.34690735e-02\\n -4.64928113e-02 -1.39002251e-02  5.17037557e-03  1.57952104e-02\\n -1.67560652e-02  8.56394470e-02  2.25451421e-02 -9.37082805e-03\\n  7.37503767e-02 -6.64527118e-02 -4.70400415e-02 -5.59303490e-03\\n -9.23596248e-02  3.05085778e-02  3.74058187e-02 -2.64146030e-02\\n -1.67662892e-02  3.42297144e-02  1.21391974e-02  1.84880570e-02\\n -1.36905920e-03  1.73451677e-02 -7.47534307e-03  1.78248603e-02\\n  4.13138531e-02  1.34440437e-02 -2.70935998e-04  7.21436052e-04\\n -3.98767218e-02 -2.58192122e-02  2.23351903e-02  4.79391888e-02\\n  4.89042886e-02  6.37003183e-02 -6.08154796e-02 -3.40778418e-02\\n  3.51222513e-34  2.48354692e-02 -7.53381348e-04  1.76408496e-02\\n  7.82368239e-03  1.25543857e-02 -6.74334988e-02  6.01903796e-02\\n -2.32756175e-02  4.15142346e-03 -1.02490429e-02 -5.95560223e-02]\",\n          \"[ 6.94803968e-02 -2.53259670e-02  2.10712571e-02  2.00521797e-02\\n -1.02156568e-02  1.98235903e-02 -7.13407993e-03  2.92279255e-02\\n -2.75694020e-02 -1.03909066e-02 -5.28726168e-02 -4.57926579e-02\\n  6.79765716e-02 -3.28662694e-02  1.00156488e-02 -2.94347852e-03\\n  9.16284230e-03  4.28415388e-02 -2.14637201e-02 -3.74201275e-02\\n -1.04521643e-02  1.26770614e-02  4.57151327e-03  4.68471721e-02\\n  7.14981183e-02 -4.68396768e-03  3.90569190e-03  1.83547549e-02\\n -4.59222049e-02 -8.87700021e-02  4.80705686e-02  2.22433098e-02\\n -2.40812860e-02 -8.76309443e-03  2.63420134e-06 -6.62823319e-02\\n  5.69707016e-03 -2.06451416e-02 -6.88844174e-02  8.19354728e-02\\n  7.76895275e-03  2.60960683e-02 -2.05351673e-02 -8.54897917e-06\\n  1.24569573e-02 -1.69916097e-02  3.56566012e-02  2.76432391e-02\\n  3.74768972e-02  4.27046493e-02 -4.92419756e-04  7.07591549e-02\\n -4.54808511e-02 -4.90017161e-02  5.26704825e-02 -1.40870884e-02\\n  2.03721225e-02  6.69371784e-02  4.56861593e-02 -1.84937678e-02\\n -1.06497901e-02  1.03462189e-02 -2.61554196e-02 -1.70063414e-02\\n -4.75014150e-02  2.48152926e-03  1.59378611e-02 -5.23773544e-02\\n  4.67008501e-02  2.62718797e-02  6.57366216e-02 -3.81129272e-02\\n -8.43945367e-04  1.45457044e-01 -7.30480487e-03 -2.84883343e-02\\n -6.46039322e-02 -2.09821388e-02 -4.97444440e-03 -6.93282811e-03\\n  2.38741022e-02 -7.99354818e-03 -1.71867423e-02  1.28830615e-02\\n -1.65075064e-02 -9.29227471e-02 -3.37896794e-02 -4.64822762e-02\\n -3.00181657e-02 -4.98155989e-02  5.29729798e-02 -1.05410237e-02\\n  2.84281820e-02  3.69406976e-02  4.21496332e-02 -2.88436562e-03\\n  4.17653508e-02  7.88852125e-02  1.50520829e-02 -9.94142741e-02\\n -2.23501492e-02  7.89156705e-02 -4.76416983e-02  3.73803154e-02\\n -2.23776624e-02 -4.94849822e-03 -3.54290828e-02  3.13428119e-02\\n -5.91559038e-02  3.74369174e-02 -4.24100794e-02 -8.64638295e-03\\n -2.55522598e-02  4.17297706e-02 -2.26386841e-02 -3.32028791e-02\\n -7.07278848e-02 -1.72001533e-02  4.87660877e-02  3.76811326e-02\\n  3.58725041e-02  3.99374180e-02 -7.89070427e-02  2.55471021e-02\\n  1.78277455e-02  4.19261977e-02 -1.78561192e-02  1.48599343e-02\\n -2.64475346e-02 -4.00391631e-02 -1.95350125e-02  2.32990999e-02\\n  2.21623108e-02 -1.85867175e-02  3.02773938e-02  2.02018525e-02\\n -5.48806824e-02  7.39765018e-02  4.28820178e-02 -8.56600888e-03\\n -3.70477214e-02 -1.33357560e-02  2.01746486e-02 -1.90804508e-02\\n -1.97477546e-02 -2.99150590e-03  5.08977622e-02  6.47018924e-02\\n -4.07072995e-03 -5.65880025e-03 -6.70275465e-02  7.68998312e-03\\n -2.82057896e-02  1.90065615e-02  2.43869121e-03  4.05393392e-02\\n -9.46527580e-04 -1.48362098e-02  1.36124045e-02 -3.89276892e-02\\n  3.39041129e-02 -7.24632014e-03 -1.40925692e-02 -2.50487830e-02\\n  5.76811703e-03  8.13750178e-03 -1.08016171e-02  3.75401117e-02\\n  2.79029254e-02  3.60026886e-03  2.09775306e-02  3.35216075e-02\\n -2.67938040e-02  4.79363017e-02 -9.15002823e-03 -7.33315945e-03\\n  1.21778380e-02 -7.06976131e-02 -2.53140181e-02  1.67751182e-02\\n  5.93948439e-02  3.90400155e-03  1.65701807e-02 -2.24502217e-02\\n -4.94238175e-02  2.79128365e-02 -1.56483818e-02  2.57400936e-03\\n -8.01782403e-03 -2.99081616e-02  2.88210483e-03  7.10669206e-03\\n  4.90790047e-03 -2.55752243e-02  9.48936027e-03  2.23583672e-02\\n  4.49285023e-02 -5.77402748e-02  1.59120243e-02 -1.52315749e-02\\n -9.74948984e-03 -2.23131347e-02  1.68496824e-03  4.02528495e-02\\n  4.59219143e-03  4.06792350e-02  1.99747570e-02 -3.69694307e-02\\n  2.75163185e-02  1.40474057e-02 -2.13973373e-02 -1.49693070e-02\\n -2.11769938e-02 -1.25256162e-02  2.07591504e-02  5.69481254e-02\\n  1.81536358e-02  7.84083549e-03 -1.78761035e-02  8.05583596e-02\\n  9.89576802e-03  6.58182055e-02 -2.17063585e-03 -4.18305025e-03\\n  8.37110281e-02  5.29620936e-03 -3.71003933e-02  3.45355570e-02\\n  1.53629258e-02  6.02756180e-02 -2.41155848e-02  2.52293888e-02\\n -1.39517197e-03  1.55049434e-03  2.59155910e-02  5.85889667e-02\\n  1.81591325e-02 -3.77153829e-02  5.61158247e-02 -3.57822813e-02\\n  4.74106371e-02 -1.61016304e-02  3.01336311e-02 -3.81044671e-02\\n -1.06997017e-04  7.64383236e-03  2.90638465e-03 -3.14567499e-02\\n  2.85361111e-02 -1.97235178e-02  4.16239537e-02  3.93232740e-02\\n  4.51175198e-02 -1.06369983e-02  3.65587808e-02  6.98014423e-02\\n -3.93985622e-02  2.64522135e-02 -1.61590148e-02 -1.92313641e-02\\n -7.18784705e-03 -3.72249968e-02 -1.20714232e-02 -3.85847911e-02\\n  5.71439080e-02 -6.35966472e-03  2.55489834e-02 -4.69938926e-02\\n -2.42084470e-02 -3.10656670e-02 -8.26271658e-04  6.21526353e-02\\n -3.04834936e-02 -2.39424650e-02 -1.77017543e-02  7.85903633e-02\\n  2.17090510e-02  9.69949830e-03  1.62840914e-02  1.99277070e-03\\n  4.57682945e-02  1.56046227e-02 -1.48236994e-02  1.61641072e-02\\n  1.22437477e-02 -3.31516415e-02  5.27577195e-03 -1.41627908e-01\\n -4.80398815e-03 -2.26263031e-02 -1.45842517e-02 -3.55956629e-02\\n -1.78521853e-02 -9.89796594e-02  1.82792603e-03  1.48527240e-02\\n -9.00227278e-02  3.27355787e-02  1.28771327e-02  9.18015167e-02\\n -1.07961008e-02 -1.22924708e-02 -8.76716804e-03 -4.62733908e-03\\n -1.17475800e-02  2.02282090e-02 -3.31069785e-03 -7.72256777e-02\\n -7.44647393e-03  1.06390128e-02  4.48856652e-02  2.82277763e-02\\n -2.27619614e-03 -8.95741060e-02 -6.00236505e-02 -4.26208694e-03\\n -3.17121111e-02 -7.08914921e-03 -2.67830398e-02 -5.32991625e-03\\n  1.21098217e-02  3.04239020e-02 -2.21073418e-03  4.71848203e-03\\n -4.39776555e-02 -1.49812596e-02 -1.79194249e-02 -2.21445058e-02\\n  5.25448322e-02 -4.38008457e-02  2.73691751e-02  5.27353175e-02\\n -2.95459423e-02 -1.82122458e-02  3.94622236e-02 -3.31986994e-02\\n -5.04608499e-03  4.05527763e-02  3.58229689e-02 -1.34919295e-02\\n -3.45793366e-02 -1.39830224e-02  1.87415481e-02  2.70872680e-03\\n -3.68582718e-02 -1.49055514e-02 -1.97335612e-02  2.08710935e-02\\n  6.38446286e-02 -1.76157895e-02 -9.01634619e-03 -3.67070846e-02\\n  1.15819799e-04 -1.21936686e-02 -1.53820263e-02  6.93376809e-02\\n  1.50662288e-02 -4.76595350e-02 -6.71136100e-03  4.65695411e-02\\n  4.00658213e-02  1.89755633e-02  3.89577821e-04  5.58793470e-02\\n  9.00198743e-02  2.88062431e-02  4.64253537e-02  6.53253794e-02\\n  2.02853270e-02 -1.01467995e-02  5.49943931e-03 -3.32577154e-02\\n  1.74991891e-03  3.80979404e-02 -1.45853823e-02  6.83810504e-04\\n -4.40058671e-03  4.37418148e-02 -5.18974569e-03  2.99489545e-03\\n -1.38687845e-02 -5.70802540e-02  5.80447763e-02 -5.57780871e-03\\n -2.63155233e-02 -2.60221103e-04 -5.40357199e-04 -3.15245688e-02\\n -6.97300211e-02  3.20018418e-02  1.86460204e-02  1.94895063e-02\\n  3.11453715e-02 -3.98834497e-02  3.36859812e-04  2.00358741e-02\\n -4.33479909e-06  1.32810902e-02 -7.20028114e-03  9.39151272e-03\\n  2.45463476e-02  1.37092138e-03 -1.60076078e-02  5.61832190e-02\\n  6.73267804e-03  6.86130896e-02 -8.13552993e-04  2.81962417e-02\\n -1.97076835e-02  1.21143265e-02  1.02579065e-01 -3.91345508e-02\\n  3.22069339e-02  1.41807906e-02 -3.40716168e-02 -1.16645005e-02\\n  2.52187997e-02 -8.43628589e-03  5.89693151e-02 -3.85366045e-02\\n  7.95175787e-03  2.43288018e-02 -4.90698090e-04 -3.89268398e-02\\n -3.69030572e-02  3.37544158e-02  1.12489715e-01  1.49976192e-02\\n  7.82897789e-03  2.45467731e-04 -4.25260179e-02  2.28969939e-02\\n -8.23715106e-02 -1.27845351e-02 -3.74420732e-02 -2.18424313e-02\\n  2.55602337e-02 -2.70094741e-02 -4.00357507e-02 -4.45206873e-02\\n -4.12103534e-02 -4.88583483e-02  3.90497632e-02  1.13521209e-02\\n  1.29016349e-02  8.30406509e-03  4.39687297e-02  3.19115669e-02\\n -2.78864708e-02 -5.42403683e-02 -5.53092137e-02 -5.23726754e-02\\n  3.46534997e-02 -2.33477168e-02 -2.59359665e-02  2.40613017e-02\\n -7.57172257e-02 -3.07828411e-02 -1.58823598e-02  5.07659912e-02\\n  3.07404157e-03  2.52397340e-02  1.79163925e-02  1.21869165e-02\\n -9.89763904e-03 -1.36774136e-02 -3.78322564e-02 -3.40406299e-02\\n -8.44748691e-03  2.48697324e-04 -1.29793892e-02 -1.29920784e-02\\n -1.23443920e-02 -1.31225362e-02  1.34355212e-02 -5.36673190e-03\\n -1.48568964e-02 -5.06438781e-03  1.63800977e-02  4.79867160e-02\\n  1.50216976e-02  1.49923246e-02 -2.19328348e-02  1.95715576e-02\\n  2.34437548e-03 -1.79534033e-03 -1.36384908e-02 -3.09969857e-02\\n -3.14026466e-03 -7.21883923e-02  3.58145870e-02 -2.36958507e-02\\n -9.29650012e-03 -7.22120926e-02  6.06323369e-02 -2.33233087e-02\\n  4.06012833e-02  2.11413633e-02  2.26840330e-03  6.30219057e-02\\n  1.23695442e-02  2.80768727e-03  5.75081445e-03  5.95782101e-02\\n -1.16125122e-02  8.90447013e-03  4.54286579e-03  1.64505765e-02\\n -8.84630950e-04 -1.55854560e-02  2.60404851e-02 -7.45852664e-03\\n -5.14773317e-02 -9.96215418e-02 -1.62192490e-02 -2.39206329e-02\\n  4.92458493e-02 -2.87014041e-02  3.33321281e-02 -5.28386831e-02\\n  1.80700384e-02 -8.46378691e-03 -1.54989623e-02 -9.98648815e-03\\n -4.57249731e-02 -2.31110640e-02  2.73601105e-03 -2.26007793e-02\\n  3.76352184e-02  4.83019799e-02 -2.46750806e-02  2.13822462e-02\\n  3.77969742e-02 -2.51499284e-02 -1.44442711e-02 -2.29154490e-02\\n -2.83732247e-02  2.48129130e-03 -4.97581810e-02 -1.14533203e-02\\n  8.31946172e-03 -3.94605063e-02  5.47108427e-02  3.12450645e-03\\n  7.47332303e-03  2.78341882e-02 -3.10202222e-02  5.19567356e-03\\n  4.49839495e-02  5.24406545e-02 -1.05758626e-02  2.44432595e-02\\n -4.83219028e-02  2.30371095e-02  3.60910185e-02 -7.88219215e-33\\n  1.20213591e-02 -1.16270529e-02  1.41860470e-02 -2.63790116e-02\\n -1.13951815e-02 -2.03600340e-02 -4.29416895e-02  1.50862234e-02\\n -6.02600686e-02 -2.83547100e-02 -9.51665733e-03  4.21862416e-02\\n  2.13275086e-02  2.63107438e-02  1.91134550e-02 -1.50741898e-02\\n -2.92942915e-02  1.14558432e-02 -1.24646574e-02 -3.80926840e-02\\n  3.94727662e-02  1.28151774e-02  1.08596217e-02 -5.93068078e-02\\n  6.60223290e-02  1.98107399e-02 -1.68764014e-02 -7.49276858e-03\\n  4.80744317e-02 -4.87014232e-03 -4.19654325e-02 -1.96240488e-02\\n  2.12491099e-02  8.57574195e-02  1.03117591e-02 -2.00981665e-02\\n -8.55748653e-02 -8.43288435e-05 -2.03290954e-02  8.04276764e-03\\n  2.46510990e-02 -2.38869805e-03 -4.56262790e-02  8.08724761e-03\\n -2.87048854e-02  2.01835018e-02 -3.39579843e-02 -8.22049379e-02\\n  2.24715676e-02  2.96561960e-02 -5.21467179e-02 -8.35159793e-03\\n -3.56598268e-03  6.73891325e-03 -3.89056057e-02  8.70295241e-02\\n -8.89346655e-03 -1.86733063e-02 -7.79422522e-02  2.97347568e-02\\n -5.62743694e-02  5.90557382e-02  8.90992582e-03 -4.12815064e-02\\n  7.04311021e-03 -3.79271507e-02  2.86774654e-02 -2.04611383e-02\\n -4.18799706e-02 -8.75364803e-03 -7.14387791e-03 -1.10842092e-02\\n  4.47975285e-03  4.38042590e-03  2.87745781e-02 -1.20112181e-01\\n -3.78309526e-02  1.02764424e-02  3.18772234e-02 -4.24498552e-03\\n  2.14106757e-02  3.44475321e-02 -2.70982999e-02 -2.14134157e-02\\n  2.82907560e-02  3.94002609e-02 -3.87335457e-02 -2.73339991e-02\\n  1.87977385e-02  1.17885629e-02 -1.36048365e-02 -1.67201236e-02\\n  4.37842794e-02 -2.79275142e-02 -1.19862538e-02 -5.22932112e-02\\n -7.75450934e-03  2.54166927e-02 -1.60080940e-02 -6.73810067e-03\\n -2.49102190e-02  5.34227956e-03 -1.25342347e-02 -3.20645906e-02\\n -3.75694712e-03  1.89916678e-02  4.93774340e-02  1.21024216e-03\\n -8.16947501e-03  1.67273991e-02  2.62046717e-02 -6.89367875e-02\\n  6.10733256e-02 -6.43035695e-02 -1.37373395e-02  2.02173516e-02\\n  1.34233637e-02 -5.55672273e-02  1.85342189e-02  2.01001689e-02\\n -6.10282272e-03 -2.48252079e-02 -1.38588119e-02 -3.43270935e-02\\n -3.86251211e-02  3.61164771e-02 -3.70213799e-02  8.21686611e-02\\n -2.72549111e-02 -5.36306761e-02 -5.96872577e-03  1.14750117e-02\\n  3.35997697e-07  3.07545234e-02 -1.78379063e-02  8.08611661e-02\\n  6.80391584e-03 -2.55463310e-02 -7.58499876e-02 -5.16610146e-02\\n -1.31333722e-02 -1.85565539e-02 -5.22311740e-02  7.61515796e-02\\n  4.97442484e-03  3.34003158e-02 -2.51147803e-02 -3.44240703e-02\\n -7.68769672e-03  7.77454721e-03 -3.49640287e-02 -1.50797209e-02\\n  1.85866579e-02  1.58270821e-02  7.03195855e-02 -4.51289378e-02\\n -1.20788347e-02  3.64280888e-04 -1.07429188e-03  2.59440430e-02\\n -2.72428375e-02  2.21045706e-02  1.50762992e-02 -3.64608318e-03\\n -6.84246644e-02 -2.20126566e-02 -2.28489693e-02  5.65639883e-03\\n -3.14581431e-02  5.45709208e-02  2.44412404e-02  1.81598812e-02\\n  4.40018997e-02 -6.78496063e-02 -8.83982256e-02  1.30061191e-02\\n -7.01142251e-02  3.45799103e-02  4.45974655e-02 -6.63648546e-03\\n  1.62454601e-02  2.57380251e-02  1.89028997e-02  5.54782189e-02\\n -2.93684304e-02  2.17363164e-02  5.02324756e-03  1.45366869e-03\\n  7.70364180e-02  1.13479374e-02 -1.18908994e-02 -1.12046413e-02\\n -5.40366769e-02 -3.29774544e-02 -2.04254910e-02  5.52554727e-02\\n  5.53710200e-02  3.80326100e-02 -5.67925088e-02 -3.59776430e-02\\n  3.49452384e-34  3.31480894e-03 -5.62802143e-03  2.72196159e-02\\n -3.84216607e-02  2.05013603e-02 -5.56726642e-02  5.26511297e-02\\n -2.74872966e-02 -6.41804421e-03 -3.00633423e-02 -5.23691401e-02]\",\n          \"[ 4.75910641e-02 -3.98160666e-02  1.82764996e-02  4.60395813e-02\\n  1.68061524e-03  5.14114201e-02 -2.31055021e-02  1.15566785e-02\\n -1.76750794e-02 -1.28334034e-02 -6.36640117e-02 -2.25159172e-02\\n  7.11458102e-02 -9.02844220e-03  1.01668676e-02 -3.09867114e-02\\n -1.70356967e-02  3.67390364e-03 -2.55806148e-02 -1.67896450e-02\\n -2.38852911e-02  2.39577740e-02  2.48075766e-03  5.92969656e-02\\n  6.97439611e-02 -2.11776607e-02  1.94328874e-02  6.34599943e-03\\n -1.50558604e-02 -6.55243546e-02 -4.30087652e-03  3.12577141e-03\\n -3.93706299e-02 -3.25774923e-02  2.58379964e-06 -5.96925318e-02\\n -6.21735863e-03 -3.16330753e-02 -6.40140548e-02  2.25565825e-02\\n  3.76179554e-02  5.46319298e-02 -6.38220925e-03  6.99398853e-03\\n  1.40037322e-02 -4.02055448e-03  2.70281769e-02  9.05907452e-02\\n -1.65542383e-02  2.29747500e-02  2.59793852e-03  1.11731691e-02\\n -4.07314897e-02 -5.23617417e-02  7.93978870e-02 -3.32299881e-02\\n  8.64501460e-04  6.84235990e-02  4.60728370e-02 -2.38394551e-02\\n -2.64490470e-02 -1.73879415e-02 -2.62764972e-02 -2.46848706e-02\\n -8.70537478e-03  6.93700695e-03  3.98845505e-03 -5.63439308e-03\\n  3.05647869e-02  2.38502119e-02  8.25125724e-02 -2.60345750e-02\\n  2.41123867e-04  1.26658678e-01  2.01279297e-02 -5.17843179e-02\\n -4.71522100e-02  4.32384806e-03 -6.15756167e-03 -2.72891931e-02\\n  4.76491898e-02  4.22066730e-03 -3.20311226e-02  3.63983843e-03\\n -1.30281374e-02 -1.03599064e-01 -1.37581863e-02 -3.42208669e-02\\n -2.23825704e-02 -3.90189886e-02  2.15958524e-02 -2.14171968e-03\\n  1.10328700e-02  3.29071693e-02  3.37886661e-02 -2.29938831e-02\\n  4.81043048e-02  4.92599756e-02  5.11375722e-04 -5.11047132e-02\\n -2.37389933e-02  6.75263554e-02 -4.76515219e-02  5.66667393e-02\\n -2.47966647e-02 -1.01259565e-02 -7.54264323e-03  2.42468230e-02\\n -4.51250561e-02  5.18871099e-02 -4.18883525e-02 -4.56174789e-03\\n -3.77799906e-02  4.76302356e-02 -1.04569001e-02 -2.28731353e-02\\n -2.45138519e-02  1.21579058e-02  6.21379390e-02  3.38397063e-02\\n  3.11316736e-02  2.66502835e-02 -5.33065721e-02  1.14087407e-02\\n  3.27794142e-02  5.54884272e-03 -1.48797305e-02  6.57091616e-03\\n -3.53543609e-02 -2.48375796e-02 -2.02346686e-02  4.11604196e-02\\n  7.48536200e-04  7.77600752e-03  4.53806184e-02  1.76993776e-02\\n -4.09058109e-02  5.54475449e-02  6.49088919e-02  2.24370658e-02\\n -1.74727645e-02 -3.05937380e-02  1.12692770e-02 -3.73691544e-02\\n -2.29749996e-02 -2.75611635e-02  6.87464699e-02  1.13420999e-02\\n -2.99675222e-02 -1.05713131e-02 -4.22360413e-02 -3.99332494e-03\\n -1.93668641e-02  4.49385419e-02  1.95767451e-03  2.43761670e-02\\n -5.41874021e-03 -1.17562432e-02 -2.98315678e-02 -3.06484904e-02\\n  1.42268427e-02 -1.40746133e-02 -2.07273173e-03 -1.39949387e-02\\n  2.00586282e-02 -6.32505806e-04 -2.37733163e-02  4.65623923e-02\\n  4.20736447e-02  1.45157641e-02  1.43651925e-02  1.56393927e-02\\n -1.05104083e-02  5.83203286e-02 -3.66643965e-02  9.77464020e-03\\n  1.16023067e-02 -8.50151628e-02 -3.38977166e-02  3.00708599e-02\\n  5.40282577e-02 -1.89526367e-03  1.49294138e-02 -1.49008613e-02\\n -4.31958325e-02  3.27693187e-02  2.08926364e-03  1.88745279e-02\\n -2.40776688e-02 -1.05240829e-02  7.28030736e-03  3.53577510e-02\\n -1.87687501e-02  7.59937940e-03 -1.47914197e-02  3.20852883e-02\\n  2.74068657e-02 -2.88117211e-02  2.38903537e-02  1.39089837e-03\\n -4.49377019e-03 -2.30137799e-02  3.00893690e-02  4.04330418e-02\\n  1.33978878e-03  3.67188416e-02  3.03526763e-02 -3.56619768e-02\\n  3.17705125e-02  3.00278571e-02 -4.45656739e-02 -1.23447515e-02\\n -1.52248899e-02  2.26009032e-03  7.00381445e-03  4.40323167e-02\\n  4.98986896e-03  7.29436101e-03 -5.04355468e-02  6.04069941e-02\\n  2.13313159e-02  6.14257008e-02 -1.16671501e-02  1.25427255e-02\\n  2.32863668e-02 -3.75166796e-02 -1.93760935e-02  2.43635923e-02\\n  1.00446744e-02  5.84837608e-02 -4.36035544e-02  3.93239735e-03\\n  1.63734294e-02  2.51635686e-02  1.54442703e-02  4.77314480e-02\\n  1.85999796e-02 -8.58882889e-02  6.98043481e-02 -4.99918051e-02\\n -4.19214880e-03 -4.69853543e-03  3.25930193e-02 -1.95367355e-02\\n -1.79982162e-03  6.90968940e-04 -1.25006931e-02 -1.56301055e-02\\n  1.89157017e-02 -2.56622210e-02  2.81335637e-02  3.69577520e-02\\n  1.52358413e-02 -1.48717528e-02  3.17495652e-02  1.01207741e-01\\n -4.25823778e-03  4.98547684e-03 -3.29615101e-02 -9.86245554e-03\\n  1.02521514e-03 -2.60745194e-02 -2.42716391e-02 -1.10253822e-02\\n  8.85078907e-02  4.76207472e-02 -7.57023273e-03 -2.66969875e-02\\n  1.74363167e-03 -2.00597029e-02 -7.93689489e-03  5.04905954e-02\\n -9.80877969e-03 -2.93166284e-02 -1.57043785e-02  3.97980735e-02\\n  1.24830920e-02  8.21478479e-03  1.01721305e-02 -1.28539624e-02\\n  1.54758897e-02 -1.02140028e-02  1.77457128e-02  3.45726311e-02\\n  9.37439781e-03 -6.58089528e-03  3.47101279e-02 -1.49547741e-01\\n  9.60159954e-03 -1.20016141e-02 -4.13474656e-04 -5.29572107e-02\\n  1.29095661e-02 -4.40648161e-02  5.87792695e-03  1.72801111e-02\\n -9.25903618e-02  2.53568161e-02  2.41734069e-02  3.88716310e-02\\n -2.70172488e-02 -1.43793412e-02  2.27862317e-03 -2.19162786e-03\\n  3.09304893e-03 -2.93024145e-02  4.64125816e-03 -9.25113261e-02\\n -1.74181573e-02 -5.01342490e-03  4.86235321e-02  2.00567730e-02\\n -1.60750207e-02 -8.70242491e-02 -4.72585335e-02  5.95777947e-03\\n -3.41524258e-02 -3.64884123e-04  7.71449530e-04 -2.34435610e-02\\n  3.61792673e-03  5.70910871e-02  2.73926426e-02  3.19678336e-02\\n -4.69777212e-02 -4.06398773e-02  2.21731644e-02 -1.71671286e-02\\n  8.86656493e-02 -3.35088708e-02  3.15323323e-02  2.65769511e-02\\n -4.13371399e-02  9.61979572e-03  2.29298286e-02 -6.94147497e-02\\n  4.63565206e-03  2.00649798e-02  5.89056052e-02 -1.75596122e-02\\n -2.68399958e-02 -2.40595490e-02  2.91842967e-02  1.64179113e-02\\n -1.00092158e-01 -3.23846266e-02 -3.42339501e-02  2.02335678e-02\\n  8.36244076e-02 -4.89719510e-02 -5.54162003e-02 -5.31405807e-02\\n -4.97958623e-03 -4.45574261e-02 -9.29163583e-03  4.95249517e-02\\n  3.77964266e-02 -3.75545993e-02 -1.11134704e-02  5.48480004e-02\\n  8.10380876e-02  3.38448621e-02 -3.45477201e-02  7.42922798e-02\\n  6.87322393e-02  3.35410200e-02  2.69858297e-02  5.85345738e-02\\n  1.41915381e-02  1.00897979e-02 -1.95487291e-02 -4.46283147e-02\\n  4.40579839e-03  5.10727428e-02 -2.37344522e-02  2.14238875e-02\\n -4.07736702e-03  1.08613046e-02  2.77505405e-02  9.95686976e-04\\n  1.86297484e-03 -8.00901130e-02  2.18330808e-02  1.14401839e-04\\n -1.79460254e-02  1.99596286e-02  8.51357821e-03  1.04526465e-03\\n -7.51986355e-02  2.49786563e-02  3.17177437e-02  3.94634493e-02\\n  3.56156863e-02 -5.92294931e-02  2.13776203e-03  1.58077460e-02\\n  7.44088599e-03  1.82494875e-02 -1.99242551e-02  1.51249962e-02\\n  7.96524342e-03  1.32439742e-02  4.25390415e-02  7.60367364e-02\\n  2.22672373e-02  4.17157188e-02 -3.03059630e-02  1.97273120e-02\\n -2.06632037e-02  5.07869467e-04  7.96010643e-02  2.88651176e-02\\n  3.94377001e-02  1.21899145e-02 -2.77415793e-02 -1.36428019e-02\\n  2.11489834e-02 -2.44210381e-02  6.93309531e-02 -8.90576765e-02\\n  1.96797978e-02  3.83727551e-02  5.15575428e-03 -8.62282887e-03\\n -6.99803466e-04  3.44246924e-02  1.36700481e-01 -2.12198996e-04\\n  2.42129844e-02 -2.34823246e-02 -4.73825149e-02  2.49224063e-02\\n -5.50391376e-02 -2.58493703e-02 -2.87410542e-02 -3.05917002e-02\\n  3.71345202e-03  5.41234529e-03 -4.53209355e-02 -2.86102369e-02\\n -3.98375578e-02 -5.11657856e-02  3.50867137e-02  4.38576899e-02\\n  2.55811904e-02 -1.30021693e-02  5.00617102e-02  1.92576852e-02\\n -2.71718204e-02 -7.64337480e-02 -4.09357511e-02 -3.43700275e-02\\n  4.14200164e-02 -1.52561441e-03 -2.32266467e-02  1.85639486e-02\\n -5.30683510e-02 -4.54094186e-02 -2.08303034e-02  2.69157123e-02\\n  6.55603921e-03  1.45302517e-02  4.63262806e-03  2.09010709e-02\\n  3.90774570e-04 -5.54973632e-02 -9.44578201e-02 -5.36882170e-02\\n  1.25999758e-02 -7.14540249e-03 -4.12476622e-02  4.38430998e-03\\n -1.33605730e-02 -6.65438478e-04  1.30011719e-02 -1.39432671e-02\\n -2.57645845e-02 -1.12815453e-02 -2.23978776e-02  3.02276853e-02\\n  8.36452842e-03 -2.85101552e-02 -4.05571647e-02  1.00008231e-02\\n -5.70485601e-03 -3.35437572e-03 -1.31064793e-02 -2.28281450e-02\\n  4.77610109e-03 -2.65884046e-02  4.43347543e-02 -2.74954773e-02\\n -1.00655239e-02 -1.07038684e-01  2.00837553e-02 -4.32651117e-02\\n  8.22165108e-04 -5.08824072e-04  7.57594034e-03  4.50315252e-02\\n -1.24283219e-02  1.97548177e-02 -1.56310177e-03  8.60713888e-03\\n -1.86968446e-02  1.29884435e-02  1.36880986e-02  2.79190484e-02\\n -2.01838766e-03 -1.12417685e-02  3.79371494e-02 -6.17479812e-03\\n -4.40893956e-02 -1.28575400e-01 -2.13837251e-02 -1.21043317e-01\\n  9.43833403e-03 -3.05356495e-02  9.58768092e-03 -3.76426466e-02\\n  1.16641037e-02 -3.20938341e-02  3.27938772e-03 -3.11461370e-02\\n -6.20935410e-02 -2.61429939e-02 -2.01389026e-02 -4.79468005e-03\\n -9.52943973e-03  5.15904017e-02 -1.21929555e-03  3.86554562e-02\\n  8.16245750e-02 -1.45068886e-02 -2.32682973e-02  5.44057740e-03\\n -4.86317265e-04 -1.09083354e-02 -3.51113975e-02  8.93929787e-03\\n  4.06862721e-02 -1.68127567e-02  2.28106994e-02  5.06514031e-03\\n  1.26670273e-02  4.10433412e-02 -2.28215437e-02  8.53150245e-03\\n  3.66218910e-02  3.55422497e-02 -2.32549999e-02  3.14618237e-02\\n -5.46849216e-04  1.27859572e-02  4.85933796e-02 -7.81886239e-33\\n  1.63972266e-02 -2.17427239e-02  4.74361284e-03  2.20993664e-02\\n -1.65460780e-02 -6.03430495e-02 -1.82566401e-02  3.55894342e-02\\n -5.05720675e-02 -9.71512869e-03 -2.42196508e-02  5.52939847e-02\\n  1.04891434e-02  2.48842314e-02  2.68707443e-02 -3.96757480e-03\\n -2.45071016e-02 -3.55997309e-03 -2.98380125e-02 -1.39799118e-02\\n  1.63734294e-02  1.30613912e-02  1.55236656e-02 -8.19256231e-02\\n  3.17355581e-02  9.74905584e-03 -1.11256391e-02  2.53397785e-03\\n  7.90266395e-02  1.52853434e-03 -5.06886020e-02 -1.68172233e-02\\n  1.69642661e-02  3.51882800e-02 -5.70344366e-03 -7.47277122e-03\\n -9.21268165e-02 -1.83330625e-02 -4.28164825e-02  1.76052619e-02\\n  1.33482460e-02  1.25203636e-02 -9.64091569e-02  2.33618007e-03\\n -3.91064733e-02 -5.00291213e-03 -2.82170195e-02 -8.00991356e-02\\n  1.48181869e-02  6.96085254e-03 -5.51080257e-02  3.70736560e-03\\n -1.25810625e-02 -7.78860301e-02 -6.38089702e-03  4.32118885e-02\\n -3.41500975e-02 -5.45459837e-02 -3.62309031e-02  1.34135066e-02\\n -3.91191454e-04  1.84291974e-02 -3.17565724e-02 -1.48661798e-02\\n  7.01705879e-03 -1.67627595e-02  4.18679863e-02 -1.62488427e-02\\n -2.78375391e-02  1.89689957e-02  9.43851937e-03  3.05158691e-03\\n -1.08115878e-02 -5.43360263e-02 -1.51521992e-02 -9.04945061e-02\\n -1.49053307e-02  2.23407825e-03  2.95670908e-02  8.93508270e-03\\n  3.30950283e-02  3.49409133e-02 -3.18008475e-02 -3.41178402e-02\\n  3.59719545e-02  2.84963362e-02 -1.49341701e-02 -7.77175976e-03\\n  1.05064726e-02  6.80726441e-03 -3.24030779e-02  6.90010237e-03\\n  5.99486157e-02 -2.90012043e-02  1.94253493e-02 -2.75751539e-02\\n -1.63117386e-02  1.73481237e-02 -2.21643429e-02  1.06203621e-02\\n -9.79133788e-03 -4.75055957e-03 -4.06941436e-02 -2.20576115e-03\\n  1.85036827e-02 -4.76979231e-03  4.63133529e-02  1.01712076e-02\\n -3.99566367e-02  7.71457283e-03  2.75530871e-02 -7.30645284e-02\\n  5.87235391e-02 -6.57390580e-02 -4.13530506e-03  2.47618519e-02\\n  2.66240109e-02 -9.95339174e-03  9.58338007e-03 -3.97921018e-02\\n -2.57797893e-02  3.10773030e-02  2.53243726e-02 -2.71818787e-02\\n -4.56209034e-02  3.60257030e-02 -1.84535421e-02  7.16061443e-02\\n  5.94613957e-04 -4.02051210e-02 -1.40531138e-02  6.94306055e-03\\n  3.29231284e-07  2.47636102e-02 -2.58876532e-02  7.50295296e-02\\n  1.05881924e-02 -6.05571200e-04 -6.42619208e-02 -1.08037526e-02\\n  9.85413976e-03 -1.22193014e-02 -5.55229448e-02  8.27386975e-02\\n -7.91693674e-05  3.67281511e-02 -3.57329622e-02 -7.32423365e-03\\n -1.69066228e-02 -4.98246914e-03 -1.45157834e-03 -2.10819207e-02\\n -2.16459017e-03 -7.48500507e-03  6.71209544e-02 -4.28809486e-02\\n -7.53831957e-03  2.48640664e-02 -1.33463778e-04  3.89909185e-02\\n -2.22374070e-02  4.15264592e-02  3.03030685e-02 -5.23899077e-03\\n -3.75864841e-02 -1.96406478e-03 -3.43009531e-02  2.13854481e-02\\n -1.93664059e-03  6.42514378e-02 -5.40388376e-03  9.93559323e-03\\n  8.42300504e-02 -5.63924126e-02 -5.96076883e-02 -1.82103273e-02\\n -8.35509896e-02  3.31067368e-02  6.05304912e-02 -4.15319344e-03\\n  1.24882711e-02  5.98835461e-02  1.67738425e-03  3.93250659e-02\\n -2.44181044e-02  2.96158325e-02  8.03156104e-03  2.69252546e-02\\n  5.48381805e-02 -2.07703039e-02 -2.75765285e-02  1.05765089e-02\\n -2.00145692e-02 -1.93038508e-02  1.07207717e-02  5.51565588e-02\\n  2.52583511e-02  5.31094968e-02 -3.47512737e-02 -3.22739966e-02\\n  3.26795350e-34  4.28251829e-03 -2.19002366e-02  2.62297168e-02\\n -1.59535222e-02  2.46247221e-02 -7.34779984e-02  7.80628696e-02\\n -3.47812064e-02  2.54516192e-02 -2.51386315e-02 -3.71173210e-02]\"\n        ],\n        \"semantic_type\": \"\",\n        \"description\": \"\"\n      }\n    }\n  ]\n}"
            }
          },
          "metadata": {},
          "execution_count": 115
        }
      ],
      "source": [
        "# Import saved file and view\n",
        "text_chunks_and_embedding_df_load = pd.read_csv(embeddings_df_save_path)\n",
        "text_chunks_and_embedding_df_load.head()"
      ]
    },
    {
      "cell_type": "code",
      "execution_count": null,
      "metadata": {
        "colab": {
          "base_uri": "https://localhost:8080/"
        },
        "id": "J0Cln-ayrJWT",
        "outputId": "4c31d404-1e93-448b-8209-4afd72701d14"
      },
      "outputs": [
        {
          "output_type": "execute_result",
          "data": {
            "text/plain": [
              "torch.Size([35, 768])"
            ]
          },
          "metadata": {},
          "execution_count": 116
        }
      ],
      "source": [
        "import random\n",
        "\n",
        "import torch\n",
        "import numpy as np\n",
        "import pandas as pd\n",
        "\n",
        "device = \"cuda\" if torch.cuda.is_available() else \"cpu\"\n",
        "\n",
        "# Import texts and embedding df\n",
        "text_chunks_and_embedding_df = pd.read_csv(\"text_chunks_and_embeddings_df.csv\")\n",
        "\n",
        "# Convert embedding column back to np.array (it got converted to string when it got saved to CSV)\n",
        "text_chunks_and_embedding_df[\"embedding\"] = text_chunks_and_embedding_df[\"embedding\"].apply(lambda x: np.fromstring(x.strip(\"[]\"), sep=\" \"))\n",
        "\n",
        "# Convert texts and embedding df to list of dicts\n",
        "pages_and_chunks = text_chunks_and_embedding_df.to_dict(orient=\"records\")\n",
        "\n",
        "# Convert embeddings to torch tensor and send to device (note: NumPy arrays are float64, torch tensors are float32 by default)\n",
        "embeddings = torch.tensor(np.array(text_chunks_and_embedding_df[\"embedding\"].tolist()), dtype=torch.float32).to(device)\n",
        "embeddings.shape"
      ]
    },
    {
      "cell_type": "code",
      "execution_count": null,
      "metadata": {
        "colab": {
          "base_uri": "https://localhost:8080/"
        },
        "id": "17O1qYZerKZd",
        "outputId": "f0dfa75c-8364-4574-8920-9962ce080b99"
      },
      "outputs": [
        {
          "output_type": "execute_result",
          "data": {
            "text/plain": [
              "tensor([ 4.1106e-02, -9.4543e-03,  1.7268e-02,  1.7915e-02, -3.4001e-02,\n",
              "         1.2342e-02, -1.5836e-02,  3.4840e-02, -3.0343e-02,  2.7444e-02,\n",
              "         1.4624e-02, -2.1394e-02,  4.1458e-02,  2.2785e-02, -1.2583e-02,\n",
              "         1.1690e-02,  3.9091e-02,  1.4924e-02, -6.3574e-02, -1.3643e-02,\n",
              "        -4.7107e-02,  6.8966e-03, -4.2575e-04,  2.1141e-02,  5.3564e-02,\n",
              "        -2.3179e-02,  1.8970e-02, -1.8134e-02, -5.9678e-02, -1.0106e-01,\n",
              "         2.7071e-02,  3.0238e-02, -3.1216e-02,  3.6083e-03,  2.7355e-06,\n",
              "        -8.6986e-02, -1.9077e-02,  1.5762e-02, -7.3776e-02,  7.2090e-02,\n",
              "         1.5578e-02,  2.0728e-02, -2.2076e-02,  1.9452e-04,  6.6216e-04,\n",
              "        -2.7379e-02,  2.9265e-03,  2.6130e-02,  5.7768e-03,  2.1923e-03,\n",
              "         3.5460e-03,  7.6588e-02,  9.4126e-03, -3.8266e-02,  7.5480e-02,\n",
              "        -3.8609e-02,  1.1421e-02,  1.0278e-01,  9.4471e-02, -7.0151e-03,\n",
              "         7.3828e-03, -3.9848e-03, -5.0237e-03,  3.2513e-03, -2.8786e-02,\n",
              "         6.8825e-03,  1.8907e-02, -5.1118e-02,  8.4536e-03,  2.9311e-02,\n",
              "         6.1289e-02, -5.7303e-02,  7.5683e-03,  1.0688e-01, -2.3958e-02,\n",
              "        -7.6594e-02, -5.2469e-02, -9.9845e-02, -3.7079e-03, -7.7169e-03,\n",
              "         7.5415e-02,  1.1427e-02, -3.7839e-02, -3.0417e-03, -9.3397e-03,\n",
              "        -2.4919e-02, -1.0771e-02, -6.2170e-02, -9.6129e-03, -3.0990e-02,\n",
              "         6.0892e-02, -3.3076e-02,  1.5195e-02,  8.7588e-03,  2.7846e-02,\n",
              "        -2.0709e-02,  5.1901e-02,  3.3881e-02,  5.0457e-02, -7.1711e-02,\n",
              "        -2.4339e-02,  8.0799e-02, -3.7333e-02,  7.0214e-02, -3.7197e-02,\n",
              "         5.6064e-03, -4.8678e-02,  3.3552e-02, -3.0513e-02,  3.5591e-02,\n",
              "        -3.3465e-02,  1.2203e-03,  2.8076e-03, -4.2931e-03,  5.4028e-03,\n",
              "         6.9402e-03, -5.4717e-02,  2.9706e-02,  2.3298e-02,  3.8126e-02,\n",
              "         4.4493e-02,  3.1094e-02, -6.1353e-02,  2.7212e-02,  7.0449e-02,\n",
              "         7.8721e-02, -1.0563e-02, -1.1484e-02,  6.0740e-03, -3.6921e-02,\n",
              "        -4.4896e-02,  1.2119e-02,  1.3465e-02, -3.0071e-02,  4.3242e-02,\n",
              "         6.6476e-02, -6.7549e-02,  6.2715e-02,  1.0940e-01, -2.8455e-02,\n",
              "        -3.0109e-02, -9.0118e-03,  3.6350e-02, -6.7333e-04, -1.9970e-02,\n",
              "        -1.4905e-03,  3.9953e-02,  4.4701e-02, -1.8101e-02, -2.0996e-02,\n",
              "        -5.6977e-02,  5.4012e-02, -3.3803e-02,  4.1292e-03,  1.4193e-02,\n",
              "         5.3509e-02, -3.1437e-03, -5.1679e-02, -1.4798e-02, -5.5546e-02,\n",
              "         3.6182e-02, -3.5954e-03, -4.1224e-02, -3.2615e-02,  1.6814e-03,\n",
              "         3.8551e-03, -7.3319e-03,  5.3590e-02,  1.3045e-02,  2.0280e-02,\n",
              "         6.3237e-03,  1.6603e-02, -3.1323e-04,  3.0952e-02, -3.0820e-02,\n",
              "        -2.7711e-02, -4.0489e-02, -6.5728e-02, -3.3098e-02, -2.7749e-02,\n",
              "         4.2873e-02, -8.1462e-03,  2.1384e-02, -8.2510e-03, -7.5069e-02,\n",
              "         1.8931e-02,  3.1680e-02, -2.2622e-02,  1.3738e-03, -3.0029e-02,\n",
              "         2.0502e-02,  2.1254e-02,  2.0159e-02, -4.3679e-02,  6.5384e-04,\n",
              "         1.7565e-02,  5.1939e-02, -1.1386e-02,  2.1666e-02, -5.0590e-02,\n",
              "        -1.2317e-02, -7.2276e-02,  4.9222e-02, -5.5894e-02,  1.0799e-02,\n",
              "         5.9541e-03, -3.3298e-02, -4.7167e-03,  2.7200e-02,  1.2494e-02,\n",
              "         1.1950e-02, -1.6676e-03,  8.7268e-03,  1.6925e-03,  2.8560e-02,\n",
              "         7.0676e-02,  2.7583e-02,  4.9159e-03,  2.9896e-03,  6.8708e-02,\n",
              "        -2.6365e-02,  4.1313e-02, -1.6179e-03, -4.3279e-03,  7.1719e-02,\n",
              "        -1.0891e-02, -1.1662e-02,  1.6178e-02,  4.0856e-02,  3.9049e-02,\n",
              "         1.3311e-02,  2.6755e-02,  3.2205e-02,  2.6120e-02,  1.0888e-04,\n",
              "         6.1066e-02,  8.6895e-03, -5.7260e-02,  5.3563e-02, -5.0491e-03,\n",
              "         1.3162e-02, -3.3265e-02,  7.6218e-03, -1.1499e-02,  1.9515e-02,\n",
              "         4.3732e-02, -6.3426e-03,  2.1622e-03,  1.9119e-02, -5.7178e-03,\n",
              "         1.5315e-02,  5.0143e-02,  3.2055e-02, -2.6937e-02,  1.7725e-02,\n",
              "         8.1392e-02, -3.0694e-02, -5.4057e-03, -4.2199e-02,  1.0401e-02,\n",
              "         1.3527e-02,  6.7558e-03, -6.5449e-03, -6.5543e-02,  8.6875e-02,\n",
              "        -3.3528e-02, -1.0181e-02,  5.4803e-03, -3.3867e-02,  2.6027e-03,\n",
              "         1.8028e-02,  6.5633e-02, -2.8415e-02, -1.1102e-02, -2.4998e-02,\n",
              "         2.8325e-02, -3.8260e-02,  4.6631e-02,  2.3593e-02,  3.0123e-03,\n",
              "         3.6178e-02,  3.0201e-02,  4.3641e-03,  1.5388e-02, -1.4597e-02,\n",
              "        -9.4620e-03,  7.1068e-03, -1.0879e-01, -6.8169e-03,  1.2619e-02,\n",
              "        -4.6650e-03, -1.3675e-02, -1.6624e-02, -3.3796e-02, -6.3130e-03,\n",
              "        -5.6330e-03, -8.7530e-02,  8.5664e-02,  2.0867e-02,  9.1245e-02,\n",
              "        -3.8516e-02,  8.8555e-03,  2.2559e-02,  6.2834e-03,  6.1861e-03,\n",
              "        -5.4708e-03,  2.6048e-02, -3.2009e-02, -6.8206e-03,  4.1209e-02,\n",
              "        -8.3490e-04,  2.0229e-02, -2.4337e-02, -8.4800e-02, -5.1557e-02,\n",
              "        -4.8528e-02, -6.5911e-03, -3.6311e-02, -3.8570e-02, -3.1974e-02,\n",
              "         8.2695e-03,  3.3792e-02, -2.1479e-02, -3.2926e-02, -6.9986e-02,\n",
              "        -3.3175e-02, -5.2930e-03, -1.9910e-02,  1.5097e-02, -5.1785e-02,\n",
              "         4.1178e-02,  4.7815e-02, -2.0392e-02, -8.5866e-03,  4.0060e-04,\n",
              "        -9.1432e-02, -1.1774e-02,  1.1984e-02,  2.8691e-03, -2.2023e-02,\n",
              "        -2.4039e-02, -3.8693e-02,  2.4121e-02,  6.6166e-02,  1.7677e-03,\n",
              "         2.4984e-02, -2.5453e-02,  3.3526e-02,  1.8194e-02, -7.3665e-03,\n",
              "        -3.8306e-02, -2.8124e-02, -1.7249e-02, -2.5834e-02, -4.1292e-02,\n",
              "         4.4069e-02,  1.8597e-02, -1.0038e-02, -5.9089e-03,  2.1184e-02,\n",
              "         3.4530e-02,  3.3688e-02, -1.0290e-02,  1.8074e-02,  3.0597e-02,\n",
              "         6.5652e-02,  3.3167e-02,  6.7401e-02,  3.1088e-02,  2.6662e-02,\n",
              "         3.9600e-02, -2.6534e-02, -1.6857e-02,  2.5677e-02, -3.1515e-02,\n",
              "        -3.1828e-02, -5.4659e-03,  4.5945e-02, -2.6454e-02, -2.1351e-03,\n",
              "        -2.4869e-02, -4.4231e-02,  4.2487e-02,  2.9264e-03, -5.4771e-02,\n",
              "        -1.3959e-02, -5.2994e-03, -5.7881e-02, -4.0340e-02,  4.2421e-02,\n",
              "         8.4399e-03, -2.3836e-02,  8.3319e-03, -4.7158e-02,  7.9757e-03,\n",
              "         1.4385e-02,  6.1047e-02,  2.2333e-02, -1.1840e-02,  7.6147e-03,\n",
              "         1.4799e-02, -6.3688e-02, -5.0571e-02,  1.0027e-01,  3.2298e-02,\n",
              "         6.6438e-02, -9.2054e-03,  3.4331e-02, -1.7595e-02, -1.3065e-03,\n",
              "         7.2650e-02, -2.6902e-02,  4.1189e-02, -1.5238e-02, -2.8687e-02,\n",
              "         8.5289e-03,  1.4966e-02, -8.8205e-03,  8.1711e-02, -3.9635e-02,\n",
              "         1.2027e-02,  7.4075e-05,  3.6919e-02, -4.0346e-02, -5.9100e-03,\n",
              "         2.9187e-02,  1.1130e-01, -2.3250e-02,  3.6007e-02,  1.2850e-02,\n",
              "        -6.8643e-03,  3.4221e-02, -6.3128e-02,  3.2497e-02, -4.4374e-02,\n",
              "         1.0426e-03, -2.0245e-02, -1.0020e-03, -3.1355e-02, -8.7276e-04,\n",
              "        -5.7878e-02, -9.8070e-03,  3.0009e-02,  3.5908e-03,  4.0674e-02,\n",
              "         6.6190e-03,  1.9115e-02,  3.0639e-02, -5.5440e-03, -3.6887e-02,\n",
              "         3.0749e-03, -7.5336e-02,  4.4428e-02, -3.9196e-02,  4.3208e-02,\n",
              "        -2.4507e-02, -2.4075e-02, -8.2286e-02, -4.4517e-02, -3.1505e-03,\n",
              "        -4.1718e-04,  4.1864e-02, -2.1923e-02,  1.0529e-02,  1.7307e-02,\n",
              "        -6.4209e-02, -4.2683e-02, -1.2914e-02,  6.3389e-03, -2.4767e-02,\n",
              "        -1.9576e-02, -1.9935e-02, -2.2949e-02, -6.3489e-03, -4.5562e-03,\n",
              "        -2.5798e-02,  5.5581e-03, -4.9435e-02, -1.9898e-04,  6.7235e-02,\n",
              "         2.4913e-02, -8.3161e-03, -1.7540e-02,  5.0152e-02, -3.8451e-03,\n",
              "         1.8739e-02, -3.3371e-02, -1.9096e-02,  2.9206e-03, -5.6464e-02,\n",
              "         3.7387e-03, -1.0951e-02, -1.2948e-02, -3.4009e-02,  7.4437e-03,\n",
              "        -1.2573e-02, -1.2601e-02,  4.8807e-02, -3.9993e-02,  9.5976e-02,\n",
              "         3.6336e-02, -1.4065e-02,  7.5050e-03,  3.1527e-02, -4.1805e-02,\n",
              "         1.5661e-02, -1.9083e-02,  4.1001e-02, -1.1023e-02,  1.1811e-02,\n",
              "         1.9184e-02,  5.4993e-02, -8.2402e-02, -3.7896e-02,  2.1233e-02,\n",
              "        -3.5517e-02,  6.3579e-02, -1.8320e-02,  5.5379e-02, -3.6256e-02,\n",
              "         7.5744e-03, -7.8306e-03,  1.8146e-03, -9.7707e-03, -1.7028e-02,\n",
              "        -4.5553e-02,  8.0081e-03, -1.3161e-02, -2.2868e-02,  6.4511e-02,\n",
              "         2.2718e-02, -9.3394e-03,  1.5629e-02,  1.2712e-02, -1.3470e-02,\n",
              "        -4.4138e-02,  1.6149e-02,  1.4581e-03, -3.8391e-02, -1.3783e-02,\n",
              "         2.6733e-02, -1.7045e-02,  8.9764e-02,  9.0801e-05, -2.6832e-02,\n",
              "         9.2182e-03, -2.5339e-02, -3.0731e-03,  4.4961e-02, -3.4687e-02,\n",
              "         3.2139e-02,  1.0234e-02,  3.0583e-03, -3.7979e-03,  1.3882e-02,\n",
              "        -8.3029e-33,  1.9259e-02,  3.8305e-02, -2.5583e-02,  3.4265e-03,\n",
              "        -4.8934e-03,  8.0944e-03, -7.1648e-02, -1.1151e-02, -3.1451e-02,\n",
              "        -2.7528e-02, -1.7213e-02,  3.8382e-02,  2.8883e-02, -8.3308e-03,\n",
              "         2.7304e-02, -2.7543e-02, -6.1793e-03,  4.6655e-03, -4.0859e-03,\n",
              "        -2.2778e-02,  2.5501e-02,  3.0930e-03,  2.2001e-02, -3.4636e-02,\n",
              "         3.7857e-02,  6.4359e-02,  1.6044e-02,  2.1654e-03, -1.8069e-03,\n",
              "         1.8529e-02,  1.8324e-02, -3.9644e-02,  2.2281e-02,  6.4704e-02,\n",
              "         2.4115e-02, -6.6384e-02, -7.5482e-02,  4.6809e-03, -2.4054e-02,\n",
              "        -2.8080e-02, -2.1058e-02,  1.2678e-02, -6.9661e-02,  1.5168e-02,\n",
              "        -4.0018e-02, -1.0429e-03, -3.2715e-02, -6.9838e-02,  2.6247e-03,\n",
              "        -1.3763e-02,  1.6022e-02, -2.0936e-04, -1.4928e-04,  5.3457e-02,\n",
              "        -7.0234e-02,  3.9684e-02,  1.0854e-03, -6.7530e-03, -3.7973e-02,\n",
              "         2.4010e-02, -3.1998e-03,  9.1228e-02,  1.2768e-02, -3.5634e-02,\n",
              "         1.4354e-02, -4.2474e-02,  1.2343e-02,  9.9276e-03, -2.3173e-02,\n",
              "         2.3851e-02, -1.3362e-02,  1.6724e-02,  1.5274e-02,  2.6746e-02,\n",
              "         3.8497e-02, -1.0230e-01, -1.8651e-02,  2.4392e-02,  3.6414e-02,\n",
              "         3.4593e-02,  9.4683e-03, -4.5338e-03, -5.7660e-02, -1.2710e-03,\n",
              "         3.5871e-02,  5.2013e-02, -5.1370e-02,  4.1132e-03,  2.1213e-02,\n",
              "        -2.8890e-02, -6.4752e-04, -1.8713e-03,  3.3265e-02, -2.2187e-02,\n",
              "         2.8073e-02, -2.8362e-02,  1.5764e-02, -3.1031e-04, -4.3613e-02,\n",
              "         1.2419e-02, -3.6237e-03, -2.6553e-02,  1.2780e-02, -5.1006e-02,\n",
              "         2.2503e-02, -2.0562e-03,  2.1513e-02,  2.2702e-02, -6.3231e-02,\n",
              "         1.2892e-02,  5.2812e-03, -4.8984e-02,  6.1253e-02, -6.0372e-02,\n",
              "        -1.3812e-02,  1.9502e-02,  4.3725e-02, -8.8900e-02,  2.5424e-02,\n",
              "         1.2429e-03, -1.6858e-03, -3.4220e-02, -1.3531e-02,  1.4723e-02,\n",
              "        -3.8160e-02,  1.3369e-02, -5.3507e-02,  3.2149e-02,  1.2115e-02,\n",
              "        -5.5419e-02, -2.3222e-03,  1.8071e-02,  3.5071e-07, -2.4847e-02,\n",
              "        -3.6807e-03,  3.6980e-02,  5.8023e-03,  2.6528e-02, -8.0024e-02,\n",
              "        -7.3149e-02,  2.5110e-04, -2.4529e-02, -5.4282e-02,  4.7826e-02,\n",
              "         8.8992e-03,  5.0454e-02, -2.6491e-02,  1.1865e-02,  1.6480e-02,\n",
              "        -2.2350e-02, -2.0510e-02, -1.5944e-02,  1.0632e-02,  2.6772e-02,\n",
              "         4.2622e-02, -3.8511e-02, -2.1279e-02, -2.4334e-02, -4.9486e-02,\n",
              "         1.0360e-02, -2.3275e-02, -2.9993e-03,  1.3007e-03, -1.1363e-02,\n",
              "        -4.5420e-02,  6.4006e-03,  3.6511e-02, -6.7734e-03, -3.6045e-02,\n",
              "         3.6171e-02,  3.9377e-03,  3.4698e-03,  8.1371e-03, -5.6812e-02,\n",
              "        -7.8519e-02, -1.3169e-02, -1.2982e-02,  4.3348e-02,  4.9724e-02,\n",
              "        -1.2124e-03, -2.3339e-02,  1.2295e-02,  6.0177e-03,  2.7851e-02,\n",
              "        -9.6303e-03,  1.9140e-02, -8.5495e-03,  8.2870e-03,  7.0003e-02,\n",
              "         7.7825e-03,  1.0856e-02, -1.7093e-03, -2.9686e-02, -2.6947e-02,\n",
              "        -5.9307e-02,  5.2598e-02,  5.1848e-02,  1.6179e-02, -5.5043e-02,\n",
              "        -5.6953e-02,  4.2132e-34,  1.6471e-02,  1.4002e-02,  1.3020e-02,\n",
              "        -6.7785e-02,  5.6707e-03, -3.1745e-02,  3.6272e-02, -8.5143e-03,\n",
              "        -2.8625e-02, -6.8937e-02, -5.3757e-02], device='cuda:0')"
            ]
          },
          "metadata": {},
          "execution_count": 117
        }
      ],
      "source": [
        "embeddings[0]"
      ]
    },
    {
      "cell_type": "markdown",
      "metadata": {
        "id": "3Tf1ao-KxjAz"
      },
      "source": [
        "# Mô Hình Nhúng\n",
        "Được chọn dựa trên: https://huggingface.co/spaces/mteb/leaderboard\n",
        "\n",
        "Mô hình nhúng của chúng ta chuyển 384 tokens về vector nhúng kích thước 768.\n",
        "\n",
        "Có kích thước khá bé (~420MB) và tiết kiệm năng lượng tính toán.  \n",
        "\n",
        "Mô hình được chọn dựa trên các tiêu chí:  \n",
        "+ Kích thước đầu vào: nhỏ\n",
        "+ Kích thước vector : vector nhúng nhỏ cho số lượng token dưới 1000.\n",
        "+ Kích thước mô hình: nhỏ để tối ưu thời gian xử lý các đầu vào và đầu ra ngắn.\n",
        "+ Mô hình mở hay đóng: sử dụng mô hình đóng để tiết kiệm tài nguyên và chỉ cần gọi API nên rất tiện lợi cho việc sử dụng"
      ]
    },
    {
      "cell_type": "code",
      "execution_count": null,
      "metadata": {
        "id": "V38a_zZarLeK"
      },
      "outputs": [],
      "source": [
        "from sentence_transformers import util, SentenceTransformer\n",
        "\n",
        "# Choose an embedding model (not the best but good enough)\n",
        "embedding_model = SentenceTransformer(model_name_or_path=\"all-mpnet-base-v2\",\n",
        "                                      device=device) # choose the device to load the model to"
      ]
    },
    {
      "cell_type": "code",
      "execution_count": null,
      "metadata": {
        "colab": {
          "base_uri": "https://localhost:8080/"
        },
        "id": "GuNox_O4rMOu",
        "outputId": "8b64c935-0333-443e-f4d4-a73f09ce46af"
      },
      "outputs": [
        {
          "output_type": "stream",
          "name": "stdout",
          "text": [
            "Query: Tuyển sinh đại học\n",
            "Time take to get scores on 35 embeddings: 0.00022 seconds.\n"
          ]
        },
        {
          "output_type": "execute_result",
          "data": {
            "text/plain": [
              "torch.return_types.topk(\n",
              "values=tensor([0.7364, 0.7356, 0.7149, 0.7081, 0.7039], device='cuda:0'),\n",
              "indices=tensor([28, 24, 26, 21, 32], device='cuda:0'))"
            ]
          },
          "metadata": {},
          "execution_count": 119
        }
      ],
      "source": [
        "# 1. Define the query\n",
        "# Note: This could be anything. But since we're working with a nutrition textbook, we'll stick with nutrition-based queries.\n",
        "query = \"Tuyển sinh đại học\"\n",
        "print(f\"Query: {query}\")\n",
        "\n",
        "# 2. Embed the query to the same numerical space as the text examples\n",
        "# Note: It's important to embed your query with the same model you embedded your examples with.\n",
        "query_embedding = embedding_model.encode(query, convert_to_tensor=True)\n",
        "\n",
        "# 3. Get similarity scores with the dot product (we'll time this for fun)\n",
        "from time import perf_counter as timer\n",
        "\n",
        "start_time = timer()\n",
        "dot_scores = util.dot_score(a=query_embedding, b=embeddings)[0]\n",
        "end_time = timer()\n",
        "\n",
        "print(f\"Time take to get scores on {len(embeddings)} embeddings: {end_time-start_time:.5f} seconds.\")\n",
        "\n",
        "# 4. Get the top-k results (we'll keep this to 5)\n",
        "top_results_dot_product = torch.topk(dot_scores, k=5)\n",
        "top_results_dot_product"
      ]
    },
    {
      "cell_type": "code",
      "execution_count": null,
      "metadata": {
        "colab": {
          "base_uri": "https://localhost:8080/"
        },
        "id": "Z1keaPf5rNTm",
        "outputId": "9892ba2b-072f-4ad7-9e85-a00f04387cf7"
      },
      "outputs": [
        {
          "output_type": "stream",
          "name": "stdout",
          "text": [
            "Embeddings shape: torch.Size([3500, 768])\n",
            "Time take to get scores on 3500 embeddings: 0.00053 seconds.\n"
          ]
        }
      ],
      "source": [
        "larger_embeddings = torch.randn(100*embeddings.shape[0], 768).to(device)\n",
        "print(f\"Embeddings shape: {larger_embeddings.shape}\")\n",
        "\n",
        "# Perform dot product across 168,000 embeddings\n",
        "start_time = timer()\n",
        "dot_scores = util.dot_score(a=query_embedding, b=larger_embeddings)[0]\n",
        "end_time = timer()\n",
        "\n",
        "print(f\"Time take to get scores on {len(larger_embeddings)} embeddings: {end_time-start_time:.5f} seconds.\")"
      ]
    },
    {
      "cell_type": "code",
      "execution_count": null,
      "metadata": {
        "id": "4zYVaG-zrOJM"
      },
      "outputs": [],
      "source": [
        "# Define helper function to print wrapped text\n",
        "import textwrap\n",
        "\n",
        "def print_wrapped(text, wrap_length=80):\n",
        "    wrapped_text = textwrap.fill(text, wrap_length)\n",
        "    print(wrapped_text)"
      ]
    },
    {
      "cell_type": "code",
      "execution_count": null,
      "metadata": {
        "colab": {
          "base_uri": "https://localhost:8080/"
        },
        "id": "VjkpSHd9rPIu",
        "outputId": "8c53666e-969d-493c-a8b8-40acb851edc4"
      },
      "outputs": [
        {
          "output_type": "stream",
          "name": "stdout",
          "text": [
            "Query: 'Tuyển sinh đại học'\n",
            "\n",
            "Results:\n",
            "Score: 0.7364\n",
            "Text:\n",
            "Chương trình đào tạo Thời gian đào tạo Chương trình học kéo dài từ 3.5 - 4 năm,\n",
            "tùy ngành và tiến độ học tập. Sinh viên có thể học vượt để rút ngắn thời gian\n",
            "nếu đủ điều kiện. Hình thức học • Chủ yếu học trực tiếp tại trường. • Hỗ trợ học\n",
            "online cho một số môn lý thuyết. • Không có chương trình đào tạo từ xa chính\n",
            "quy. Nội dung đào tạo Chương trình chú trọng thực hành, với nhiều môn học kết\n",
            "hợp dự án thực tế và bài tập doanh nghiệp. Sinh viên được chọn môn tự chọn theo\n",
            "sở thích và định hướng nghề\n",
            "Page number: 10\n",
            "\n",
            "\n",
            "Score: 0.7356\n",
            "Text:\n",
            "Trường không tổ chức kỳ thi đầu vào riêng, giúp giảm áp lực cho thí sinh. Thời\n",
            "gian tuyển sinh • Bắt đầu: Từ tháng 3 hàng năm. • Hạn chót: Thường vào tháng 9,\n",
            "nhưng thí sinh nên theo dõi thông báo chính thức để cập nhật thời gian cụ thể.\n",
            "Cách đăng ký xét tuyển Thí sinh có thể: • Đăng ký trực tuyến qua website của\n",
            "trường. • Nộp hồ sơ trực tiếp tại phòng tuyển sinh. Hồ sơ nhập học Hồ sơ bao\n",
            "gồm: • Bằng tốt nghiệp THPT (bản sao công chứng). • Học bạ THPT. • Giấy chứng\n",
            "nhận sức khỏe.\n",
            "Page number: 9\n",
            "\n",
            "\n",
            "Score: 0.7149\n",
            "Text:\n",
            "• Công nghệ thông tin: Ch Favored chuyên ngành Trí tuệ nhân tạo (AI) và Khoa học\n",
            "dữ liệu. • Công nghệ tài chính (Fintech). • Kinh doanh số. • Thiết kế đồ họa.\n",
            "Ngoài ra, trường còn đào tạo các ngành ngôn ngữ như Hàn Quốc, Nhật Bản, Trung\n",
            "Quốc. Sinh viên có thể học song ngành nếu đáp ứng điều kiện về điểm số và thời\n",
            "gian học tập. 4. Học phí và hỗ trợ tài chính Học phí Học phí tại Trường Đại học\n",
            "CMC dao động từ 40 - 60 triệu VNĐ/năm, tùy theo ngành học.\n",
            "Page number: 10\n",
            "\n",
            "\n",
            "Score: 0.7081\n",
            "Text:\n",
            "Đây là nơi lý tưởng cho những ai đam mê công nghệ, muốn trải nghiệm môi trường\n",
            "học tập quốc tế hóa, và sẵn sàng chinh phục những thách thức của tương lai. Tổng\n",
            "Quan về Trường Đại học CMC Trường Đại học CMC là một trong những cơ sở giáo dục\n",
            "đại học nổi bật tại Việt Nam, tập trung đào tạo nguồn nhân lực chất lượng cao\n",
            "trong lĩnh vực công nghệ thông tin, kinh doanh số và các ngành liên quan. Với cơ\n",
            "sở vật chất hiện đại, chương trình đào tạo thực tiễn và nhiều chính sách hỗ trợ\n",
            "sinh viên, trường mang đến môi trường học tập lý tưởng cho những ai đam mê công\n",
            "nghệ và đổi mới sáng tạo. Bài viết này sẽ cung cấp thông tin chi tiết về phương\n",
            "thức tuyển sinh, ngành đào tạo, học phí, chương trình học, cơ hội việc làm, cùng\n",
            "các tiện ích và hỗ trợ mà trường cung cấp. 1. Giới thiệu chung về Trường Đại học\n",
            "CMC Trường Đại học CMC tọa lạc tại số 84C Nguyễn Thanh Bình, Hà Đông, Hà Nội,\n",
            "một vị trí thuận lợi cho việc di chuyển. Sinh viên có thể đến trường bằng nhiều\n",
            "phương tiện như: • Xe buýt: Tuyến 22A, 105, 57. • Phương tiện cá nhân: Xe máy, ô\n",
            "tô.\n",
            "Page number: 8\n",
            "\n",
            "\n",
            "Score: 0.7039\n",
            "Text:\n",
            "• Phòng máy tính và thư viện mở cửa miễn phí. • Giáo trình điện tử miễn phí,\n",
            "sinh viên có thể mua bản in nếu cần. Hỗ trợ đặc biệt Sinh viên khuyết tật được\n",
            "hỗ trợ về cơ sở vật chất, học phí và phương pháp học tập phù hợp. 8. Quy trình\n",
            "và thủ tục • Tra cứu kết quả xét tuyển: Qua website, email hoặc SMS. • Đăng ký\n",
            "tín chỉ: Trước kỳ học mới 2-3 tuần qua hệ thống sinh viên. • Học lại/cải thiện\n",
            "điểm: Đăng ký môn bị trượt hoặc muốn nâng điểm vào kỳ tiếp theo. • Chuyển ngành:\n",
            "Nộp đơn tại phòng đào tạo, xét duyệt dựa trên điểm số và chỉ tiêu. • Bảo lưu học\n",
            "tập: Tối đa 2 năm, cần nộp đơn và lý do hợp lệ.\n",
            "Page number: 12\n",
            "\n",
            "\n"
          ]
        }
      ],
      "source": [
        "print(f\"Query: '{query}'\\n\")\n",
        "print(\"Results:\")\n",
        "# Loop through zipped together scores and indicies from torch.topk\n",
        "for score, idx in zip(top_results_dot_product[0], top_results_dot_product[1]):\n",
        "    print(f\"Score: {score:.4f}\")\n",
        "    # Print relevant sentence chunk (since the scores are in descending order, the most relevant chunk will be first)\n",
        "    print(\"Text:\")\n",
        "    print_wrapped(pages_and_chunks[idx][\"sentence_chunk\"])\n",
        "    # Print the page number too so we can reference the textbook further (and check the results)\n",
        "    print(f\"Page number: {pages_and_chunks[idx]['page_number']}\")\n",
        "    print(\"\\n\")"
      ]
    },
    {
      "cell_type": "code",
      "execution_count": null,
      "metadata": {
        "colab": {
          "base_uri": "https://localhost:8080/",
          "height": 831
        },
        "id": "1KTAszd2rQZA",
        "outputId": "c21e8a4b-e8c5-49bf-bdb4-94655acdb430"
      },
      "outputs": [
        {
          "output_type": "display_data",
          "data": {
            "text/plain": [
              "<Figure size 1300x1000 with 1 Axes>"
            ],
            "image/png": "[encoded data removed]"
          },
          "metadata": {}
        }
      ],
      "source": [
        "import fitz\n",
        "\n",
        "# Open PDF and load target page\n",
        "pdf_path = \"/content/drive/MyDrive/AI_DATA/Thông Tin Tuyển Sinh.pdf\" # requires PDF to be downloaded\n",
        "doc = fitz.open(pdf_path)\n",
        "current_page = 2\n",
        "page = doc.load_page(current_page)\n",
        "\n",
        "# Get the image of the page\n",
        "img = page.get_pixmap(dpi=300)\n",
        "\n",
        "# Optional: save the image\n",
        "#img.save(\"output_filename.png\")\n",
        "doc.close()\n",
        "\n",
        "# Convert the Pixmap to a numpy array\n",
        "img_array = np.frombuffer(img.samples_mv,\n",
        "                          dtype=np.uint8).reshape((img.h, img.w, img.n))\n",
        "\n",
        "# Display the image using Matplotlib\n",
        "import matplotlib.pyplot as plt\n",
        "plt.figure(figsize=(13, 10))\n",
        "plt.imshow(img_array)\n",
        "plt.title(f\"Query: '{query}' | Most relevant page:\")\n",
        "plt.axis('off') # Turn off axis\n",
        "plt.show()"
      ]
    },
    {
      "cell_type": "code",
      "execution_count": null,
      "metadata": {
        "colab": {
          "base_uri": "https://localhost:8080/"
        },
        "id": "ar8gfrOsvssz",
        "outputId": "6250c5f2-5793-4405-9759-ef4b9c6e717c"
      },
      "outputs": [
        {
          "output_type": "stream",
          "name": "stdout",
          "text": [
            "Dot product between vector1 and vector2: tensor(14.)\n",
            "Dot product between vector1 and vector3: tensor(32.)\n",
            "Dot product between vector1 and vector4: tensor(-14.)\n",
            "Cosine similarity between vector1 and vector2: tensor(1.0000)\n",
            "Cosine similarity between vector1 and vector3: tensor(0.9746)\n",
            "Cosine similarity between vector1 and vector4: tensor(-1.0000)\n"
          ]
        }
      ],
      "source": [
        "import torch\n",
        "\n",
        "def dot_product(vector1, vector2):\n",
        "    return torch.dot(vector1, vector2)\n",
        "\n",
        "def cosine_similarity(vector1, vector2):\n",
        "    dot_product = torch.dot(vector1, vector2)\n",
        "\n",
        "    # Get Euclidean/L2 norm of each vector (removes the magnitude, keeps direction)\n",
        "    norm_vector1 = torch.sqrt(torch.sum(vector1**2))\n",
        "    norm_vector2 = torch.sqrt(torch.sum(vector2**2))\n",
        "\n",
        "    return dot_product / (norm_vector1 * norm_vector2)\n",
        "\n",
        "# Example tensors\n",
        "vector1 = torch.tensor([1, 2, 3], dtype=torch.float32)\n",
        "vector2 = torch.tensor([1, 2, 3], dtype=torch.float32)\n",
        "vector3 = torch.tensor([4, 5, 6], dtype=torch.float32)\n",
        "vector4 = torch.tensor([-1, -2, -3], dtype=torch.float32)\n",
        "\n",
        "# Calculate dot product\n",
        "print(\"Dot product between vector1 and vector2:\", dot_product(vector1, vector2))\n",
        "print(\"Dot product between vector1 and vector3:\", dot_product(vector1, vector3))\n",
        "print(\"Dot product between vector1 and vector4:\", dot_product(vector1, vector4))\n",
        "\n",
        "# Calculate cosine similarity\n",
        "print(\"Cosine similarity between vector1 and vector2:\", cosine_similarity(vector1, vector2))\n",
        "print(\"Cosine similarity between vector1 and vector3:\", cosine_similarity(vector1, vector3))\n",
        "print(\"Cosine similarity between vector1 and vector4:\", cosine_similarity(vector1, vector4))"
      ]
    },
    {
      "cell_type": "code",
      "execution_count": null,
      "metadata": {
        "id": "1c5a2fLevuYE"
      },
      "outputs": [],
      "source": [
        "def retrieve_relevant_resources(query: str,\n",
        "                                embeddings: torch.tensor,\n",
        "                                model: SentenceTransformer=embedding_model,\n",
        "                                n_resources_to_return: int=5,\n",
        "                                print_time: bool=True):\n",
        "    \"\"\"\n",
        "    Embeds a query with model and returns top k scores and indices from embeddings.\n",
        "    \"\"\"\n",
        "\n",
        "    # Embed the query\n",
        "    query_embedding = model.encode(query,\n",
        "                                   convert_to_tensor=True)\n",
        "\n",
        "    # Get dot product scores on embeddings\n",
        "    start_time = timer()\n",
        "    dot_scores = util.dot_score(query_embedding, embeddings)[0]\n",
        "    end_time = timer()\n",
        "\n",
        "    if print_time:\n",
        "        print(f\"[INFO] Time taken to get scores on {len(embeddings)} embeddings: {end_time-start_time:.5f} seconds.\")\n",
        "\n",
        "    scores, indices = torch.topk(input=dot_scores,\n",
        "                                 k=n_resources_to_return)\n",
        "\n",
        "    return scores, indices\n",
        "\n",
        "def print_top_results_and_scores(query: str,\n",
        "                                 embeddings: torch.tensor,\n",
        "                                 pages_and_chunks: list[dict]=pages_and_chunks,\n",
        "                                 n_resources_to_return: int=5):\n",
        "    \"\"\"\n",
        "    Takes a query, retrieves most relevant resources and prints them out in descending order.\n",
        "\n",
        "    Note: Requires pages_and_chunks to be formatted in a specific way (see above for reference).\n",
        "    \"\"\"\n",
        "\n",
        "    scores, indices = retrieve_relevant_resources(query=query,\n",
        "                                                  embeddings=embeddings,\n",
        "                                                  n_resources_to_return=n_resources_to_return)\n",
        "\n",
        "    print(f\"Query: {query}\\n\")\n",
        "    print(\"Results:\")\n",
        "    # Loop through zipped together scores and indicies\n",
        "    for score, index in zip(scores, indices):\n",
        "        print(f\"Score: {score:.4f}\")\n",
        "        # Print relevant sentence chunk (since the scores are in descending order, the most relevant chunk will be first)\n",
        "        print_wrapped(pages_and_chunks[index][\"sentence_chunk\"])\n",
        "        # Print the page number too so we can reference the textbook further and check the results\n",
        "        print(f\"Page number: {pages_and_chunks[index]['page_number']}\")\n",
        "        print(\"\\n\")"
      ]
    },
    {
      "cell_type": "code",
      "execution_count": null,
      "metadata": {
        "colab": {
          "base_uri": "https://localhost:8080/"
        },
        "id": "99DJ1EWJvvwB",
        "outputId": "58d13cc4-df9e-4f30-c74f-d4ec0a99e55e"
      },
      "outputs": [
        {
          "output_type": "stream",
          "name": "stdout",
          "text": [
            "[INFO] Time taken to get scores on 35 embeddings: 0.00010 seconds.\n"
          ]
        },
        {
          "output_type": "execute_result",
          "data": {
            "text/plain": [
              "(tensor([0.4567, 0.4276, 0.3763, 0.3498, 0.3360], device='cuda:0'),\n",
              " tensor([26, 28, 27, 12, 13], device='cuda:0'))"
            ]
          },
          "metadata": {},
          "execution_count": 129
        }
      ],
      "source": [
        "query = \"Học bổng\"\n",
        "\n",
        "# Get just the scores and indices of top related results\n",
        "scores, indices = retrieve_relevant_resources(query=query,\n",
        "                                              embeddings=embeddings)\n",
        "scores, indices"
      ]
    },
    {
      "cell_type": "code",
      "execution_count": null,
      "metadata": {
        "colab": {
          "base_uri": "https://localhost:8080/"
        },
        "id": "Gqwgj817vwlM",
        "outputId": "4afc3d73-ae1d-4bc5-a7ec-7532ce0b358e"
      },
      "outputs": [
        {
          "output_type": "stream",
          "name": "stdout",
          "text": [
            "[INFO] Time taken to get scores on 35 embeddings: 0.00008 seconds.\n",
            "Query: Học bổng\n",
            "\n",
            "Results:\n",
            "Score: 0.4567\n",
            "• Công nghệ thông tin: Ch Favored chuyên ngành Trí tuệ nhân tạo (AI) và Khoa học\n",
            "dữ liệu. • Công nghệ tài chính (Fintech). • Kinh doanh số. • Thiết kế đồ họa.\n",
            "Ngoài ra, trường còn đào tạo các ngành ngôn ngữ như Hàn Quốc, Nhật Bản, Trung\n",
            "Quốc. Sinh viên có thể học song ngành nếu đáp ứng điều kiện về điểm số và thời\n",
            "gian học tập. 4. Học phí và hỗ trợ tài chính Học phí Học phí tại Trường Đại học\n",
            "CMC dao động từ 40 - 60 triệu VNĐ/năm, tùy theo ngành học.\n",
            "Page number: 10\n",
            "\n",
            "\n",
            "Score: 0.4276\n",
            "Chương trình đào tạo Thời gian đào tạo Chương trình học kéo dài từ 3.5 - 4 năm,\n",
            "tùy ngành và tiến độ học tập. Sinh viên có thể học vượt để rút ngắn thời gian\n",
            "nếu đủ điều kiện. Hình thức học • Chủ yếu học trực tiếp tại trường. • Hỗ trợ học\n",
            "online cho một số môn lý thuyết. • Không có chương trình đào tạo từ xa chính\n",
            "quy. Nội dung đào tạo Chương trình chú trọng thực hành, với nhiều môn học kết\n",
            "hợp dự án thực tế và bài tập doanh nghiệp. Sinh viên được chọn môn tự chọn theo\n",
            "sở thích và định hướng nghề\n",
            "Page number: 10\n",
            "\n",
            "\n",
            "Score: 0.3763\n",
            "Sinh viên có thể đóng học phí theo từng kỳ hoặc từng đợt theo chính sách hỗ trợ\n",
            "của trường. Chương trình tiếng Anh Sinh viên cần đạt trình độ tiếng Anh tương\n",
            "đương IELTS 6.0 để tốt nghiệp. Nếu chưa có chứng chỉ (IELTS, TOEFL, PTE), sinh\n",
            "viên phải tham gia chương trình tiếng Anh của trường với 6 cấp độ, mỗi cấp độ\n",
            "chi phí 10 triệu VNĐ. Hỗ trợ tài chính • Học bổng: Dựa trên điểm thi đầu vào\n",
            "hoặc thành tích học tập, mức từ 25% - 100% học phí.Để duy trì học bổng, sinh\n",
            "viên cần đạt GPA theo quy định và không vi phạm nội quy. • Miễn giảm học phí: Áp\n",
            "dụng cho sinh viên thuộc diện hộ nghèo, cận nghèo hoặc hoàn cảnh đặc biệt. • Vay\n",
            "học phí: Hỗ trợ vay vốn qua ngân hàng đối tác hoặc quỹ giáo dục. Học phí có thể\n",
            "điều chỉnh hàng năm nhưng không tăng đột biến, đảm bảo minh bạch và ổn định. 5.\n",
            "Page number: 10\n",
            "\n",
            "\n",
            "Score: 0.3498\n",
            "Phương Thức Chi Tiết TEST]([invalid url, do not cite]de-minh-hoa-ky-thi-danh-\n",
            "gia-nang-luc-truong-dai- hoc-cmc-cmc-test-nam-2025/). CMC200 Xét học bạ THPT,\n",
            "không cộng điểm ưu tiên, dựa trên điểm trung bình môn theo tổ hợp xét tuyển.\n",
            "Công thức tính điểm: Ngành Kỹ thuật (Toán×2 + Môn1 + Môn2), Ngành khác (Toán +\n",
            "Văn + Môn1 + Môn2). CMC100 Xét kết quả thi tốt nghiệp THPT, có thể cộng điểm ưu\n",
            "tiên nếu đủ điều kiện. Công thức tương tự CMC200 nhưng cộng thêm điểm ưu tiên\n",
            "theo quy định. CMC303 Xét tuyển thẳng theo quy chế Bộ GD&ĐT, áp dụng cho các đối\n",
            "tượng như thí sinh đạt giải học sinh giỏi quốc gia/quốc tế, có chứng chỉ quốc tế\n",
            "như IELTS 6.0+, SAT, ACT, A-Level, hoặc học sinh trường THPT chuyên đạt loại Tốt\n",
            "lớp 12. Điểm nổi bật là quỹ học bổng 96 tỷ VND dành cho năm 2025, với các mức cụ\n",
            "thể như sau: Loại Học Bổng Số Lượng Mức Giảm Tiêu Chí CMC Khai Phóng 30 100% học\n",
            "phí Giải quốc tế/quốc gia 2022–2025, điểm THPT ≥35/40, IELTS 7.5+, Toán ≥8.0 CMC\n",
            "Sáng Tạo 50 70% học phí Giải tỉnh 2022–2025, 6 môn ≥9.0 (Toán bắt buộc, không\n",
            "môn <6.5), IELTS 7.0+ CMC Tiên Phong 70 50% học phí 6 môn ≥8.5 (Toán bắt buộc,\n",
            "không môn <6.5), điểm THPT ≥33/40, IELTS 6.5+ CMC Kiến Tạo 150 30% học phí 6 môn\n",
            "≥8.0 (Toán bắt buộc, không môn <6.5), điểm THPT ≥32/40, IELTS 6.0+ Thí sinh đăng\n",
            "ký sớm và chọn CMC là nguyện vọng 1 sẽ được ưu tiên. Chi tiết về tuyển sinh có\n",
            "thể tham khảo tại [tuyển sinh CMC]([invalid url, do not cite]).\n",
            "Page number: 5\n",
            "\n",
            "\n",
            "Score: 0.3360\n",
            "II. Nội Quy Chế Sinh Viên Sau khi tìm kiếm trên website chính thức [Trường Đại\n",
            "học CMC]([invalid url, do not cite]) và các nguồn liên quan, không tìm thấy\n",
            "thông tin công khai về nội quy chế sinh viên. Có khả năng các quy định này được\n",
            "lưu trữ trong cổng thông tin nội bộ dành cho sinh viên, không được chia sẻ công\n",
            "khai trên trang web.Điều này không bất thường, vì nhiều trường đại học chỉ cung\n",
            "cấp nội quy qua tài liệu in hoặc hệ thống quản lý học tập. Dựa trên thông lệ của\n",
            "các trường đại học Việt Nam, nội quy chế thường bao gồm các quy định về học tập,\n",
            "rèn luyện đạo đức, kỷ luật, và quyền lợi sinh viên, nhưng chi tiết cụ thể cần\n",
            "liên hệ trực tiếp với nhà trường để biết thêm. III. Ưu Đãi Cho Sinh Viên Trường\n",
            "Đại học CMC cung cấp nhiều ưu đãi hấp dẫn, giúp sinh viên có môi trường học tập\n",
            "và phát triển toàn diện: • Học bổng và Hỗ Trợ Tài Chính: Quỹ học bổng 96 tỷ VND\n",
            "năm 2025 là một điểm nhấn, với các mức từ 30% đến 100% học phí, dựa trên thành\n",
            "tích học tập và chứng\n",
            "Page number: 5\n",
            "\n",
            "\n"
          ]
        }
      ],
      "source": [
        "# Print out the texts of the top scores\n",
        "print_top_results_and_scores(query=query,\n",
        "                             embeddings=embeddings)"
      ]
    },
    {
      "cell_type": "code",
      "execution_count": null,
      "metadata": {
        "colab": {
          "base_uri": "https://localhost:8080/"
        },
        "id": "cri_2RtKvybb",
        "outputId": "c9d0d686-2b6a-4cfa-e596-a3b054ce3777"
      },
      "outputs": [
        {
          "output_type": "stream",
          "name": "stdout",
          "text": [
            "Wed Apr  9 03:14:29 2025       \n",
            "+-----------------------------------------------------------------------------------------+\n",
            "| NVIDIA-SMI 550.54.15              Driver Version: 550.54.15      CUDA Version: 12.4     |\n",
            "|-----------------------------------------+------------------------+----------------------+\n",
            "| GPU  Name                 Persistence-M | Bus-Id          Disp.A | Volatile Uncorr. ECC |\n",
            "| Fan  Temp   Perf          Pwr:Usage/Cap |           Memory-Usage | GPU-Util  Compute M. |\n",
            "|                                         |                        |               MIG M. |\n",
            "|=========================================+========================+======================|\n",
            "|   0  Tesla T4                       Off |   00000000:00:04.0 Off |                    0 |\n",
            "| N/A   48C    P8             10W /   70W |       0MiB /  15360MiB |      0%      Default |\n",
            "|                                         |                        |                  N/A |\n",
            "+-----------------------------------------+------------------------+----------------------+\n",
            "                                                                                         \n",
            "+-----------------------------------------------------------------------------------------+\n",
            "| Processes:                                                                              |\n",
            "|  GPU   GI   CI        PID   Type   Process name                              GPU Memory |\n",
            "|        ID   ID                                                               Usage      |\n",
            "|=========================================================================================|\n",
            "|  No running processes found                                                             |\n",
            "+-----------------------------------------------------------------------------------------+\n"
          ]
        }
      ],
      "source": [
        "!nvidia-smi"
      ]
    },
    {
      "cell_type": "code",
      "execution_count": null,
      "metadata": {
        "colab": {
          "base_uri": "https://localhost:8080/"
        },
        "id": "FIIO-YlovzSy",
        "outputId": "b82f74f8-4aa8-4a21-af6d-ec611a227862"
      },
      "outputs": [
        {
          "output_type": "stream",
          "name": "stdout",
          "text": [
            "Available GPU memory: 15 GB\n"
          ]
        }
      ],
      "source": [
        "# Get GPU available memory\n",
        "import torch\n",
        "gpu_memory_bytes = torch.cuda.get_device_properties(0).total_memory\n",
        "gpu_memory_gb = round(gpu_memory_bytes / (2**30))\n",
        "print(f\"Available GPU memory: {gpu_memory_gb} GB\")"
      ]
    },
    {
      "cell_type": "code",
      "execution_count": null,
      "metadata": {
        "colab": {
          "base_uri": "https://localhost:8080/"
        },
        "id": "iP-muilfv0S5",
        "outputId": "c18357da-a0ec-40b7-d6fd-d9053402026e"
      },
      "outputs": [
        {
          "output_type": "stream",
          "name": "stdout",
          "text": [
            "GPU memory: 15 | Recommended model: GemSUra-2B in 4-bit precision.\n",
            "use_quantization_config set to: True\n",
            "model_id set to: ura-hcmut/GemSUra-2B\n"
          ]
        }
      ],
      "source": [
        "# Note: the following is Gemma focused, however, there are more and more LLMs of the 2B and 7B size appearing for local use.\n",
        "if gpu_memory_gb < 5.1:\n",
        "    print(f\"Your available GPU memory is {gpu_memory_gb}GB, you may not have enough memory to run a Gemma LLM locally without quantization.\")\n",
        "elif gpu_memory_gb > 6:\n",
        "    print(f\"GPU memory: {gpu_memory_gb} | Recommended model: Gemma 2B in 4-bit precision.\")\n",
        "    use_quantization_config = True\n",
        "    model_id = \"google/gemma-2b-it\"\n",
        "\n",
        "\n",
        "print(f\"use_quantization_config set to: {use_quantization_config}\")\n",
        "print(f\"model_id set to: {model_id}\")"
      ]
    },
    {
      "cell_type": "markdown",
      "metadata": {
        "id": "eUWt2Xhg03Qw"
      },
      "source": [
        "### Connect and Verify Model from Hugging Face"
      ]
    },
    {
      "cell_type": "code",
      "execution_count": null,
      "metadata": {
        "colab": {
          "base_uri": "https://localhost:8080/",
          "height": 17,
          "referenced_widgets": [
            "a6038f20515b403489879bbaeca5b3fb",
            "3ed65075c8054b1d9b6420c17f89fb7b",
            "1c955e226802498cb70dd256dc59db29",
            "0a798a51555b4a10b9b3c0b3271bdfa9",
            "215349563b8a496ab72c9543fd0dbbb3",
            "e0fbf52ac2e54645ac42a357933c2287",
            "062de6466aca47a0b2bbd02812bfb195",
            "91eb2d159bd146e68997617cad1a62ce",
            "5e57bd13aa1949a58b4fc1e28217717b",
            "7a76c390ce854fda90f4b15f284ded14",
            "24c93121db074cc895c750f90f59aeba",
            "7f0c399c7b8e4122a0ee5524cb67e59a",
            "542a365303e24ae8a75aece92b441406",
            "1685cd6914364ef08cd21dc8963a714c",
            "7d2be70a47d34f1e888cc745e2b986cb",
            "88b9832af16c4b31b163d54e72953eb5",
            "ba979a1bd6474c73bdaa71cf3575722a",
            "2bea37f0c6f143dd852f1cba77ea950c",
            "542705c743b04011b79a1bf97bb3b3a8",
            "62dd07939e644c9aa6e9926aa42dbb36"
          ]
        },
        "id": "c0Yxz-ab029R",
        "outputId": "010047e1-aa9b-4f73-bfb1-f883e577e076"
      },
      "outputs": [
        {
          "output_type": "display_data",
          "data": {
            "text/plain": [
              "VBox(children=(HTML(value='<center> <img\\nsrc=https://huggingface.co/front/assets/huggingface_logo-noborder.sv…"
            ],
            "application/vnd.jupyter.widget-view+json": {
              "version_major": 2,
              "version_minor": 0,
              "model_id": "a6038f20515b403489879bbaeca5b3fb"
            }
          },
          "metadata": {}
        }
      ],
      "source": [
        "from huggingface_hub import notebook_login\n",
        "\n",
        "# Log in to Hugging Face (replace 'YOUR_TOKEN' with your actual token)\n",
        "notebook_login()"
      ]
    },
    {
      "cell_type": "code",
      "execution_count": null,
      "metadata": {
        "id": "pQU5yb_P1vL9"
      },
      "outputs": [],
      "source": [
        "# Install these if not already\n",
        "# !pip install bitsandbytes\n",
        "# !pip install huggingface_hub"
      ]
    },
    {
      "cell_type": "code",
      "execution_count": null,
      "metadata": {
        "colab": {
          "base_uri": "https://localhost:8080/",
          "height": 85,
          "referenced_widgets": [
            "24d5fdb492bd49a8b18e6af8c02ad450",
            "4f87310f07824515802736f2ec7d0968",
            "daefb143ca8c4d32aa34431a886c9141",
            "01fad0e2afad43c1b713b7405a1be04e",
            "96f8599fb88e4c8586a5252c437de33c",
            "85d049fedc2e462b84ece7949e94d57e",
            "e9071b1bd94a4384aacda7def523ceea",
            "08f04e5f105e44e799d1ce3b240be745",
            "a1ee25938a0e491493963443ba961345",
            "706993272e9c4768941d0603766c0ffa",
            "9f006ac3dc1a463e8fa3639ae1aefc35"
          ]
        },
        "id": "QoSQKQA_v1nk",
        "outputId": "d54e8e9a-acfa-47d8-d503-2ab84f4a9083"
      },
      "outputs": [
        {
          "output_type": "stream",
          "name": "stdout",
          "text": [
            "[INFO] Using attention implementation: sdpa\n",
            "[INFO] Using model_id: ricepaper/vi-gemma-2b-RAG\n"
          ]
        },
        {
          "output_type": "display_data",
          "data": {
            "text/plain": [
              "Loading checkpoint shards:   0%|          | 0/2 [00:00<?, ?it/s]"
            ],
            "application/vnd.jupyter.widget-view+json": {
              "version_major": 2,
              "version_minor": 0,
              "model_id": "24d5fdb492bd49a8b18e6af8c02ad450"
            }
          },
          "metadata": {}
        }
      ],
      "source": [
        "import torch\n",
        "from transformers import AutoTokenizer, AutoModelForCausalLM\n",
        "from transformers.utils import is_flash_attn_2_available\n",
        "\n",
        "# 1. Create quantization config for smaller model loading\n",
        "# Requires !pip install bitsandbytes accelerate, see: https://github.com/TimDettmers/bitsandbytes, https://huggingface.co/docs/accelerate/\n",
        "# For models that require 4-bit quantization (use this if you have low GPU memory available)\n",
        "from transformers import BitsAndBytesConfig\n",
        "quantization_config = BitsAndBytesConfig(load_in_4bit=False,\n",
        "                                         bnb_4bit_compute_dtype=torch.float16)\n",
        "\n",
        "# Bonus: Setup Flash Attention 2 for faster inference, default to \"sdpa\" or \"scaled dot product attention\" if it's not available\n",
        "# Flash Attention 2 requires NVIDIA GPU compute capability of 8.0 or above, see: https://developer.nvidia.com/cuda-gpus\n",
        "# Requires !pip install flash-attn, see: https://github.com/Dao-AILab/flash-attention\n",
        "if (is_flash_attn_2_available()) and (torch.cuda.get_device_capability(0)[0] >= 8):\n",
        "  attn_implementation = \"flash_attention_2\"\n",
        "else:\n",
        "  attn_implementation = \"sdpa\"\n",
        "print(f\"[INFO] Using attention implementation: {attn_implementation}\")\n",
        "\n",
        "# 2. Pick a model we'd like to use (this will depend on how much GPU memory you have available)\n",
        "#model_id = \"google/gemma-7b-it\"\n",
        "model_id = \"ricepaper/vi-gemma-2b-RAG\"\n",
        "print(f\"[INFO] Using model_id: {model_id}\")\n",
        "\n",
        "# 3. Instantiate tokenizer (tokenizer turns text into numbers ready for the model)\n",
        "tokenizer = AutoTokenizer.from_pretrained(pretrained_model_name_or_path=model_id)\n",
        "\n",
        "# 4. Instantiate the model\n",
        "llm_model = AutoModelForCausalLM.from_pretrained(pretrained_model_name_or_path=model_id,\n",
        "                                                 torch_dtype=torch.float16, # datatype to use, we want float16\n",
        "                                                 quantization_config=quantization_config if use_quantization_config else None,\n",
        "                                                 low_cpu_mem_usage=True, # use full memory\n",
        "                                                 attn_implementation=attn_implementation, # which attention version to use\n",
        "                                                 device_map=\"auto\" ) # Let Transformers handle device placement\n",
        "\n",
        "if not use_quantization_config: # quantization takes care of device setting automatically, so if it's not used, send model to GPU\n",
        "    llm_model.to(\"cuda\")"
      ]
    },
    {
      "cell_type": "code",
      "execution_count": null,
      "metadata": {
        "colab": {
          "base_uri": "https://localhost:8080/"
        },
        "id": "g_TYOgfNv2rw",
        "outputId": "35dba229-2466-4bed-985b-2dd52f4af9cc"
      },
      "outputs": [
        {
          "output_type": "execute_result",
          "data": {
            "text/plain": [
              "GemmaForCausalLM(\n",
              "  (model): GemmaModel(\n",
              "    (embed_tokens): Embedding(256000, 2048, padding_idx=0)\n",
              "    (layers): ModuleList(\n",
              "      (0-17): 18 x GemmaDecoderLayer(\n",
              "        (self_attn): GemmaAttention(\n",
              "          (q_proj): Linear4bit(in_features=2048, out_features=2048, bias=False)\n",
              "          (k_proj): Linear4bit(in_features=2048, out_features=256, bias=False)\n",
              "          (v_proj): Linear4bit(in_features=2048, out_features=256, bias=False)\n",
              "          (o_proj): Linear4bit(in_features=2048, out_features=2048, bias=False)\n",
              "        )\n",
              "        (mlp): GemmaMLP(\n",
              "          (gate_proj): Linear4bit(in_features=2048, out_features=16384, bias=False)\n",
              "          (up_proj): Linear4bit(in_features=2048, out_features=16384, bias=False)\n",
              "          (down_proj): Linear4bit(in_features=16384, out_features=2048, bias=False)\n",
              "          (act_fn): GELUActivation()\n",
              "        )\n",
              "        (input_layernorm): GemmaRMSNorm((2048,), eps=1e-06)\n",
              "        (post_attention_layernorm): GemmaRMSNorm((2048,), eps=1e-06)\n",
              "      )\n",
              "    )\n",
              "    (norm): GemmaRMSNorm((2048,), eps=1e-06)\n",
              "    (rotary_emb): GemmaRotaryEmbedding()\n",
              "  )\n",
              "  (lm_head): Linear(in_features=2048, out_features=256000, bias=False)\n",
              ")"
            ]
          },
          "metadata": {},
          "execution_count": 135
        }
      ],
      "source": [
        "llm_model"
      ]
    },
    {
      "cell_type": "markdown",
      "metadata": {
        "id": "qCGh4ZwJknsO"
      },
      "source": []
    },
    {
      "cell_type": "code",
      "execution_count": null,
      "metadata": {
        "colab": {
          "base_uri": "https://localhost:8080/"
        },
        "id": "TAZPPFz6v3kt",
        "outputId": "aa9737a4-79dc-4905-b381-fc599708e717"
      },
      "outputs": [
        {
          "output_type": "execute_result",
          "data": {
            "text/plain": [
              "1515268096"
            ]
          },
          "metadata": {},
          "execution_count": 136
        }
      ],
      "source": [
        "def get_model_num_params(model: torch.nn.Module):\n",
        "    return sum([param.numel() for param in model.parameters()])\n",
        "\n",
        "get_model_num_params(llm_model)"
      ]
    },
    {
      "cell_type": "code",
      "execution_count": null,
      "metadata": {
        "colab": {
          "base_uri": "https://localhost:8080/"
        },
        "id": "bY1HED_Vv4fM",
        "outputId": "b6bb9850-0de1-413d-e886-8021a2168f39"
      },
      "outputs": [
        {
          "output_type": "execute_result",
          "data": {
            "text/plain": [
              "{'model_mem_bytes': 2039632384, 'model_mem_mb': 1945.15, 'model_mem_gb': 1.9}"
            ]
          },
          "metadata": {},
          "execution_count": 137
        }
      ],
      "source": [
        "def get_model_mem_size(model: torch.nn.Module):\n",
        "    \"\"\"\n",
        "    Get how much memory a PyTorch model takes up.\n",
        "\n",
        "    See: https://discuss.pytorch.org/t/gpu-memory-that-model-uses/56822\n",
        "    \"\"\"\n",
        "    # Get model parameters and buffer sizes\n",
        "    mem_params = sum([param.nelement() * param.element_size() for param in model.parameters()])\n",
        "    mem_buffers = sum([buf.nelement() * buf.element_size() for buf in model.buffers()])\n",
        "\n",
        "    # Calculate various model sizes\n",
        "    model_mem_bytes = mem_params + mem_buffers # in bytes\n",
        "    model_mem_mb = model_mem_bytes / (1024**2) # in megabytes\n",
        "    model_mem_gb = model_mem_bytes / (1024**3) # in gigabytes\n",
        "\n",
        "    return {\"model_mem_bytes\": model_mem_bytes,\n",
        "            \"model_mem_mb\": round(model_mem_mb, 2),\n",
        "            \"model_mem_gb\": round(model_mem_gb, 2)}\n",
        "\n",
        "get_model_mem_size(llm_model)"
      ]
    },
    {
      "cell_type": "code",
      "execution_count": null,
      "metadata": {
        "colab": {
          "base_uri": "https://localhost:8080/"
        },
        "id": "MWbLa04Jv6Cm",
        "outputId": "ed12b0dd-cbc7-4737-97bd-9b86b27c7873"
      },
      "outputs": [
        {
          "output_type": "stream",
          "name": "stdout",
          "text": [
            "Input text:\n",
            "Tuyển sinh đại học\n",
            "\n",
            "Prompt (formatted):\n",
            "<bos><start_of_turn>user\n",
            "Tuyển sinh đại học<end_of_turn>\n",
            "<start_of_turn>model\n",
            "\n"
          ]
        }
      ],
      "source": [
        "input_text = \"Tuyển sinh đại học\"\n",
        "print(f\"Input text:\\n{input_text}\")\n",
        "\n",
        "# Create prompt template for instruction-tuned model\n",
        "dialogue_template = [\n",
        "    {\"role\": \"user\",\n",
        "     \"content\": input_text}\n",
        "]\n",
        "\n",
        "# Apply the chat template\n",
        "prompt = tokenizer.apply_chat_template(conversation=dialogue_template,\n",
        "                                       tokenize=False, # keep as raw text (not tokenized)\n",
        "                                       add_generation_prompt=True)\n",
        "print(f\"\\nPrompt (formatted):\\n{prompt}\")"
      ]
    },
    {
      "cell_type": "code",
      "execution_count": null,
      "metadata": {
        "colab": {
          "base_uri": "https://localhost:8080/"
        },
        "id": "Dp0BL3lov6wF",
        "outputId": "399c0c73-58b7-44be-cd42-e35eacc0f64a"
      },
      "outputs": [
        {
          "output_type": "stream",
          "name": "stdout",
          "text": [
            "Model input (tokenized):\n",
            "{'input_ids': tensor([[     2,      2,    106,   1645,    108, 152881,  18797,  21693,  35503,\n",
            "          22796,    107,    108,    106,   2516,    108]], device='cuda:0'), 'attention_mask': tensor([[1, 1, 1, 1, 1, 1, 1, 1, 1, 1, 1, 1, 1, 1, 1]], device='cuda:0')}\n",
            "\n",
            "Model output (tokens):\n",
            "tensor([     2,      2,    106,   1645,    108, 152881,  18797,  21693,  35503,\n",
            "         22796,    107,    108,    106,   2516,    108, 236108,  11747,  18977,\n",
            "         35503,  22796,   5536,  10765,  83634,  83634,  18977,  10765,  68472,\n",
            "         35576,  22796,  35503,  22796, 235265, 101981,  20117,  22796,  21693,\n",
            "          5355,  14360,  10784,  35659,  18977,  10765,  68472,  35576,  35503,\n",
            "         22796,  73368,  14360, 235269,  10435,  13452,  10765,  20117,  31355,\n",
            "          5355,  14360,  10784,  35659,  18977,  10765,  68472,  35576,  22796,\n",
            "         35503,  22796,  31355, 235265, 101981,  20117,  22796,  21693,   5355,\n",
            "         14360,  10784,  35659,  18977,  10765,  68472,  35576,  35503,  22796,\n",
            "         73368,  14360, 235269,  10435,  13452,  10765,  20117,  31355,   5355,\n",
            "         14360,  10784,  35659,  18977,  10765,  68472,  35576,  22796,  35503,\n",
            "         22796,  31355, 235265, 101981,  20117,  22796,  21693,   5355,  14360,\n",
            "         10784,  35659,  18977,  10765,  68472,  35576,  35503,  22796,  73368,\n",
            "         14360, 235269,  10435,  13452,  10765,  20117,  31355,   5355,  14360,\n",
            "         10784,  35659,  18977,  10765,  68472,  35576,  22796,  35503,  22796,\n",
            "         31355, 235265, 101981,  20117,  22796,  21693,   5355,  14360,  10784,\n",
            "         35659,  18977,  10765,  68472,  35576,  35503,  22796,  73368,  14360,\n",
            "        235269,  10435,  13452,  10765,  20117,  31355,   5355,  14360,  10784,\n",
            "         35659,  18977,  10765,  68472,  35576,  22796,  35503,  22796,  31355,\n",
            "        235265, 101981,  20117,  22796,  21693,   5355,  14360,  10784,  35659,\n",
            "         18977,  10765,  68472,  35576,  35503,  22796,  73368,  14360, 235269,\n",
            "         10435,  13452,  10765,  20117,  31355,   5355,  14360,  10784,  35659,\n",
            "         18977,  10765,  68472,  35576,  22796,  35503,  22796,  31355, 235265,\n",
            "        101981,  20117,  22796,  21693,   5355,  14360,  10784,  35659,  18977,\n",
            "         10765,  68472,  35576,  35503,  22796,  73368,  14360, 235269,  10435,\n",
            "         13452,  10765,  20117,  31355,   5355,  14360,  10784,  35659,  18977,\n",
            "         10765,  68472,  35576,  22796,  35503,  22796,  31355, 235265, 101981,\n",
            "         20117,  22796,  21693,   5355,  14360,  10784,  35659,  18977,  10765,\n",
            "         68472,  35576,  35503,  22796,  73368,  14360, 235269,  10435,  13452,\n",
            "         10765,  20117,  31355,   5355,  14360,  10784,  35659,  18977,  10765,\n",
            "         68472], device='cuda:0')\n",
            "\n",
            "CPU times: user 7.57 s, sys: 5.75 ms, total: 7.58 s\n",
            "Wall time: 7.59 s\n"
          ]
        }
      ],
      "source": [
        "%%time\n",
        "\n",
        "# Tokenize the input text (turn it into numbers) and send it to GPU\n",
        "input_ids = tokenizer(prompt, return_tensors=\"pt\").to(\"cuda\")\n",
        "print(f\"Model input (tokenized):\\n{input_ids}\\n\")\n",
        "\n",
        "# Generate outputs passed on the tokenized input\n",
        "# See generate docs: https://huggingface.co/docs/transformers/v4.38.2/en/main_classes/text_generation#transformers.GenerationConfig\n",
        "outputs = llm_model.generate(**input_ids,\n",
        "                             max_new_tokens=256) # define the maximum number of new tokens to create\n",
        "\n",
        "print(f\"Model output (tokens):\\n{outputs[0]}\\n\")"
      ]
    },
    {
      "cell_type": "code",
      "execution_count": null,
      "metadata": {
        "colab": {
          "base_uri": "https://localhost:8080/"
        },
        "id": "vBUy5V5Tv7jJ",
        "outputId": "461f23aa-b08b-4161-aca6-8bfe9f074467"
      },
      "outputs": [
        {
          "output_type": "stream",
          "name": "stdout",
          "text": [
            "Model output (decoded):\n",
            "<bos><bos><start_of_turn>user\n",
            "Tuyển sinh đại học<end_of_turn>\n",
            "<start_of_turn>model\n",
            "Đầu vào đại học là một bước bước vào một chương trình học đại học. Một số học sinh có thể được nhận vào một chương trình đại học cụ thể, trong khi một số khác có thể được nhận vào một chương trình học đại học khác. Một số học sinh có thể được nhận vào một chương trình đại học cụ thể, trong khi một số khác có thể được nhận vào một chương trình học đại học khác. Một số học sinh có thể được nhận vào một chương trình đại học cụ thể, trong khi một số khác có thể được nhận vào một chương trình học đại học khác. Một số học sinh có thể được nhận vào một chương trình đại học cụ thể, trong khi một số khác có thể được nhận vào một chương trình học đại học khác. Một số học sinh có thể được nhận vào một chương trình đại học cụ thể, trong khi một số khác có thể được nhận vào một chương trình học đại học khác. Một số học sinh có thể được nhận vào một chương trình đại học cụ thể, trong khi một số khác có thể được nhận vào một chương trình học đại học khác. Một số học sinh có thể được nhận vào một chương trình đại học cụ thể, trong khi một số khác có thể được nhận vào một chương\n",
            "\n"
          ]
        }
      ],
      "source": [
        "# Decode the output tokens to text\n",
        "outputs_decoded = tokenizer.decode(outputs[0])\n",
        "print(f\"Model output (decoded):\\n{outputs_decoded}\\n\")"
      ]
    },
    {
      "cell_type": "code",
      "execution_count": null,
      "metadata": {
        "colab": {
          "base_uri": "https://localhost:8080/"
        },
        "id": "W90QsCuNv8Xw",
        "outputId": "ac8758bd-b831-49b3-e2ff-58bfc3c39829"
      },
      "outputs": [
        {
          "output_type": "stream",
          "name": "stdout",
          "text": [
            "Input text: Tuyển sinh đại học\n",
            "\n",
            "Output text:\n",
            "Đầu vào đại học là một bước bước vào một chương trình học đại học. Một số học sinh có thể được nhận vào một chương trình đại học cụ thể, trong khi một số khác có thể được nhận vào một chương trình học đại học khác. Một số học sinh có thể được nhận vào một chương trình đại học cụ thể, trong khi một số khác có thể được nhận vào một chương trình học đại học khác. Một số học sinh có thể được nhận vào một chương trình đại học cụ thể, trong khi một số khác có thể được nhận vào một chương trình học đại học khác. Một số học sinh có thể được nhận vào một chương trình đại học cụ thể, trong khi một số khác có thể được nhận vào một chương trình học đại học khác. Một số học sinh có thể được nhận vào một chương trình đại học cụ thể, trong khi một số khác có thể được nhận vào một chương trình học đại học khác. Một số học sinh có thể được nhận vào một chương trình đại học cụ thể, trong khi một số khác có thể được nhận vào một chương trình học đại học khác. Một số học sinh có thể được nhận vào một chương trình đại học cụ thể, trong khi một số khác có thể được nhận vào một chương\n"
          ]
        }
      ],
      "source": [
        "print(f\"Input text: {input_text}\\n\")\n",
        "print(f\"Output text:\\n{outputs_decoded.replace(prompt, '').replace('<bos>', '').replace('<eos>', '')}\")"
      ]
    },
    {
      "cell_type": "code",
      "execution_count": null,
      "metadata": {
        "id": "w1bQY2pvv9fW"
      },
      "outputs": [],
      "source": [
        "# Python Data Science questions generated with GPT4\n",
        "gpt4_questions = [\n",
        "    \"Chuyên ngành của trường gồm những gì\",\n",
        "    \"Điểm để vào được trường\",\n",
        "]\n",
        "\n",
        "\n",
        "# Manually created question list\n",
        "manual_questions = [\n",
        "    \"Trường có kí túc xá không\",\n",
        "    \"Trường có ưu đãi học bổng không\",\n",
        "    \"Cơ sở vật chất của trường\",\n",
        "]\n",
        "\n",
        "query_list = gpt4_questions + manual_questions"
      ]
    },
    {
      "cell_type": "code",
      "execution_count": null,
      "metadata": {
        "colab": {
          "base_uri": "https://localhost:8080/"
        },
        "id": "1vmiv3Mcv_DC",
        "outputId": "f6ae0e89-c059-4f33-8c18-0b67ae017ca2"
      },
      "outputs": [
        {
          "output_type": "stream",
          "name": "stdout",
          "text": [
            "Query: Cơ sở vật chất của trường\n",
            "[INFO] Time taken to get scores on 35 embeddings: 0.00007 seconds.\n"
          ]
        },
        {
          "output_type": "execute_result",
          "data": {
            "text/plain": [
              "(tensor([0.5669, 0.5598, 0.5586, 0.5565, 0.5520], device='cuda:0'),\n",
              " tensor([26, 14, 21, 34,  6], device='cuda:0'))"
            ]
          },
          "metadata": {},
          "execution_count": 143
        }
      ],
      "source": [
        "import random\n",
        "query = random.choice(query_list)\n",
        "\n",
        "print(f\"Query: {query}\")\n",
        "\n",
        "# Get just the scores and indices of top related results\n",
        "scores, indices = retrieve_relevant_resources(query=query,\n",
        "                                              embeddings=embeddings)\n",
        "scores, indices"
      ]
    },
    {
      "cell_type": "code",
      "execution_count": null,
      "metadata": {
        "id": "a5gxs4cdwAP1"
      },
      "outputs": [],
      "source": [
        "def prompt_formatter(query: str,\n",
        "                     context_items: list[dict]) -> str:\n",
        "    \"\"\"\n",
        "    Augments query with text-based context from context_items.\n",
        "    \"\"\"\n",
        "    # Join context items into one dotted paragraph\n",
        "    context = \"- \" + \"\\n- \".join([item[\"sentence_chunk\"] for item in context_items])\n",
        "\n",
        "    # Create a base prompt with examples to help the model\n",
        "    # Note: this is very customizable, I've chosen to use 3 examples of the answer style we'd like.\n",
        "    # We could also write this in a txt file and import it in if we wanted.\n",
        "    base_prompt = \"\"\"\n",
        "      Based on the following context items, please answer the query.\n",
        "      Give yourself room to think by extracting relevant passages from the context before answering the query.\n",
        "      Don't return the thinking, only return the answer.\n",
        "      Make sure your answers are as explanatory as possible.\n",
        "\n",
        "      User query: {query}\n",
        "      Answer:\n",
        "    \"\"\"\n",
        "\n",
        "\n",
        "    # Update base prompt with context items and query\n",
        "    base_prompt = base_prompt.format(context=context, query=query)\n",
        "\n",
        "    # Create prompt template for instruction-tuned model\n",
        "    dialogue_template = [\n",
        "        {\"role\": \"user\",\n",
        "        \"content\": base_prompt}\n",
        "    ]\n",
        "\n",
        "    # Apply the chat template\n",
        "    prompt = tokenizer.apply_chat_template(conversation=dialogue_template,\n",
        "                                          tokenize=False,\n",
        "                                          add_generation_prompt=True)\n",
        "    return prompt"
      ]
    },
    {
      "cell_type": "code",
      "execution_count": null,
      "metadata": {
        "colab": {
          "base_uri": "https://localhost:8080/"
        },
        "id": "0D4Ecq4iwBhG",
        "outputId": "5476082e-4829-4ffe-b50a-8a8653e5e086"
      },
      "outputs": [
        {
          "output_type": "stream",
          "name": "stdout",
          "text": [
            "Query: Trường có ưu đãi học bổng không\n",
            "[INFO] Time taken to get scores on 35 embeddings: 0.00006 seconds.\n",
            "<bos><start_of_turn>user\n",
            "Based on the following context items, please answer the query.\n",
            "      Give yourself room to think by extracting relevant passages from the context before answering the query.\n",
            "      Don't return the thinking, only return the answer.\n",
            "      Make sure your answers are as explanatory as possible.\n",
            "\n",
            "      User query: Trường có ưu đãi học bổng không\n",
            "      Answer:<end_of_turn>\n",
            "<start_of_turn>model\n",
            "\n"
          ]
        }
      ],
      "source": [
        "query = random.choice(query_list)\n",
        "print(f\"Query: {query}\")\n",
        "\n",
        "# Get relevant resources\n",
        "scores, indices = retrieve_relevant_resources(query=query,\n",
        "                                              embeddings=embeddings)\n",
        "\n",
        "# Create a list of context items\n",
        "context_items = [pages_and_chunks[i] for i in indices]\n",
        "\n",
        "# Format prompt with context items\n",
        "prompt = prompt_formatter(query=query,\n",
        "                          context_items=context_items)\n",
        "print(prompt)"
      ]
    },
    {
      "cell_type": "code",
      "execution_count": null,
      "metadata": {
        "colab": {
          "base_uri": "https://localhost:8080/"
        },
        "id": "KIQwz-m6wCjg",
        "outputId": "029dc4ac-5a9e-40ff-d0d5-e6099e8712cd"
      },
      "outputs": [
        {
          "output_type": "stream",
          "name": "stdout",
          "text": [
            "Query: Trường có ưu đãi học bổng không\n",
            "RAG answer:\n",
            "<bos>Đầu vào của trường đại học có quyền lợi đối với người sáng lập trường - một phần nhỏ trong số 35000 trong số 8000 học sinh, và một vài học sinh từ các đại học khác. Một trong số 16000 học sinh có 12500 trong số 7500 và 8500 trong số 20. Đa số được gọi là \"một số ít\" vì đại học có thể có nhiều (tuy nhiên, một số này có thể rất nhỏ), và hơn một nửa (50% tất cả các học sinh) có thể sở hữu một căn hộ ở chính tại nhà. Năm 2006, các học sinh đã sở hữu một căn hộ trung bình là 500 USD (phần còn lại sẽ là 500 USD). Một số học sinh ở đây không có nhà ở được nhận được một số tiền. Các học sinh có một số tiền được đặt vào năm 2010 là 1.063 USD; 2011 là 1.120 USD; 2012 là 1.313 USD; 2013 là \n",
            "CPU times: user 7.67 s, sys: 0 ns, total: 7.67 s\n",
            "Wall time: 7.66 s\n"
          ]
        }
      ],
      "source": [
        "%%time\n",
        "\n",
        "input_ids = tokenizer(prompt, return_tensors=\"pt\").to(\"cuda\")\n",
        "\n",
        "# Generate an output of tokens\n",
        "outputs = llm_model.generate(**input_ids,\n",
        "                             temperature=0.7, # lower temperature = more deterministic outputs, higher temperature = more creative outputs\n",
        "                             do_sample=True, # whether or not to use sampling, see https://huyenchip.com/2024/01/16/sampling.html for more\n",
        "                             max_new_tokens=256) # how many new tokens to generate from prompt\n",
        "\n",
        "# Turn the output tokens into text\n",
        "output_text = tokenizer.decode(outputs[0])\n",
        "\n",
        "print(f\"Query: {query}\")\n",
        "print(f\"RAG answer:\\n{output_text.replace(prompt, '')}\")"
      ]
    },
    {
      "cell_type": "code",
      "execution_count": null,
      "metadata": {
        "id": "Al618qwtwEA-"
      },
      "outputs": [],
      "source": [
        "def ask(query,\n",
        "        temperature=0.7,\n",
        "        max_new_tokens=512,\n",
        "        format_answer_text=True,\n",
        "        return_answer_only=True):\n",
        "    \"\"\"\n",
        "    Takes a query, finds relevant resources/context and generates an answer to the query based on the relevant resources.\n",
        "    \"\"\"\n",
        "\n",
        "    # Get just the scores and indices of top related results\n",
        "    scores, indices = retrieve_relevant_resources(query=query,\n",
        "                                                  embeddings=embeddings)\n",
        "\n",
        "    # Create a list of context items\n",
        "    context_items = [pages_and_chunks[i] for i in indices]\n",
        "\n",
        "    # Add score to context item\n",
        "    for i, item in enumerate(context_items):\n",
        "        item[\"score\"] = scores[i].cpu() # return score back to CPU\n",
        "\n",
        "    # Format the prompt with context items\n",
        "    prompt = prompt_formatter(query=query,\n",
        "                              context_items=context_items)\n",
        "\n",
        "    # Tokenize the prompt\n",
        "    input_ids = tokenizer(prompt, return_tensors=\"pt\").to(\"cuda\")\n",
        "\n",
        "    # Generate an output of tokens\n",
        "    outputs = llm_model.generate(**input_ids,\n",
        "                                 temperature=temperature,\n",
        "                                 do_sample=True,\n",
        "                                 max_new_tokens=max_new_tokens)\n",
        "\n",
        "    # Turn the output tokens into text\n",
        "    output_text = tokenizer.decode(outputs[0])\n",
        "\n",
        "    if format_answer_text:\n",
        "        # Replace special tokens and unnecessary help message\n",
        "        output_text = output_text.replace(prompt, \"\").replace(\"<bos>\", \"\").replace(\"<eos>\", \"\").replace(\"Sure, here is the answer to the user query:\\n\\n\", \"\")\n",
        "\n",
        "    # Only return the answer without the context items\n",
        "    if return_answer_only:\n",
        "        return output_text\n",
        "\n",
        "    return output_text, context_items"
      ]
    },
    {
      "cell_type": "code",
      "execution_count": null,
      "metadata": {
        "id": "mcj2vDYYwFHR"
      },
      "outputs": [],
      "source": [
        "query = random.choice(query_list)\n",
        "print(f\"Query: {query}\")\n",
        "\n",
        "# Answer query with context and return context\n",
        "answer, context_items = ask(query=query,\n",
        "                            temperature=0.7,\n",
        "                            max_new_tokens=512,\n",
        "                            return_answer_only=False)\n",
        "\n",
        "print(f\"Answer:\\n\")\n",
        "print_wrapped(answer)\n",
        "print(f\"Context items:\")\n",
        "context_items"
      ]
    },
    {
      "cell_type": "markdown",
      "metadata": {
        "id": "eAyhZpXfBbWd"
      },
      "source": [
        "## Host Pipeline bằng Flask API"
      ]
    },
    {
      "cell_type": "code",
      "execution_count": null,
      "metadata": {
        "colab": {
          "base_uri": "https://localhost:8080/"
        },
        "id": "m3skUfbeBh9l",
        "outputId": "373da560-75d8-44d7-9209-063118516dce"
      },
      "outputs": [
        {
          "output_type": "stream",
          "name": "stdout",
          "text": [
            "Requirement already satisfied: Flask in /usr/local/lib/python3.11/dist-packages (3.1.0)\n",
            "Requirement already satisfied: Werkzeug>=3.1 in /usr/local/lib/python3.11/dist-packages (from Flask) (3.1.3)\n",
            "Requirement already satisfied: Jinja2>=3.1.2 in /usr/local/lib/python3.11/dist-packages (from Flask) (3.1.5)\n",
            "Requirement already satisfied: itsdangerous>=2.2 in /usr/local/lib/python3.11/dist-packages (from Flask) (2.2.0)\n",
            "Requirement already satisfied: click>=8.1.3 in /usr/local/lib/python3.11/dist-packages (from Flask) (8.1.8)\n",
            "Requirement already satisfied: blinker>=1.9 in /usr/local/lib/python3.11/dist-packages (from Flask) (1.9.0)\n",
            "Requirement already satisfied: MarkupSafe>=2.0 in /usr/local/lib/python3.11/dist-packages (from Jinja2>=3.1.2->Flask) (3.0.2)\n"
          ]
        },
        {
          "output_type": "stream",
          "name": "stderr",
          "text": [
            "ERROR:root:Unexpected exception finding object shape\n",
            "Traceback (most recent call last):\n",
            "  File \"/usr/local/lib/python3.11/dist-packages/google/colab/_debugpy_repr.py\", line 54, in get_shape\n",
            "    shape = getattr(obj, 'shape', None)\n",
            "            ^^^^^^^^^^^^^^^^^^^^^^^^^^^\n",
            "  File \"/usr/local/lib/python3.11/dist-packages/werkzeug/local.py\", line 318, in __get__\n",
            "    obj = instance._get_current_object()\n",
            "          ^^^^^^^^^^^^^^^^^^^^^^^^^^^^^^\n",
            "  File \"/usr/local/lib/python3.11/dist-packages/werkzeug/local.py\", line 519, in _get_current_object\n",
            "    raise RuntimeError(unbound_message) from None\n",
            "RuntimeError: Working outside of request context.\n",
            "\n",
            "This typically means that you attempted to use functionality that needed\n",
            "an active HTTP request. Consult the documentation on testing for\n",
            "information about how to avoid this problem.\n"
          ]
        }
      ],
      "source": [
        "!pip install Flask"
      ]
    },
    {
      "cell_type": "markdown",
      "metadata": {
        "id": "cXShPtK9Bl0l"
      },
      "source": [
        "## Chạy Flask App"
      ]
    },
    {
      "cell_type": "code",
      "execution_count": null,
      "metadata": {
        "id": "ikB6ytVRBin6",
        "colab": {
          "base_uri": "https://localhost:8080/"
        },
        "outputId": "6fa491e6-7088-440a-cef7-084fad67ab6a"
      },
      "outputs": [
        {
          "output_type": "stream",
          "name": "stdout",
          "text": [
            " * Serving Flask app '__main__'\n",
            " * Debug mode: off\n"
          ]
        },
        {
          "output_type": "stream",
          "name": "stderr",
          "text": [
            "INFO:werkzeug:\u001b[31m\u001b[1mWARNING: This is a development server. Do not use it in a production deployment. Use a production WSGI server instead.\u001b[0m\n",
            " * Running on http://127.0.0.1:5000\n",
            "INFO:werkzeug:\u001b[33mPress CTRL+C to quit\u001b[0m\n"
          ]
        }
      ],
      "source": [
        "from flask import Flask, request, jsonify\n",
        "import torch\n",
        "from sentence_transformers import SentenceTransformer, util\n",
        "from transformers import AutoTokenizer, AutoModelForCausalLM\n",
        "\n",
        "# Initialize Flask app\n",
        "app = Flask(__name__)\n",
        "\n",
        "# # Load my  models (make sure they are the same as in my  RAG pipeline)\n",
        "# embedding_model = SentenceTransformer(\"all-mpnet-base-v2\")\n",
        "# tokenizer = AutoTokenizer.from_pretrained(\"ricepaper/vi-gemma-2b-RAG\")\n",
        "# llm_model = AutoModelForCausalLM.from_pretrained(\"ricepaper/vi-gemma-2b-RAG\", torch_dtype=torch.float16)\n",
        "# llm_model.to(\"cuda\")\n",
        "\n",
        "# # Load my  embeddings (make sure they are the same as in my  RAG pipeline)\n",
        "# embeddings = torch.load(\"embeddings.pt\")\n",
        "\n",
        "def retrieve_relevant_resources(query: str, n_resources_to_return: int = 5):\n",
        "    query_embedding = embedding_model.encode(query, convert_to_tensor=True)\n",
        "    dot_scores = util.dot_score(query_embedding, embeddings)[0]\n",
        "    scores, indices = torch.topk(input=dot_scores, k=n_resources_to_return)\n",
        "    return scores, indices\n",
        "\n",
        "def prompt_formatter(query: str, context_items: list):\n",
        "    context = \"- \" + \"\\n- \".join([item[\"sentence_chunk\"] for item in context_items])\n",
        "    base_prompt = f\"\"\"\n",
        "    Based on the following context items, please answer the query.\n",
        "    User query: {query}\n",
        "    Context:\n",
        "    {context}\n",
        "    Answer:\"\"\"\n",
        "    return base_prompt\n",
        "\n",
        "@app.route('/generate', methods=['POST'])\n",
        "def generate():\n",
        "    data = request.json\n",
        "    query = data.get('query', '')\n",
        "\n",
        "    # Retrieve relevant resources\n",
        "    scores, indices = retrieve_relevant_resources(query)\n",
        "\n",
        "    # Create a list of context items\n",
        "    context_items = [pages_and_chunks[i] for i in indices]\n",
        "\n",
        "    # Format the prompt with context items\n",
        "    prompt = prompt_formatter(query=query, context_items=context_items)\n",
        "\n",
        "    # Tokenize and generate the response\n",
        "    input_ids = tokenizer(prompt, return_tensors=\"pt\").to(\"cuda\")\n",
        "    outputs = llm_model.generate(**input_ids, max_new_tokens=256)\n",
        "    output_text = tokenizer.decode(outputs[0])\n",
        "\n",
        "    # Clean up the response and return it\n",
        "    response_text = output_text.replace(prompt, \"\").strip()\n",
        "    return jsonify({'query': query, 'response': response_text})\n",
        "\n"
      ]
    },
    {
      "cell_type": "code",
      "execution_count": null,
      "metadata": {
        "colab": {
          "base_uri": "https://localhost:8080/"
        },
        "id": "JLFeFUmlBlHm",
        "outputId": "f2c955db-9ac4-4f51-9c0f-ac4d48c8ef23"
      },
      "outputs": [
        {
          "output_type": "stream",
          "name": "stdout",
          "text": [
            "Requirement already satisfied: flask-ngrok in /usr/local/lib/python3.11/dist-packages (0.0.25)\n",
            "Requirement already satisfied: Flask>=0.8 in /usr/local/lib/python3.11/dist-packages (from flask-ngrok) (3.1.0)\n",
            "Requirement already satisfied: requests in /usr/local/lib/python3.11/dist-packages (from flask-ngrok) (2.32.3)\n",
            "Requirement already satisfied: Werkzeug>=3.1 in /usr/local/lib/python3.11/dist-packages (from Flask>=0.8->flask-ngrok) (3.1.3)\n",
            "Requirement already satisfied: Jinja2>=3.1.2 in /usr/local/lib/python3.11/dist-packages (from Flask>=0.8->flask-ngrok) (3.1.5)\n",
            "Requirement already satisfied: itsdangerous>=2.2 in /usr/local/lib/python3.11/dist-packages (from Flask>=0.8->flask-ngrok) (2.2.0)\n",
            "Requirement already satisfied: click>=8.1.3 in /usr/local/lib/python3.11/dist-packages (from Flask>=0.8->flask-ngrok) (8.1.8)\n",
            "Requirement already satisfied: blinker>=1.9 in /usr/local/lib/python3.11/dist-packages (from Flask>=0.8->flask-ngrok) (1.9.0)\n",
            "Requirement already satisfied: charset-normalizer<4,>=2 in /usr/local/lib/python3.11/dist-packages (from requests->flask-ngrok) (3.4.1)\n",
            "Requirement already satisfied: idna<4,>=2.5 in /usr/local/lib/python3.11/dist-packages (from requests->flask-ngrok) (3.10)\n",
            "Requirement already satisfied: urllib3<3,>=1.21.1 in /usr/local/lib/python3.11/dist-packages (from requests->flask-ngrok) (2.3.0)\n",
            "Requirement already satisfied: certifi>=2017.4.17 in /usr/local/lib/python3.11/dist-packages (from requests->flask-ngrok) (2025.1.31)\n",
            "Requirement already satisfied: MarkupSafe>=2.0 in /usr/local/lib/python3.11/dist-packages (from Jinja2>=3.1.2->Flask>=0.8->flask-ngrok) (3.0.2)\n"
          ]
        }
      ],
      "source": [
        "!pip install flask-ngrok"
      ]
    },
    {
      "cell_type": "code",
      "execution_count": null,
      "metadata": {
        "colab": {
          "base_uri": "https://localhost:8080/"
        },
        "id": "NHTQmUjrBuN6",
        "outputId": "1d4df7f6-b6fb-4afc-e2b2-a5702ef980ac"
      },
      "outputs": [
        {
          "output_type": "stream",
          "name": "stdout",
          "text": [
            "Requirement already satisfied: pyngrok in /usr/local/lib/python3.11/dist-packages (7.2.3)\n",
            "Requirement already satisfied: PyYAML>=5.1 in /usr/local/lib/python3.11/dist-packages (from pyngrok) (6.0.2)\n",
            "Public URL: NgrokTunnel: \"https://af42-34-125-102-229.ngrok-free.app\" -> \"http://localhost:8080\"\n",
            " * Serving Flask app '__main__'\n",
            " * Debug mode: off\n"
          ]
        },
        {
          "output_type": "stream",
          "name": "stderr",
          "text": [
            "INFO:werkzeug:\u001b[31m\u001b[1mWARNING: This is a development server. Do not use it in a production deployment. Use a production WSGI server instead.\u001b[0m\n",
            " * Running on http://127.0.0.1:5000\n",
            "INFO:werkzeug:\u001b[33mPress CTRL+C to quit\u001b[0m\n"
          ]
        }
      ],
      "source": [
        "!pip install pyngrok\n",
        "from pyngrok import ngrok\n",
        "\n",
        "# Get your authtoken from https://dashboard.ngrok.com/get-started/your-authtoken\n",
        "ngrok.set_auth_token(\"2v9nlPnspNR4vi2fOY8kaTZBSK0_6c6RNqzfLQBJWUtcoqMEF\")\n",
        "\n",
        "# Start ngrok\n",
        "public_url = ngrok.connect(8080)\n",
        "print(f\"Public URL: {public_url}\")\n",
        "\n",
        "# Run your Flask app\n",
        "app.run()\n",
        "\n",
        "# default: curl -X POST http://<your-ngrok-url>.ngrok.io/generate -H \"Content-Type: application/json\" -d '{\"query\": \"What is linear regression?\"}'\n",
        "# curl -X POST http://127.0.0.1:5000.ngrok.io/generate -H \"Content-Type: application/json\" -d '{\"query\": \"What is linear regression?\"}'"
      ]
    },
    {
      "cell_type": "code",
      "execution_count": null,
      "metadata": {
        "id": "GoLrMHTQB2Rd"
      },
      "outputs": [],
      "source": []
    },
    {
      "cell_type": "markdown",
      "metadata": {
        "id": "-HRse9OfBcUL"
      },
      "source": []
    },
    {
      "cell_type": "markdown",
      "source": [
        "# Phiên bản ngắn gọn hơn\n"
      ],
      "metadata": {
        "id": "baD9JQ_inlnP"
      }
    },
    {
      "cell_type": "code",
      "source": [
        "from huggingface_hub import notebook_login\n",
        "\n",
        "# Log in to Hugging Face (replace 'YOUR_TOKEN' with your actual token)\n",
        "notebook_login()"
      ],
      "metadata": {
        "id": "rPwlpm6mnxe0",
        "colab": {
          "base_uri": "https://localhost:8080/",
          "height": 17,
          "referenced_widgets": [
            "ed47cb4224a447cca6743325a9044360",
            "5ab487c0d2c7436d9f5822c30578b74e",
            "6ec00d45a41848619a4fa349aa1353ff",
            "345f98b180b34f07ac985a91f63e7e82",
            "34da8f244744414e893268495b05d9c5",
            "df73362def7a4b37931ed586daedb293",
            "582ee81ce77f4bb0b4ca9f3868a38f22",
            "21b444850926476587d46183b33d2164",
            "88325d6e758c426c874ff45bd00c8fe4",
            "7cfd0ff3fa014f289c1786def59f5b43",
            "874a15ee805a46668a0fb11cdec760ad",
            "c31cc3650f744566b149d50d3d5aa5b9",
            "0c4329babaa44238878a4139d2bd6321",
            "81124bde98664ff5acd657f32869476d",
            "2be2dec5ff1643feb853f01e7a8b2e75",
            "b00fe0989b3847a5ada3fbeb983fefa2",
            "05f206f4606a4c90896f813387a3aae0",
            "16e3993124ef47a8a5ab54b82d953c8a",
            "867c4a2455c549168dd7882bc7354a6b",
            "347da5fc6bf3416aaa86390e157986f1"
          ]
        },
        "outputId": "6164ac4f-1460-4f36-8b4d-3243c68cf72a"
      },
      "execution_count": null,
      "outputs": [
        {
          "output_type": "display_data",
          "data": {
            "text/plain": [
              "VBox(children=(HTML(value='<center> <img\\nsrc=https://huggingface.co/front/assets/huggingface_logo-noborder.sv…"
            ],
            "application/vnd.jupyter.widget-view+json": {
              "version_major": 2,
              "version_minor": 0,
              "model_id": "ed47cb4224a447cca6743325a9044360"
            }
          },
          "metadata": {}
        }
      ]
    },
    {
      "cell_type": "code",
      "source": [
        "# Cài đặt các thư viện\n",
        "!pip install PyMuPDF sentence-transformers torch transformers accelerate numpy\n",
        "\n",
        "# Kết nối Google Drive\n",
        "from google.colab import drive\n",
        "drive.mount('/content/drive')\n",
        "\n",
        "# Đọc file PDF\n",
        "import fitz\n",
        "pdf_path = '/content/drive/MyDrive/AI_DATA/Thông Tin Tuyển Sinh.pdf'  # Thay bằng đường dẫn của bạn\n",
        "doc = fitz.open(pdf_path)\n",
        "text = \"\"\n",
        "for page in doc:\n",
        "    text += page.get_text()\n",
        "doc.close()\n",
        "\n",
        "# Phân đoạn văn bản\n",
        "def chunk_text(text, chunk_size=500):\n",
        "    return [text[i:i + chunk_size] for i in range(0, len(text), chunk_size)]\n",
        "\n",
        "chunks = chunk_text(text)\n",
        "\n",
        "# Nhúng văn bản\n",
        "from sentence_transformers import SentenceTransformer\n",
        "import numpy as np\n",
        "embedding_model = SentenceTransformer('all-MiniLM-L6-v2')\n",
        "embeddings = embedding_model.encode(chunks, convert_to_tensor=True).cpu().numpy()\n",
        "\n",
        "# Truy xuất vector\n",
        "from numpy.linalg import norm\n",
        "def cosine_similarity(vec1, vec2):\n",
        "    return np.dot(vec1, vec2) / (norm(vec1) * norm(vec2))\n",
        "\n",
        "def retrieve_relevant_chunks(query, embeddings, chunks, top_k=3):\n",
        "    query_embedding = embedding_model.encode(query, convert_to_tensor=True).cpu().numpy()\n",
        "    similarities = [cosine_similarity(query_embedding, emb) for emb in embeddings]\n",
        "    top_indices = np.argsort(similarities)[-top_k:][::-1]\n",
        "    return [chunks[i] for i in top_indices], [similarities[i] for i in top_indices]\n",
        "\n",
        "# Tải LLM\n",
        "from transformers import AutoTokenizer, AutoModelForCausalLM\n",
        "import torch\n",
        "model_name = \"ura-hcmut/GemSUra-2B\"\n",
        "tokenizer = AutoTokenizer.from_pretrained(model_name)\n",
        "model = AutoModelForCausalLM.from_pretrained(model_name, device_map=\"auto\", torch_dtype=torch.float16)\n",
        "device = torch.device(\"cuda\" if torch.cuda.is_available() else \"cpu\")\n",
        "model.to(device)\n",
        "\n",
        "# Sinh câu trả lời\n",
        "def generate_response(query, chunks, similarities):\n",
        "    context = \"\\n\".join([f\"Đoạn {i+1} (độ tương đồng: {sim:.2f}): {chunk}\" for i, (chunk, sim) in enumerate(zip(chunks, similarities))])\n",
        "    prompt = f\"\"\"Bạn là trợ lý tuyển sinh đại học. Dựa trên thông tin sau từ tài liệu tuyển sinh, hãy trả lời câu hỏi: \"{query}\"\n",
        "\n",
        "Thông tin:\n",
        "{context}\n",
        "\n",
        "Câu trả lời: \"\"\"\n",
        "    inputs = tokenizer(prompt, return_tensors=\"pt\").to(device)\n",
        "    outputs = model.generate(**inputs, max_new_tokens=150, temperature=0.7, do_sample=True)\n",
        "    return tokenizer.decode(outputs[0], skip_special_tokens=True).split(\"Câu trả lời:\")[-1].strip()\n",
        "\n",
        "# Thử nghiệm\n",
        "query = \"Học phí của trường bao nhiêu một năm?\"\n",
        "relevant_chunks, similarities = retrieve_relevant_chunks(query, embeddings, chunks)\n",
        "response = generate_response(query, relevant_chunks, similarities)\n",
        "print(f\"Truy vấn: {query}\")\n",
        "print(f\"Câu trả lời: {response}\")"
      ],
      "metadata": {
        "id": "yYAQgiK2ntuM",
        "colab": {
          "base_uri": "https://localhost:8080/",
          "height": 1000,
          "referenced_widgets": [
            "f1431a8f197f42198157a76c950a60a3",
            "b54300e9c78a439a8426096da6718cc4",
            "0d1766080ea64c9d8c5e438b1d3c30cd",
            "6da2ffaad1ca4fbe9ed82c02e7fd3678",
            "308f725cb1fb4016aa9369b0e6c0f581",
            "b24bfbf2d4304aa9ad611d49689562de",
            "38de332dfc074c288bdc2b16d5ba6ca5",
            "4a8d9f39a7114240b882d39d61f2c928",
            "66b540d79cac4893b0d8cf78bed7a0ac",
            "306f6f25784e4417a267b539c1de0da4",
            "f9fb733f6dea4702844ea58cf918cca6",
            "4d28dd1aa5164fd882d325c79f88300f",
            "136c8c99fc314e6a8b83b50d6f79b0d8",
            "4b218f8e31924675bc4bfe2ce316cb75",
            "1ee9389c2f3b4338b5452afd54cc436a",
            "d38cdea209ce4c8e8325626038f58508",
            "81a1542257a84ed288e6408aa1f63805",
            "06815d9275e048cf9ee0143172d6490d",
            "e40f41c033f1463cad904991c726e1b0",
            "e6f1e56543a24bc48c5a2ae7d390b517",
            "88bfceda5dd74edeb40554b1f052590e",
            "f2950877ac5e4e54a7f2fa65dd0160c6",
            "c92ef4e465934c868e462c175cd698c4",
            "b834f8ab68474d9e9a016047279033a5",
            "f8d2b5f6dc954f80b22a5bdfcd24fe14",
            "2757020bf80b4dc99701618f68c749dd",
            "054fea0a99484fb9b4621d8500ed6b24",
            "462f75841a7e43b9b0d5795f2472efb1",
            "725a3b9880854ef399ed5addd7ae275b",
            "03c97490ef534dd4adedd0cb2f6c924f",
            "9d35ab6c07254bf897b7ba40d9a9335b",
            "571b1cd53c3a46168be51ac1634b37b8",
            "415eb8e2ff6b417a8ef11bd8b5fecd0c",
            "61abe83d8d124d958a71454728d79ee7",
            "ca0700d4b4b445ba825eb88a150c934c",
            "d2dabae402a5419790524d02cb608acc",
            "965fe1290cd841f5996427267402db20",
            "861fc572b8da4b04be4b901ad6e4ba9f",
            "13e58535a7614a5eb4e639854793ccf2",
            "17671385a80347989097d6df8ecf3238",
            "b577a307cb2f4aea858b9fd7910d37d8",
            "751cc1bba9f6435097248be1ae51c6f7",
            "338fb0b9203c448d9ae17d01ab7ab56b",
            "e1134bf9013a4fdbb514ae319111cfb6",
            "6658df7afa0643eca1553f5c4eb2b37a",
            "cf0858ec83484290a181b892ade901f3",
            "0b0f1580c1b24029a8cbf904cff57a90",
            "08c126cc1a584994afee6e1ccf74373e",
            "6b61d50da32444d89eadc2006e47bec4",
            "95d1c314dbe8423ba2074b6cd00a7dc5",
            "ebe1304a0eee473981b596c65185ff1d",
            "b52cf7423e2e48f5afe9af6659019395",
            "8b227f9c752e4454bdefbcc63c8980e1",
            "17a39804a1554554b8c95b2beb5db72d",
            "41af776818ad4bd48e2ea57daeb713c4",
            "ed88c0d100e04929bc061bd908951c3d",
            "8763275dc51e4e75bdbf9274fbbe68ce",
            "ad9f012de8f14c4c80bd7492e4ca8b59",
            "ed4522240fc94c53bd8e1d937ec3ef8e",
            "8450c5ac5990470281060efa19b2c272",
            "c15041bbc5674f52af3e69772befe4f7",
            "cd33081f72ae436baa2435acfa4634e4",
            "f7a7b446d0b24b62b42b0a68f898acff",
            "f89cdc817db0480ebe92ba2a532ac4c1",
            "33f2c6e10a444578bbc7d415030c8edd",
            "acc34de830d848cb8bf2984376044862",
            "092341c909c445cba2510a5ffcd73bd7",
            "112cfaf5b3e3453a935e73b1e5144d7b",
            "7fb931930f8644c49774d97b559a26b5",
            "4966dc85abbe4e96afe3c746a70e17c7",
            "3b9f72a178d84aea991a3b2d5db1fe6d",
            "b7f5d89606b1438ebe9773d53de66968",
            "49ec394c52284029ad6932c4538d306d",
            "d3a7a63dc86440d48b750551c5cc7320",
            "e153fa54f15c43f3b9a5030db6093a18",
            "38c97685e133470dafb8fa81d0ef66b7",
            "4fa3ffcc83c745dfb56bad4923c2ebcc",
            "dd49072a3e6343b2bb313cac508faca9",
            "70f5717b518e47e79bbe0556ab064126",
            "80f0c8a271554ca5b936172df686a5bc",
            "4bdb15c6fa2641729321deb6c2b157af",
            "1acac53a3f974b2fb23a90ac30c6e290",
            "c4edc34864e2460abc007395b3d9fa0a",
            "bd08c6a115e64a188f0acf9701798464",
            "7c7fae40cbb443abae7ec61e68597368",
            "8e8047e8c5e5498ebcc67dd2ca94f9a7",
            "68055c1e863249dcb4375b06169b098e",
            "cae53d1aa4c84fcdb92ad9faaa545466",
            "db73d1d167424a8f84047a06beeca6c5",
            "92eaf35e9fe847668578fb0151383853",
            "656c198994e34838beef42748e25089e",
            "8f524df898484189ad463c19b00740c3",
            "0888fa63cf4247799840136e01b96d12",
            "b5075e2797434e6996d6cbd2ffeec6be",
            "954e2e925b8146cc963c4d9c8dec375c",
            "bfe2ce5ec9db460381c0edcf617f45a1",
            "80b8ec082ed9464188fd4b0a4a42d807",
            "2565566d97064562980804d9c460e994",
            "5f712d4046c1418eb9952db6397fdf08",
            "e012b10f2e3e4e51b6f00a1b9ef0311e",
            "9f8653b37da940298a4d3edd92649724",
            "6bac9c9966514d1681e42385c2a870d2",
            "cde1be0b15014a20ba7ce391a90af101",
            "334f619cf13d499ba825aa855f93ff6f",
            "08e0dce8bef9467ab6f4edc7fc0a0f72",
            "31f582fd560a41d597b2db71adcaea2d",
            "aa6d3148a9d14e01a93a4b3ed082f18f",
            "a9c3d4a74a224b4d937cc195a82b618a",
            "1bec13ed624945d9880970526c5b579e",
            "15ff8525cdc54a6a8dacec765a0a03b4",
            "bf489abf515f49b0ac0df9dd2a0b830e",
            "5d54acc98bdc45d08889026b4bad598b",
            "428431b9fa8b480d84ae3e9f68bff282",
            "c5933b60ef2a46ccab3026e4c840e5e3",
            "3e88dbbf7a9240e19ce73d9dfed8c511",
            "fea557edad5141ea89c3f5798b88b2d7",
            "1859df84a71c4b86916e4c9910937eea",
            "b141b01a583345ca87cc82600c804e3e",
            "aab2a74603d840d7ae64b31c576b2ba5",
            "c82638d1323749f9b182a5a0a5eb6f3b",
            "95eed7d0e8bb4de4acc195590836159b",
            "ad0290fa91ff4b0cacc85364fc945723",
            "90bfe86a5c2f4d4ba5ddd18ba8ccbf96",
            "12bc4719e2af474aab8961dc6395ac63",
            "60c7ddae460840a7b1060f29bcd38877",
            "90fd74e46dd74e738a7ef5b4af6b38a6",
            "875d5bbe4616474787f87674530a02b9",
            "284453a9bed04d71bb98adfa789fa0a5",
            "6460acddf9d54404864a4ebcfaedc027",
            "9e8525d10530462c85a54b449db38712",
            "e92435439990490f908daf98ab802799",
            "605c01e3ce2d4139a7e24fd0daf20683",
            "2f68809d84124c058918b535da3b858c",
            "21baf7927cf14e5688e60c6da47bf5ec",
            "0fc8a718c10143cdbfb893ed3ed381e0",
            "9698bec5aee645f5ab35664e3c6ad67c",
            "420111ee6c38470aa79c589a61be45c2",
            "fa47c1373bb843cea444d428dab5d261",
            "e52324b4c54749f7a8bbfcf375765609",
            "3e378526e5d94f09a6ae7582b20cdd5a",
            "1a78827920aa4faa84c144e6e7a63402",
            "47752bfc5fc1422cb20541fbafa6926b",
            "634b07d6334841dba46ee6b67598191d",
            "de874ff6b62e44d89e5bfb6c50fbce31",
            "6fc6305f1c434e96aadc6f0d5c761fbe",
            "52172277f28948bf95f5a5f8fc7e3c49",
            "c68a7aa2ceca46b6acfa108a67ca7011",
            "d2f9ff100d3d438e97e529ae00066519",
            "c244386d9fc44547b2035d630ff04668",
            "467116121f7242c8815f74e09ea46ac8",
            "ddc98fda2982415bb35aff1716051357",
            "67d8ff41f81648ce98107f232f50f1ec",
            "c15b549850d247ba821779a6bf40d911",
            "e0d220a5387c4cd2adfc7e83fcd1033c",
            "5579dff1fc0a48d68498d45776b3c2f0",
            "52a208dd856347c6b94de9f35332e470",
            "9718c08f2d73493b913dc7e346d9db5a",
            "52b53a4e310b488e8fec00ca98b6cd03",
            "00954e2d392c4355a3e970e4e231118a",
            "fb34345e3b364d298cb89ba8d659caa1",
            "b37574369f364a0b89b9d62aa9167efa",
            "6b2705ebd98142a49a677c8e82f16a18",
            "f6698ae8b64d4809935d54e46afc7dfd",
            "dc0d990129924d319481f531b920af47",
            "c9a737445f5944529ce1efe9d7bb4e8f",
            "d18838b6e35f4a53841dde87ca739f18",
            "6a44c09c49be40d7bc6fa3cad6a61b77",
            "3d46a4f956b24c1c9318ad752fe741b2",
            "e3854c01aa7944638acfa8fcc8cf9aeb",
            "c3223980f5ab4c08ae35a7fd2188f62f",
            "23d97ac3fa644c60bd927102932f5910",
            "e65f5ce636cc48188f37391250b75ff8",
            "ee5df222a5ca44cd84bd60cad1cc751a",
            "d0073ec510b84265abbed436b1ca8ed1",
            "0ad96aab543e4a85b6213dca68b718fd",
            "33ba931fcf7b4e078ddec64d02fe7cf7",
            "606f59f585614a69983900e10ca55b90",
            "68e59aba91b440339126580f5a67d6ba",
            "a20aabee8ddb4481965a5e581e45cb53",
            "4644332d1d6e43d2863a1ee8e7776b35",
            "085d35020170469b9cc257d1d48f358a",
            "5bc28eeef9d944b2964cb6348b133c38",
            "377bd802d738409fbbe40cd96f3f9e98",
            "981f2ea549004a0e9c6f53e80ba4eb94",
            "54aeff0760d6417b94d38e2f19a33ebd",
            "6922002ae05c4369b7ba650b4bc513cf",
            "2a5192e495804cca889e61cd7955a2ad",
            "c99fa1541635442a8176c8824ad0a7e6",
            "1398d6f3fd3547d19ce553cfa4497771",
            "66a3af17e4f04a889a4038eda13c5dad",
            "7eb01c3b89f640fcb9690920ac38097f",
            "1afba1702c004a9bba159990cde2f0ef",
            "292712a1127c43deab2513a0a486115f",
            "12ea1c5382ff47dab58a5d3828ba29c1",
            "bf22003558ee45a28e1edc4a8a0b8908",
            "e7f458bc5b5e436d9d8e4f6aa173cad9",
            "3231b6c3852049f2b86ee77e51003688",
            "33f2637261194b458885344133097ede",
            "d47adcba1f8c477e9098bfa0dbe2580c",
            "2d3f045c26394973af6427425faf8de0",
            "82b4f23ffffe45e695b4aa8b93bb8427",
            "46968bc9637f4afb95dd2f7ba3c96484",
            "d56499d9b91c4eaa9cea1a1759f3c4de",
            "7e5897771e6240499fd534093d25422e",
            "3b3c8cdfe31c4da6b5bc66f90037c824",
            "07f9990df46749ec918c2075603ca771",
            "fa1508d0b8354a13a0b901346ed4ad7e",
            "4f8dbb9c87f1479da07e48c02e2e47c1",
            "9ed9c12979b148ecb66d4ea0550abb87",
            "5de79fbac2ad497989035b097c4d14ec",
            "4474137f3e7443f991b8952ee0633e21",
            "e3b1214b105a449b81db620442fc9ea7",
            "6a52fc15b07449a295d6218d2193ea03",
            "888999691aca4e1f941f01c273dddea0",
            "dd8b6a55ae2b48ebab5ec34d791987a1",
            "ea01bf2ef8824527a9bad88473c5382e",
            "c8bc884783cb4ec7b76b843f93315c93",
            "764acdd495e44d518bb44758e573ea5b",
            "133ae559d3bd4cae9fa9ed3b30753227",
            "dfde5c068a334a80bc468d498229dfcd",
            "4c13353beb1a4cae8dcab9317f1455c3",
            "ffe0b33816de4003a808b1ce47802d2d",
            "227c6433fe9745c1866fad3993452541",
            "2ea90fc04e4d454280db49b5fe2af67e",
            "07285fcca6f84e05915218e703f58cd5",
            "9a247125ef35455f9b4e26d129a0dfba",
            "1e90b7d2013a4cdcac475ed75c1c3be8",
            "fa0325a4b55445b39e475cda3d961eb1",
            "ee72894922374a6cb2dd3f2238d7d9df",
            "f2805f0b168441e8b1688c98d059934e",
            "6f4eaf824f344d67893cc87c2ba69b2a",
            "271cae601f6f4dd4884b2195a5edc9b7",
            "ce1d1b65e220426ea2aa01386c5a24be",
            "a80cad5928ab46d3a6ee669600777436",
            "b47dffe2ed17496daaf5725cc9488e39",
            "5e6653dab763439a9cb54c7e9a5a765c",
            "1736f57d3abc4fb19fcf19050ecb9f2a",
            "d1a6048351934bf286677d0dbc4b3ee6",
            "9cfce81467bb421d9edf1022fa5e144c",
            "ec54792191fc407ea90009f46e287b64",
            "858436d36d5a4148a3c5445c379212e7",
            "3f1ce0f4ae9b4ac99fead6b7dfb455e6"
          ]
        },
        "outputId": "2cc6e44b-ddfd-4eb9-8410-1d01610d5bc5"
      },
      "execution_count": null,
      "outputs": [
        {
          "output_type": "stream",
          "name": "stdout",
          "text": [
            "Collecting PyMuPDF\n",
            "  Using cached pymupdf-1.25.5-cp39-abi3-manylinux2014_x86_64.manylinux_2_17_x86_64.whl.metadata (3.4 kB)\n",
            "Requirement already satisfied: sentence-transformers in /usr/local/lib/python3.11/dist-packages (3.4.1)\n",
            "Requirement already satisfied: torch in /usr/local/lib/python3.11/dist-packages (2.6.0+cu124)\n",
            "Requirement already satisfied: transformers in /usr/local/lib/python3.11/dist-packages (4.50.3)\n",
            "Requirement already satisfied: accelerate in /usr/local/lib/python3.11/dist-packages (1.5.2)\n",
            "Requirement already satisfied: numpy in /usr/local/lib/python3.11/dist-packages (2.0.2)\n",
            "Requirement already satisfied: tqdm in /usr/local/lib/python3.11/dist-packages (from sentence-transformers) (4.67.1)\n",
            "Requirement already satisfied: scikit-learn in /usr/local/lib/python3.11/dist-packages (from sentence-transformers) (1.6.1)\n",
            "Requirement already satisfied: scipy in /usr/local/lib/python3.11/dist-packages (from sentence-transformers) (1.14.1)\n",
            "Requirement already satisfied: huggingface-hub>=0.20.0 in /usr/local/lib/python3.11/dist-packages (from sentence-transformers) (0.30.1)\n",
            "Requirement already satisfied: Pillow in /usr/local/lib/python3.11/dist-packages (from sentence-transformers) (11.1.0)\n",
            "Requirement already satisfied: filelock in /usr/local/lib/python3.11/dist-packages (from torch) (3.18.0)\n",
            "Requirement already satisfied: typing-extensions>=4.10.0 in /usr/local/lib/python3.11/dist-packages (from torch) (4.13.1)\n",
            "Requirement already satisfied: networkx in /usr/local/lib/python3.11/dist-packages (from torch) (3.4.2)\n",
            "Requirement already satisfied: jinja2 in /usr/local/lib/python3.11/dist-packages (from torch) (3.1.6)\n",
            "Requirement already satisfied: fsspec in /usr/local/lib/python3.11/dist-packages (from torch) (2025.3.2)\n",
            "Collecting nvidia-cuda-nvrtc-cu12==12.4.127 (from torch)\n",
            "  Using cached nvidia_cuda_nvrtc_cu12-12.4.127-py3-none-manylinux2014_x86_64.whl.metadata (1.5 kB)\n",
            "Collecting nvidia-cuda-runtime-cu12==12.4.127 (from torch)\n",
            "  Using cached nvidia_cuda_runtime_cu12-12.4.127-py3-none-manylinux2014_x86_64.whl.metadata (1.5 kB)\n",
            "Collecting nvidia-cuda-cupti-cu12==12.4.127 (from torch)\n",
            "  Using cached nvidia_cuda_cupti_cu12-12.4.127-py3-none-manylinux2014_x86_64.whl.metadata (1.6 kB)\n",
            "Collecting nvidia-cudnn-cu12==9.1.0.70 (from torch)\n",
            "  Using cached nvidia_cudnn_cu12-9.1.0.70-py3-none-manylinux2014_x86_64.whl.metadata (1.6 kB)\n",
            "Collecting nvidia-cublas-cu12==12.4.5.8 (from torch)\n",
            "  Using cached nvidia_cublas_cu12-12.4.5.8-py3-none-manylinux2014_x86_64.whl.metadata (1.5 kB)\n",
            "Collecting nvidia-cufft-cu12==11.2.1.3 (from torch)\n",
            "  Using cached nvidia_cufft_cu12-11.2.1.3-py3-none-manylinux2014_x86_64.whl.metadata (1.5 kB)\n",
            "Collecting nvidia-curand-cu12==10.3.5.147 (from torch)\n",
            "  Using cached nvidia_curand_cu12-10.3.5.147-py3-none-manylinux2014_x86_64.whl.metadata (1.5 kB)\n",
            "Collecting nvidia-cusolver-cu12==11.6.1.9 (from torch)\n",
            "  Using cached nvidia_cusolver_cu12-11.6.1.9-py3-none-manylinux2014_x86_64.whl.metadata (1.6 kB)\n",
            "Collecting nvidia-cusparse-cu12==12.3.1.170 (from torch)\n",
            "  Using cached nvidia_cusparse_cu12-12.3.1.170-py3-none-manylinux2014_x86_64.whl.metadata (1.6 kB)\n",
            "Requirement already satisfied: nvidia-cusparselt-cu12==0.6.2 in /usr/local/lib/python3.11/dist-packages (from torch) (0.6.2)\n",
            "Requirement already satisfied: nvidia-nccl-cu12==2.21.5 in /usr/local/lib/python3.11/dist-packages (from torch) (2.21.5)\n",
            "Requirement already satisfied: nvidia-nvtx-cu12==12.4.127 in /usr/local/lib/python3.11/dist-packages (from torch) (12.4.127)\n",
            "Collecting nvidia-nvjitlink-cu12==12.4.127 (from torch)\n",
            "  Using cached nvidia_nvjitlink_cu12-12.4.127-py3-none-manylinux2014_x86_64.whl.metadata (1.5 kB)\n",
            "Requirement already satisfied: triton==3.2.0 in /usr/local/lib/python3.11/dist-packages (from torch) (3.2.0)\n",
            "Requirement already satisfied: sympy==1.13.1 in /usr/local/lib/python3.11/dist-packages (from torch) (1.13.1)\n",
            "Requirement already satisfied: mpmath<1.4,>=1.1.0 in /usr/local/lib/python3.11/dist-packages (from sympy==1.13.1->torch) (1.3.0)\n",
            "Requirement already satisfied: packaging>=20.0 in /usr/local/lib/python3.11/dist-packages (from transformers) (24.2)\n",
            "Requirement already satisfied: pyyaml>=5.1 in /usr/local/lib/python3.11/dist-packages (from transformers) (6.0.2)\n",
            "Requirement already satisfied: regex!=2019.12.17 in /usr/local/lib/python3.11/dist-packages (from transformers) (2024.11.6)\n",
            "Requirement already satisfied: requests in /usr/local/lib/python3.11/dist-packages (from transformers) (2.32.3)\n",
            "Requirement already satisfied: tokenizers<0.22,>=0.21 in /usr/local/lib/python3.11/dist-packages (from transformers) (0.21.1)\n",
            "Requirement already satisfied: safetensors>=0.4.3 in /usr/local/lib/python3.11/dist-packages (from transformers) (0.5.3)\n",
            "Requirement already satisfied: psutil in /usr/local/lib/python3.11/dist-packages (from accelerate) (5.9.5)\n",
            "Requirement already satisfied: MarkupSafe>=2.0 in /usr/local/lib/python3.11/dist-packages (from jinja2->torch) (3.0.2)\n",
            "Requirement already satisfied: charset-normalizer<4,>=2 in /usr/local/lib/python3.11/dist-packages (from requests->transformers) (3.4.1)\n",
            "Requirement already satisfied: idna<4,>=2.5 in /usr/local/lib/python3.11/dist-packages (from requests->transformers) (3.10)\n",
            "Requirement already satisfied: urllib3<3,>=1.21.1 in /usr/local/lib/python3.11/dist-packages (from requests->transformers) (2.3.0)\n",
            "Requirement already satisfied: certifi>=2017.4.17 in /usr/local/lib/python3.11/dist-packages (from requests->transformers) (2025.1.31)\n",
            "Requirement already satisfied: joblib>=1.2.0 in /usr/local/lib/python3.11/dist-packages (from scikit-learn->sentence-transformers) (1.4.2)\n",
            "Requirement already satisfied: threadpoolctl>=3.1.0 in /usr/local/lib/python3.11/dist-packages (from scikit-learn->sentence-transformers) (3.6.0)\n",
            "Downloading pymupdf-1.25.5-cp39-abi3-manylinux2014_x86_64.manylinux_2_17_x86_64.whl (20.0 MB)\n",
            "\u001b[2K   \u001b[90m━━━━━━━━━━━━━━━━━━━━━━━━━━━━━━━━━━━━━━━━\u001b[0m \u001b[32m20.0/20.0 MB\u001b[0m \u001b[31m74.6 MB/s\u001b[0m eta \u001b[36m0:00:00\u001b[0m\n",
            "\u001b[?25hDownloading nvidia_cublas_cu12-12.4.5.8-py3-none-manylinux2014_x86_64.whl (363.4 MB)\n",
            "\u001b[2K   \u001b[90m━━━━━━━━━━━━━━━━━━━━━━━━━━━━━━━━━━━━━━━━\u001b[0m \u001b[32m363.4/363.4 MB\u001b[0m \u001b[31m4.5 MB/s\u001b[0m eta \u001b[36m0:00:00\u001b[0m\n",
            "\u001b[?25hDownloading nvidia_cuda_cupti_cu12-12.4.127-py3-none-manylinux2014_x86_64.whl (13.8 MB)\n",
            "\u001b[2K   \u001b[90m━━━━━━━━━━━━━━━━━━━━━━━━━━━━━━━━━━━━━━━━\u001b[0m \u001b[32m13.8/13.8 MB\u001b[0m \u001b[31m64.7 MB/s\u001b[0m eta \u001b[36m0:00:00\u001b[0m\n",
            "\u001b[?25hDownloading nvidia_cuda_nvrtc_cu12-12.4.127-py3-none-manylinux2014_x86_64.whl (24.6 MB)\n",
            "\u001b[2K   \u001b[90m━━━━━━━━━━━━━━━━━━━━━━━━━━━━━━━━━━━━━━━━\u001b[0m \u001b[32m24.6/24.6 MB\u001b[0m \u001b[31m34.0 MB/s\u001b[0m eta \u001b[36m0:00:00\u001b[0m\n",
            "\u001b[?25hDownloading nvidia_cuda_runtime_cu12-12.4.127-py3-none-manylinux2014_x86_64.whl (883 kB)\n",
            "\u001b[2K   \u001b[90m━━━━━━━━━━━━━━━━━━━━━━━━━━━━━━━━━━━━━━━━\u001b[0m \u001b[32m883.7/883.7 kB\u001b[0m \u001b[31m40.5 MB/s\u001b[0m eta \u001b[36m0:00:00\u001b[0m\n",
            "\u001b[?25hDownloading nvidia_cudnn_cu12-9.1.0.70-py3-none-manylinux2014_x86_64.whl (664.8 MB)\n",
            "\u001b[2K   \u001b[90m━━━━━━━━━━━━━━━━━━━━━━━━━━━━━━━━━━━━━━━━\u001b[0m \u001b[32m664.8/664.8 MB\u001b[0m \u001b[31m2.3 MB/s\u001b[0m eta \u001b[36m0:00:00\u001b[0m\n",
            "\u001b[?25hDownloading nvidia_cufft_cu12-11.2.1.3-py3-none-manylinux2014_x86_64.whl (211.5 MB)\n",
            "\u001b[2K   \u001b[90m━━━━━━━━━━━━━━━━━━━━━━━━━━━━━━━━━━━━━━━━\u001b[0m \u001b[32m211.5/211.5 MB\u001b[0m \u001b[31m5.6 MB/s\u001b[0m eta \u001b[36m0:00:00\u001b[0m\n",
            "\u001b[?25hDownloading nvidia_curand_cu12-10.3.5.147-py3-none-manylinux2014_x86_64.whl (56.3 MB)\n",
            "\u001b[2K   \u001b[90m━━━━━━━━━━━━━━━━━━━━━━━━━━━━━━━━━━━━━━━━\u001b[0m \u001b[32m56.3/56.3 MB\u001b[0m \u001b[31m12.0 MB/s\u001b[0m eta \u001b[36m0:00:00\u001b[0m\n",
            "\u001b[?25hDownloading nvidia_cusolver_cu12-11.6.1.9-py3-none-manylinux2014_x86_64.whl (127.9 MB)\n",
            "\u001b[2K   \u001b[90m━━━━━━━━━━━━━━━━━━━━━━━━━━━━━━━━━━━━━━━━\u001b[0m \u001b[32m127.9/127.9 MB\u001b[0m \u001b[31m7.3 MB/s\u001b[0m eta \u001b[36m0:00:00\u001b[0m\n",
            "\u001b[?25hDownloading nvidia_cusparse_cu12-12.3.1.170-py3-none-manylinux2014_x86_64.whl (207.5 MB)\n",
            "\u001b[2K   \u001b[90m━━━━━━━━━━━━━━━━━━━━━━━━━━━━━━━━━━━━━━━━\u001b[0m \u001b[32m207.5/207.5 MB\u001b[0m \u001b[31m5.6 MB/s\u001b[0m eta \u001b[36m0:00:00\u001b[0m\n",
            "\u001b[?25hDownloading nvidia_nvjitlink_cu12-12.4.127-py3-none-manylinux2014_x86_64.whl (21.1 MB)\n",
            "\u001b[2K   \u001b[90m━━━━━━━━━━━━━━━━━━━━━━━━━━━━━━━━━━━━━━━━\u001b[0m \u001b[32m21.1/21.1 MB\u001b[0m \u001b[31m90.0 MB/s\u001b[0m eta \u001b[36m0:00:00\u001b[0m\n",
            "\u001b[?25hInstalling collected packages: PyMuPDF, nvidia-nvjitlink-cu12, nvidia-curand-cu12, nvidia-cufft-cu12, nvidia-cuda-runtime-cu12, nvidia-cuda-nvrtc-cu12, nvidia-cuda-cupti-cu12, nvidia-cublas-cu12, nvidia-cusparse-cu12, nvidia-cudnn-cu12, nvidia-cusolver-cu12\n",
            "  Attempting uninstall: nvidia-nvjitlink-cu12\n",
            "    Found existing installation: nvidia-nvjitlink-cu12 12.5.82\n",
            "    Uninstalling nvidia-nvjitlink-cu12-12.5.82:\n",
            "      Successfully uninstalled nvidia-nvjitlink-cu12-12.5.82\n",
            "  Attempting uninstall: nvidia-curand-cu12\n",
            "    Found existing installation: nvidia-curand-cu12 10.3.6.82\n",
            "    Uninstalling nvidia-curand-cu12-10.3.6.82:\n",
            "      Successfully uninstalled nvidia-curand-cu12-10.3.6.82\n",
            "  Attempting uninstall: nvidia-cufft-cu12\n",
            "    Found existing installation: nvidia-cufft-cu12 11.2.3.61\n",
            "    Uninstalling nvidia-cufft-cu12-11.2.3.61:\n",
            "      Successfully uninstalled nvidia-cufft-cu12-11.2.3.61\n",
            "  Attempting uninstall: nvidia-cuda-runtime-cu12\n",
            "    Found existing installation: nvidia-cuda-runtime-cu12 12.5.82\n",
            "    Uninstalling nvidia-cuda-runtime-cu12-12.5.82:\n",
            "      Successfully uninstalled nvidia-cuda-runtime-cu12-12.5.82\n",
            "  Attempting uninstall: nvidia-cuda-nvrtc-cu12\n",
            "    Found existing installation: nvidia-cuda-nvrtc-cu12 12.5.82\n",
            "    Uninstalling nvidia-cuda-nvrtc-cu12-12.5.82:\n",
            "      Successfully uninstalled nvidia-cuda-nvrtc-cu12-12.5.82\n",
            "  Attempting uninstall: nvidia-cuda-cupti-cu12\n",
            "    Found existing installation: nvidia-cuda-cupti-cu12 12.5.82\n",
            "    Uninstalling nvidia-cuda-cupti-cu12-12.5.82:\n",
            "      Successfully uninstalled nvidia-cuda-cupti-cu12-12.5.82\n",
            "  Attempting uninstall: nvidia-cublas-cu12\n",
            "    Found existing installation: nvidia-cublas-cu12 12.5.3.2\n",
            "    Uninstalling nvidia-cublas-cu12-12.5.3.2:\n",
            "      Successfully uninstalled nvidia-cublas-cu12-12.5.3.2\n",
            "  Attempting uninstall: nvidia-cusparse-cu12\n",
            "    Found existing installation: nvidia-cusparse-cu12 12.5.1.3\n",
            "    Uninstalling nvidia-cusparse-cu12-12.5.1.3:\n",
            "      Successfully uninstalled nvidia-cusparse-cu12-12.5.1.3\n",
            "  Attempting uninstall: nvidia-cudnn-cu12\n",
            "    Found existing installation: nvidia-cudnn-cu12 9.3.0.75\n",
            "    Uninstalling nvidia-cudnn-cu12-9.3.0.75:\n",
            "      Successfully uninstalled nvidia-cudnn-cu12-9.3.0.75\n",
            "  Attempting uninstall: nvidia-cusolver-cu12\n",
            "    Found existing installation: nvidia-cusolver-cu12 11.6.3.83\n",
            "    Uninstalling nvidia-cusolver-cu12-11.6.3.83:\n",
            "      Successfully uninstalled nvidia-cusolver-cu12-11.6.3.83\n",
            "Successfully installed PyMuPDF-1.25.5 nvidia-cublas-cu12-12.4.5.8 nvidia-cuda-cupti-cu12-12.4.127 nvidia-cuda-nvrtc-cu12-12.4.127 nvidia-cuda-runtime-cu12-12.4.127 nvidia-cudnn-cu12-9.1.0.70 nvidia-cufft-cu12-11.2.1.3 nvidia-curand-cu12-10.3.5.147 nvidia-cusolver-cu12-11.6.1.9 nvidia-cusparse-cu12-12.3.1.170 nvidia-nvjitlink-cu12-12.4.127\n",
            "Drive already mounted at /content/drive; to attempt to forcibly remount, call drive.mount(\"/content/drive\", force_remount=True).\n"
          ]
        },
        {
          "output_type": "stream",
          "name": "stderr",
          "text": [
            "/usr/local/lib/python3.11/dist-packages/huggingface_hub/utils/_auth.py:94: UserWarning: \n",
            "The secret `HF_TOKEN` does not exist in your Colab secrets.\n",
            "To authenticate with the Hugging Face Hub, create a token in your settings tab (https://huggingface.co/settings/tokens), set it as secret in your Google Colab and restart your session.\n",
            "You will be able to reuse this secret in all of your notebooks.\n",
            "Please note that authentication is recommended but still optional to access public models or datasets.\n",
            "  warnings.warn(\n"
          ]
        },
        {
          "output_type": "display_data",
          "data": {
            "text/plain": [
              "modules.json:   0%|          | 0.00/349 [00:00<?, ?B/s]"
            ],
            "application/vnd.jupyter.widget-view+json": {
              "version_major": 2,
              "version_minor": 0,
              "model_id": "f1431a8f197f42198157a76c950a60a3"
            }
          },
          "metadata": {}
        },
        {
          "output_type": "display_data",
          "data": {
            "text/plain": [
              "config_sentence_transformers.json:   0%|          | 0.00/116 [00:00<?, ?B/s]"
            ],
            "application/vnd.jupyter.widget-view+json": {
              "version_major": 2,
              "version_minor": 0,
              "model_id": "4d28dd1aa5164fd882d325c79f88300f"
            }
          },
          "metadata": {}
        },
        {
          "output_type": "display_data",
          "data": {
            "text/plain": [
              "README.md:   0%|          | 0.00/10.5k [00:00<?, ?B/s]"
            ],
            "application/vnd.jupyter.widget-view+json": {
              "version_major": 2,
              "version_minor": 0,
              "model_id": "c92ef4e465934c868e462c175cd698c4"
            }
          },
          "metadata": {}
        },
        {
          "output_type": "display_data",
          "data": {
            "text/plain": [
              "sentence_bert_config.json:   0%|          | 0.00/53.0 [00:00<?, ?B/s]"
            ],
            "application/vnd.jupyter.widget-view+json": {
              "version_major": 2,
              "version_minor": 0,
              "model_id": "61abe83d8d124d958a71454728d79ee7"
            }
          },
          "metadata": {}
        },
        {
          "output_type": "display_data",
          "data": {
            "text/plain": [
              "config.json:   0%|          | 0.00/612 [00:00<?, ?B/s]"
            ],
            "application/vnd.jupyter.widget-view+json": {
              "version_major": 2,
              "version_minor": 0,
              "model_id": "6658df7afa0643eca1553f5c4eb2b37a"
            }
          },
          "metadata": {}
        },
        {
          "output_type": "stream",
          "name": "stderr",
          "text": [
            "Xet Storage is enabled for this repo, but the 'hf_xet' package is not installed. Falling back to regular HTTP download. For better performance, install the package with: `pip install huggingface_hub[hf_xet]` or `pip install hf_xet`\n",
            "WARNING:huggingface_hub.file_download:Xet Storage is enabled for this repo, but the 'hf_xet' package is not installed. Falling back to regular HTTP download. For better performance, install the package with: `pip install huggingface_hub[hf_xet]` or `pip install hf_xet`\n"
          ]
        },
        {
          "output_type": "display_data",
          "data": {
            "text/plain": [
              "model.safetensors:   0%|          | 0.00/90.9M [00:00<?, ?B/s]"
            ],
            "application/vnd.jupyter.widget-view+json": {
              "version_major": 2,
              "version_minor": 0,
              "model_id": "ed88c0d100e04929bc061bd908951c3d"
            }
          },
          "metadata": {}
        },
        {
          "output_type": "display_data",
          "data": {
            "text/plain": [
              "tokenizer_config.json:   0%|          | 0.00/350 [00:00<?, ?B/s]"
            ],
            "application/vnd.jupyter.widget-view+json": {
              "version_major": 2,
              "version_minor": 0,
              "model_id": "092341c909c445cba2510a5ffcd73bd7"
            }
          },
          "metadata": {}
        },
        {
          "output_type": "display_data",
          "data": {
            "text/plain": [
              "vocab.txt:   0%|          | 0.00/232k [00:00<?, ?B/s]"
            ],
            "application/vnd.jupyter.widget-view+json": {
              "version_major": 2,
              "version_minor": 0,
              "model_id": "dd49072a3e6343b2bb313cac508faca9"
            }
          },
          "metadata": {}
        },
        {
          "output_type": "display_data",
          "data": {
            "text/plain": [
              "tokenizer.json:   0%|          | 0.00/466k [00:00<?, ?B/s]"
            ],
            "application/vnd.jupyter.widget-view+json": {
              "version_major": 2,
              "version_minor": 0,
              "model_id": "db73d1d167424a8f84047a06beeca6c5"
            }
          },
          "metadata": {}
        },
        {
          "output_type": "display_data",
          "data": {
            "text/plain": [
              "special_tokens_map.json:   0%|          | 0.00/112 [00:00<?, ?B/s]"
            ],
            "application/vnd.jupyter.widget-view+json": {
              "version_major": 2,
              "version_minor": 0,
              "model_id": "e012b10f2e3e4e51b6f00a1b9ef0311e"
            }
          },
          "metadata": {}
        },
        {
          "output_type": "display_data",
          "data": {
            "text/plain": [
              "config.json:   0%|          | 0.00/190 [00:00<?, ?B/s]"
            ],
            "application/vnd.jupyter.widget-view+json": {
              "version_major": 2,
              "version_minor": 0,
              "model_id": "bf489abf515f49b0ac0df9dd2a0b830e"
            }
          },
          "metadata": {}
        },
        {
          "output_type": "display_data",
          "data": {
            "text/plain": [
              "tokenizer_config.json:   0%|          | 0.00/2.22k [00:00<?, ?B/s]"
            ],
            "application/vnd.jupyter.widget-view+json": {
              "version_major": 2,
              "version_minor": 0,
              "model_id": "ad0290fa91ff4b0cacc85364fc945723"
            }
          },
          "metadata": {}
        },
        {
          "output_type": "display_data",
          "data": {
            "text/plain": [
              "tokenizer.model:   0%|          | 0.00/4.24M [00:00<?, ?B/s]"
            ],
            "application/vnd.jupyter.widget-view+json": {
              "version_major": 2,
              "version_minor": 0,
              "model_id": "2f68809d84124c058918b535da3b858c"
            }
          },
          "metadata": {}
        },
        {
          "output_type": "display_data",
          "data": {
            "text/plain": [
              "tokenizer.json:   0%|          | 0.00/17.5M [00:00<?, ?B/s]"
            ],
            "application/vnd.jupyter.widget-view+json": {
              "version_major": 2,
              "version_minor": 0,
              "model_id": "de874ff6b62e44d89e5bfb6c50fbce31"
            }
          },
          "metadata": {}
        },
        {
          "output_type": "display_data",
          "data": {
            "text/plain": [
              "special_tokens_map.json:   0%|          | 0.00/636 [00:00<?, ?B/s]"
            ],
            "application/vnd.jupyter.widget-view+json": {
              "version_major": 2,
              "version_minor": 0,
              "model_id": "5579dff1fc0a48d68498d45776b3c2f0"
            }
          },
          "metadata": {}
        },
        {
          "output_type": "display_data",
          "data": {
            "text/plain": [
              "config.json:   0%|          | 0.00/665 [00:00<?, ?B/s]"
            ],
            "application/vnd.jupyter.widget-view+json": {
              "version_major": 2,
              "version_minor": 0,
              "model_id": "d18838b6e35f4a53841dde87ca739f18"
            }
          },
          "metadata": {}
        },
        {
          "output_type": "display_data",
          "data": {
            "text/plain": [
              "model.safetensors.index.json:   0%|          | 0.00/13.5k [00:00<?, ?B/s]"
            ],
            "application/vnd.jupyter.widget-view+json": {
              "version_major": 2,
              "version_minor": 0,
              "model_id": "606f59f585614a69983900e10ca55b90"
            }
          },
          "metadata": {}
        },
        {
          "output_type": "display_data",
          "data": {
            "text/plain": [
              "Fetching 2 files:   0%|          | 0/2 [00:00<?, ?it/s]"
            ],
            "application/vnd.jupyter.widget-view+json": {
              "version_major": 2,
              "version_minor": 0,
              "model_id": "c99fa1541635442a8176c8824ad0a7e6"
            }
          },
          "metadata": {}
        },
        {
          "output_type": "display_data",
          "data": {
            "text/plain": [
              "model-00001-of-00002.safetensors:   0%|          | 0.00/4.95G [00:00<?, ?B/s]"
            ],
            "application/vnd.jupyter.widget-view+json": {
              "version_major": 2,
              "version_minor": 0,
              "model_id": "d47adcba1f8c477e9098bfa0dbe2580c"
            }
          },
          "metadata": {}
        },
        {
          "output_type": "display_data",
          "data": {
            "text/plain": [
              "model-00002-of-00002.safetensors:   0%|          | 0.00/67.1M [00:00<?, ?B/s]"
            ],
            "application/vnd.jupyter.widget-view+json": {
              "version_major": 2,
              "version_minor": 0,
              "model_id": "5de79fbac2ad497989035b097c4d14ec"
            }
          },
          "metadata": {}
        },
        {
          "output_type": "display_data",
          "data": {
            "text/plain": [
              "Loading checkpoint shards:   0%|          | 0/2 [00:00<?, ?it/s]"
            ],
            "application/vnd.jupyter.widget-view+json": {
              "version_major": 2,
              "version_minor": 0,
              "model_id": "4c13353beb1a4cae8dcab9317f1455c3"
            }
          },
          "metadata": {}
        },
        {
          "output_type": "display_data",
          "data": {
            "text/plain": [
              "generation_config.json:   0%|          | 0.00/132 [00:00<?, ?B/s]"
            ],
            "application/vnd.jupyter.widget-view+json": {
              "version_major": 2,
              "version_minor": 0,
              "model_id": "271cae601f6f4dd4884b2195a5edc9b7"
            }
          },
          "metadata": {}
        },
        {
          "output_type": "stream",
          "name": "stdout",
          "text": [
            "Truy vấn: Học phí của trường bao nhiêu một năm?\n",
            "Câu trả lời: 18,2 triệu VNĐ/học kỳ.\n"
          ]
        }
      ]
    },
    {
      "cell_type": "code",
      "source": [
        "# Thử nghiệm\n",
        "query = \"Trường có quy định gì về học bổng\"\n",
        "relevant_chunks, similarities = retrieve_relevant_chunks(query, embeddings, chunks)\n",
        "response = generate_response(query, relevant_chunks, similarities)\n",
        "print(f\"Truy vấn: {query}\")\n",
        "print(f\"Câu trả lời: {response}\")"
      ],
      "metadata": {
        "colab": {
          "base_uri": "https://localhost:8080/"
        },
        "id": "LhpC2FJJg74O",
        "outputId": "e87da9b8-5110-4580-c66e-e4156e8ade73"
      },
      "execution_count": null,
      "outputs": [
        {
          "output_type": "stream",
          "name": "stdout",
          "text": [
            "Truy vấn: Trường có quy định gì về học bổng\n",
            "Câu trả lời: • \n",
            "Học bổng: Căn cứ vào điểm thi đầu vào, sinh viên được hỗ trợ \n",
            "học phí từ 25% - 100% (dựa trên thành tích học tập). \n",
            "• \n",
            "Hỗ trợ đặc biệt: Sinh viên khuyết tật được hỗ trợ về cơ sở vật chất, học phí và \n",
            "phương pháp học tập phù hợp.\n"
          ]
        }
      ]
    }
  ],
  "metadata": {
    "accelerator": "GPU",
    "colab": {
      "collapsed_sections": [
        "q5ms7VSFWYpN",
        "eAyhZpXfBbWd"
      ],
      "gpuType": "T4",
      "provenance": []
    },
    "kernelspec": {
      "display_name": "Python 3",
      "name": "python3"
    },
    "language_info": {
      "name": "python"
    }
  },
  "nbformat": 4,
  "nbformat_minor": 0
}